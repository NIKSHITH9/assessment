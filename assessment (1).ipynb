{
 "cells": [
  {
   "cell_type": "code",
   "execution_count": 1,
   "id": "5914592f",
   "metadata": {},
   "outputs": [],
   "source": [
    "import pandas as pd\n",
    "import numpy as np\n",
    "import matplotlib.pyplot as plt\n",
    "import seaborn as sns"
   ]
  },
  {
   "cell_type": "code",
   "execution_count": 2,
   "id": "f0979b81",
   "metadata": {},
   "outputs": [],
   "source": [
    "df = pd.read_csv(r'C:\\Users\\User\\Documents\\Assessment\\Tetuan City power consumption.csv')"
   ]
  },
  {
   "cell_type": "code",
   "execution_count": 3,
   "id": "a71b751f",
   "metadata": {},
   "outputs": [
    {
     "data": {
      "text/html": [
       "<div>\n",
       "<style scoped>\n",
       "    .dataframe tbody tr th:only-of-type {\n",
       "        vertical-align: middle;\n",
       "    }\n",
       "\n",
       "    .dataframe tbody tr th {\n",
       "        vertical-align: top;\n",
       "    }\n",
       "\n",
       "    .dataframe thead th {\n",
       "        text-align: right;\n",
       "    }\n",
       "</style>\n",
       "<table border=\"1\" class=\"dataframe\">\n",
       "  <thead>\n",
       "    <tr style=\"text-align: right;\">\n",
       "      <th></th>\n",
       "      <th>DateTime</th>\n",
       "      <th>Temperature</th>\n",
       "      <th>Humidity</th>\n",
       "      <th>Wind Speed</th>\n",
       "      <th>general diffuse flows</th>\n",
       "      <th>diffuse flows</th>\n",
       "      <th>Zone 1 Power Consumption</th>\n",
       "      <th>Zone 2  Power Consumption</th>\n",
       "      <th>Zone 3  Power Consumption</th>\n",
       "    </tr>\n",
       "  </thead>\n",
       "  <tbody>\n",
       "    <tr>\n",
       "      <th>0</th>\n",
       "      <td>1/1/2017 0:00</td>\n",
       "      <td>6.559</td>\n",
       "      <td>73.8</td>\n",
       "      <td>0.083</td>\n",
       "      <td>0.051</td>\n",
       "      <td>0.119</td>\n",
       "      <td>34055.69620</td>\n",
       "      <td>16128.87538</td>\n",
       "      <td>20240.96386</td>\n",
       "    </tr>\n",
       "    <tr>\n",
       "      <th>1</th>\n",
       "      <td>1/1/2017 0:10</td>\n",
       "      <td>6.414</td>\n",
       "      <td>74.5</td>\n",
       "      <td>0.083</td>\n",
       "      <td>0.070</td>\n",
       "      <td>0.085</td>\n",
       "      <td>29814.68354</td>\n",
       "      <td>19375.07599</td>\n",
       "      <td>20131.08434</td>\n",
       "    </tr>\n",
       "    <tr>\n",
       "      <th>2</th>\n",
       "      <td>1/1/2017 0:20</td>\n",
       "      <td>6.313</td>\n",
       "      <td>74.5</td>\n",
       "      <td>0.080</td>\n",
       "      <td>0.062</td>\n",
       "      <td>0.100</td>\n",
       "      <td>29128.10127</td>\n",
       "      <td>19006.68693</td>\n",
       "      <td>19668.43373</td>\n",
       "    </tr>\n",
       "    <tr>\n",
       "      <th>3</th>\n",
       "      <td>1/1/2017 0:30</td>\n",
       "      <td>6.121</td>\n",
       "      <td>75.0</td>\n",
       "      <td>0.083</td>\n",
       "      <td>0.091</td>\n",
       "      <td>0.096</td>\n",
       "      <td>28228.86076</td>\n",
       "      <td>18361.09422</td>\n",
       "      <td>18899.27711</td>\n",
       "    </tr>\n",
       "    <tr>\n",
       "      <th>4</th>\n",
       "      <td>1/1/2017 0:40</td>\n",
       "      <td>5.921</td>\n",
       "      <td>75.7</td>\n",
       "      <td>0.081</td>\n",
       "      <td>0.048</td>\n",
       "      <td>0.085</td>\n",
       "      <td>27335.69620</td>\n",
       "      <td>17872.34043</td>\n",
       "      <td>18442.40964</td>\n",
       "    </tr>\n",
       "  </tbody>\n",
       "</table>\n",
       "</div>"
      ],
      "text/plain": [
       "        DateTime  Temperature  Humidity  Wind Speed  general diffuse flows  \\\n",
       "0  1/1/2017 0:00        6.559      73.8       0.083                  0.051   \n",
       "1  1/1/2017 0:10        6.414      74.5       0.083                  0.070   \n",
       "2  1/1/2017 0:20        6.313      74.5       0.080                  0.062   \n",
       "3  1/1/2017 0:30        6.121      75.0       0.083                  0.091   \n",
       "4  1/1/2017 0:40        5.921      75.7       0.081                  0.048   \n",
       "\n",
       "   diffuse flows  Zone 1 Power Consumption  Zone 2  Power Consumption  \\\n",
       "0          0.119               34055.69620                16128.87538   \n",
       "1          0.085               29814.68354                19375.07599   \n",
       "2          0.100               29128.10127                19006.68693   \n",
       "3          0.096               28228.86076                18361.09422   \n",
       "4          0.085               27335.69620                17872.34043   \n",
       "\n",
       "   Zone 3  Power Consumption  \n",
       "0                20240.96386  \n",
       "1                20131.08434  \n",
       "2                19668.43373  \n",
       "3                18899.27711  \n",
       "4                18442.40964  "
      ]
     },
     "execution_count": 3,
     "metadata": {},
     "output_type": "execute_result"
    }
   ],
   "source": [
    "df.head()"
   ]
  },
  {
   "cell_type": "code",
   "execution_count": 4,
   "id": "520ad3a5",
   "metadata": {},
   "outputs": [
    {
     "data": {
      "text/html": [
       "<div>\n",
       "<style scoped>\n",
       "    .dataframe tbody tr th:only-of-type {\n",
       "        vertical-align: middle;\n",
       "    }\n",
       "\n",
       "    .dataframe tbody tr th {\n",
       "        vertical-align: top;\n",
       "    }\n",
       "\n",
       "    .dataframe thead th {\n",
       "        text-align: right;\n",
       "    }\n",
       "</style>\n",
       "<table border=\"1\" class=\"dataframe\">\n",
       "  <thead>\n",
       "    <tr style=\"text-align: right;\">\n",
       "      <th></th>\n",
       "      <th>DateTime</th>\n",
       "      <th>Temperature</th>\n",
       "      <th>Humidity</th>\n",
       "      <th>Wind Speed</th>\n",
       "      <th>general diffuse flows</th>\n",
       "      <th>diffuse flows</th>\n",
       "      <th>Zone 1 Power Consumption</th>\n",
       "      <th>Zone 2  Power Consumption</th>\n",
       "      <th>Zone 3  Power Consumption</th>\n",
       "    </tr>\n",
       "  </thead>\n",
       "  <tbody>\n",
       "    <tr>\n",
       "      <th>52411</th>\n",
       "      <td>12/30/2017 23:10</td>\n",
       "      <td>7.010</td>\n",
       "      <td>72.4</td>\n",
       "      <td>0.080</td>\n",
       "      <td>0.040</td>\n",
       "      <td>0.096</td>\n",
       "      <td>31160.45627</td>\n",
       "      <td>26857.31820</td>\n",
       "      <td>14780.31212</td>\n",
       "    </tr>\n",
       "    <tr>\n",
       "      <th>52412</th>\n",
       "      <td>12/30/2017 23:20</td>\n",
       "      <td>6.947</td>\n",
       "      <td>72.6</td>\n",
       "      <td>0.082</td>\n",
       "      <td>0.051</td>\n",
       "      <td>0.093</td>\n",
       "      <td>30430.41825</td>\n",
       "      <td>26124.57809</td>\n",
       "      <td>14428.81152</td>\n",
       "    </tr>\n",
       "    <tr>\n",
       "      <th>52413</th>\n",
       "      <td>12/30/2017 23:30</td>\n",
       "      <td>6.900</td>\n",
       "      <td>72.8</td>\n",
       "      <td>0.086</td>\n",
       "      <td>0.084</td>\n",
       "      <td>0.074</td>\n",
       "      <td>29590.87452</td>\n",
       "      <td>25277.69254</td>\n",
       "      <td>13806.48259</td>\n",
       "    </tr>\n",
       "    <tr>\n",
       "      <th>52414</th>\n",
       "      <td>12/30/2017 23:40</td>\n",
       "      <td>6.758</td>\n",
       "      <td>73.0</td>\n",
       "      <td>0.080</td>\n",
       "      <td>0.066</td>\n",
       "      <td>0.089</td>\n",
       "      <td>28958.17490</td>\n",
       "      <td>24692.23688</td>\n",
       "      <td>13512.60504</td>\n",
       "    </tr>\n",
       "    <tr>\n",
       "      <th>52415</th>\n",
       "      <td>12/30/2017 23:50</td>\n",
       "      <td>6.580</td>\n",
       "      <td>74.1</td>\n",
       "      <td>0.081</td>\n",
       "      <td>0.062</td>\n",
       "      <td>0.111</td>\n",
       "      <td>28349.80989</td>\n",
       "      <td>24055.23167</td>\n",
       "      <td>13345.49820</td>\n",
       "    </tr>\n",
       "  </tbody>\n",
       "</table>\n",
       "</div>"
      ],
      "text/plain": [
       "               DateTime  Temperature  Humidity  Wind Speed  \\\n",
       "52411  12/30/2017 23:10        7.010      72.4       0.080   \n",
       "52412  12/30/2017 23:20        6.947      72.6       0.082   \n",
       "52413  12/30/2017 23:30        6.900      72.8       0.086   \n",
       "52414  12/30/2017 23:40        6.758      73.0       0.080   \n",
       "52415  12/30/2017 23:50        6.580      74.1       0.081   \n",
       "\n",
       "       general diffuse flows  diffuse flows  Zone 1 Power Consumption  \\\n",
       "52411                  0.040          0.096               31160.45627   \n",
       "52412                  0.051          0.093               30430.41825   \n",
       "52413                  0.084          0.074               29590.87452   \n",
       "52414                  0.066          0.089               28958.17490   \n",
       "52415                  0.062          0.111               28349.80989   \n",
       "\n",
       "       Zone 2  Power Consumption  Zone 3  Power Consumption  \n",
       "52411                26857.31820                14780.31212  \n",
       "52412                26124.57809                14428.81152  \n",
       "52413                25277.69254                13806.48259  \n",
       "52414                24692.23688                13512.60504  \n",
       "52415                24055.23167                13345.49820  "
      ]
     },
     "execution_count": 4,
     "metadata": {},
     "output_type": "execute_result"
    }
   ],
   "source": [
    "df.tail()"
   ]
  },
  {
   "cell_type": "code",
   "execution_count": 5,
   "id": "59fc34ae",
   "metadata": {},
   "outputs": [
    {
     "name": "stdout",
     "output_type": "stream",
     "text": [
      "<class 'pandas.core.frame.DataFrame'>\n",
      "RangeIndex: 52416 entries, 0 to 52415\n",
      "Data columns (total 9 columns):\n",
      " #   Column                     Non-Null Count  Dtype  \n",
      "---  ------                     --------------  -----  \n",
      " 0   DateTime                   52416 non-null  object \n",
      " 1   Temperature                52416 non-null  float64\n",
      " 2   Humidity                   52416 non-null  float64\n",
      " 3   Wind Speed                 52416 non-null  float64\n",
      " 4   general diffuse flows      52416 non-null  float64\n",
      " 5   diffuse flows              52416 non-null  float64\n",
      " 6   Zone 1 Power Consumption   52416 non-null  float64\n",
      " 7   Zone 2  Power Consumption  52416 non-null  float64\n",
      " 8   Zone 3  Power Consumption  52416 non-null  float64\n",
      "dtypes: float64(8), object(1)\n",
      "memory usage: 3.6+ MB\n"
     ]
    }
   ],
   "source": [
    "df.info()"
   ]
  },
  {
   "cell_type": "code",
   "execution_count": 6,
   "id": "abff3f69",
   "metadata": {},
   "outputs": [
    {
     "data": {
      "text/html": [
       "<div>\n",
       "<style scoped>\n",
       "    .dataframe tbody tr th:only-of-type {\n",
       "        vertical-align: middle;\n",
       "    }\n",
       "\n",
       "    .dataframe tbody tr th {\n",
       "        vertical-align: top;\n",
       "    }\n",
       "\n",
       "    .dataframe thead th {\n",
       "        text-align: right;\n",
       "    }\n",
       "</style>\n",
       "<table border=\"1\" class=\"dataframe\">\n",
       "  <thead>\n",
       "    <tr style=\"text-align: right;\">\n",
       "      <th></th>\n",
       "      <th>Temperature</th>\n",
       "      <th>Humidity</th>\n",
       "      <th>Wind Speed</th>\n",
       "      <th>general diffuse flows</th>\n",
       "      <th>diffuse flows</th>\n",
       "      <th>Zone 1 Power Consumption</th>\n",
       "      <th>Zone 2  Power Consumption</th>\n",
       "      <th>Zone 3  Power Consumption</th>\n",
       "    </tr>\n",
       "  </thead>\n",
       "  <tbody>\n",
       "    <tr>\n",
       "      <th>count</th>\n",
       "      <td>52416.000000</td>\n",
       "      <td>52416.000000</td>\n",
       "      <td>52416.000000</td>\n",
       "      <td>52416.000000</td>\n",
       "      <td>52416.000000</td>\n",
       "      <td>52416.000000</td>\n",
       "      <td>52416.000000</td>\n",
       "      <td>52416.000000</td>\n",
       "    </tr>\n",
       "    <tr>\n",
       "      <th>mean</th>\n",
       "      <td>18.810024</td>\n",
       "      <td>68.259518</td>\n",
       "      <td>1.959489</td>\n",
       "      <td>182.696614</td>\n",
       "      <td>75.028022</td>\n",
       "      <td>32344.970564</td>\n",
       "      <td>21042.509082</td>\n",
       "      <td>17835.406218</td>\n",
       "    </tr>\n",
       "    <tr>\n",
       "      <th>std</th>\n",
       "      <td>5.815476</td>\n",
       "      <td>15.551177</td>\n",
       "      <td>2.348862</td>\n",
       "      <td>264.400960</td>\n",
       "      <td>124.210949</td>\n",
       "      <td>7130.562564</td>\n",
       "      <td>5201.465892</td>\n",
       "      <td>6622.165099</td>\n",
       "    </tr>\n",
       "    <tr>\n",
       "      <th>min</th>\n",
       "      <td>3.247000</td>\n",
       "      <td>11.340000</td>\n",
       "      <td>0.050000</td>\n",
       "      <td>0.004000</td>\n",
       "      <td>0.011000</td>\n",
       "      <td>13895.696200</td>\n",
       "      <td>8560.081466</td>\n",
       "      <td>5935.174070</td>\n",
       "    </tr>\n",
       "    <tr>\n",
       "      <th>25%</th>\n",
       "      <td>14.410000</td>\n",
       "      <td>58.310000</td>\n",
       "      <td>0.078000</td>\n",
       "      <td>0.062000</td>\n",
       "      <td>0.122000</td>\n",
       "      <td>26310.668692</td>\n",
       "      <td>16980.766032</td>\n",
       "      <td>13129.326630</td>\n",
       "    </tr>\n",
       "    <tr>\n",
       "      <th>50%</th>\n",
       "      <td>18.780000</td>\n",
       "      <td>69.860000</td>\n",
       "      <td>0.086000</td>\n",
       "      <td>5.035500</td>\n",
       "      <td>4.456000</td>\n",
       "      <td>32265.920340</td>\n",
       "      <td>20823.168405</td>\n",
       "      <td>16415.117470</td>\n",
       "    </tr>\n",
       "    <tr>\n",
       "      <th>75%</th>\n",
       "      <td>22.890000</td>\n",
       "      <td>81.400000</td>\n",
       "      <td>4.915000</td>\n",
       "      <td>319.600000</td>\n",
       "      <td>101.000000</td>\n",
       "      <td>37309.018185</td>\n",
       "      <td>24713.717520</td>\n",
       "      <td>21624.100420</td>\n",
       "    </tr>\n",
       "    <tr>\n",
       "      <th>max</th>\n",
       "      <td>40.010000</td>\n",
       "      <td>94.800000</td>\n",
       "      <td>6.483000</td>\n",
       "      <td>1163.000000</td>\n",
       "      <td>936.000000</td>\n",
       "      <td>52204.395120</td>\n",
       "      <td>37408.860760</td>\n",
       "      <td>47598.326360</td>\n",
       "    </tr>\n",
       "  </tbody>\n",
       "</table>\n",
       "</div>"
      ],
      "text/plain": [
       "        Temperature      Humidity    Wind Speed  general diffuse flows  \\\n",
       "count  52416.000000  52416.000000  52416.000000           52416.000000   \n",
       "mean      18.810024     68.259518      1.959489             182.696614   \n",
       "std        5.815476     15.551177      2.348862             264.400960   \n",
       "min        3.247000     11.340000      0.050000               0.004000   \n",
       "25%       14.410000     58.310000      0.078000               0.062000   \n",
       "50%       18.780000     69.860000      0.086000               5.035500   \n",
       "75%       22.890000     81.400000      4.915000             319.600000   \n",
       "max       40.010000     94.800000      6.483000            1163.000000   \n",
       "\n",
       "       diffuse flows  Zone 1 Power Consumption  Zone 2  Power Consumption  \\\n",
       "count   52416.000000              52416.000000               52416.000000   \n",
       "mean       75.028022              32344.970564               21042.509082   \n",
       "std       124.210949               7130.562564                5201.465892   \n",
       "min         0.011000              13895.696200                8560.081466   \n",
       "25%         0.122000              26310.668692               16980.766032   \n",
       "50%         4.456000              32265.920340               20823.168405   \n",
       "75%       101.000000              37309.018185               24713.717520   \n",
       "max       936.000000              52204.395120               37408.860760   \n",
       "\n",
       "       Zone 3  Power Consumption  \n",
       "count               52416.000000  \n",
       "mean                17835.406218  \n",
       "std                  6622.165099  \n",
       "min                  5935.174070  \n",
       "25%                 13129.326630  \n",
       "50%                 16415.117470  \n",
       "75%                 21624.100420  \n",
       "max                 47598.326360  "
      ]
     },
     "execution_count": 6,
     "metadata": {},
     "output_type": "execute_result"
    }
   ],
   "source": [
    "df.describe()"
   ]
  },
  {
   "cell_type": "code",
   "execution_count": 7,
   "id": "ac9a6987",
   "metadata": {},
   "outputs": [
    {
     "data": {
      "text/plain": [
       "Index(['DateTime', 'Temperature', 'Humidity', 'Wind Speed',\n",
       "       'general diffuse flows', 'diffuse flows', 'Zone 1 Power Consumption',\n",
       "       'Zone 2  Power Consumption', 'Zone 3  Power Consumption'],\n",
       "      dtype='object')"
      ]
     },
     "execution_count": 7,
     "metadata": {},
     "output_type": "execute_result"
    }
   ],
   "source": [
    "df.columns"
   ]
  },
  {
   "cell_type": "code",
   "execution_count": 8,
   "id": "976930a2",
   "metadata": {},
   "outputs": [
    {
     "data": {
      "text/html": [
       "<div>\n",
       "<style scoped>\n",
       "    .dataframe tbody tr th:only-of-type {\n",
       "        vertical-align: middle;\n",
       "    }\n",
       "\n",
       "    .dataframe tbody tr th {\n",
       "        vertical-align: top;\n",
       "    }\n",
       "\n",
       "    .dataframe thead th {\n",
       "        text-align: right;\n",
       "    }\n",
       "</style>\n",
       "<table border=\"1\" class=\"dataframe\">\n",
       "  <thead>\n",
       "    <tr style=\"text-align: right;\">\n",
       "      <th></th>\n",
       "      <th>DateTime</th>\n",
       "      <th>Temperature</th>\n",
       "      <th>Humidity</th>\n",
       "      <th>wind_speed</th>\n",
       "      <th>general_diffuse_flows</th>\n",
       "      <th>diffuse_flows</th>\n",
       "      <th>zone_1_pc</th>\n",
       "      <th>zone_2_pc</th>\n",
       "      <th>zone_3_pc</th>\n",
       "    </tr>\n",
       "  </thead>\n",
       "  <tbody>\n",
       "    <tr>\n",
       "      <th>0</th>\n",
       "      <td>1/1/2017 0:00</td>\n",
       "      <td>6.559</td>\n",
       "      <td>73.8</td>\n",
       "      <td>0.083</td>\n",
       "      <td>0.051</td>\n",
       "      <td>0.119</td>\n",
       "      <td>34055.69620</td>\n",
       "      <td>16128.87538</td>\n",
       "      <td>20240.96386</td>\n",
       "    </tr>\n",
       "    <tr>\n",
       "      <th>1</th>\n",
       "      <td>1/1/2017 0:10</td>\n",
       "      <td>6.414</td>\n",
       "      <td>74.5</td>\n",
       "      <td>0.083</td>\n",
       "      <td>0.070</td>\n",
       "      <td>0.085</td>\n",
       "      <td>29814.68354</td>\n",
       "      <td>19375.07599</td>\n",
       "      <td>20131.08434</td>\n",
       "    </tr>\n",
       "    <tr>\n",
       "      <th>2</th>\n",
       "      <td>1/1/2017 0:20</td>\n",
       "      <td>6.313</td>\n",
       "      <td>74.5</td>\n",
       "      <td>0.080</td>\n",
       "      <td>0.062</td>\n",
       "      <td>0.100</td>\n",
       "      <td>29128.10127</td>\n",
       "      <td>19006.68693</td>\n",
       "      <td>19668.43373</td>\n",
       "    </tr>\n",
       "    <tr>\n",
       "      <th>3</th>\n",
       "      <td>1/1/2017 0:30</td>\n",
       "      <td>6.121</td>\n",
       "      <td>75.0</td>\n",
       "      <td>0.083</td>\n",
       "      <td>0.091</td>\n",
       "      <td>0.096</td>\n",
       "      <td>28228.86076</td>\n",
       "      <td>18361.09422</td>\n",
       "      <td>18899.27711</td>\n",
       "    </tr>\n",
       "    <tr>\n",
       "      <th>4</th>\n",
       "      <td>1/1/2017 0:40</td>\n",
       "      <td>5.921</td>\n",
       "      <td>75.7</td>\n",
       "      <td>0.081</td>\n",
       "      <td>0.048</td>\n",
       "      <td>0.085</td>\n",
       "      <td>27335.69620</td>\n",
       "      <td>17872.34043</td>\n",
       "      <td>18442.40964</td>\n",
       "    </tr>\n",
       "  </tbody>\n",
       "</table>\n",
       "</div>"
      ],
      "text/plain": [
       "        DateTime  Temperature  Humidity  wind_speed  general_diffuse_flows  \\\n",
       "0  1/1/2017 0:00        6.559      73.8       0.083                  0.051   \n",
       "1  1/1/2017 0:10        6.414      74.5       0.083                  0.070   \n",
       "2  1/1/2017 0:20        6.313      74.5       0.080                  0.062   \n",
       "3  1/1/2017 0:30        6.121      75.0       0.083                  0.091   \n",
       "4  1/1/2017 0:40        5.921      75.7       0.081                  0.048   \n",
       "\n",
       "   diffuse_flows    zone_1_pc    zone_2_pc    zone_3_pc  \n",
       "0          0.119  34055.69620  16128.87538  20240.96386  \n",
       "1          0.085  29814.68354  19375.07599  20131.08434  \n",
       "2          0.100  29128.10127  19006.68693  19668.43373  \n",
       "3          0.096  28228.86076  18361.09422  18899.27711  \n",
       "4          0.085  27335.69620  17872.34043  18442.40964  "
      ]
     },
     "execution_count": 8,
     "metadata": {},
     "output_type": "execute_result"
    }
   ],
   "source": [
    "df.rename(\n",
    "    columns=({ 'Wind Speed': 'wind_speed', 'general diffuse flows': 'general_diffuse_flows', 'diffuse flows': 'diffuse_flows', 'Zone 1 Power Consumption' : 'zone_1_pc', 'Zone 2  Power Consumption' : 'zone_2_pc', 'Zone 3  Power Consumption' : 'zone_3_pc'}), \n",
    "    inplace=True,\n",
    ")\n",
    "df.head()"
   ]
  },
  {
   "cell_type": "code",
   "execution_count": 9,
   "id": "a0669444",
   "metadata": {},
   "outputs": [
    {
     "data": {
      "text/plain": [
       "<AxesSubplot:>"
      ]
     },
     "execution_count": 9,
     "metadata": {},
     "output_type": "execute_result"
    },
    {
     "data": {
      "image/png": "[encoded data removed]",
      "text/plain": [
       "<Figure size 1440x1080 with 2 Axes>"
      ]
     },
     "metadata": {
      "needs_background": "light"
     },
     "output_type": "display_data"
    }
   ],
   "source": [
    "corr = df.corr()\n",
    "plt.subplots(figsize=(20,15))\n",
    "sns.heatmap(corr, cmap='RdBu', vmin=-1, vmax=1, annot=True, \n",
    "            annot_kws={'fontsize':11, 'fontweight':'bold'})"
   ]
  },
  {
   "cell_type": "raw",
   "id": "c1b9e5f6",
   "metadata": {},
   "source": [
    "- Temperature is positively correlated to all the power consumption zones. Higher use of air conditioning could be a possible explanation for this.\n",
    "- Humidity on the other hand, shows a slight negative correlation with the power consumption of all three areas\n",
    "- Power Z1, Power Z2, and Power Z3 show a high correlation between each other. This suggests there is a slight difference in the consumption patterns of all the areas but they all tend to increase and decrease together."
   ]
  },
  {
   "cell_type": "code",
   "execution_count": 10,
   "id": "8b304d63",
   "metadata": {},
   "outputs": [],
   "source": [
    "df = df.set_index('DateTime')\n",
    "df.index = pd.to_datetime(df.index)"
   ]
  },
  {
   "cell_type": "markdown",
   "id": "d495a2bf",
   "metadata": {},
   "source": [
    "# We are creating these features to help us later on in ques 1 and 4 in part 1"
   ]
  },
  {
   "cell_type": "code",
   "execution_count": 11,
   "id": "ec1e8a72",
   "metadata": {},
   "outputs": [],
   "source": [
    "def create_features(df):\n",
    "    \"\"\"\n",
    "    Create time series features based on time series index.\n",
    "    \"\"\"\n",
    "    df = df.copy()\n",
    "    df['hour'] = df.index.hour\n",
    "    df['dayofweek'] = df.index.dayofweek\n",
    "    df['quarter'] = df.index.quarter\n",
    "    df['month'] = df.index.month\n",
    "    df['year'] = df.index.year\n",
    "    df['dayofyear'] = df.index.dayofyear\n",
    "    df['dayofmonth'] = df.index.day\n",
    "    df['weekofyear'] = df.index.isocalendar().week\n",
    "    return df\n",
    "df = create_features(df)"
   ]
  },
  {
   "cell_type": "code",
   "execution_count": 12,
   "id": "5ae11f9e",
   "metadata": {},
   "outputs": [
    {
     "data": {
      "text/plain": [
       "<AxesSubplot:xlabel='Temperature'>"
      ]
     },
     "execution_count": 12,
     "metadata": {},
     "output_type": "execute_result"
    },
    {
     "data": {
      "image/png": "[encoded data removed]",
      "text/plain": [
       "<Figure size 432x288 with 1 Axes>"
      ]
     },
     "metadata": {
      "needs_background": "light"
     },
     "output_type": "display_data"
    }
   ],
   "source": [
    "sns.boxplot(x=df['Temperature'])"
   ]
  },
  {
   "cell_type": "code",
   "execution_count": 13,
   "id": "0bf2ec68",
   "metadata": {},
   "outputs": [
    {
     "data": {
      "text/plain": [
       "(14.41, 22.89)"
      ]
     },
     "execution_count": 13,
     "metadata": {},
     "output_type": "execute_result"
    }
   ],
   "source": [
    "Q1 = df.Temperature.quantile(0.25)\n",
    "Q3 = df.Temperature.quantile(0.75)\n",
    "Q1,Q3"
   ]
  },
  {
   "cell_type": "code",
   "execution_count": 14,
   "id": "cd244076",
   "metadata": {},
   "outputs": [
    {
     "data": {
      "text/plain": [
       "8.48"
      ]
     },
     "execution_count": 14,
     "metadata": {},
     "output_type": "execute_result"
    }
   ],
   "source": [
    "IQR = Q3 - Q1\n",
    "IQR"
   ]
  },
  {
   "cell_type": "code",
   "execution_count": 15,
   "id": "b7d45245",
   "metadata": {},
   "outputs": [
    {
     "data": {
      "text/plain": [
       "(1.6899999999999995, 35.61)"
      ]
     },
     "execution_count": 15,
     "metadata": {},
     "output_type": "execute_result"
    }
   ],
   "source": [
    "lower_limit = Q1 - (1.5 * IQR)\n",
    "upper_limit = Q3 + (1.5 * IQR)\n",
    "lower_limit, upper_limit"
   ]
  },
  {
   "cell_type": "code",
   "execution_count": 16,
   "id": "f991bede",
   "metadata": {},
   "outputs": [
    {
     "data": {
      "text/plain": [
       "(52416,)"
      ]
     },
     "execution_count": 16,
     "metadata": {},
     "output_type": "execute_result"
    }
   ],
   "source": [
    "df.Temperature.shape"
   ]
  },
  {
   "cell_type": "code",
   "execution_count": 17,
   "id": "37685892",
   "metadata": {
    "scrolled": true
   },
   "outputs": [
    {
     "data": {
      "text/html": [
       "<div>\n",
       "<style scoped>\n",
       "    .dataframe tbody tr th:only-of-type {\n",
       "        vertical-align: middle;\n",
       "    }\n",
       "\n",
       "    .dataframe tbody tr th {\n",
       "        vertical-align: top;\n",
       "    }\n",
       "\n",
       "    .dataframe thead th {\n",
       "        text-align: right;\n",
       "    }\n",
       "</style>\n",
       "<table border=\"1\" class=\"dataframe\">\n",
       "  <thead>\n",
       "    <tr style=\"text-align: right;\">\n",
       "      <th></th>\n",
       "      <th>Temperature</th>\n",
       "      <th>Humidity</th>\n",
       "      <th>wind_speed</th>\n",
       "      <th>general_diffuse_flows</th>\n",
       "      <th>diffuse_flows</th>\n",
       "      <th>zone_1_pc</th>\n",
       "      <th>zone_2_pc</th>\n",
       "      <th>zone_3_pc</th>\n",
       "      <th>hour</th>\n",
       "      <th>dayofweek</th>\n",
       "      <th>quarter</th>\n",
       "      <th>month</th>\n",
       "      <th>year</th>\n",
       "      <th>dayofyear</th>\n",
       "      <th>dayofmonth</th>\n",
       "      <th>weekofyear</th>\n",
       "    </tr>\n",
       "    <tr>\n",
       "      <th>DateTime</th>\n",
       "      <th></th>\n",
       "      <th></th>\n",
       "      <th></th>\n",
       "      <th></th>\n",
       "      <th></th>\n",
       "      <th></th>\n",
       "      <th></th>\n",
       "      <th></th>\n",
       "      <th></th>\n",
       "      <th></th>\n",
       "      <th></th>\n",
       "      <th></th>\n",
       "      <th></th>\n",
       "      <th></th>\n",
       "      <th></th>\n",
       "      <th></th>\n",
       "    </tr>\n",
       "  </thead>\n",
       "  <tbody>\n",
       "    <tr>\n",
       "      <th>2017-07-07 12:00:00</th>\n",
       "      <td>35.78</td>\n",
       "      <td>27.88</td>\n",
       "      <td>4.921</td>\n",
       "      <td>841.0</td>\n",
       "      <td>94.4</td>\n",
       "      <td>29444.25249</td>\n",
       "      <td>30592.40506</td>\n",
       "      <td>27378.07531</td>\n",
       "      <td>12</td>\n",
       "      <td>4</td>\n",
       "      <td>3</td>\n",
       "      <td>7</td>\n",
       "      <td>2017</td>\n",
       "      <td>188</td>\n",
       "      <td>7</td>\n",
       "      <td>27</td>\n",
       "    </tr>\n",
       "    <tr>\n",
       "      <th>2017-07-07 12:10:00</th>\n",
       "      <td>36.21</td>\n",
       "      <td>26.75</td>\n",
       "      <td>4.923</td>\n",
       "      <td>850.0</td>\n",
       "      <td>94.7</td>\n",
       "      <td>32799.46844</td>\n",
       "      <td>27759.49367</td>\n",
       "      <td>25359.66527</td>\n",
       "      <td>12</td>\n",
       "      <td>4</td>\n",
       "      <td>3</td>\n",
       "      <td>7</td>\n",
       "      <td>2017</td>\n",
       "      <td>188</td>\n",
       "      <td>7</td>\n",
       "      <td>27</td>\n",
       "    </tr>\n",
       "    <tr>\n",
       "      <th>2017-07-07 12:20:00</th>\n",
       "      <td>36.37</td>\n",
       "      <td>26.71</td>\n",
       "      <td>4.922</td>\n",
       "      <td>855.0</td>\n",
       "      <td>95.3</td>\n",
       "      <td>36716.01329</td>\n",
       "      <td>25659.49367</td>\n",
       "      <td>25444.01674</td>\n",
       "      <td>12</td>\n",
       "      <td>4</td>\n",
       "      <td>3</td>\n",
       "      <td>7</td>\n",
       "      <td>2017</td>\n",
       "      <td>188</td>\n",
       "      <td>7</td>\n",
       "      <td>27</td>\n",
       "    </tr>\n",
       "    <tr>\n",
       "      <th>2017-07-07 12:30:00</th>\n",
       "      <td>36.69</td>\n",
       "      <td>26.52</td>\n",
       "      <td>4.920</td>\n",
       "      <td>860.0</td>\n",
       "      <td>95.7</td>\n",
       "      <td>36422.59136</td>\n",
       "      <td>25131.64557</td>\n",
       "      <td>25028.28452</td>\n",
       "      <td>12</td>\n",
       "      <td>4</td>\n",
       "      <td>3</td>\n",
       "      <td>7</td>\n",
       "      <td>2017</td>\n",
       "      <td>188</td>\n",
       "      <td>7</td>\n",
       "      <td>27</td>\n",
       "    </tr>\n",
       "    <tr>\n",
       "      <th>2017-07-07 12:40:00</th>\n",
       "      <td>36.59</td>\n",
       "      <td>31.89</td>\n",
       "      <td>4.925</td>\n",
       "      <td>862.0</td>\n",
       "      <td>96.2</td>\n",
       "      <td>36129.16944</td>\n",
       "      <td>24850.63291</td>\n",
       "      <td>25094.56067</td>\n",
       "      <td>12</td>\n",
       "      <td>4</td>\n",
       "      <td>3</td>\n",
       "      <td>7</td>\n",
       "      <td>2017</td>\n",
       "      <td>188</td>\n",
       "      <td>7</td>\n",
       "      <td>27</td>\n",
       "    </tr>\n",
       "    <tr>\n",
       "      <th>...</th>\n",
       "      <td>...</td>\n",
       "      <td>...</td>\n",
       "      <td>...</td>\n",
       "      <td>...</td>\n",
       "      <td>...</td>\n",
       "      <td>...</td>\n",
       "      <td>...</td>\n",
       "      <td>...</td>\n",
       "      <td>...</td>\n",
       "      <td>...</td>\n",
       "      <td>...</td>\n",
       "      <td>...</td>\n",
       "      <td>...</td>\n",
       "      <td>...</td>\n",
       "      <td>...</td>\n",
       "      <td>...</td>\n",
       "    </tr>\n",
       "    <tr>\n",
       "      <th>2017-08-11 14:40:00</th>\n",
       "      <td>35.94</td>\n",
       "      <td>20.34</td>\n",
       "      <td>4.903</td>\n",
       "      <td>752.0</td>\n",
       "      <td>137.3</td>\n",
       "      <td>39380.24417</td>\n",
       "      <td>28492.08025</td>\n",
       "      <td>26404.51411</td>\n",
       "      <td>14</td>\n",
       "      <td>4</td>\n",
       "      <td>3</td>\n",
       "      <td>8</td>\n",
       "      <td>2017</td>\n",
       "      <td>223</td>\n",
       "      <td>11</td>\n",
       "      <td>32</td>\n",
       "    </tr>\n",
       "    <tr>\n",
       "      <th>2017-08-11 14:50:00</th>\n",
       "      <td>35.89</td>\n",
       "      <td>20.51</td>\n",
       "      <td>4.905</td>\n",
       "      <td>736.0</td>\n",
       "      <td>137.8</td>\n",
       "      <td>39277.95782</td>\n",
       "      <td>28503.48469</td>\n",
       "      <td>25814.67085</td>\n",
       "      <td>14</td>\n",
       "      <td>4</td>\n",
       "      <td>3</td>\n",
       "      <td>8</td>\n",
       "      <td>2017</td>\n",
       "      <td>223</td>\n",
       "      <td>11</td>\n",
       "      <td>32</td>\n",
       "    </tr>\n",
       "    <tr>\n",
       "      <th>2017-08-11 15:00:00</th>\n",
       "      <td>35.66</td>\n",
       "      <td>21.81</td>\n",
       "      <td>4.902</td>\n",
       "      <td>723.0</td>\n",
       "      <td>139.4</td>\n",
       "      <td>39220.42175</td>\n",
       "      <td>28237.38120</td>\n",
       "      <td>25796.61442</td>\n",
       "      <td>15</td>\n",
       "      <td>4</td>\n",
       "      <td>3</td>\n",
       "      <td>8</td>\n",
       "      <td>2017</td>\n",
       "      <td>223</td>\n",
       "      <td>11</td>\n",
       "      <td>32</td>\n",
       "    </tr>\n",
       "    <tr>\n",
       "      <th>2017-08-11 15:10:00</th>\n",
       "      <td>35.64</td>\n",
       "      <td>21.94</td>\n",
       "      <td>4.905</td>\n",
       "      <td>706.0</td>\n",
       "      <td>137.7</td>\n",
       "      <td>39105.34961</td>\n",
       "      <td>28073.91763</td>\n",
       "      <td>26019.31034</td>\n",
       "      <td>15</td>\n",
       "      <td>4</td>\n",
       "      <td>3</td>\n",
       "      <td>8</td>\n",
       "      <td>2017</td>\n",
       "      <td>223</td>\n",
       "      <td>11</td>\n",
       "      <td>32</td>\n",
       "    </tr>\n",
       "    <tr>\n",
       "      <th>2017-08-11 17:00:00</th>\n",
       "      <td>35.61</td>\n",
       "      <td>19.04</td>\n",
       "      <td>4.908</td>\n",
       "      <td>446.5</td>\n",
       "      <td>156.7</td>\n",
       "      <td>37475.16093</td>\n",
       "      <td>26971.48891</td>\n",
       "      <td>26849.90596</td>\n",
       "      <td>17</td>\n",
       "      <td>4</td>\n",
       "      <td>3</td>\n",
       "      <td>8</td>\n",
       "      <td>2017</td>\n",
       "      <td>223</td>\n",
       "      <td>11</td>\n",
       "      <td>32</td>\n",
       "    </tr>\n",
       "  </tbody>\n",
       "</table>\n",
       "<p>143 rows × 16 columns</p>\n",
       "</div>"
      ],
      "text/plain": [
       "                     Temperature  Humidity  wind_speed  general_diffuse_flows  \\\n",
       "DateTime                                                                        \n",
       "2017-07-07 12:00:00        35.78     27.88       4.921                  841.0   \n",
       "2017-07-07 12:10:00        36.21     26.75       4.923                  850.0   \n",
       "2017-07-07 12:20:00        36.37     26.71       4.922                  855.0   \n",
       "2017-07-07 12:30:00        36.69     26.52       4.920                  860.0   \n",
       "2017-07-07 12:40:00        36.59     31.89       4.925                  862.0   \n",
       "...                          ...       ...         ...                    ...   \n",
       "2017-08-11 14:40:00        35.94     20.34       4.903                  752.0   \n",
       "2017-08-11 14:50:00        35.89     20.51       4.905                  736.0   \n",
       "2017-08-11 15:00:00        35.66     21.81       4.902                  723.0   \n",
       "2017-08-11 15:10:00        35.64     21.94       4.905                  706.0   \n",
       "2017-08-11 17:00:00        35.61     19.04       4.908                  446.5   \n",
       "\n",
       "                     diffuse_flows    zone_1_pc    zone_2_pc    zone_3_pc  \\\n",
       "DateTime                                                                    \n",
       "2017-07-07 12:00:00           94.4  29444.25249  30592.40506  27378.07531   \n",
       "2017-07-07 12:10:00           94.7  32799.46844  27759.49367  25359.66527   \n",
       "2017-07-07 12:20:00           95.3  36716.01329  25659.49367  25444.01674   \n",
       "2017-07-07 12:30:00           95.7  36422.59136  25131.64557  25028.28452   \n",
       "2017-07-07 12:40:00           96.2  36129.16944  24850.63291  25094.56067   \n",
       "...                            ...          ...          ...          ...   \n",
       "2017-08-11 14:40:00          137.3  39380.24417  28492.08025  26404.51411   \n",
       "2017-08-11 14:50:00          137.8  39277.95782  28503.48469  25814.67085   \n",
       "2017-08-11 15:00:00          139.4  39220.42175  28237.38120  25796.61442   \n",
       "2017-08-11 15:10:00          137.7  39105.34961  28073.91763  26019.31034   \n",
       "2017-08-11 17:00:00          156.7  37475.16093  26971.48891  26849.90596   \n",
       "\n",
       "                     hour  dayofweek  quarter  month  year  dayofyear  \\\n",
       "DateTime                                                                \n",
       "2017-07-07 12:00:00    12          4        3      7  2017        188   \n",
       "2017-07-07 12:10:00    12          4        3      7  2017        188   \n",
       "2017-07-07 12:20:00    12          4        3      7  2017        188   \n",
       "2017-07-07 12:30:00    12          4        3      7  2017        188   \n",
       "2017-07-07 12:40:00    12          4        3      7  2017        188   \n",
       "...                   ...        ...      ...    ...   ...        ...   \n",
       "2017-08-11 14:40:00    14          4        3      8  2017        223   \n",
       "2017-08-11 14:50:00    14          4        3      8  2017        223   \n",
       "2017-08-11 15:00:00    15          4        3      8  2017        223   \n",
       "2017-08-11 15:10:00    15          4        3      8  2017        223   \n",
       "2017-08-11 17:00:00    17          4        3      8  2017        223   \n",
       "\n",
       "                     dayofmonth  weekofyear  \n",
       "DateTime                                     \n",
       "2017-07-07 12:00:00           7          27  \n",
       "2017-07-07 12:10:00           7          27  \n",
       "2017-07-07 12:20:00           7          27  \n",
       "2017-07-07 12:30:00           7          27  \n",
       "2017-07-07 12:40:00           7          27  \n",
       "...                         ...         ...  \n",
       "2017-08-11 14:40:00          11          32  \n",
       "2017-08-11 14:50:00          11          32  \n",
       "2017-08-11 15:00:00          11          32  \n",
       "2017-08-11 15:10:00          11          32  \n",
       "2017-08-11 17:00:00          11          32  \n",
       "\n",
       "[143 rows x 16 columns]"
      ]
     },
     "execution_count": 17,
     "metadata": {},
     "output_type": "execute_result"
    }
   ],
   "source": [
    "df[(df['Temperature'] <= lower_limit) | (df['Temperature'] >= upper_limit)]\n"
   ]
  },
  {
   "cell_type": "code",
   "execution_count": 18,
   "id": "8fce098e",
   "metadata": {},
   "outputs": [],
   "source": [
    "df_temp_no_out = df[(df['Temperature']<=lower_limit)|(df['Temperature']>=upper_limit)].index\n",
    "df.drop(df_temp_no_out , inplace=True)"
   ]
  },
  {
   "cell_type": "code",
   "execution_count": 19,
   "id": "4cfd4200",
   "metadata": {},
   "outputs": [
    {
     "data": {
      "text/plain": [
       "(143,)"
      ]
     },
     "execution_count": 19,
     "metadata": {},
     "output_type": "execute_result"
    }
   ],
   "source": [
    "df_temp_no_out.shape"
   ]
  },
  {
   "cell_type": "code",
   "execution_count": 20,
   "id": "bd7c4a5f",
   "metadata": {},
   "outputs": [
    {
     "data": {
      "text/plain": [
       "(52273,)"
      ]
     },
     "execution_count": 20,
     "metadata": {},
     "output_type": "execute_result"
    }
   ],
   "source": [
    "df.Temperature.shape"
   ]
  },
  {
   "cell_type": "code",
   "execution_count": 21,
   "id": "e69f988e",
   "metadata": {},
   "outputs": [
    {
     "data": {
      "text/plain": [
       "<AxesSubplot:xlabel='Temperature'>"
      ]
     },
     "execution_count": 21,
     "metadata": {},
     "output_type": "execute_result"
    },
    {
     "data": {
      "image/png": "[encoded data removed]",
      "text/plain": [
       "<Figure size 432x288 with 1 Axes>"
      ]
     },
     "metadata": {
      "needs_background": "light"
     },
     "output_type": "display_data"
    }
   ],
   "source": [
    "sns.boxplot(x=df['Temperature'])"
   ]
  },
  {
   "cell_type": "code",
   "execution_count": 22,
   "id": "b2e90e41",
   "metadata": {},
   "outputs": [
    {
     "data": {
      "text/plain": [
       "<AxesSubplot:xlabel='Humidity'>"
      ]
     },
     "execution_count": 22,
     "metadata": {},
     "output_type": "execute_result"
    },
    {
     "data": {
      "image/png": "[encoded data removed]",
      "text/plain": [
       "<Figure size 432x288 with 1 Axes>"
      ]
     },
     "metadata": {
      "needs_background": "light"
     },
     "output_type": "display_data"
    }
   ],
   "source": [
    "sns.boxplot(x=df['Humidity'])"
   ]
  },
  {
   "cell_type": "code",
   "execution_count": 23,
   "id": "3dede6ed",
   "metadata": {},
   "outputs": [
    {
     "data": {
      "text/plain": [
       "(58.41, 81.4)"
      ]
     },
     "execution_count": 23,
     "metadata": {},
     "output_type": "execute_result"
    }
   ],
   "source": [
    "Q1 = df.Humidity.quantile(0.25)\n",
    "Q3 = df.Humidity.quantile(0.75)\n",
    "Q1,Q3"
   ]
  },
  {
   "cell_type": "code",
   "execution_count": 24,
   "id": "180bd4e9",
   "metadata": {},
   "outputs": [
    {
     "data": {
      "text/plain": [
       "22.99000000000001"
      ]
     },
     "execution_count": 24,
     "metadata": {},
     "output_type": "execute_result"
    }
   ],
   "source": [
    "IQR = Q3 - Q1\n",
    "IQR"
   ]
  },
  {
   "cell_type": "code",
   "execution_count": 25,
   "id": "6e34ca5f",
   "metadata": {},
   "outputs": [
    {
     "data": {
      "text/plain": [
       "(23.924999999999983, 115.88500000000002)"
      ]
     },
     "execution_count": 25,
     "metadata": {},
     "output_type": "execute_result"
    }
   ],
   "source": [
    "lower_limit = Q1 - (1.5 * IQR)\n",
    "upper_limit = Q3 + (1.5 * IQR)\n",
    "lower_limit, upper_limit"
   ]
  },
  {
   "cell_type": "code",
   "execution_count": 26,
   "id": "1bec8340",
   "metadata": {},
   "outputs": [
    {
     "data": {
      "text/plain": [
       "(52273,)"
      ]
     },
     "execution_count": 26,
     "metadata": {},
     "output_type": "execute_result"
    }
   ],
   "source": [
    "df.Humidity.shape"
   ]
  },
  {
   "cell_type": "code",
   "execution_count": 27,
   "id": "9e5e5803",
   "metadata": {},
   "outputs": [
    {
     "data": {
      "text/html": [
       "<div>\n",
       "<style scoped>\n",
       "    .dataframe tbody tr th:only-of-type {\n",
       "        vertical-align: middle;\n",
       "    }\n",
       "\n",
       "    .dataframe tbody tr th {\n",
       "        vertical-align: top;\n",
       "    }\n",
       "\n",
       "    .dataframe thead th {\n",
       "        text-align: right;\n",
       "    }\n",
       "</style>\n",
       "<table border=\"1\" class=\"dataframe\">\n",
       "  <thead>\n",
       "    <tr style=\"text-align: right;\">\n",
       "      <th></th>\n",
       "      <th>Temperature</th>\n",
       "      <th>Humidity</th>\n",
       "      <th>wind_speed</th>\n",
       "      <th>general_diffuse_flows</th>\n",
       "      <th>diffuse_flows</th>\n",
       "      <th>zone_1_pc</th>\n",
       "      <th>zone_2_pc</th>\n",
       "      <th>zone_3_pc</th>\n",
       "      <th>hour</th>\n",
       "      <th>dayofweek</th>\n",
       "      <th>quarter</th>\n",
       "      <th>month</th>\n",
       "      <th>year</th>\n",
       "      <th>dayofyear</th>\n",
       "      <th>dayofmonth</th>\n",
       "      <th>weekofyear</th>\n",
       "    </tr>\n",
       "    <tr>\n",
       "      <th>DateTime</th>\n",
       "      <th></th>\n",
       "      <th></th>\n",
       "      <th></th>\n",
       "      <th></th>\n",
       "      <th></th>\n",
       "      <th></th>\n",
       "      <th></th>\n",
       "      <th></th>\n",
       "      <th></th>\n",
       "      <th></th>\n",
       "      <th></th>\n",
       "      <th></th>\n",
       "      <th></th>\n",
       "      <th></th>\n",
       "      <th></th>\n",
       "      <th></th>\n",
       "    </tr>\n",
       "  </thead>\n",
       "  <tbody>\n",
       "    <tr>\n",
       "      <th>2017-05-05 18:30:00</th>\n",
       "      <td>25.41</td>\n",
       "      <td>23.79</td>\n",
       "      <td>4.919</td>\n",
       "      <td>234.3</td>\n",
       "      <td>259.5</td>\n",
       "      <td>33489.83607</td>\n",
       "      <td>20901.54799</td>\n",
       "      <td>17221.70040</td>\n",
       "      <td>18</td>\n",
       "      <td>4</td>\n",
       "      <td>2</td>\n",
       "      <td>5</td>\n",
       "      <td>2017</td>\n",
       "      <td>125</td>\n",
       "      <td>5</td>\n",
       "      <td>18</td>\n",
       "    </tr>\n",
       "    <tr>\n",
       "      <th>2017-05-05 18:40:00</th>\n",
       "      <td>25.27</td>\n",
       "      <td>23.52</td>\n",
       "      <td>4.920</td>\n",
       "      <td>207.3</td>\n",
       "      <td>230.7</td>\n",
       "      <td>34169.70492</td>\n",
       "      <td>21299.07121</td>\n",
       "      <td>18037.89474</td>\n",
       "      <td>18</td>\n",
       "      <td>4</td>\n",
       "      <td>2</td>\n",
       "      <td>5</td>\n",
       "      <td>2017</td>\n",
       "      <td>125</td>\n",
       "      <td>5</td>\n",
       "      <td>18</td>\n",
       "    </tr>\n",
       "    <tr>\n",
       "      <th>2017-05-05 18:50:00</th>\n",
       "      <td>25.20</td>\n",
       "      <td>23.66</td>\n",
       "      <td>4.918</td>\n",
       "      <td>173.9</td>\n",
       "      <td>194.8</td>\n",
       "      <td>35013.24590</td>\n",
       "      <td>21904.64396</td>\n",
       "      <td>19151.41700</td>\n",
       "      <td>18</td>\n",
       "      <td>4</td>\n",
       "      <td>2</td>\n",
       "      <td>5</td>\n",
       "      <td>2017</td>\n",
       "      <td>125</td>\n",
       "      <td>5</td>\n",
       "      <td>18</td>\n",
       "    </tr>\n",
       "    <tr>\n",
       "      <th>2017-05-13 13:20:00</th>\n",
       "      <td>31.71</td>\n",
       "      <td>21.96</td>\n",
       "      <td>0.070</td>\n",
       "      <td>863.0</td>\n",
       "      <td>204.4</td>\n",
       "      <td>35693.11475</td>\n",
       "      <td>21562.84830</td>\n",
       "      <td>18720.00000</td>\n",
       "      <td>13</td>\n",
       "      <td>5</td>\n",
       "      <td>2</td>\n",
       "      <td>5</td>\n",
       "      <td>2017</td>\n",
       "      <td>133</td>\n",
       "      <td>13</td>\n",
       "      <td>19</td>\n",
       "    </tr>\n",
       "    <tr>\n",
       "      <th>2017-05-13 13:30:00</th>\n",
       "      <td>31.73</td>\n",
       "      <td>20.92</td>\n",
       "      <td>0.073</td>\n",
       "      <td>856.0</td>\n",
       "      <td>204.4</td>\n",
       "      <td>35680.52459</td>\n",
       "      <td>21510.83591</td>\n",
       "      <td>18807.44939</td>\n",
       "      <td>13</td>\n",
       "      <td>5</td>\n",
       "      <td>2</td>\n",
       "      <td>5</td>\n",
       "      <td>2017</td>\n",
       "      <td>133</td>\n",
       "      <td>13</td>\n",
       "      <td>19</td>\n",
       "    </tr>\n",
       "    <tr>\n",
       "      <th>...</th>\n",
       "      <td>...</td>\n",
       "      <td>...</td>\n",
       "      <td>...</td>\n",
       "      <td>...</td>\n",
       "      <td>...</td>\n",
       "      <td>...</td>\n",
       "      <td>...</td>\n",
       "      <td>...</td>\n",
       "      <td>...</td>\n",
       "      <td>...</td>\n",
       "      <td>...</td>\n",
       "      <td>...</td>\n",
       "      <td>...</td>\n",
       "      <td>...</td>\n",
       "      <td>...</td>\n",
       "      <td>...</td>\n",
       "    </tr>\n",
       "    <tr>\n",
       "      <th>2017-09-22 16:40:00</th>\n",
       "      <td>31.06</td>\n",
       "      <td>14.80</td>\n",
       "      <td>4.934</td>\n",
       "      <td>407.7</td>\n",
       "      <td>88.0</td>\n",
       "      <td>34139.46903</td>\n",
       "      <td>19747.60915</td>\n",
       "      <td>13137.97753</td>\n",
       "      <td>16</td>\n",
       "      <td>4</td>\n",
       "      <td>3</td>\n",
       "      <td>9</td>\n",
       "      <td>2017</td>\n",
       "      <td>265</td>\n",
       "      <td>22</td>\n",
       "      <td>38</td>\n",
       "    </tr>\n",
       "    <tr>\n",
       "      <th>2017-09-22 16:50:00</th>\n",
       "      <td>30.84</td>\n",
       "      <td>19.21</td>\n",
       "      <td>4.929</td>\n",
       "      <td>369.3</td>\n",
       "      <td>87.3</td>\n",
       "      <td>33661.59292</td>\n",
       "      <td>19998.33680</td>\n",
       "      <td>13302.71706</td>\n",
       "      <td>16</td>\n",
       "      <td>4</td>\n",
       "      <td>3</td>\n",
       "      <td>9</td>\n",
       "      <td>2017</td>\n",
       "      <td>265</td>\n",
       "      <td>22</td>\n",
       "      <td>38</td>\n",
       "    </tr>\n",
       "    <tr>\n",
       "      <th>2017-09-22 17:00:00</th>\n",
       "      <td>30.44</td>\n",
       "      <td>20.21</td>\n",
       "      <td>4.945</td>\n",
       "      <td>347.0</td>\n",
       "      <td>94.2</td>\n",
       "      <td>33604.24779</td>\n",
       "      <td>19571.72557</td>\n",
       "      <td>13614.54545</td>\n",
       "      <td>17</td>\n",
       "      <td>4</td>\n",
       "      <td>3</td>\n",
       "      <td>9</td>\n",
       "      <td>2017</td>\n",
       "      <td>265</td>\n",
       "      <td>22</td>\n",
       "      <td>38</td>\n",
       "    </tr>\n",
       "    <tr>\n",
       "      <th>2017-09-22 17:10:00</th>\n",
       "      <td>30.09</td>\n",
       "      <td>21.64</td>\n",
       "      <td>4.943</td>\n",
       "      <td>338.3</td>\n",
       "      <td>113.7</td>\n",
       "      <td>33776.28319</td>\n",
       "      <td>19725.15593</td>\n",
       "      <td>14308.80490</td>\n",
       "      <td>17</td>\n",
       "      <td>4</td>\n",
       "      <td>3</td>\n",
       "      <td>9</td>\n",
       "      <td>2017</td>\n",
       "      <td>265</td>\n",
       "      <td>22</td>\n",
       "      <td>38</td>\n",
       "    </tr>\n",
       "    <tr>\n",
       "      <th>2017-09-22 17:20:00</th>\n",
       "      <td>29.76</td>\n",
       "      <td>22.61</td>\n",
       "      <td>4.965</td>\n",
       "      <td>309.8</td>\n",
       "      <td>119.6</td>\n",
       "      <td>34069.38053</td>\n",
       "      <td>20125.57173</td>\n",
       "      <td>14491.19510</td>\n",
       "      <td>17</td>\n",
       "      <td>4</td>\n",
       "      <td>3</td>\n",
       "      <td>9</td>\n",
       "      <td>2017</td>\n",
       "      <td>265</td>\n",
       "      <td>22</td>\n",
       "      <td>38</td>\n",
       "    </tr>\n",
       "  </tbody>\n",
       "</table>\n",
       "<p>199 rows × 16 columns</p>\n",
       "</div>"
      ],
      "text/plain": [
       "                     Temperature  Humidity  wind_speed  general_diffuse_flows  \\\n",
       "DateTime                                                                        \n",
       "2017-05-05 18:30:00        25.41     23.79       4.919                  234.3   \n",
       "2017-05-05 18:40:00        25.27     23.52       4.920                  207.3   \n",
       "2017-05-05 18:50:00        25.20     23.66       4.918                  173.9   \n",
       "2017-05-13 13:20:00        31.71     21.96       0.070                  863.0   \n",
       "2017-05-13 13:30:00        31.73     20.92       0.073                  856.0   \n",
       "...                          ...       ...         ...                    ...   \n",
       "2017-09-22 16:40:00        31.06     14.80       4.934                  407.7   \n",
       "2017-09-22 16:50:00        30.84     19.21       4.929                  369.3   \n",
       "2017-09-22 17:00:00        30.44     20.21       4.945                  347.0   \n",
       "2017-09-22 17:10:00        30.09     21.64       4.943                  338.3   \n",
       "2017-09-22 17:20:00        29.76     22.61       4.965                  309.8   \n",
       "\n",
       "                     diffuse_flows    zone_1_pc    zone_2_pc    zone_3_pc  \\\n",
       "DateTime                                                                    \n",
       "2017-05-05 18:30:00          259.5  33489.83607  20901.54799  17221.70040   \n",
       "2017-05-05 18:40:00          230.7  34169.70492  21299.07121  18037.89474   \n",
       "2017-05-05 18:50:00          194.8  35013.24590  21904.64396  19151.41700   \n",
       "2017-05-13 13:20:00          204.4  35693.11475  21562.84830  18720.00000   \n",
       "2017-05-13 13:30:00          204.4  35680.52459  21510.83591  18807.44939   \n",
       "...                            ...          ...          ...          ...   \n",
       "2017-09-22 16:40:00           88.0  34139.46903  19747.60915  13137.97753   \n",
       "2017-09-22 16:50:00           87.3  33661.59292  19998.33680  13302.71706   \n",
       "2017-09-22 17:00:00           94.2  33604.24779  19571.72557  13614.54545   \n",
       "2017-09-22 17:10:00          113.7  33776.28319  19725.15593  14308.80490   \n",
       "2017-09-22 17:20:00          119.6  34069.38053  20125.57173  14491.19510   \n",
       "\n",
       "                     hour  dayofweek  quarter  month  year  dayofyear  \\\n",
       "DateTime                                                                \n",
       "2017-05-05 18:30:00    18          4        2      5  2017        125   \n",
       "2017-05-05 18:40:00    18          4        2      5  2017        125   \n",
       "2017-05-05 18:50:00    18          4        2      5  2017        125   \n",
       "2017-05-13 13:20:00    13          5        2      5  2017        133   \n",
       "2017-05-13 13:30:00    13          5        2      5  2017        133   \n",
       "...                   ...        ...      ...    ...   ...        ...   \n",
       "2017-09-22 16:40:00    16          4        3      9  2017        265   \n",
       "2017-09-22 16:50:00    16          4        3      9  2017        265   \n",
       "2017-09-22 17:00:00    17          4        3      9  2017        265   \n",
       "2017-09-22 17:10:00    17          4        3      9  2017        265   \n",
       "2017-09-22 17:20:00    17          4        3      9  2017        265   \n",
       "\n",
       "                     dayofmonth  weekofyear  \n",
       "DateTime                                     \n",
       "2017-05-05 18:30:00           5          18  \n",
       "2017-05-05 18:40:00           5          18  \n",
       "2017-05-05 18:50:00           5          18  \n",
       "2017-05-13 13:20:00          13          19  \n",
       "2017-05-13 13:30:00          13          19  \n",
       "...                         ...         ...  \n",
       "2017-09-22 16:40:00          22          38  \n",
       "2017-09-22 16:50:00          22          38  \n",
       "2017-09-22 17:00:00          22          38  \n",
       "2017-09-22 17:10:00          22          38  \n",
       "2017-09-22 17:20:00          22          38  \n",
       "\n",
       "[199 rows x 16 columns]"
      ]
     },
     "execution_count": 27,
     "metadata": {},
     "output_type": "execute_result"
    }
   ],
   "source": [
    "df[(df['Humidity'] <= lower_limit) | (df['Humidity'] >= upper_limit)]"
   ]
  },
  {
   "cell_type": "code",
   "execution_count": 28,
   "id": "06515770",
   "metadata": {},
   "outputs": [],
   "source": [
    "df_hum_no_out = df[(df['Humidity']<=lower_limit)|(df['Humidity']>=upper_limit)].index\n",
    "df.drop(df_hum_no_out , inplace=True)"
   ]
  },
  {
   "cell_type": "code",
   "execution_count": 29,
   "id": "2b0210f6",
   "metadata": {},
   "outputs": [
    {
     "data": {
      "text/plain": [
       "(199,)"
      ]
     },
     "execution_count": 29,
     "metadata": {},
     "output_type": "execute_result"
    }
   ],
   "source": [
    "df_hum_no_out.shape"
   ]
  },
  {
   "cell_type": "code",
   "execution_count": 30,
   "id": "6d0db339",
   "metadata": {},
   "outputs": [
    {
     "data": {
      "text/plain": [
       "(52074,)"
      ]
     },
     "execution_count": 30,
     "metadata": {},
     "output_type": "execute_result"
    }
   ],
   "source": [
    "df.Humidity.shape"
   ]
  },
  {
   "cell_type": "code",
   "execution_count": 31,
   "id": "52ebaf2e",
   "metadata": {},
   "outputs": [
    {
     "data": {
      "text/plain": [
       "<AxesSubplot:xlabel='Humidity'>"
      ]
     },
     "execution_count": 31,
     "metadata": {},
     "output_type": "execute_result"
    },
    {
     "data": {
      "image/png": "[encoded data removed]",
      "text/plain": [
       "<Figure size 432x288 with 1 Axes>"
      ]
     },
     "metadata": {
      "needs_background": "light"
     },
     "output_type": "display_data"
    }
   ],
   "source": [
    "sns.boxplot(x=df['Humidity'])"
   ]
  },
  {
   "cell_type": "code",
   "execution_count": 32,
   "id": "131290bf",
   "metadata": {},
   "outputs": [
    {
     "data": {
      "text/plain": [
       "<AxesSubplot:xlabel='wind_speed'>"
      ]
     },
     "execution_count": 32,
     "metadata": {},
     "output_type": "execute_result"
    },
    {
     "data": {
      "image/png": "[encoded data removed]",
      "text/plain": [
       "<Figure size 432x288 with 1 Axes>"
      ]
     },
     "metadata": {
      "needs_background": "light"
     },
     "output_type": "display_data"
    }
   ],
   "source": [
    "sns.boxplot(x=df['wind_speed'])"
   ]
  },
  {
   "cell_type": "code",
   "execution_count": 33,
   "id": "54e1941c",
   "metadata": {},
   "outputs": [
    {
     "data": {
      "text/plain": [
       "(0.078, 4.915)"
      ]
     },
     "execution_count": 33,
     "metadata": {},
     "output_type": "execute_result"
    }
   ],
   "source": [
    "Q1 = df.wind_speed.quantile(0.25)\n",
    "Q3 = df.wind_speed.quantile(0.75)\n",
    "Q1,Q3"
   ]
  },
  {
   "cell_type": "code",
   "execution_count": 34,
   "id": "42761345",
   "metadata": {},
   "outputs": [
    {
     "data": {
      "text/plain": [
       "4.837"
      ]
     },
     "execution_count": 34,
     "metadata": {},
     "output_type": "execute_result"
    }
   ],
   "source": [
    "IQR = Q3 - Q1\n",
    "IQR"
   ]
  },
  {
   "cell_type": "code",
   "execution_count": 35,
   "id": "7e8649c5",
   "metadata": {},
   "outputs": [
    {
     "data": {
      "text/plain": [
       "(-7.177499999999999, 12.1705)"
      ]
     },
     "execution_count": 35,
     "metadata": {},
     "output_type": "execute_result"
    }
   ],
   "source": [
    "lower_limit = Q1 - (1.5 * IQR)\n",
    "upper_limit = Q3 + (1.5 * IQR)\n",
    "lower_limit, upper_limit"
   ]
  },
  {
   "cell_type": "code",
   "execution_count": 36,
   "id": "e436534a",
   "metadata": {},
   "outputs": [
    {
     "data": {
      "text/html": [
       "<div>\n",
       "<style scoped>\n",
       "    .dataframe tbody tr th:only-of-type {\n",
       "        vertical-align: middle;\n",
       "    }\n",
       "\n",
       "    .dataframe tbody tr th {\n",
       "        vertical-align: top;\n",
       "    }\n",
       "\n",
       "    .dataframe thead th {\n",
       "        text-align: right;\n",
       "    }\n",
       "</style>\n",
       "<table border=\"1\" class=\"dataframe\">\n",
       "  <thead>\n",
       "    <tr style=\"text-align: right;\">\n",
       "      <th></th>\n",
       "      <th>Temperature</th>\n",
       "      <th>Humidity</th>\n",
       "      <th>wind_speed</th>\n",
       "      <th>general_diffuse_flows</th>\n",
       "      <th>diffuse_flows</th>\n",
       "      <th>zone_1_pc</th>\n",
       "      <th>zone_2_pc</th>\n",
       "      <th>zone_3_pc</th>\n",
       "      <th>hour</th>\n",
       "      <th>dayofweek</th>\n",
       "      <th>quarter</th>\n",
       "      <th>month</th>\n",
       "      <th>year</th>\n",
       "      <th>dayofyear</th>\n",
       "      <th>dayofmonth</th>\n",
       "      <th>weekofyear</th>\n",
       "    </tr>\n",
       "    <tr>\n",
       "      <th>DateTime</th>\n",
       "      <th></th>\n",
       "      <th></th>\n",
       "      <th></th>\n",
       "      <th></th>\n",
       "      <th></th>\n",
       "      <th></th>\n",
       "      <th></th>\n",
       "      <th></th>\n",
       "      <th></th>\n",
       "      <th></th>\n",
       "      <th></th>\n",
       "      <th></th>\n",
       "      <th></th>\n",
       "      <th></th>\n",
       "      <th></th>\n",
       "      <th></th>\n",
       "    </tr>\n",
       "  </thead>\n",
       "  <tbody>\n",
       "  </tbody>\n",
       "</table>\n",
       "</div>"
      ],
      "text/plain": [
       "Empty DataFrame\n",
       "Columns: [Temperature, Humidity, wind_speed, general_diffuse_flows, diffuse_flows, zone_1_pc, zone_2_pc, zone_3_pc, hour, dayofweek, quarter, month, year, dayofyear, dayofmonth, weekofyear]\n",
       "Index: []"
      ]
     },
     "execution_count": 36,
     "metadata": {},
     "output_type": "execute_result"
    }
   ],
   "source": [
    "df[(df['wind_speed'] <= lower_limit) | (df['wind_speed'] >= upper_limit)]"
   ]
  },
  {
   "cell_type": "code",
   "execution_count": 37,
   "id": "e8dcf7f8",
   "metadata": {},
   "outputs": [],
   "source": [
    "df_ws_no_out = df[(df['wind_speed']<=lower_limit)|(df['wind_speed']>=upper_limit)].index\n",
    "df.drop(df_ws_no_out , inplace=True)"
   ]
  },
  {
   "cell_type": "code",
   "execution_count": 38,
   "id": "14d80816",
   "metadata": {},
   "outputs": [
    {
     "data": {
      "text/plain": [
       "<AxesSubplot:xlabel='general_diffuse_flows'>"
      ]
     },
     "execution_count": 38,
     "metadata": {},
     "output_type": "execute_result"
    },
    {
     "data": {
      "image/png": "[encoded data removed]",
      "text/plain": [
       "<Figure size 432x288 with 1 Axes>"
      ]
     },
     "metadata": {
      "needs_background": "light"
     },
     "output_type": "display_data"
    }
   ],
   "source": [
    "sns.boxplot(x=df['general_diffuse_flows'])"
   ]
  },
  {
   "cell_type": "code",
   "execution_count": 39,
   "id": "eda4e144",
   "metadata": {},
   "outputs": [
    {
     "data": {
      "text/plain": [
       "(0.062, 313.1)"
      ]
     },
     "execution_count": 39,
     "metadata": {},
     "output_type": "execute_result"
    }
   ],
   "source": [
    "Q1 = df.general_diffuse_flows.quantile(0.25)\n",
    "Q3 = df.general_diffuse_flows.quantile(0.75)\n",
    "Q1,Q3"
   ]
  },
  {
   "cell_type": "code",
   "execution_count": 40,
   "id": "24e9099b",
   "metadata": {},
   "outputs": [
    {
     "data": {
      "text/plain": [
       "313.038"
      ]
     },
     "execution_count": 40,
     "metadata": {},
     "output_type": "execute_result"
    }
   ],
   "source": [
    "IQR = Q3 - Q1\n",
    "IQR"
   ]
  },
  {
   "cell_type": "code",
   "execution_count": 41,
   "id": "8598fefb",
   "metadata": {},
   "outputs": [
    {
     "data": {
      "text/plain": [
       "(-469.495, 782.657)"
      ]
     },
     "execution_count": 41,
     "metadata": {},
     "output_type": "execute_result"
    }
   ],
   "source": [
    "lower_limit = Q1 - (1.5 * IQR)\n",
    "upper_limit = Q3 + (1.5 * IQR)\n",
    "lower_limit, upper_limit"
   ]
  },
  {
   "cell_type": "code",
   "execution_count": 42,
   "id": "dfca2b1d",
   "metadata": {},
   "outputs": [
    {
     "data": {
      "text/plain": [
       "(52074,)"
      ]
     },
     "execution_count": 42,
     "metadata": {},
     "output_type": "execute_result"
    }
   ],
   "source": [
    "df.general_diffuse_flows.shape"
   ]
  },
  {
   "cell_type": "code",
   "execution_count": 43,
   "id": "7a9c28d9",
   "metadata": {},
   "outputs": [
    {
     "data": {
      "text/html": [
       "<div>\n",
       "<style scoped>\n",
       "    .dataframe tbody tr th:only-of-type {\n",
       "        vertical-align: middle;\n",
       "    }\n",
       "\n",
       "    .dataframe tbody tr th {\n",
       "        vertical-align: top;\n",
       "    }\n",
       "\n",
       "    .dataframe thead th {\n",
       "        text-align: right;\n",
       "    }\n",
       "</style>\n",
       "<table border=\"1\" class=\"dataframe\">\n",
       "  <thead>\n",
       "    <tr style=\"text-align: right;\">\n",
       "      <th></th>\n",
       "      <th>Temperature</th>\n",
       "      <th>Humidity</th>\n",
       "      <th>wind_speed</th>\n",
       "      <th>general_diffuse_flows</th>\n",
       "      <th>diffuse_flows</th>\n",
       "      <th>zone_1_pc</th>\n",
       "      <th>zone_2_pc</th>\n",
       "      <th>zone_3_pc</th>\n",
       "      <th>hour</th>\n",
       "      <th>dayofweek</th>\n",
       "      <th>quarter</th>\n",
       "      <th>month</th>\n",
       "      <th>year</th>\n",
       "      <th>dayofyear</th>\n",
       "      <th>dayofmonth</th>\n",
       "      <th>weekofyear</th>\n",
       "    </tr>\n",
       "    <tr>\n",
       "      <th>DateTime</th>\n",
       "      <th></th>\n",
       "      <th></th>\n",
       "      <th></th>\n",
       "      <th></th>\n",
       "      <th></th>\n",
       "      <th></th>\n",
       "      <th></th>\n",
       "      <th></th>\n",
       "      <th></th>\n",
       "      <th></th>\n",
       "      <th></th>\n",
       "      <th></th>\n",
       "      <th></th>\n",
       "      <th></th>\n",
       "      <th></th>\n",
       "      <th></th>\n",
       "    </tr>\n",
       "  </thead>\n",
       "  <tbody>\n",
       "    <tr>\n",
       "      <th>2017-02-14 12:30:00</th>\n",
       "      <td>16.68</td>\n",
       "      <td>53.06</td>\n",
       "      <td>0.082</td>\n",
       "      <td>803.0</td>\n",
       "      <td>269.8</td>\n",
       "      <td>33004.06780</td>\n",
       "      <td>21333.73860</td>\n",
       "      <td>16550.59296</td>\n",
       "      <td>12</td>\n",
       "      <td>1</td>\n",
       "      <td>1</td>\n",
       "      <td>2</td>\n",
       "      <td>2017</td>\n",
       "      <td>45</td>\n",
       "      <td>14</td>\n",
       "      <td>7</td>\n",
       "    </tr>\n",
       "    <tr>\n",
       "      <th>2017-02-21 13:00:00</th>\n",
       "      <td>15.92</td>\n",
       "      <td>55.29</td>\n",
       "      <td>0.083</td>\n",
       "      <td>810.0</td>\n",
       "      <td>851.0</td>\n",
       "      <td>37885.42373</td>\n",
       "      <td>22431.61094</td>\n",
       "      <td>17818.37186</td>\n",
       "      <td>13</td>\n",
       "      <td>1</td>\n",
       "      <td>1</td>\n",
       "      <td>2</td>\n",
       "      <td>2017</td>\n",
       "      <td>52</td>\n",
       "      <td>21</td>\n",
       "      <td>8</td>\n",
       "    </tr>\n",
       "    <tr>\n",
       "      <th>2017-02-21 13:10:00</th>\n",
       "      <td>15.86</td>\n",
       "      <td>53.22</td>\n",
       "      <td>0.084</td>\n",
       "      <td>877.0</td>\n",
       "      <td>933.0</td>\n",
       "      <td>38245.42373</td>\n",
       "      <td>22683.28267</td>\n",
       "      <td>17887.83920</td>\n",
       "      <td>13</td>\n",
       "      <td>1</td>\n",
       "      <td>1</td>\n",
       "      <td>2</td>\n",
       "      <td>2017</td>\n",
       "      <td>52</td>\n",
       "      <td>21</td>\n",
       "      <td>8</td>\n",
       "    </tr>\n",
       "    <tr>\n",
       "      <th>2017-02-21 13:20:00</th>\n",
       "      <td>15.92</td>\n",
       "      <td>53.16</td>\n",
       "      <td>0.079</td>\n",
       "      <td>845.0</td>\n",
       "      <td>897.0</td>\n",
       "      <td>38288.13559</td>\n",
       "      <td>22519.14894</td>\n",
       "      <td>17847.31658</td>\n",
       "      <td>13</td>\n",
       "      <td>1</td>\n",
       "      <td>1</td>\n",
       "      <td>2</td>\n",
       "      <td>2017</td>\n",
       "      <td>52</td>\n",
       "      <td>21</td>\n",
       "      <td>8</td>\n",
       "    </tr>\n",
       "    <tr>\n",
       "      <th>2017-02-21 13:30:00</th>\n",
       "      <td>16.25</td>\n",
       "      <td>53.52</td>\n",
       "      <td>0.082</td>\n",
       "      <td>818.0</td>\n",
       "      <td>855.0</td>\n",
       "      <td>38306.44068</td>\n",
       "      <td>22464.43769</td>\n",
       "      <td>17829.94975</td>\n",
       "      <td>13</td>\n",
       "      <td>1</td>\n",
       "      <td>1</td>\n",
       "      <td>2</td>\n",
       "      <td>2017</td>\n",
       "      <td>52</td>\n",
       "      <td>21</td>\n",
       "      <td>8</td>\n",
       "    </tr>\n",
       "    <tr>\n",
       "      <th>...</th>\n",
       "      <td>...</td>\n",
       "      <td>...</td>\n",
       "      <td>...</td>\n",
       "      <td>...</td>\n",
       "      <td>...</td>\n",
       "      <td>...</td>\n",
       "      <td>...</td>\n",
       "      <td>...</td>\n",
       "      <td>...</td>\n",
       "      <td>...</td>\n",
       "      <td>...</td>\n",
       "      <td>...</td>\n",
       "      <td>...</td>\n",
       "      <td>...</td>\n",
       "      <td>...</td>\n",
       "      <td>...</td>\n",
       "    </tr>\n",
       "    <tr>\n",
       "      <th>2017-10-12 12:30:00</th>\n",
       "      <td>25.45</td>\n",
       "      <td>42.95</td>\n",
       "      <td>0.082</td>\n",
       "      <td>822.0</td>\n",
       "      <td>190.6</td>\n",
       "      <td>37824.42013</td>\n",
       "      <td>23713.69295</td>\n",
       "      <td>13632.58359</td>\n",
       "      <td>12</td>\n",
       "      <td>3</td>\n",
       "      <td>4</td>\n",
       "      <td>10</td>\n",
       "      <td>2017</td>\n",
       "      <td>285</td>\n",
       "      <td>12</td>\n",
       "      <td>41</td>\n",
       "    </tr>\n",
       "    <tr>\n",
       "      <th>2017-11-02 11:50:00</th>\n",
       "      <td>21.53</td>\n",
       "      <td>52.60</td>\n",
       "      <td>0.084</td>\n",
       "      <td>794.0</td>\n",
       "      <td>733.0</td>\n",
       "      <td>31440.00000</td>\n",
       "      <td>24318.59504</td>\n",
       "      <td>12572.53012</td>\n",
       "      <td>11</td>\n",
       "      <td>3</td>\n",
       "      <td>4</td>\n",
       "      <td>11</td>\n",
       "      <td>2017</td>\n",
       "      <td>306</td>\n",
       "      <td>2</td>\n",
       "      <td>44</td>\n",
       "    </tr>\n",
       "    <tr>\n",
       "      <th>2017-11-02 13:10:00</th>\n",
       "      <td>22.06</td>\n",
       "      <td>51.47</td>\n",
       "      <td>0.084</td>\n",
       "      <td>841.0</td>\n",
       "      <td>820.0</td>\n",
       "      <td>31680.00000</td>\n",
       "      <td>24753.71901</td>\n",
       "      <td>12774.93976</td>\n",
       "      <td>13</td>\n",
       "      <td>3</td>\n",
       "      <td>4</td>\n",
       "      <td>11</td>\n",
       "      <td>2017</td>\n",
       "      <td>306</td>\n",
       "      <td>2</td>\n",
       "      <td>44</td>\n",
       "    </tr>\n",
       "    <tr>\n",
       "      <th>2017-11-02 13:20:00</th>\n",
       "      <td>22.36</td>\n",
       "      <td>50.07</td>\n",
       "      <td>0.086</td>\n",
       "      <td>837.0</td>\n",
       "      <td>834.0</td>\n",
       "      <td>32246.15385</td>\n",
       "      <td>24891.32231</td>\n",
       "      <td>12682.40964</td>\n",
       "      <td>13</td>\n",
       "      <td>3</td>\n",
       "      <td>4</td>\n",
       "      <td>11</td>\n",
       "      <td>2017</td>\n",
       "      <td>306</td>\n",
       "      <td>2</td>\n",
       "      <td>44</td>\n",
       "    </tr>\n",
       "    <tr>\n",
       "      <th>2017-11-02 13:50:00</th>\n",
       "      <td>22.78</td>\n",
       "      <td>48.17</td>\n",
       "      <td>0.083</td>\n",
       "      <td>787.0</td>\n",
       "      <td>749.0</td>\n",
       "      <td>31950.76923</td>\n",
       "      <td>24448.76033</td>\n",
       "      <td>12526.26506</td>\n",
       "      <td>13</td>\n",
       "      <td>3</td>\n",
       "      <td>4</td>\n",
       "      <td>11</td>\n",
       "      <td>2017</td>\n",
       "      <td>306</td>\n",
       "      <td>2</td>\n",
       "      <td>44</td>\n",
       "    </tr>\n",
       "  </tbody>\n",
       "</table>\n",
       "<p>2508 rows × 16 columns</p>\n",
       "</div>"
      ],
      "text/plain": [
       "                     Temperature  Humidity  wind_speed  general_diffuse_flows  \\\n",
       "DateTime                                                                        \n",
       "2017-02-14 12:30:00        16.68     53.06       0.082                  803.0   \n",
       "2017-02-21 13:00:00        15.92     55.29       0.083                  810.0   \n",
       "2017-02-21 13:10:00        15.86     53.22       0.084                  877.0   \n",
       "2017-02-21 13:20:00        15.92     53.16       0.079                  845.0   \n",
       "2017-02-21 13:30:00        16.25     53.52       0.082                  818.0   \n",
       "...                          ...       ...         ...                    ...   \n",
       "2017-10-12 12:30:00        25.45     42.95       0.082                  822.0   \n",
       "2017-11-02 11:50:00        21.53     52.60       0.084                  794.0   \n",
       "2017-11-02 13:10:00        22.06     51.47       0.084                  841.0   \n",
       "2017-11-02 13:20:00        22.36     50.07       0.086                  837.0   \n",
       "2017-11-02 13:50:00        22.78     48.17       0.083                  787.0   \n",
       "\n",
       "                     diffuse_flows    zone_1_pc    zone_2_pc    zone_3_pc  \\\n",
       "DateTime                                                                    \n",
       "2017-02-14 12:30:00          269.8  33004.06780  21333.73860  16550.59296   \n",
       "2017-02-21 13:00:00          851.0  37885.42373  22431.61094  17818.37186   \n",
       "2017-02-21 13:10:00          933.0  38245.42373  22683.28267  17887.83920   \n",
       "2017-02-21 13:20:00          897.0  38288.13559  22519.14894  17847.31658   \n",
       "2017-02-21 13:30:00          855.0  38306.44068  22464.43769  17829.94975   \n",
       "...                            ...          ...          ...          ...   \n",
       "2017-10-12 12:30:00          190.6  37824.42013  23713.69295  13632.58359   \n",
       "2017-11-02 11:50:00          733.0  31440.00000  24318.59504  12572.53012   \n",
       "2017-11-02 13:10:00          820.0  31680.00000  24753.71901  12774.93976   \n",
       "2017-11-02 13:20:00          834.0  32246.15385  24891.32231  12682.40964   \n",
       "2017-11-02 13:50:00          749.0  31950.76923  24448.76033  12526.26506   \n",
       "\n",
       "                     hour  dayofweek  quarter  month  year  dayofyear  \\\n",
       "DateTime                                                                \n",
       "2017-02-14 12:30:00    12          1        1      2  2017         45   \n",
       "2017-02-21 13:00:00    13          1        1      2  2017         52   \n",
       "2017-02-21 13:10:00    13          1        1      2  2017         52   \n",
       "2017-02-21 13:20:00    13          1        1      2  2017         52   \n",
       "2017-02-21 13:30:00    13          1        1      2  2017         52   \n",
       "...                   ...        ...      ...    ...   ...        ...   \n",
       "2017-10-12 12:30:00    12          3        4     10  2017        285   \n",
       "2017-11-02 11:50:00    11          3        4     11  2017        306   \n",
       "2017-11-02 13:10:00    13          3        4     11  2017        306   \n",
       "2017-11-02 13:20:00    13          3        4     11  2017        306   \n",
       "2017-11-02 13:50:00    13          3        4     11  2017        306   \n",
       "\n",
       "                     dayofmonth  weekofyear  \n",
       "DateTime                                     \n",
       "2017-02-14 12:30:00          14           7  \n",
       "2017-02-21 13:00:00          21           8  \n",
       "2017-02-21 13:10:00          21           8  \n",
       "2017-02-21 13:20:00          21           8  \n",
       "2017-02-21 13:30:00          21           8  \n",
       "...                         ...         ...  \n",
       "2017-10-12 12:30:00          12          41  \n",
       "2017-11-02 11:50:00           2          44  \n",
       "2017-11-02 13:10:00           2          44  \n",
       "2017-11-02 13:20:00           2          44  \n",
       "2017-11-02 13:50:00           2          44  \n",
       "\n",
       "[2508 rows x 16 columns]"
      ]
     },
     "execution_count": 43,
     "metadata": {},
     "output_type": "execute_result"
    }
   ],
   "source": [
    "df[(df['general_diffuse_flows'] <= lower_limit) | (df['general_diffuse_flows'] >= upper_limit)]"
   ]
  },
  {
   "cell_type": "code",
   "execution_count": 44,
   "id": "d4d93f6a",
   "metadata": {},
   "outputs": [],
   "source": [
    "df_gdf_no_out = df[(df['general_diffuse_flows']<=lower_limit)|(df['general_diffuse_flows']>=upper_limit)].index\n",
    "df.drop(df_gdf_no_out , inplace=True)"
   ]
  },
  {
   "cell_type": "code",
   "execution_count": 45,
   "id": "ae166a25",
   "metadata": {},
   "outputs": [
    {
     "data": {
      "text/plain": [
       "(2508,)"
      ]
     },
     "execution_count": 45,
     "metadata": {},
     "output_type": "execute_result"
    }
   ],
   "source": [
    "df_gdf_no_out.shape"
   ]
  },
  {
   "cell_type": "code",
   "execution_count": 46,
   "id": "61dbd7b1",
   "metadata": {},
   "outputs": [
    {
     "data": {
      "text/plain": [
       "(49566,)"
      ]
     },
     "execution_count": 46,
     "metadata": {},
     "output_type": "execute_result"
    }
   ],
   "source": [
    "df.general_diffuse_flows.shape"
   ]
  },
  {
   "cell_type": "code",
   "execution_count": 47,
   "id": "b40c5bd1",
   "metadata": {},
   "outputs": [
    {
     "data": {
      "text/plain": [
       "<AxesSubplot:xlabel='general_diffuse_flows'>"
      ]
     },
     "execution_count": 47,
     "metadata": {},
     "output_type": "execute_result"
    },
    {
     "data": {
      "image/png": "[encoded data removed]",
      "text/plain": [
       "<Figure size 432x288 with 1 Axes>"
      ]
     },
     "metadata": {
      "needs_background": "light"
     },
     "output_type": "display_data"
    }
   ],
   "source": [
    "sns.boxplot(x=df['general_diffuse_flows'])"
   ]
  },
  {
   "cell_type": "code",
   "execution_count": 48,
   "id": "7b0a839e",
   "metadata": {},
   "outputs": [
    {
     "data": {
      "text/plain": [
       "Index(['Temperature', 'Humidity', 'wind_speed', 'general_diffuse_flows',\n",
       "       'diffuse_flows', 'zone_1_pc', 'zone_2_pc', 'zone_3_pc', 'hour',\n",
       "       'dayofweek', 'quarter', 'month', 'year', 'dayofyear', 'dayofmonth',\n",
       "       'weekofyear'],\n",
       "      dtype='object')"
      ]
     },
     "execution_count": 48,
     "metadata": {},
     "output_type": "execute_result"
    }
   ],
   "source": [
    "df.columns"
   ]
  },
  {
   "cell_type": "code",
   "execution_count": 49,
   "id": "9b62a4a3",
   "metadata": {},
   "outputs": [
    {
     "data": {
      "text/plain": [
       "<AxesSubplot:xlabel='diffuse_flows'>"
      ]
     },
     "execution_count": 49,
     "metadata": {},
     "output_type": "execute_result"
    },
    {
     "data": {
      "image/png": "[encoded data removed]",
      "text/plain": [
       "<Figure size 432x288 with 1 Axes>"
      ]
     },
     "metadata": {
      "needs_background": "light"
     },
     "output_type": "display_data"
    }
   ],
   "source": [
    "sns.boxplot(x=df['diffuse_flows'])"
   ]
  },
  {
   "cell_type": "code",
   "execution_count": 50,
   "id": "c53dd48a",
   "metadata": {},
   "outputs": [
    {
     "data": {
      "text/plain": [
       "(0.119, 97.3)"
      ]
     },
     "execution_count": 50,
     "metadata": {},
     "output_type": "execute_result"
    }
   ],
   "source": [
    "Q1 = df.diffuse_flows.quantile(0.25)\n",
    "Q3 = df.diffuse_flows.quantile(0.75)\n",
    "Q1,Q3"
   ]
  },
  {
   "cell_type": "code",
   "execution_count": 51,
   "id": "2e6c13ce",
   "metadata": {},
   "outputs": [
    {
     "data": {
      "text/plain": [
       "97.181"
      ]
     },
     "execution_count": 51,
     "metadata": {},
     "output_type": "execute_result"
    }
   ],
   "source": [
    "IQR = Q3 - Q1\n",
    "IQR"
   ]
  },
  {
   "cell_type": "code",
   "execution_count": 52,
   "id": "6b2c2ae1",
   "metadata": {},
   "outputs": [
    {
     "data": {
      "text/plain": [
       "(-145.6525, 243.07150000000001)"
      ]
     },
     "execution_count": 52,
     "metadata": {},
     "output_type": "execute_result"
    }
   ],
   "source": [
    "lower_limit = Q1 - (1.5 * IQR)\n",
    "upper_limit = Q3 + (1.5 * IQR)\n",
    "lower_limit, upper_limit"
   ]
  },
  {
   "cell_type": "code",
   "execution_count": 53,
   "id": "6b7c0720",
   "metadata": {},
   "outputs": [
    {
     "data": {
      "text/plain": [
       "(49566,)"
      ]
     },
     "execution_count": 53,
     "metadata": {},
     "output_type": "execute_result"
    }
   ],
   "source": [
    "df.diffuse_flows.shape"
   ]
  },
  {
   "cell_type": "code",
   "execution_count": 54,
   "id": "254f92ba",
   "metadata": {},
   "outputs": [
    {
     "data": {
      "text/html": [
       "<div>\n",
       "<style scoped>\n",
       "    .dataframe tbody tr th:only-of-type {\n",
       "        vertical-align: middle;\n",
       "    }\n",
       "\n",
       "    .dataframe tbody tr th {\n",
       "        vertical-align: top;\n",
       "    }\n",
       "\n",
       "    .dataframe thead th {\n",
       "        text-align: right;\n",
       "    }\n",
       "</style>\n",
       "<table border=\"1\" class=\"dataframe\">\n",
       "  <thead>\n",
       "    <tr style=\"text-align: right;\">\n",
       "      <th></th>\n",
       "      <th>Temperature</th>\n",
       "      <th>Humidity</th>\n",
       "      <th>wind_speed</th>\n",
       "      <th>general_diffuse_flows</th>\n",
       "      <th>diffuse_flows</th>\n",
       "      <th>zone_1_pc</th>\n",
       "      <th>zone_2_pc</th>\n",
       "      <th>zone_3_pc</th>\n",
       "      <th>hour</th>\n",
       "      <th>dayofweek</th>\n",
       "      <th>quarter</th>\n",
       "      <th>month</th>\n",
       "      <th>year</th>\n",
       "      <th>dayofyear</th>\n",
       "      <th>dayofmonth</th>\n",
       "      <th>weekofyear</th>\n",
       "    </tr>\n",
       "    <tr>\n",
       "      <th>DateTime</th>\n",
       "      <th></th>\n",
       "      <th></th>\n",
       "      <th></th>\n",
       "      <th></th>\n",
       "      <th></th>\n",
       "      <th></th>\n",
       "      <th></th>\n",
       "      <th></th>\n",
       "      <th></th>\n",
       "      <th></th>\n",
       "      <th></th>\n",
       "      <th></th>\n",
       "      <th></th>\n",
       "      <th></th>\n",
       "      <th></th>\n",
       "      <th></th>\n",
       "    </tr>\n",
       "  </thead>\n",
       "  <tbody>\n",
       "    <tr>\n",
       "      <th>2017-01-01 16:20:00</th>\n",
       "      <td>15.54</td>\n",
       "      <td>58.30</td>\n",
       "      <td>0.076</td>\n",
       "      <td>241.3</td>\n",
       "      <td>246.0</td>\n",
       "      <td>28556.96203</td>\n",
       "      <td>17325.22796</td>\n",
       "      <td>16192.771080</td>\n",
       "      <td>16</td>\n",
       "      <td>6</td>\n",
       "      <td>1</td>\n",
       "      <td>1</td>\n",
       "      <td>2017</td>\n",
       "      <td>1</td>\n",
       "      <td>1</td>\n",
       "      <td>52</td>\n",
       "    </tr>\n",
       "    <tr>\n",
       "      <th>2017-01-01 16:30:00</th>\n",
       "      <td>15.53</td>\n",
       "      <td>58.80</td>\n",
       "      <td>0.077</td>\n",
       "      <td>219.0</td>\n",
       "      <td>248.1</td>\n",
       "      <td>28514.43038</td>\n",
       "      <td>17456.53495</td>\n",
       "      <td>16343.132530</td>\n",
       "      <td>16</td>\n",
       "      <td>6</td>\n",
       "      <td>1</td>\n",
       "      <td>1</td>\n",
       "      <td>2017</td>\n",
       "      <td>1</td>\n",
       "      <td>1</td>\n",
       "      <td>52</td>\n",
       "    </tr>\n",
       "    <tr>\n",
       "      <th>2017-01-02 16:20:00</th>\n",
       "      <td>15.23</td>\n",
       "      <td>61.12</td>\n",
       "      <td>0.075</td>\n",
       "      <td>238.2</td>\n",
       "      <td>253.4</td>\n",
       "      <td>29480.50633</td>\n",
       "      <td>20611.55015</td>\n",
       "      <td>16181.204820</td>\n",
       "      <td>16</td>\n",
       "      <td>0</td>\n",
       "      <td>1</td>\n",
       "      <td>1</td>\n",
       "      <td>2017</td>\n",
       "      <td>2</td>\n",
       "      <td>2</td>\n",
       "      <td>1</td>\n",
       "    </tr>\n",
       "    <tr>\n",
       "      <th>2017-01-02 16:30:00</th>\n",
       "      <td>15.24</td>\n",
       "      <td>61.63</td>\n",
       "      <td>0.075</td>\n",
       "      <td>216.8</td>\n",
       "      <td>248.1</td>\n",
       "      <td>30161.01266</td>\n",
       "      <td>20545.89666</td>\n",
       "      <td>16314.216870</td>\n",
       "      <td>16</td>\n",
       "      <td>0</td>\n",
       "      <td>1</td>\n",
       "      <td>1</td>\n",
       "      <td>2017</td>\n",
       "      <td>2</td>\n",
       "      <td>2</td>\n",
       "      <td>1</td>\n",
       "    </tr>\n",
       "    <tr>\n",
       "      <th>2017-01-03 16:10:00</th>\n",
       "      <td>15.34</td>\n",
       "      <td>66.83</td>\n",
       "      <td>0.071</td>\n",
       "      <td>259.9</td>\n",
       "      <td>256.6</td>\n",
       "      <td>31874.43038</td>\n",
       "      <td>21045.59271</td>\n",
       "      <td>16458.795180</td>\n",
       "      <td>16</td>\n",
       "      <td>1</td>\n",
       "      <td>1</td>\n",
       "      <td>1</td>\n",
       "      <td>2017</td>\n",
       "      <td>3</td>\n",
       "      <td>3</td>\n",
       "      <td>1</td>\n",
       "    </tr>\n",
       "    <tr>\n",
       "      <th>...</th>\n",
       "      <td>...</td>\n",
       "      <td>...</td>\n",
       "      <td>...</td>\n",
       "      <td>...</td>\n",
       "      <td>...</td>\n",
       "      <td>...</td>\n",
       "      <td>...</td>\n",
       "      <td>...</td>\n",
       "      <td>...</td>\n",
       "      <td>...</td>\n",
       "      <td>...</td>\n",
       "      <td>...</td>\n",
       "      <td>...</td>\n",
       "      <td>...</td>\n",
       "      <td>...</td>\n",
       "      <td>...</td>\n",
       "    </tr>\n",
       "    <tr>\n",
       "      <th>2017-12-14 12:40:00</th>\n",
       "      <td>15.09</td>\n",
       "      <td>63.14</td>\n",
       "      <td>0.076</td>\n",
       "      <td>539.1</td>\n",
       "      <td>283.7</td>\n",
       "      <td>31513.30798</td>\n",
       "      <td>25966.24732</td>\n",
       "      <td>10763.985590</td>\n",
       "      <td>12</td>\n",
       "      <td>3</td>\n",
       "      <td>4</td>\n",
       "      <td>12</td>\n",
       "      <td>2017</td>\n",
       "      <td>348</td>\n",
       "      <td>14</td>\n",
       "      <td>50</td>\n",
       "    </tr>\n",
       "    <tr>\n",
       "      <th>2017-12-15 15:00:00</th>\n",
       "      <td>16.69</td>\n",
       "      <td>59.35</td>\n",
       "      <td>0.081</td>\n",
       "      <td>478.0</td>\n",
       "      <td>288.4</td>\n",
       "      <td>30996.19772</td>\n",
       "      <td>25885.24087</td>\n",
       "      <td>9283.073229</td>\n",
       "      <td>15</td>\n",
       "      <td>4</td>\n",
       "      <td>4</td>\n",
       "      <td>12</td>\n",
       "      <td>2017</td>\n",
       "      <td>349</td>\n",
       "      <td>15</td>\n",
       "      <td>50</td>\n",
       "    </tr>\n",
       "    <tr>\n",
       "      <th>2017-12-20 16:40:00</th>\n",
       "      <td>17.09</td>\n",
       "      <td>69.66</td>\n",
       "      <td>0.073</td>\n",
       "      <td>235.5</td>\n",
       "      <td>252.8</td>\n",
       "      <td>32097.33840</td>\n",
       "      <td>26327.09420</td>\n",
       "      <td>9911.164466</td>\n",
       "      <td>16</td>\n",
       "      <td>2</td>\n",
       "      <td>4</td>\n",
       "      <td>12</td>\n",
       "      <td>2017</td>\n",
       "      <td>354</td>\n",
       "      <td>20</td>\n",
       "      <td>51</td>\n",
       "    </tr>\n",
       "    <tr>\n",
       "      <th>2017-12-26 14:30:00</th>\n",
       "      <td>15.98</td>\n",
       "      <td>53.29</td>\n",
       "      <td>0.084</td>\n",
       "      <td>345.7</td>\n",
       "      <td>253.5</td>\n",
       "      <td>33569.58175</td>\n",
       "      <td>27107.70175</td>\n",
       "      <td>10896.518610</td>\n",
       "      <td>14</td>\n",
       "      <td>1</td>\n",
       "      <td>4</td>\n",
       "      <td>12</td>\n",
       "      <td>2017</td>\n",
       "      <td>360</td>\n",
       "      <td>26</td>\n",
       "      <td>52</td>\n",
       "    </tr>\n",
       "    <tr>\n",
       "      <th>2017-12-27 13:30:00</th>\n",
       "      <td>17.08</td>\n",
       "      <td>55.34</td>\n",
       "      <td>0.087</td>\n",
       "      <td>508.1</td>\n",
       "      <td>265.4</td>\n",
       "      <td>33399.23954</td>\n",
       "      <td>27372.81375</td>\n",
       "      <td>10740.936370</td>\n",
       "      <td>13</td>\n",
       "      <td>2</td>\n",
       "      <td>4</td>\n",
       "      <td>12</td>\n",
       "      <td>2017</td>\n",
       "      <td>361</td>\n",
       "      <td>27</td>\n",
       "      <td>52</td>\n",
       "    </tr>\n",
       "  </tbody>\n",
       "</table>\n",
       "<p>4619 rows × 16 columns</p>\n",
       "</div>"
      ],
      "text/plain": [
       "                     Temperature  Humidity  wind_speed  general_diffuse_flows  \\\n",
       "DateTime                                                                        \n",
       "2017-01-01 16:20:00        15.54     58.30       0.076                  241.3   \n",
       "2017-01-01 16:30:00        15.53     58.80       0.077                  219.0   \n",
       "2017-01-02 16:20:00        15.23     61.12       0.075                  238.2   \n",
       "2017-01-02 16:30:00        15.24     61.63       0.075                  216.8   \n",
       "2017-01-03 16:10:00        15.34     66.83       0.071                  259.9   \n",
       "...                          ...       ...         ...                    ...   \n",
       "2017-12-14 12:40:00        15.09     63.14       0.076                  539.1   \n",
       "2017-12-15 15:00:00        16.69     59.35       0.081                  478.0   \n",
       "2017-12-20 16:40:00        17.09     69.66       0.073                  235.5   \n",
       "2017-12-26 14:30:00        15.98     53.29       0.084                  345.7   \n",
       "2017-12-27 13:30:00        17.08     55.34       0.087                  508.1   \n",
       "\n",
       "                     diffuse_flows    zone_1_pc    zone_2_pc     zone_3_pc  \\\n",
       "DateTime                                                                     \n",
       "2017-01-01 16:20:00          246.0  28556.96203  17325.22796  16192.771080   \n",
       "2017-01-01 16:30:00          248.1  28514.43038  17456.53495  16343.132530   \n",
       "2017-01-02 16:20:00          253.4  29480.50633  20611.55015  16181.204820   \n",
       "2017-01-02 16:30:00          248.1  30161.01266  20545.89666  16314.216870   \n",
       "2017-01-03 16:10:00          256.6  31874.43038  21045.59271  16458.795180   \n",
       "...                            ...          ...          ...           ...   \n",
       "2017-12-14 12:40:00          283.7  31513.30798  25966.24732  10763.985590   \n",
       "2017-12-15 15:00:00          288.4  30996.19772  25885.24087   9283.073229   \n",
       "2017-12-20 16:40:00          252.8  32097.33840  26327.09420   9911.164466   \n",
       "2017-12-26 14:30:00          253.5  33569.58175  27107.70175  10896.518610   \n",
       "2017-12-27 13:30:00          265.4  33399.23954  27372.81375  10740.936370   \n",
       "\n",
       "                     hour  dayofweek  quarter  month  year  dayofyear  \\\n",
       "DateTime                                                                \n",
       "2017-01-01 16:20:00    16          6        1      1  2017          1   \n",
       "2017-01-01 16:30:00    16          6        1      1  2017          1   \n",
       "2017-01-02 16:20:00    16          0        1      1  2017          2   \n",
       "2017-01-02 16:30:00    16          0        1      1  2017          2   \n",
       "2017-01-03 16:10:00    16          1        1      1  2017          3   \n",
       "...                   ...        ...      ...    ...   ...        ...   \n",
       "2017-12-14 12:40:00    12          3        4     12  2017        348   \n",
       "2017-12-15 15:00:00    15          4        4     12  2017        349   \n",
       "2017-12-20 16:40:00    16          2        4     12  2017        354   \n",
       "2017-12-26 14:30:00    14          1        4     12  2017        360   \n",
       "2017-12-27 13:30:00    13          2        4     12  2017        361   \n",
       "\n",
       "                     dayofmonth  weekofyear  \n",
       "DateTime                                     \n",
       "2017-01-01 16:20:00           1          52  \n",
       "2017-01-01 16:30:00           1          52  \n",
       "2017-01-02 16:20:00           2           1  \n",
       "2017-01-02 16:30:00           2           1  \n",
       "2017-01-03 16:10:00           3           1  \n",
       "...                         ...         ...  \n",
       "2017-12-14 12:40:00          14          50  \n",
       "2017-12-15 15:00:00          15          50  \n",
       "2017-12-20 16:40:00          20          51  \n",
       "2017-12-26 14:30:00          26          52  \n",
       "2017-12-27 13:30:00          27          52  \n",
       "\n",
       "[4619 rows x 16 columns]"
      ]
     },
     "execution_count": 54,
     "metadata": {},
     "output_type": "execute_result"
    }
   ],
   "source": [
    "df[(df['diffuse_flows'] <= lower_limit) | (df['diffuse_flows'] >= upper_limit)]"
   ]
  },
  {
   "cell_type": "code",
   "execution_count": 55,
   "id": "d2102c42",
   "metadata": {},
   "outputs": [],
   "source": [
    "df_df_no_out = df[(df['diffuse_flows']<=lower_limit)|(df['diffuse_flows']>=upper_limit)].index\n",
    "df.drop(df_df_no_out , inplace=True)"
   ]
  },
  {
   "cell_type": "code",
   "execution_count": 56,
   "id": "b8e3197b",
   "metadata": {},
   "outputs": [
    {
     "data": {
      "text/plain": [
       "(4619,)"
      ]
     },
     "execution_count": 56,
     "metadata": {},
     "output_type": "execute_result"
    }
   ],
   "source": [
    "df_df_no_out.shape"
   ]
  },
  {
   "cell_type": "code",
   "execution_count": 57,
   "id": "5f662170",
   "metadata": {},
   "outputs": [
    {
     "data": {
      "text/plain": [
       "(44947,)"
      ]
     },
     "execution_count": 57,
     "metadata": {},
     "output_type": "execute_result"
    }
   ],
   "source": [
    "df.diffuse_flows.shape"
   ]
  },
  {
   "cell_type": "code",
   "execution_count": 58,
   "id": "204db3d8",
   "metadata": {},
   "outputs": [
    {
     "data": {
      "text/plain": [
       "<AxesSubplot:xlabel='diffuse_flows'>"
      ]
     },
     "execution_count": 58,
     "metadata": {},
     "output_type": "execute_result"
    },
    {
     "data": {
      "image/png": "[encoded data removed]",
      "text/plain": [
       "<Figure size 432x288 with 1 Axes>"
      ]
     },
     "metadata": {
      "needs_background": "light"
     },
     "output_type": "display_data"
    }
   ],
   "source": [
    "sns.boxplot(x=df['diffuse_flows'])"
   ]
  },
  {
   "cell_type": "code",
   "execution_count": 59,
   "id": "f39ab3f6",
   "metadata": {},
   "outputs": [
    {
     "data": {
      "text/html": [
       "<div>\n",
       "<style scoped>\n",
       "    .dataframe tbody tr th:only-of-type {\n",
       "        vertical-align: middle;\n",
       "    }\n",
       "\n",
       "    .dataframe tbody tr th {\n",
       "        vertical-align: top;\n",
       "    }\n",
       "\n",
       "    .dataframe thead th {\n",
       "        text-align: right;\n",
       "    }\n",
       "</style>\n",
       "<table border=\"1\" class=\"dataframe\">\n",
       "  <thead>\n",
       "    <tr style=\"text-align: right;\">\n",
       "      <th></th>\n",
       "      <th>Temperature</th>\n",
       "      <th>Humidity</th>\n",
       "      <th>wind_speed</th>\n",
       "      <th>general_diffuse_flows</th>\n",
       "      <th>diffuse_flows</th>\n",
       "      <th>zone_1_pc</th>\n",
       "      <th>zone_2_pc</th>\n",
       "      <th>zone_3_pc</th>\n",
       "      <th>hour</th>\n",
       "      <th>dayofweek</th>\n",
       "      <th>quarter</th>\n",
       "      <th>month</th>\n",
       "      <th>year</th>\n",
       "      <th>dayofyear</th>\n",
       "      <th>dayofmonth</th>\n",
       "      <th>weekofyear</th>\n",
       "    </tr>\n",
       "  </thead>\n",
       "  <tbody>\n",
       "    <tr>\n",
       "      <th>count</th>\n",
       "      <td>44947.000000</td>\n",
       "      <td>44947.000000</td>\n",
       "      <td>44947.000000</td>\n",
       "      <td>44947.000000</td>\n",
       "      <td>44947.000000</td>\n",
       "      <td>44947.000000</td>\n",
       "      <td>44947.000000</td>\n",
       "      <td>44947.000000</td>\n",
       "      <td>44947.000000</td>\n",
       "      <td>44947.000000</td>\n",
       "      <td>44947.000000</td>\n",
       "      <td>44947.000000</td>\n",
       "      <td>44947.0</td>\n",
       "      <td>44947.000000</td>\n",
       "      <td>44947.000000</td>\n",
       "      <td>44947.000000</td>\n",
       "    </tr>\n",
       "    <tr>\n",
       "      <th>mean</th>\n",
       "      <td>18.140406</td>\n",
       "      <td>70.155848</td>\n",
       "      <td>1.911447</td>\n",
       "      <td>115.028420</td>\n",
       "      <td>39.812293</td>\n",
       "      <td>32010.986712</td>\n",
       "      <td>20898.600504</td>\n",
       "      <td>17595.815550</td>\n",
       "      <td>11.243442</td>\n",
       "      <td>3.012793</td>\n",
       "      <td>2.561995</td>\n",
       "      <td>6.681314</td>\n",
       "      <td>2017.0</td>\n",
       "      <td>187.740561</td>\n",
       "      <td>15.691147</td>\n",
       "      <td>27.268249</td>\n",
       "    </tr>\n",
       "    <tr>\n",
       "      <th>std</th>\n",
       "      <td>5.539557</td>\n",
       "      <td>14.576014</td>\n",
       "      <td>2.336856</td>\n",
       "      <td>202.084403</td>\n",
       "      <td>61.920831</td>\n",
       "      <td>7459.266131</td>\n",
       "      <td>5387.140608</td>\n",
       "      <td>6752.522573</td>\n",
       "      <td>7.362221</td>\n",
       "      <td>2.001999</td>\n",
       "      <td>1.145628</td>\n",
       "      <td>3.553881</td>\n",
       "      <td>0.0</td>\n",
       "      <td>108.750483</td>\n",
       "      <td>8.773969</td>\n",
       "      <td>15.526240</td>\n",
       "    </tr>\n",
       "    <tr>\n",
       "      <th>min</th>\n",
       "      <td>3.247000</td>\n",
       "      <td>23.970000</td>\n",
       "      <td>0.050000</td>\n",
       "      <td>0.004000</td>\n",
       "      <td>0.011000</td>\n",
       "      <td>13895.696200</td>\n",
       "      <td>8560.081466</td>\n",
       "      <td>5935.174070</td>\n",
       "      <td>0.000000</td>\n",
       "      <td>0.000000</td>\n",
       "      <td>1.000000</td>\n",
       "      <td>1.000000</td>\n",
       "      <td>2017.0</td>\n",
       "      <td>1.000000</td>\n",
       "      <td>1.000000</td>\n",
       "      <td>1.000000</td>\n",
       "    </tr>\n",
       "    <tr>\n",
       "      <th>25%</th>\n",
       "      <td>13.980000</td>\n",
       "      <td>60.390000</td>\n",
       "      <td>0.078000</td>\n",
       "      <td>0.059000</td>\n",
       "      <td>0.115000</td>\n",
       "      <td>25465.387540</td>\n",
       "      <td>16556.993410</td>\n",
       "      <td>12623.902060</td>\n",
       "      <td>5.000000</td>\n",
       "      <td>1.000000</td>\n",
       "      <td>1.000000</td>\n",
       "      <td>3.000000</td>\n",
       "      <td>2017.0</td>\n",
       "      <td>90.000000</td>\n",
       "      <td>8.000000</td>\n",
       "      <td>13.000000</td>\n",
       "    </tr>\n",
       "    <tr>\n",
       "      <th>50%</th>\n",
       "      <td>18.010000</td>\n",
       "      <td>71.800000</td>\n",
       "      <td>0.085000</td>\n",
       "      <td>0.099000</td>\n",
       "      <td>0.167000</td>\n",
       "      <td>31561.731410</td>\n",
       "      <td>20589.665650</td>\n",
       "      <td>16054.838710</td>\n",
       "      <td>10.000000</td>\n",
       "      <td>3.000000</td>\n",
       "      <td>3.000000</td>\n",
       "      <td>7.000000</td>\n",
       "      <td>2017.0</td>\n",
       "      <td>195.000000</td>\n",
       "      <td>16.000000</td>\n",
       "      <td>28.000000</td>\n",
       "    </tr>\n",
       "    <tr>\n",
       "      <th>75%</th>\n",
       "      <td>22.080000</td>\n",
       "      <td>82.800000</td>\n",
       "      <td>4.915000</td>\n",
       "      <td>144.650000</td>\n",
       "      <td>64.275000</td>\n",
       "      <td>37494.451405</td>\n",
       "      <td>24873.417720</td>\n",
       "      <td>21621.213485</td>\n",
       "      <td>18.000000</td>\n",
       "      <td>5.000000</td>\n",
       "      <td>4.000000</td>\n",
       "      <td>10.000000</td>\n",
       "      <td>2017.0</td>\n",
       "      <td>284.000000</td>\n",
       "      <td>23.000000</td>\n",
       "      <td>41.000000</td>\n",
       "    </tr>\n",
       "    <tr>\n",
       "      <th>max</th>\n",
       "      <td>35.580000</td>\n",
       "      <td>94.800000</td>\n",
       "      <td>6.483000</td>\n",
       "      <td>782.000000</td>\n",
       "      <td>242.900000</td>\n",
       "      <td>52204.395120</td>\n",
       "      <td>37408.860760</td>\n",
       "      <td>47598.326360</td>\n",
       "      <td>23.000000</td>\n",
       "      <td>6.000000</td>\n",
       "      <td>4.000000</td>\n",
       "      <td>12.000000</td>\n",
       "      <td>2017.0</td>\n",
       "      <td>364.000000</td>\n",
       "      <td>31.000000</td>\n",
       "      <td>52.000000</td>\n",
       "    </tr>\n",
       "  </tbody>\n",
       "</table>\n",
       "</div>"
      ],
      "text/plain": [
       "        Temperature      Humidity    wind_speed  general_diffuse_flows  \\\n",
       "count  44947.000000  44947.000000  44947.000000           44947.000000   \n",
       "mean      18.140406     70.155848      1.911447             115.028420   \n",
       "std        5.539557     14.576014      2.336856             202.084403   \n",
       "min        3.247000     23.970000      0.050000               0.004000   \n",
       "25%       13.980000     60.390000      0.078000               0.059000   \n",
       "50%       18.010000     71.800000      0.085000               0.099000   \n",
       "75%       22.080000     82.800000      4.915000             144.650000   \n",
       "max       35.580000     94.800000      6.483000             782.000000   \n",
       "\n",
       "       diffuse_flows     zone_1_pc     zone_2_pc     zone_3_pc          hour  \\\n",
       "count   44947.000000  44947.000000  44947.000000  44947.000000  44947.000000   \n",
       "mean       39.812293  32010.986712  20898.600504  17595.815550     11.243442   \n",
       "std        61.920831   7459.266131   5387.140608   6752.522573      7.362221   \n",
       "min         0.011000  13895.696200   8560.081466   5935.174070      0.000000   \n",
       "25%         0.115000  25465.387540  16556.993410  12623.902060      5.000000   \n",
       "50%         0.167000  31561.731410  20589.665650  16054.838710     10.000000   \n",
       "75%        64.275000  37494.451405  24873.417720  21621.213485     18.000000   \n",
       "max       242.900000  52204.395120  37408.860760  47598.326360     23.000000   \n",
       "\n",
       "          dayofweek       quarter         month     year     dayofyear  \\\n",
       "count  44947.000000  44947.000000  44947.000000  44947.0  44947.000000   \n",
       "mean       3.012793      2.561995      6.681314   2017.0    187.740561   \n",
       "std        2.001999      1.145628      3.553881      0.0    108.750483   \n",
       "min        0.000000      1.000000      1.000000   2017.0      1.000000   \n",
       "25%        1.000000      1.000000      3.000000   2017.0     90.000000   \n",
       "50%        3.000000      3.000000      7.000000   2017.0    195.000000   \n",
       "75%        5.000000      4.000000     10.000000   2017.0    284.000000   \n",
       "max        6.000000      4.000000     12.000000   2017.0    364.000000   \n",
       "\n",
       "         dayofmonth    weekofyear  \n",
       "count  44947.000000  44947.000000  \n",
       "mean      15.691147     27.268249  \n",
       "std        8.773969     15.526240  \n",
       "min        1.000000      1.000000  \n",
       "25%        8.000000     13.000000  \n",
       "50%       16.000000     28.000000  \n",
       "75%       23.000000     41.000000  \n",
       "max       31.000000     52.000000  "
      ]
     },
     "execution_count": 59,
     "metadata": {},
     "output_type": "execute_result"
    }
   ],
   "source": [
    "df.describe()"
   ]
  },
  {
   "cell_type": "code",
   "execution_count": 60,
   "id": "48934632",
   "metadata": {},
   "outputs": [
    {
     "data": {
      "text/plain": [
       "Index(['Temperature', 'Humidity', 'wind_speed', 'general_diffuse_flows',\n",
       "       'diffuse_flows', 'zone_1_pc', 'zone_2_pc', 'zone_3_pc', 'hour',\n",
       "       'dayofweek', 'quarter', 'month', 'year', 'dayofyear', 'dayofmonth',\n",
       "       'weekofyear'],\n",
       "      dtype='object')"
      ]
     },
     "execution_count": 60,
     "metadata": {},
     "output_type": "execute_result"
    }
   ],
   "source": [
    "df.columns"
   ]
  },
  {
   "cell_type": "code",
   "execution_count": 61,
   "id": "c6dfebf8",
   "metadata": {},
   "outputs": [],
   "source": [
    "#cols_to_plot = ['Temperature', 'Humidity', 'wind_speed', 'general_diffuse_flows', 'diffuse_flows', 'zone_1_pc', 'zone_2_pc', 'zone_3_pc']\n",
    "#sns.pairplot(df[cols_to_plot], diag_kws={'color':'red', 'bins':5}, plot_kws={'color':'green'})"
   ]
  },
  {
   "cell_type": "code",
   "execution_count": 62,
   "id": "73664d99",
   "metadata": {},
   "outputs": [
    {
     "data": {
      "text/plain": [
       "Index(['Temperature', 'Humidity', 'wind_speed', 'general_diffuse_flows',\n",
       "       'diffuse_flows', 'zone_1_pc', 'zone_2_pc', 'zone_3_pc', 'hour',\n",
       "       'dayofweek', 'quarter', 'month', 'year', 'dayofyear', 'dayofmonth',\n",
       "       'weekofyear'],\n",
       "      dtype='object')"
      ]
     },
     "execution_count": 62,
     "metadata": {},
     "output_type": "execute_result"
    }
   ],
   "source": [
    "df.columns"
   ]
  },
  {
   "cell_type": "code",
   "execution_count": 63,
   "id": "91ba611a",
   "metadata": {},
   "outputs": [],
   "source": [
    "df['Power'] = df['zone_1_pc'] + df['zone_2_pc'] + df['zone_3_pc']"
   ]
  },
  {
   "cell_type": "code",
   "execution_count": 64,
   "id": "432b3ec0",
   "metadata": {},
   "outputs": [
    {
     "data": {
      "text/html": [
       "<div>\n",
       "<style scoped>\n",
       "    .dataframe tbody tr th:only-of-type {\n",
       "        vertical-align: middle;\n",
       "    }\n",
       "\n",
       "    .dataframe tbody tr th {\n",
       "        vertical-align: top;\n",
       "    }\n",
       "\n",
       "    .dataframe thead th {\n",
       "        text-align: right;\n",
       "    }\n",
       "</style>\n",
       "<table border=\"1\" class=\"dataframe\">\n",
       "  <thead>\n",
       "    <tr style=\"text-align: right;\">\n",
       "      <th></th>\n",
       "      <th>Temperature</th>\n",
       "      <th>Humidity</th>\n",
       "      <th>wind_speed</th>\n",
       "      <th>general_diffuse_flows</th>\n",
       "      <th>diffuse_flows</th>\n",
       "      <th>zone_1_pc</th>\n",
       "      <th>zone_2_pc</th>\n",
       "      <th>zone_3_pc</th>\n",
       "      <th>hour</th>\n",
       "      <th>dayofweek</th>\n",
       "      <th>quarter</th>\n",
       "      <th>month</th>\n",
       "      <th>year</th>\n",
       "      <th>dayofyear</th>\n",
       "      <th>dayofmonth</th>\n",
       "      <th>weekofyear</th>\n",
       "      <th>Power</th>\n",
       "    </tr>\n",
       "    <tr>\n",
       "      <th>DateTime</th>\n",
       "      <th></th>\n",
       "      <th></th>\n",
       "      <th></th>\n",
       "      <th></th>\n",
       "      <th></th>\n",
       "      <th></th>\n",
       "      <th></th>\n",
       "      <th></th>\n",
       "      <th></th>\n",
       "      <th></th>\n",
       "      <th></th>\n",
       "      <th></th>\n",
       "      <th></th>\n",
       "      <th></th>\n",
       "      <th></th>\n",
       "      <th></th>\n",
       "      <th></th>\n",
       "    </tr>\n",
       "  </thead>\n",
       "  <tbody>\n",
       "    <tr>\n",
       "      <th>2017-01-01 00:00:00</th>\n",
       "      <td>6.559</td>\n",
       "      <td>73.8</td>\n",
       "      <td>0.083</td>\n",
       "      <td>0.051</td>\n",
       "      <td>0.119</td>\n",
       "      <td>34055.69620</td>\n",
       "      <td>16128.87538</td>\n",
       "      <td>20240.96386</td>\n",
       "      <td>0</td>\n",
       "      <td>6</td>\n",
       "      <td>1</td>\n",
       "      <td>1</td>\n",
       "      <td>2017</td>\n",
       "      <td>1</td>\n",
       "      <td>1</td>\n",
       "      <td>52</td>\n",
       "      <td>70425.53544</td>\n",
       "    </tr>\n",
       "    <tr>\n",
       "      <th>2017-01-01 00:10:00</th>\n",
       "      <td>6.414</td>\n",
       "      <td>74.5</td>\n",
       "      <td>0.083</td>\n",
       "      <td>0.070</td>\n",
       "      <td>0.085</td>\n",
       "      <td>29814.68354</td>\n",
       "      <td>19375.07599</td>\n",
       "      <td>20131.08434</td>\n",
       "      <td>0</td>\n",
       "      <td>6</td>\n",
       "      <td>1</td>\n",
       "      <td>1</td>\n",
       "      <td>2017</td>\n",
       "      <td>1</td>\n",
       "      <td>1</td>\n",
       "      <td>52</td>\n",
       "      <td>69320.84387</td>\n",
       "    </tr>\n",
       "    <tr>\n",
       "      <th>2017-01-01 00:20:00</th>\n",
       "      <td>6.313</td>\n",
       "      <td>74.5</td>\n",
       "      <td>0.080</td>\n",
       "      <td>0.062</td>\n",
       "      <td>0.100</td>\n",
       "      <td>29128.10127</td>\n",
       "      <td>19006.68693</td>\n",
       "      <td>19668.43373</td>\n",
       "      <td>0</td>\n",
       "      <td>6</td>\n",
       "      <td>1</td>\n",
       "      <td>1</td>\n",
       "      <td>2017</td>\n",
       "      <td>1</td>\n",
       "      <td>1</td>\n",
       "      <td>52</td>\n",
       "      <td>67803.22193</td>\n",
       "    </tr>\n",
       "    <tr>\n",
       "      <th>2017-01-01 00:30:00</th>\n",
       "      <td>6.121</td>\n",
       "      <td>75.0</td>\n",
       "      <td>0.083</td>\n",
       "      <td>0.091</td>\n",
       "      <td>0.096</td>\n",
       "      <td>28228.86076</td>\n",
       "      <td>18361.09422</td>\n",
       "      <td>18899.27711</td>\n",
       "      <td>0</td>\n",
       "      <td>6</td>\n",
       "      <td>1</td>\n",
       "      <td>1</td>\n",
       "      <td>2017</td>\n",
       "      <td>1</td>\n",
       "      <td>1</td>\n",
       "      <td>52</td>\n",
       "      <td>65489.23209</td>\n",
       "    </tr>\n",
       "    <tr>\n",
       "      <th>2017-01-01 00:40:00</th>\n",
       "      <td>5.921</td>\n",
       "      <td>75.7</td>\n",
       "      <td>0.081</td>\n",
       "      <td>0.048</td>\n",
       "      <td>0.085</td>\n",
       "      <td>27335.69620</td>\n",
       "      <td>17872.34043</td>\n",
       "      <td>18442.40964</td>\n",
       "      <td>0</td>\n",
       "      <td>6</td>\n",
       "      <td>1</td>\n",
       "      <td>1</td>\n",
       "      <td>2017</td>\n",
       "      <td>1</td>\n",
       "      <td>1</td>\n",
       "      <td>52</td>\n",
       "      <td>63650.44627</td>\n",
       "    </tr>\n",
       "  </tbody>\n",
       "</table>\n",
       "</div>"
      ],
      "text/plain": [
       "                     Temperature  Humidity  wind_speed  general_diffuse_flows  \\\n",
       "DateTime                                                                        \n",
       "2017-01-01 00:00:00        6.559      73.8       0.083                  0.051   \n",
       "2017-01-01 00:10:00        6.414      74.5       0.083                  0.070   \n",
       "2017-01-01 00:20:00        6.313      74.5       0.080                  0.062   \n",
       "2017-01-01 00:30:00        6.121      75.0       0.083                  0.091   \n",
       "2017-01-01 00:40:00        5.921      75.7       0.081                  0.048   \n",
       "\n",
       "                     diffuse_flows    zone_1_pc    zone_2_pc    zone_3_pc  \\\n",
       "DateTime                                                                    \n",
       "2017-01-01 00:00:00          0.119  34055.69620  16128.87538  20240.96386   \n",
       "2017-01-01 00:10:00          0.085  29814.68354  19375.07599  20131.08434   \n",
       "2017-01-01 00:20:00          0.100  29128.10127  19006.68693  19668.43373   \n",
       "2017-01-01 00:30:00          0.096  28228.86076  18361.09422  18899.27711   \n",
       "2017-01-01 00:40:00          0.085  27335.69620  17872.34043  18442.40964   \n",
       "\n",
       "                     hour  dayofweek  quarter  month  year  dayofyear  \\\n",
       "DateTime                                                                \n",
       "2017-01-01 00:00:00     0          6        1      1  2017          1   \n",
       "2017-01-01 00:10:00     0          6        1      1  2017          1   \n",
       "2017-01-01 00:20:00     0          6        1      1  2017          1   \n",
       "2017-01-01 00:30:00     0          6        1      1  2017          1   \n",
       "2017-01-01 00:40:00     0          6        1      1  2017          1   \n",
       "\n",
       "                     dayofmonth  weekofyear        Power  \n",
       "DateTime                                                  \n",
       "2017-01-01 00:00:00           1          52  70425.53544  \n",
       "2017-01-01 00:10:00           1          52  69320.84387  \n",
       "2017-01-01 00:20:00           1          52  67803.22193  \n",
       "2017-01-01 00:30:00           1          52  65489.23209  \n",
       "2017-01-01 00:40:00           1          52  63650.44627  "
      ]
     },
     "execution_count": 64,
     "metadata": {},
     "output_type": "execute_result"
    }
   ],
   "source": [
    "df.head()"
   ]
  },
  {
   "cell_type": "code",
   "execution_count": 65,
   "id": "deb5ee6f",
   "metadata": {},
   "outputs": [
    {
     "data": {
      "text/plain": [
       "<AxesSubplot:xlabel='hour', ylabel='zone_1_pc'>"
      ]
     },
     "execution_count": 65,
     "metadata": {},
     "output_type": "execute_result"
    },
    {
     "data": {
      "image/png": "[encoded data removed]",
      "text/plain": [
       "<Figure size 864x432 with 1 Axes>"
      ]
     },
     "metadata": {
      "needs_background": "light"
     },
     "output_type": "display_data"
    }
   ],
   "source": [
    "plt.figure(figsize=(12,6))\n",
    "sns.boxplot(x='hour',y='zone_1_pc',data=df)\n"
   ]
  },
  {
   "cell_type": "code",
   "execution_count": 66,
   "id": "cd845730",
   "metadata": {},
   "outputs": [
    {
     "data": {
      "text/plain": [
       "<AxesSubplot:xlabel='hour', ylabel='zone_2_pc'>"
      ]
     },
     "execution_count": 66,
     "metadata": {},
     "output_type": "execute_result"
    },
    {
     "data": {
      "image/png": "[encoded data removed]",
      "text/plain": [
       "<Figure size 864x432 with 1 Axes>"
      ]
     },
     "metadata": {
      "needs_background": "light"
     },
     "output_type": "display_data"
    }
   ],
   "source": [
    "plt.figure(figsize=(12,6))\n",
    "sns.boxplot(x='hour',y='zone_2_pc',data=df)"
   ]
  },
  {
   "cell_type": "code",
   "execution_count": 67,
   "id": "33b87317",
   "metadata": {},
   "outputs": [
    {
     "data": {
      "text/plain": [
       "<AxesSubplot:xlabel='hour', ylabel='zone_3_pc'>"
      ]
     },
     "execution_count": 67,
     "metadata": {},
     "output_type": "execute_result"
    },
    {
     "data": {
      "image/png": "[encoded data removed]",
      "text/plain": [
       "<Figure size 864x432 with 1 Axes>"
      ]
     },
     "metadata": {
      "needs_background": "light"
     },
     "output_type": "display_data"
    }
   ],
   "source": [
    "plt.figure(figsize=(12,6))\n",
    "sns.boxplot(x='hour',y='zone_3_pc',data=df)"
   ]
  },
  {
   "cell_type": "code",
   "execution_count": 68,
   "id": "e65c6bee",
   "metadata": {},
   "outputs": [
    {
     "data": {
      "text/plain": [
       "Index(['Temperature', 'Humidity', 'wind_speed', 'general_diffuse_flows',\n",
       "       'diffuse_flows', 'zone_1_pc', 'zone_2_pc', 'zone_3_pc', 'hour',\n",
       "       'dayofweek', 'quarter', 'month', 'year', 'dayofyear', 'dayofmonth',\n",
       "       'weekofyear', 'Power'],\n",
       "      dtype='object')"
      ]
     },
     "execution_count": 68,
     "metadata": {},
     "output_type": "execute_result"
    }
   ],
   "source": [
    "df.columns"
   ]
  },
  {
   "cell_type": "code",
   "execution_count": 69,
   "id": "9832a0cd",
   "metadata": {},
   "outputs": [
    {
     "data": {
      "text/html": [
       "<div>\n",
       "<style scoped>\n",
       "    .dataframe tbody tr th:only-of-type {\n",
       "        vertical-align: middle;\n",
       "    }\n",
       "\n",
       "    .dataframe tbody tr th {\n",
       "        vertical-align: top;\n",
       "    }\n",
       "\n",
       "    .dataframe thead th {\n",
       "        text-align: right;\n",
       "    }\n",
       "</style>\n",
       "<table border=\"1\" class=\"dataframe\">\n",
       "  <thead>\n",
       "    <tr style=\"text-align: right;\">\n",
       "      <th></th>\n",
       "      <th>Temperature</th>\n",
       "      <th>Humidity</th>\n",
       "      <th>wind_speed</th>\n",
       "      <th>general_diffuse_flows</th>\n",
       "      <th>diffuse_flows</th>\n",
       "      <th>zone_1_pc</th>\n",
       "      <th>zone_2_pc</th>\n",
       "      <th>zone_3_pc</th>\n",
       "      <th>hour</th>\n",
       "      <th>dayofweek</th>\n",
       "      <th>quarter</th>\n",
       "      <th>month</th>\n",
       "      <th>year</th>\n",
       "      <th>dayofyear</th>\n",
       "      <th>dayofmonth</th>\n",
       "      <th>weekofyear</th>\n",
       "      <th>Power</th>\n",
       "    </tr>\n",
       "    <tr>\n",
       "      <th>DateTime</th>\n",
       "      <th></th>\n",
       "      <th></th>\n",
       "      <th></th>\n",
       "      <th></th>\n",
       "      <th></th>\n",
       "      <th></th>\n",
       "      <th></th>\n",
       "      <th></th>\n",
       "      <th></th>\n",
       "      <th></th>\n",
       "      <th></th>\n",
       "      <th></th>\n",
       "      <th></th>\n",
       "      <th></th>\n",
       "      <th></th>\n",
       "      <th></th>\n",
       "      <th></th>\n",
       "    </tr>\n",
       "  </thead>\n",
       "  <tbody>\n",
       "    <tr>\n",
       "      <th>2017-01-01 00:00:00</th>\n",
       "      <td>6.559</td>\n",
       "      <td>73.8</td>\n",
       "      <td>0.083</td>\n",
       "      <td>0.051</td>\n",
       "      <td>0.119</td>\n",
       "      <td>34055.69620</td>\n",
       "      <td>16128.87538</td>\n",
       "      <td>20240.96386</td>\n",
       "      <td>0</td>\n",
       "      <td>6</td>\n",
       "      <td>1</td>\n",
       "      <td>1</td>\n",
       "      <td>2017</td>\n",
       "      <td>1</td>\n",
       "      <td>1</td>\n",
       "      <td>52</td>\n",
       "      <td>70425.53544</td>\n",
       "    </tr>\n",
       "    <tr>\n",
       "      <th>2017-01-01 00:10:00</th>\n",
       "      <td>6.414</td>\n",
       "      <td>74.5</td>\n",
       "      <td>0.083</td>\n",
       "      <td>0.070</td>\n",
       "      <td>0.085</td>\n",
       "      <td>29814.68354</td>\n",
       "      <td>19375.07599</td>\n",
       "      <td>20131.08434</td>\n",
       "      <td>0</td>\n",
       "      <td>6</td>\n",
       "      <td>1</td>\n",
       "      <td>1</td>\n",
       "      <td>2017</td>\n",
       "      <td>1</td>\n",
       "      <td>1</td>\n",
       "      <td>52</td>\n",
       "      <td>69320.84387</td>\n",
       "    </tr>\n",
       "    <tr>\n",
       "      <th>2017-01-01 00:20:00</th>\n",
       "      <td>6.313</td>\n",
       "      <td>74.5</td>\n",
       "      <td>0.080</td>\n",
       "      <td>0.062</td>\n",
       "      <td>0.100</td>\n",
       "      <td>29128.10127</td>\n",
       "      <td>19006.68693</td>\n",
       "      <td>19668.43373</td>\n",
       "      <td>0</td>\n",
       "      <td>6</td>\n",
       "      <td>1</td>\n",
       "      <td>1</td>\n",
       "      <td>2017</td>\n",
       "      <td>1</td>\n",
       "      <td>1</td>\n",
       "      <td>52</td>\n",
       "      <td>67803.22193</td>\n",
       "    </tr>\n",
       "    <tr>\n",
       "      <th>2017-01-01 00:30:00</th>\n",
       "      <td>6.121</td>\n",
       "      <td>75.0</td>\n",
       "      <td>0.083</td>\n",
       "      <td>0.091</td>\n",
       "      <td>0.096</td>\n",
       "      <td>28228.86076</td>\n",
       "      <td>18361.09422</td>\n",
       "      <td>18899.27711</td>\n",
       "      <td>0</td>\n",
       "      <td>6</td>\n",
       "      <td>1</td>\n",
       "      <td>1</td>\n",
       "      <td>2017</td>\n",
       "      <td>1</td>\n",
       "      <td>1</td>\n",
       "      <td>52</td>\n",
       "      <td>65489.23209</td>\n",
       "    </tr>\n",
       "    <tr>\n",
       "      <th>2017-01-01 00:40:00</th>\n",
       "      <td>5.921</td>\n",
       "      <td>75.7</td>\n",
       "      <td>0.081</td>\n",
       "      <td>0.048</td>\n",
       "      <td>0.085</td>\n",
       "      <td>27335.69620</td>\n",
       "      <td>17872.34043</td>\n",
       "      <td>18442.40964</td>\n",
       "      <td>0</td>\n",
       "      <td>6</td>\n",
       "      <td>1</td>\n",
       "      <td>1</td>\n",
       "      <td>2017</td>\n",
       "      <td>1</td>\n",
       "      <td>1</td>\n",
       "      <td>52</td>\n",
       "      <td>63650.44627</td>\n",
       "    </tr>\n",
       "  </tbody>\n",
       "</table>\n",
       "</div>"
      ],
      "text/plain": [
       "                     Temperature  Humidity  wind_speed  general_diffuse_flows  \\\n",
       "DateTime                                                                        \n",
       "2017-01-01 00:00:00        6.559      73.8       0.083                  0.051   \n",
       "2017-01-01 00:10:00        6.414      74.5       0.083                  0.070   \n",
       "2017-01-01 00:20:00        6.313      74.5       0.080                  0.062   \n",
       "2017-01-01 00:30:00        6.121      75.0       0.083                  0.091   \n",
       "2017-01-01 00:40:00        5.921      75.7       0.081                  0.048   \n",
       "\n",
       "                     diffuse_flows    zone_1_pc    zone_2_pc    zone_3_pc  \\\n",
       "DateTime                                                                    \n",
       "2017-01-01 00:00:00          0.119  34055.69620  16128.87538  20240.96386   \n",
       "2017-01-01 00:10:00          0.085  29814.68354  19375.07599  20131.08434   \n",
       "2017-01-01 00:20:00          0.100  29128.10127  19006.68693  19668.43373   \n",
       "2017-01-01 00:30:00          0.096  28228.86076  18361.09422  18899.27711   \n",
       "2017-01-01 00:40:00          0.085  27335.69620  17872.34043  18442.40964   \n",
       "\n",
       "                     hour  dayofweek  quarter  month  year  dayofyear  \\\n",
       "DateTime                                                                \n",
       "2017-01-01 00:00:00     0          6        1      1  2017          1   \n",
       "2017-01-01 00:10:00     0          6        1      1  2017          1   \n",
       "2017-01-01 00:20:00     0          6        1      1  2017          1   \n",
       "2017-01-01 00:30:00     0          6        1      1  2017          1   \n",
       "2017-01-01 00:40:00     0          6        1      1  2017          1   \n",
       "\n",
       "                     dayofmonth  weekofyear        Power  \n",
       "DateTime                                                  \n",
       "2017-01-01 00:00:00           1          52  70425.53544  \n",
       "2017-01-01 00:10:00           1          52  69320.84387  \n",
       "2017-01-01 00:20:00           1          52  67803.22193  \n",
       "2017-01-01 00:30:00           1          52  65489.23209  \n",
       "2017-01-01 00:40:00           1          52  63650.44627  "
      ]
     },
     "execution_count": 69,
     "metadata": {},
     "output_type": "execute_result"
    }
   ],
   "source": [
    "df.head()"
   ]
  },
  {
   "cell_type": "code",
   "execution_count": 70,
   "id": "12f94f3d",
   "metadata": {},
   "outputs": [
    {
     "data": {
      "text/html": [
       "<div>\n",
       "<style scoped>\n",
       "    .dataframe tbody tr th:only-of-type {\n",
       "        vertical-align: middle;\n",
       "    }\n",
       "\n",
       "    .dataframe tbody tr th {\n",
       "        vertical-align: top;\n",
       "    }\n",
       "\n",
       "    .dataframe thead th {\n",
       "        text-align: right;\n",
       "    }\n",
       "</style>\n",
       "<table border=\"1\" class=\"dataframe\">\n",
       "  <thead>\n",
       "    <tr style=\"text-align: right;\">\n",
       "      <th></th>\n",
       "      <th>Temperature</th>\n",
       "      <th>Humidity</th>\n",
       "      <th>wind_speed</th>\n",
       "      <th>general_diffuse_flows</th>\n",
       "      <th>diffuse_flows</th>\n",
       "      <th>zone_1_pc</th>\n",
       "      <th>zone_2_pc</th>\n",
       "      <th>zone_3_pc</th>\n",
       "      <th>hour</th>\n",
       "      <th>dayofweek</th>\n",
       "      <th>quarter</th>\n",
       "      <th>month</th>\n",
       "      <th>year</th>\n",
       "      <th>dayofyear</th>\n",
       "      <th>dayofmonth</th>\n",
       "      <th>weekofyear</th>\n",
       "    </tr>\n",
       "    <tr>\n",
       "      <th>DateTime</th>\n",
       "      <th></th>\n",
       "      <th></th>\n",
       "      <th></th>\n",
       "      <th></th>\n",
       "      <th></th>\n",
       "      <th></th>\n",
       "      <th></th>\n",
       "      <th></th>\n",
       "      <th></th>\n",
       "      <th></th>\n",
       "      <th></th>\n",
       "      <th></th>\n",
       "      <th></th>\n",
       "      <th></th>\n",
       "      <th></th>\n",
       "      <th></th>\n",
       "    </tr>\n",
       "  </thead>\n",
       "  <tbody>\n",
       "    <tr>\n",
       "      <th>2017-01-01 00:00:00</th>\n",
       "      <td>6.559</td>\n",
       "      <td>73.8</td>\n",
       "      <td>0.083</td>\n",
       "      <td>0.051</td>\n",
       "      <td>0.119</td>\n",
       "      <td>34055.69620</td>\n",
       "      <td>16128.87538</td>\n",
       "      <td>20240.96386</td>\n",
       "      <td>0</td>\n",
       "      <td>6</td>\n",
       "      <td>1</td>\n",
       "      <td>1</td>\n",
       "      <td>2017</td>\n",
       "      <td>1</td>\n",
       "      <td>1</td>\n",
       "      <td>52</td>\n",
       "    </tr>\n",
       "    <tr>\n",
       "      <th>2017-01-01 00:10:00</th>\n",
       "      <td>6.414</td>\n",
       "      <td>74.5</td>\n",
       "      <td>0.083</td>\n",
       "      <td>0.070</td>\n",
       "      <td>0.085</td>\n",
       "      <td>29814.68354</td>\n",
       "      <td>19375.07599</td>\n",
       "      <td>20131.08434</td>\n",
       "      <td>0</td>\n",
       "      <td>6</td>\n",
       "      <td>1</td>\n",
       "      <td>1</td>\n",
       "      <td>2017</td>\n",
       "      <td>1</td>\n",
       "      <td>1</td>\n",
       "      <td>52</td>\n",
       "    </tr>\n",
       "    <tr>\n",
       "      <th>2017-01-01 00:20:00</th>\n",
       "      <td>6.313</td>\n",
       "      <td>74.5</td>\n",
       "      <td>0.080</td>\n",
       "      <td>0.062</td>\n",
       "      <td>0.100</td>\n",
       "      <td>29128.10127</td>\n",
       "      <td>19006.68693</td>\n",
       "      <td>19668.43373</td>\n",
       "      <td>0</td>\n",
       "      <td>6</td>\n",
       "      <td>1</td>\n",
       "      <td>1</td>\n",
       "      <td>2017</td>\n",
       "      <td>1</td>\n",
       "      <td>1</td>\n",
       "      <td>52</td>\n",
       "    </tr>\n",
       "    <tr>\n",
       "      <th>2017-01-01 00:30:00</th>\n",
       "      <td>6.121</td>\n",
       "      <td>75.0</td>\n",
       "      <td>0.083</td>\n",
       "      <td>0.091</td>\n",
       "      <td>0.096</td>\n",
       "      <td>28228.86076</td>\n",
       "      <td>18361.09422</td>\n",
       "      <td>18899.27711</td>\n",
       "      <td>0</td>\n",
       "      <td>6</td>\n",
       "      <td>1</td>\n",
       "      <td>1</td>\n",
       "      <td>2017</td>\n",
       "      <td>1</td>\n",
       "      <td>1</td>\n",
       "      <td>52</td>\n",
       "    </tr>\n",
       "    <tr>\n",
       "      <th>2017-01-01 00:40:00</th>\n",
       "      <td>5.921</td>\n",
       "      <td>75.7</td>\n",
       "      <td>0.081</td>\n",
       "      <td>0.048</td>\n",
       "      <td>0.085</td>\n",
       "      <td>27335.69620</td>\n",
       "      <td>17872.34043</td>\n",
       "      <td>18442.40964</td>\n",
       "      <td>0</td>\n",
       "      <td>6</td>\n",
       "      <td>1</td>\n",
       "      <td>1</td>\n",
       "      <td>2017</td>\n",
       "      <td>1</td>\n",
       "      <td>1</td>\n",
       "      <td>52</td>\n",
       "    </tr>\n",
       "  </tbody>\n",
       "</table>\n",
       "</div>"
      ],
      "text/plain": [
       "                     Temperature  Humidity  wind_speed  general_diffuse_flows  \\\n",
       "DateTime                                                                        \n",
       "2017-01-01 00:00:00        6.559      73.8       0.083                  0.051   \n",
       "2017-01-01 00:10:00        6.414      74.5       0.083                  0.070   \n",
       "2017-01-01 00:20:00        6.313      74.5       0.080                  0.062   \n",
       "2017-01-01 00:30:00        6.121      75.0       0.083                  0.091   \n",
       "2017-01-01 00:40:00        5.921      75.7       0.081                  0.048   \n",
       "\n",
       "                     diffuse_flows    zone_1_pc    zone_2_pc    zone_3_pc  \\\n",
       "DateTime                                                                    \n",
       "2017-01-01 00:00:00          0.119  34055.69620  16128.87538  20240.96386   \n",
       "2017-01-01 00:10:00          0.085  29814.68354  19375.07599  20131.08434   \n",
       "2017-01-01 00:20:00          0.100  29128.10127  19006.68693  19668.43373   \n",
       "2017-01-01 00:30:00          0.096  28228.86076  18361.09422  18899.27711   \n",
       "2017-01-01 00:40:00          0.085  27335.69620  17872.34043  18442.40964   \n",
       "\n",
       "                     hour  dayofweek  quarter  month  year  dayofyear  \\\n",
       "DateTime                                                                \n",
       "2017-01-01 00:00:00     0          6        1      1  2017          1   \n",
       "2017-01-01 00:10:00     0          6        1      1  2017          1   \n",
       "2017-01-01 00:20:00     0          6        1      1  2017          1   \n",
       "2017-01-01 00:30:00     0          6        1      1  2017          1   \n",
       "2017-01-01 00:40:00     0          6        1      1  2017          1   \n",
       "\n",
       "                     dayofmonth  weekofyear  \n",
       "DateTime                                     \n",
       "2017-01-01 00:00:00           1          52  \n",
       "2017-01-01 00:10:00           1          52  \n",
       "2017-01-01 00:20:00           1          52  \n",
       "2017-01-01 00:30:00           1          52  \n",
       "2017-01-01 00:40:00           1          52  "
      ]
     },
     "execution_count": 70,
     "metadata": {},
     "output_type": "execute_result"
    }
   ],
   "source": [
    "df.drop(['Power'], axis=1, inplace = True)\n",
    "df.head()"
   ]
  },
  {
   "cell_type": "code",
   "execution_count": 71,
   "id": "c9a61293",
   "metadata": {},
   "outputs": [
    {
     "data": {
      "text/html": [
       "<div>\n",
       "<style scoped>\n",
       "    .dataframe tbody tr th:only-of-type {\n",
       "        vertical-align: middle;\n",
       "    }\n",
       "\n",
       "    .dataframe tbody tr th {\n",
       "        vertical-align: top;\n",
       "    }\n",
       "\n",
       "    .dataframe thead th {\n",
       "        text-align: right;\n",
       "    }\n",
       "</style>\n",
       "<table border=\"1\" class=\"dataframe\">\n",
       "  <thead>\n",
       "    <tr style=\"text-align: right;\">\n",
       "      <th></th>\n",
       "      <th>Temperature</th>\n",
       "      <th>Humidity</th>\n",
       "      <th>wind_speed</th>\n",
       "      <th>general_diffuse_flows</th>\n",
       "      <th>diffuse_flows</th>\n",
       "      <th>hour</th>\n",
       "      <th>dayofweek</th>\n",
       "      <th>quarter</th>\n",
       "      <th>month</th>\n",
       "      <th>variable</th>\n",
       "      <th>value</th>\n",
       "    </tr>\n",
       "  </thead>\n",
       "  <tbody>\n",
       "    <tr>\n",
       "      <th>0</th>\n",
       "      <td>6.559</td>\n",
       "      <td>73.8</td>\n",
       "      <td>0.083</td>\n",
       "      <td>0.051</td>\n",
       "      <td>0.119</td>\n",
       "      <td>0</td>\n",
       "      <td>6</td>\n",
       "      <td>1</td>\n",
       "      <td>1</td>\n",
       "      <td>zone_1_pc</td>\n",
       "      <td>34055.69620</td>\n",
       "    </tr>\n",
       "    <tr>\n",
       "      <th>1</th>\n",
       "      <td>6.414</td>\n",
       "      <td>74.5</td>\n",
       "      <td>0.083</td>\n",
       "      <td>0.070</td>\n",
       "      <td>0.085</td>\n",
       "      <td>0</td>\n",
       "      <td>6</td>\n",
       "      <td>1</td>\n",
       "      <td>1</td>\n",
       "      <td>zone_1_pc</td>\n",
       "      <td>29814.68354</td>\n",
       "    </tr>\n",
       "    <tr>\n",
       "      <th>2</th>\n",
       "      <td>6.313</td>\n",
       "      <td>74.5</td>\n",
       "      <td>0.080</td>\n",
       "      <td>0.062</td>\n",
       "      <td>0.100</td>\n",
       "      <td>0</td>\n",
       "      <td>6</td>\n",
       "      <td>1</td>\n",
       "      <td>1</td>\n",
       "      <td>zone_1_pc</td>\n",
       "      <td>29128.10127</td>\n",
       "    </tr>\n",
       "    <tr>\n",
       "      <th>3</th>\n",
       "      <td>6.121</td>\n",
       "      <td>75.0</td>\n",
       "      <td>0.083</td>\n",
       "      <td>0.091</td>\n",
       "      <td>0.096</td>\n",
       "      <td>0</td>\n",
       "      <td>6</td>\n",
       "      <td>1</td>\n",
       "      <td>1</td>\n",
       "      <td>zone_1_pc</td>\n",
       "      <td>28228.86076</td>\n",
       "    </tr>\n",
       "    <tr>\n",
       "      <th>4</th>\n",
       "      <td>5.921</td>\n",
       "      <td>75.7</td>\n",
       "      <td>0.081</td>\n",
       "      <td>0.048</td>\n",
       "      <td>0.085</td>\n",
       "      <td>0</td>\n",
       "      <td>6</td>\n",
       "      <td>1</td>\n",
       "      <td>1</td>\n",
       "      <td>zone_1_pc</td>\n",
       "      <td>27335.69620</td>\n",
       "    </tr>\n",
       "  </tbody>\n",
       "</table>\n",
       "</div>"
      ],
      "text/plain": [
       "   Temperature  Humidity  wind_speed  general_diffuse_flows  diffuse_flows  \\\n",
       "0        6.559      73.8       0.083                  0.051          0.119   \n",
       "1        6.414      74.5       0.083                  0.070          0.085   \n",
       "2        6.313      74.5       0.080                  0.062          0.100   \n",
       "3        6.121      75.0       0.083                  0.091          0.096   \n",
       "4        5.921      75.7       0.081                  0.048          0.085   \n",
       "\n",
       "   hour  dayofweek  quarter  month   variable        value  \n",
       "0     0          6        1      1  zone_1_pc  34055.69620  \n",
       "1     0          6        1      1  zone_1_pc  29814.68354  \n",
       "2     0          6        1      1  zone_1_pc  29128.10127  \n",
       "3     0          6        1      1  zone_1_pc  28228.86076  \n",
       "4     0          6        1      1  zone_1_pc  27335.69620  "
      ]
     },
     "execution_count": 71,
     "metadata": {},
     "output_type": "execute_result"
    }
   ],
   "source": [
    "df_melted = df.melt(id_vars=['Temperature', 'Humidity', 'wind_speed', 'general_diffuse_flows', 'diffuse_flows', 'hour', 'dayofweek', 'quarter', 'month'], value_vars=['zone_1_pc', 'zone_2_pc', 'zone_3_pc'])\n",
    "df_melted.head()"
   ]
  },
  {
   "cell_type": "code",
   "execution_count": 72,
   "id": "c4a04039",
   "metadata": {},
   "outputs": [
    {
     "data": {
      "text/html": [
       "<div>\n",
       "<style scoped>\n",
       "    .dataframe tbody tr th:only-of-type {\n",
       "        vertical-align: middle;\n",
       "    }\n",
       "\n",
       "    .dataframe tbody tr th {\n",
       "        vertical-align: top;\n",
       "    }\n",
       "\n",
       "    .dataframe thead th {\n",
       "        text-align: right;\n",
       "    }\n",
       "</style>\n",
       "<table border=\"1\" class=\"dataframe\">\n",
       "  <thead>\n",
       "    <tr style=\"text-align: right;\">\n",
       "      <th></th>\n",
       "      <th>Temperature</th>\n",
       "      <th>Humidity</th>\n",
       "      <th>wind_speed</th>\n",
       "      <th>general_diffuse_flows</th>\n",
       "      <th>diffuse_flows</th>\n",
       "      <th>hour</th>\n",
       "      <th>dayofweek</th>\n",
       "      <th>quarter</th>\n",
       "      <th>month</th>\n",
       "      <th>Zone</th>\n",
       "      <th>Power</th>\n",
       "    </tr>\n",
       "  </thead>\n",
       "  <tbody>\n",
       "    <tr>\n",
       "      <th>134836</th>\n",
       "      <td>7.010</td>\n",
       "      <td>72.4</td>\n",
       "      <td>0.080</td>\n",
       "      <td>0.040</td>\n",
       "      <td>0.096</td>\n",
       "      <td>23</td>\n",
       "      <td>5</td>\n",
       "      <td>4</td>\n",
       "      <td>12</td>\n",
       "      <td>zone_3_pc</td>\n",
       "      <td>14780.31212</td>\n",
       "    </tr>\n",
       "    <tr>\n",
       "      <th>134837</th>\n",
       "      <td>6.947</td>\n",
       "      <td>72.6</td>\n",
       "      <td>0.082</td>\n",
       "      <td>0.051</td>\n",
       "      <td>0.093</td>\n",
       "      <td>23</td>\n",
       "      <td>5</td>\n",
       "      <td>4</td>\n",
       "      <td>12</td>\n",
       "      <td>zone_3_pc</td>\n",
       "      <td>14428.81152</td>\n",
       "    </tr>\n",
       "    <tr>\n",
       "      <th>134838</th>\n",
       "      <td>6.900</td>\n",
       "      <td>72.8</td>\n",
       "      <td>0.086</td>\n",
       "      <td>0.084</td>\n",
       "      <td>0.074</td>\n",
       "      <td>23</td>\n",
       "      <td>5</td>\n",
       "      <td>4</td>\n",
       "      <td>12</td>\n",
       "      <td>zone_3_pc</td>\n",
       "      <td>13806.48259</td>\n",
       "    </tr>\n",
       "    <tr>\n",
       "      <th>134839</th>\n",
       "      <td>6.758</td>\n",
       "      <td>73.0</td>\n",
       "      <td>0.080</td>\n",
       "      <td>0.066</td>\n",
       "      <td>0.089</td>\n",
       "      <td>23</td>\n",
       "      <td>5</td>\n",
       "      <td>4</td>\n",
       "      <td>12</td>\n",
       "      <td>zone_3_pc</td>\n",
       "      <td>13512.60504</td>\n",
       "    </tr>\n",
       "    <tr>\n",
       "      <th>134840</th>\n",
       "      <td>6.580</td>\n",
       "      <td>74.1</td>\n",
       "      <td>0.081</td>\n",
       "      <td>0.062</td>\n",
       "      <td>0.111</td>\n",
       "      <td>23</td>\n",
       "      <td>5</td>\n",
       "      <td>4</td>\n",
       "      <td>12</td>\n",
       "      <td>zone_3_pc</td>\n",
       "      <td>13345.49820</td>\n",
       "    </tr>\n",
       "  </tbody>\n",
       "</table>\n",
       "</div>"
      ],
      "text/plain": [
       "        Temperature  Humidity  wind_speed  general_diffuse_flows  \\\n",
       "134836        7.010      72.4       0.080                  0.040   \n",
       "134837        6.947      72.6       0.082                  0.051   \n",
       "134838        6.900      72.8       0.086                  0.084   \n",
       "134839        6.758      73.0       0.080                  0.066   \n",
       "134840        6.580      74.1       0.081                  0.062   \n",
       "\n",
       "        diffuse_flows  hour  dayofweek  quarter  month       Zone        Power  \n",
       "134836          0.096    23          5        4     12  zone_3_pc  14780.31212  \n",
       "134837          0.093    23          5        4     12  zone_3_pc  14428.81152  \n",
       "134838          0.074    23          5        4     12  zone_3_pc  13806.48259  \n",
       "134839          0.089    23          5        4     12  zone_3_pc  13512.60504  \n",
       "134840          0.111    23          5        4     12  zone_3_pc  13345.49820  "
      ]
     },
     "execution_count": 72,
     "metadata": {},
     "output_type": "execute_result"
    }
   ],
   "source": [
    "df_melted.rename(columns={'variable': 'Zone', 'value': 'Power'}, inplace=True)\n",
    "df_melted.tail()"
   ]
  },
  {
   "cell_type": "code",
   "execution_count": null,
   "id": "6a9b5f63",
   "metadata": {},
   "outputs": [],
   "source": [
    "sns.boxplot(data=df_melted, x='Power', y='hour', hue=\"Zone\").set(title='Power Consumption by Hour')\n",
    "plt.xlabel('Hour')\n",
    "plt.ylabel('Power')"
   ]
  },
  {
   "cell_type": "code",
   "execution_count": null,
   "id": "af1c69ab",
   "metadata": {},
   "outputs": [],
   "source": [
    "sns.boxplot(data=df_melted, x='Power', y='dayofweek', hue=\"Zone\").set(title='Power Consumption by Day of week')\n",
    "plt.xlabel('Hour')\n",
    "plt.ylabel('Power')"
   ]
  },
  {
   "cell_type": "code",
   "execution_count": null,
   "id": "7f01aedf",
   "metadata": {},
   "outputs": [],
   "source": [
    "sns.boxplot(data=df_melted, x='Power', y='month', hue=\"Zone\").set(title='Power Consumption by month')\n",
    "plt.xlabel('Hour')\n",
    "plt.ylabel('Power')"
   ]
  },
  {
   "cell_type": "code",
   "execution_count": null,
   "id": "79ecbcdc",
   "metadata": {},
   "outputs": [],
   "source": [
    "sns.boxplot(data=df_melted, x='Power', y='quarter', hue=\"Zone\").set(title='Power Consumption by quarter')\n",
    "plt.xlabel('Hour')\n",
    "plt.ylabel('Power')"
   ]
  },
  {
   "cell_type": "code",
   "execution_count": null,
   "id": "3fd1da26",
   "metadata": {},
   "outputs": [],
   "source": [
    "sns.boxplot(data=df_melted, x='Temperature', y='hour').set(title='Temperature by hour')\n",
    "plt.xlabel('Hour')\n",
    "plt.ylabel('Temperature')"
   ]
  },
  {
   "cell_type": "code",
   "execution_count": null,
   "id": "fb11f89f",
   "metadata": {},
   "outputs": [],
   "source": [
    "sns.boxplot(data=df_melted, x='Humidity', y='hour').set(title='Humidity by hour')\n",
    "plt.xlabel('Hour')\n",
    "plt.ylabel('Humidity')"
   ]
  },
  {
   "cell_type": "code",
   "execution_count": null,
   "id": "62388292",
   "metadata": {},
   "outputs": [],
   "source": [
    "sns.boxplot(data=df_melted, x='wind_speed', y='hour').set(title='Humidity by hour')\n",
    "plt.xlabel('Hour')\n",
    "plt.ylabel('Wind Speed')"
   ]
  },
  {
   "cell_type": "code",
   "execution_count": null,
   "id": "7cc278d9",
   "metadata": {},
   "outputs": [],
   "source": [
    "sns.boxplot(data=df_melted, x='general_diffuse_flows', y='hour').set(title='Humidity by hour')\n",
    "plt.xlabel('Hour')\n",
    "plt.ylabel('General Diffuse Flows')"
   ]
  },
  {
   "cell_type": "code",
   "execution_count": null,
   "id": "fc3ff44e",
   "metadata": {},
   "outputs": [],
   "source": [
    "sns.boxplot(data=df_melted, x='diffuse_flows', y='hour').set(title='Humidity by hour')\n",
    "plt.xlabel('Hour')\n",
    "plt.ylabel('Diffuse Flows')"
   ]
  },
  {
   "cell_type": "code",
   "execution_count": null,
   "id": "f52a59a1",
   "metadata": {},
   "outputs": [],
   "source": [
    "sns.histplot(df[\"Temperature\"], kde=True, bins = 10)"
   ]
  },
  {
   "cell_type": "code",
   "execution_count": null,
   "id": "5b67520a",
   "metadata": {},
   "outputs": [],
   "source": [
    "sns.histplot(df[\"Humidity\"], kde=True, bins = 10)"
   ]
  },
  {
   "cell_type": "code",
   "execution_count": null,
   "id": "e034b581",
   "metadata": {},
   "outputs": [],
   "source": [
    "sns.histplot(df[\"wind_speed\"], kde=True, bins = 10)"
   ]
  },
  {
   "cell_type": "code",
   "execution_count": null,
   "id": "2f2d4d3c",
   "metadata": {},
   "outputs": [],
   "source": [
    "sns.histplot(df[\"general_diffuse_flows\"], kde=True, bins = 10)"
   ]
  },
  {
   "cell_type": "code",
   "execution_count": null,
   "id": "fd7f492d",
   "metadata": {},
   "outputs": [],
   "source": [
    "sns.histplot(df[\"diffuse_flows\"], kde=True, bins = 10)"
   ]
  },
  {
   "cell_type": "code",
   "execution_count": null,
   "id": "1b171a8d",
   "metadata": {},
   "outputs": [],
   "source": [
    "df.columns"
   ]
  },
  {
   "cell_type": "code",
   "execution_count": null,
   "id": "a472cc15",
   "metadata": {},
   "outputs": [],
   "source": [
    "from sklearn.preprocessing import StandardScaler\n",
    "from sklearn.svm import SVC\n",
    "from sklearn.datasets import make_classification\n",
    "from sklearn.model_selection import train_test_split\n",
    "from sklearn.pipeline import Pipeline\n",
    "from sklearn.metrics import plot_confusion_matrix\n",
    "from sklearn.metrics import accuracy_score\n",
    "from sklearn import datasets, linear_model\n",
    "from sklearn.metrics import mean_squared_error, r2_score\n",
    "from sklearn.model_selection import KFold\n",
    "from sklearn.metrics import mean_absolute_percentage_error\n",
    "import warnings\n",
    "import time\n",
    "warnings.filterwarnings('ignore')\n",
    "x_columns = [\"month\",\"dayofweek\",\"hour\",\"Temperature\", \"Humidity\", \"wind_speed\", \"general_diffuse_flows\", \"diffuse_flows\"]\n",
    "y_column_zone_1 = \"zone_1_pc\"\n",
    "y_column_zone_2 = \"zone_2_pc\"\n",
    "y_column_zone_3 = \"zone_3_pc\"\n",
    "y_columns = [y_column_zone_1, y_column_zone_2, y_column_zone_3]\n",
    "KFOLD_NSPLITS = 3\n",
    "pd.set_option('display.max_rows', 500)"
   ]
  },
  {
   "cell_type": "code",
   "execution_count": null,
   "id": "609dd309",
   "metadata": {},
   "outputs": [],
   "source": [
    "def normalized(Xtrain, Xtest=None):\n",
    "  scaler = StandardScaler()\n",
    "  scaler.fit(Xtrain)\n",
    "  Xtrain = scaler.transform(Xtrain)\n",
    "  if Xtest:\n",
    "    Xtest = scaler.transform(Xtest)\n",
    "    return (Xtrain, Xtest)\n",
    "  return Xtrain"
   ]
  },
  {
   "cell_type": "code",
   "execution_count": null,
   "id": "9a36b24c",
   "metadata": {},
   "outputs": [],
   "source": [
    "normalized(df[[\"Temperature\", \"Humidity\", \"wind_speed\", \"general_diffuse_flows\", \"diffuse_flows\"]])"
   ]
  },
  {
   "cell_type": "code",
   "execution_count": null,
   "id": "ad968e0f",
   "metadata": {},
   "outputs": [],
   "source": [
    "def multiple_reg(df, x_columns, y_column):\n",
    "  start_time = time.perf_counter()\n",
    "  X = df[x_columns].to_numpy()\n",
    "  Y = df[y_column].to_numpy()\n",
    "\n",
    "  kf = KFold(n_splits=KFOLD_NSPLITS)\n",
    "\n",
    "  performance_test=[]\n",
    "  rscore = []\n",
    "  \n",
    "  for train_index, test_index in kf.split(X):\n",
    "    X_train, X_test = X[train_index], X[test_index]\n",
    "    Y_train, Y_test = Y[train_index], Y[test_index]\n",
    "    \n",
    "    scaler = StandardScaler()\n",
    "    scaler.fit(X_train)\n",
    "    X_train = scaler.transform(X_train)\n",
    "    X_test = scaler.transform(X_test)\n",
    "\n",
    "    regr = linear_model.LinearRegression()\n",
    "    regr.fit(X_train, Y_train)\n",
    "    Y_pred = regr.predict(X_test)\n",
    "\n",
    "    r2 = r2_score(Y_test, Y_pred)  \n",
    "    mape = mean_absolute_percentage_error(y_true = Y_test, y_pred = Y_pred)\n",
    "\n",
    "    rscore.append(r2)\n",
    "    performance_test.append(mape)  \n",
    "    duration = (time.perf_counter() - start_time)/60\n",
    "  return (np.mean(rscore), np.mean(performance_test), np.std(performance_test), duration)"
   ]
  },
  {
   "cell_type": "code",
   "execution_count": null,
   "id": "744d81ac",
   "metadata": {},
   "outputs": [],
   "source": [
    "multiple_reg_results = pd.DataFrame()\n",
    "idx = 0\n",
    "for y_column in y_columns:\n",
    "    idx = idx + 1\n",
    "    r2, mape, confidence_interval, duration = multiple_reg(df, x_columns, y_column)\n",
    "    multiple_reg_results.loc[idx,'zona'] = y_column\n",
    "    multiple_reg_results.loc[idx,'r2'] = r2\n",
    "    multiple_reg_results.loc[idx,'mape'] = mape\n",
    "    multiple_reg_results.loc[idx,'confidence_interval'] = confidence_interval\n",
    "    multiple_reg_results.loc[idx,'duration (m)'] = duration\n",
    "    print(f\"y_column: {y_column}, r2: {r2}, mape: {mape}, confidence_interval: {confidence_interval}, duration: {duration}\")\n",
    "multiple_reg_results"
   ]
  },
  {
   "cell_type": "code",
   "execution_count": null,
   "id": "b5597ad0",
   "metadata": {},
   "outputs": [],
   "source": [
    "from sklearn.ensemble import RandomForestRegressor\n",
    "from sklearn.model_selection import train_test_split\n",
    "\n",
    "def random_forest(df, x_columns, y_column, n_estimators = 10, max_features=2):\n",
    "  start_time = time.perf_counter()\n",
    "  df = df.sample(frac=1)\n",
    "  X = df[x_columns].to_numpy()\n",
    "  Y = df[y_column].to_numpy()\n",
    "\n",
    "  kf = KFold(n_splits=KFOLD_NSPLITS)\n",
    "\n",
    "  performance_test=[]\n",
    "  rscore = []\n",
    "  \n",
    "  for train_index, test_index in kf.split(X):\n",
    "    X_train, X_test = X[train_index], X[test_index]\n",
    "    Y_train, Y_test = Y[train_index], Y[test_index]\n",
    "    \n",
    "    scaler = StandardScaler()\n",
    "    scaler.fit(X_train)\n",
    "    X_train = scaler.transform(X_train)\n",
    "    X_test = scaler.transform(X_test)\n",
    "\n",
    "    clf = RandomForestRegressor(n_estimators=n_estimators, max_features=max_features)\n",
    "    clf.fit(X_train, Y_train)\n",
    "    y_pred = clf.predict(X_test)\n",
    "\n",
    "    r2 = r2_score(Y_test, y_pred)  \n",
    "    mape = mean_absolute_percentage_error(y_true = Y_test, y_pred = y_pred)\n",
    "\n",
    "    rscore.append(r2)\n",
    "    performance_test.append(mape)  \n",
    "  duration = (time.perf_counter() - start_time)/60\n",
    "  return (np.mean(rscore), np.mean(performance_test), np.std(performance_test), duration)\n",
    "  "
   ]
  },
  {
   "cell_type": "code",
   "execution_count": null,
   "id": "929d0c62",
   "metadata": {},
   "outputs": [],
   "source": [
    "df.columns.values\n",
    "result_rf = pd.DataFrame()\n",
    "idx = 0\n",
    "for y_column in y_columns:\n",
    "    for n_estimators in [5,10,15,20]:\n",
    "        for max_features in [2,3,4,5]:\n",
    "            idx = idx + 1\n",
    "            r2, mape, confidence_interval, duration = random_forest(df, x_columns, y_column, n_estimators, max_features)\n",
    "            result_rf.loc[idx,'zona'] = y_column\n",
    "            result_rf.loc[idx,'max_features'] = max_features\n",
    "            result_rf.loc[idx,'n_estimators'] = n_estimators\n",
    "            result_rf.loc[idx,'r2'] = r2\n",
    "            result_rf.loc[idx,'mape'] = mape\n",
    "            result_rf.loc[idx,'confidence_interval'] = confidence_interval\n",
    "            result_rf.loc[idx,'duration (m)'] = duration\n",
    "            print(f\"y_column: {y_column}, n_estimators: {n_estimators}, max_features: {max_features}, r2: {r2}, mape: {mape}, confidence_interval: {confidence_interval}, duration: {duration}\")\n",
    "result_rf"
   ]
  },
  {
   "cell_type": "code",
   "execution_count": null,
   "id": "92fa0587",
   "metadata": {},
   "outputs": [],
   "source": [
    "df.head()\n",
    "df.corr()[[\"zone_1_pc\", \"zone_2_pc\", \"zone_3_pc\"]]"
   ]
  },
  {
   "cell_type": "code",
   "execution_count": null,
   "id": "2cd5d535",
   "metadata": {},
   "outputs": [],
   "source": [
    "from sklearn.feature_selection import SequentialFeatureSelector\n",
    "from sklearn.linear_model import LinearRegression\n",
    "from sklearn.model_selection import train_test_split\n",
    "from sklearn.metrics import r2_score\n",
    "from sklearn.model_selection import KFold\n",
    "def lin_reg_with_selected_attributes(df, x_columns, y_column):\n",
    "    start_time = time.perf_counter()\n",
    "    performance_test=[]\n",
    "    rscore = []\n",
    "    \n",
    "    df = df.sample(frac=1)\n",
    "    X = df[x_columns].to_numpy()\n",
    "    Y = df[y_column].to_numpy()\n",
    "    kf = KFold(n_splits=KFOLD_NSPLITS)\n",
    "    \n",
    "    for train_index, test_index in kf.split(X):\n",
    "        X_train, X_test = X[train_index], X[test_index]\n",
    "        Y_train, Y_test = Y[train_index], Y[test_index]\n",
    "    \n",
    "        scaler = StandardScaler()\n",
    "        X_train = scaler.fit_transform(X=X_train)\n",
    "        X_test = scaler.transform(X=X_test)\n",
    "    \n",
    "        sfs = SequentialFeatureSelector(LinearRegression(), n_features_to_select=4, direction='forward', scoring='r2')\n",
    "        sfs.fit(X_train, Y_train)\n",
    "        X_train = sfs.transform(X_train)\n",
    "        X_test = sfs.transform(X_test)\n",
    "    \n",
    "        clf = LinearRegression()\n",
    "        clf.fit(X_train, Y_train)\n",
    "        y_pred = clf.predict(X_test)\n",
    "    \n",
    "        r2 = r2_score(Y_test, y_pred)  \n",
    "        mape = mean_absolute_percentage_error(y_true = Y_test, y_pred = y_pred)\n",
    "    \n",
    "        rscore.append(r2)\n",
    "        performance_test.append(mape)  \n",
    "    duration = (time.perf_counter() - start_time)/60\n",
    "    return (np.mean(rscore), np.mean(performance_test), np.std(performance_test), duration)"
   ]
  },
  {
   "cell_type": "code",
   "execution_count": null,
   "id": "709ede1a",
   "metadata": {},
   "outputs": [],
   "source": [
    "mul_lin_reg_sa_results = pd.DataFrame()\n",
    "idx = 0\n",
    "for y_column in y_columns:\n",
    "    idx = idx + 1\n",
    "    r2, mape, confidence_interval, duration = lin_reg_with_selected_attributes(df, x_columns, y_column)\n",
    "    mul_lin_reg_sa_results.loc[idx,'zona'] = y_column\n",
    "    mul_lin_reg_sa_results.loc[idx,'r2_new'] = r2\n",
    "    mul_lin_reg_sa_results.loc[idx,'mape'] = mape\n",
    "    mul_lin_reg_sa_results.loc[idx,'confidence_interval'] = confidence_interval\n",
    "    mul_lin_reg_sa_results.loc[idx,'duration (m)'] = duration\n",
    "    print(f\"y_column: {y_column}, r2: {r2}, mape: {mape}, confidence_interval: {confidence_interval}, duration: {duration}\")\n",
    "mul_lin_reg_sa_results[\"r2\"] = multiple_reg_results[\"r2\"]\n",
    "mul_lin_reg_sa_results[\"r2_diff\"] = mul_lin_reg_sa_results[\"r2_new\"] - mul_lin_reg_sa_results[\"r2\"]\n",
    "mul_lin_reg_sa_results"
   ]
  },
  {
   "cell_type": "code",
   "execution_count": null,
   "id": "5c85480d",
   "metadata": {},
   "outputs": [],
   "source": [
    "from sklearn.feature_selection import SequentialFeatureSelector\n",
    "from sklearn.ensemble import RandomForestRegressor\n",
    "from sklearn.model_selection import train_test_split\n",
    "from sklearn.metrics import r2_score\n",
    "from sklearn.model_selection import KFold\n",
    "\n",
    "def random_forest_with_selected_attributes(df, x_columns, y_column, n_estimators = 10, max_features=2):\n",
    "    start_time = time.perf_counter()\n",
    "    df = df.sample(frac=1)\n",
    "    X = df[x_columns].to_numpy()\n",
    "    Y = df[y_column].to_numpy()\n",
    "\n",
    "    kf = KFold(n_splits=KFOLD_NSPLITS)\n",
    "\n",
    "    performance_test=[]\n",
    "    rscore = []\n",
    "\n",
    "    for train_index, test_index in kf.split(X):\n",
    "        X_train, X_test = X[train_index], X[test_index]\n",
    "        Y_train, Y_test = Y[train_index], Y[test_index]\n",
    "\n",
    "        scaler = StandardScaler()\n",
    "        scaler.fit(X_train)\n",
    "        X_train = scaler.transform(X_train)\n",
    "        X_test = scaler.transform(X_test)\n",
    "\n",
    "        sfs = SequentialFeatureSelector(RandomForestRegressor(n_estimators=n_estimators, max_features=max_features), n_features_to_select=4, direction='forward', scoring='r2')\n",
    "        sfs.fit(X_train, Y_train)\n",
    "        X_train = sfs.transform(X_train)\n",
    "        X_test = sfs.transform(X_test)\n",
    "\n",
    "        clf = RandomForestRegressor(n_estimators=n_estimators, max_features=max_features)\n",
    "        clf.fit(X_train, Y_train)\n",
    "        y_pred = clf.predict(X_test)\n",
    "\n",
    "        r2 = r2_score(Y_test, y_pred)  \n",
    "        mape = mean_absolute_percentage_error(y_true = Y_test, y_pred = y_pred)\n",
    "\n",
    "        rscore.append(r2)\n",
    "        performance_test.append(mape)  \n",
    "    duration = (time.perf_counter() - start_time)/60\n",
    "    return (np.mean(rscore), np.mean(performance_test), np.std(performance_test), duration)\n"
   ]
  },
  {
   "cell_type": "code",
   "execution_count": null,
   "id": "7b544726",
   "metadata": {},
   "outputs": [],
   "source": [
    "df.columns.values\n",
    "result_rf_sa = pd.DataFrame()\n",
    "idx = 0\n",
    "for y_column in y_columns:\n",
    "    for n_estimators in [15,20]:\n",
    "        for max_features in [4,5]:\n",
    "            idx = idx + 1\n",
    "            r2, mape, confidence_interval, duration = random_forest_with_selected_attributes(df, x_columns, y_column, n_estimators, max_features)\n",
    "            result_rf_sa.loc[idx,'zona'] = y_column\n",
    "            result_rf_sa.loc[idx,'max_features'] = max_features\n",
    "            result_rf_sa.loc[idx,'n_estimators'] = n_estimators\n",
    "            result_rf_sa.loc[idx,'r2_new'] = r2\n",
    "            result_rf_sa.loc[idx,'mape'] = mape\n",
    "            result_rf_sa.loc[idx,'confidence_interval'] = confidence_interval\n",
    "            result_rf_sa.loc[idx,'duration (m)'] = duration\n",
    "            print(f\"y_column: {y_column}, n_estimators: {n_estimators}, max_features: {max_features}, r2: {r2}, mape: {mape}, confidence_interval: {confidence_interval}, duration: {duration}\")"
   ]
  },
  {
   "cell_type": "code",
   "execution_count": null,
   "id": "104f55c1",
   "metadata": {},
   "outputs": [],
   "source": [
    "result_rf_sa[\"r2\"] = result_rf[\"r2\"]\n",
    "result_rf_sa[\"r2_diff\"] = result_rf_sa[\"r2_new\"] - result_rf_sa[\"r2\"]\n",
    "result_rf_sa"
   ]
  },
  {
   "cell_type": "code",
   "execution_count": null,
   "id": "9f65dc54",
   "metadata": {},
   "outputs": [],
   "source": []
  }
 ],
 "metadata": {
  "kernelspec": {
   "display_name": "Python 3 (ipykernel)",
   "language": "python",
   "name": "python3"
  },
  "language_info": {
   "codemirror_mode": {
    "name": "ipython",
    "version": 3
   },
   "file_extension": ".py",
   "mimetype": "text/x-python",
   "name": "python",
   "nbconvert_exporter": "python",
   "pygments_lexer": "ipython3",
   "version": "3.9.12"
  }
 },
 "nbformat": 4,
 "nbformat_minor": 5
}
