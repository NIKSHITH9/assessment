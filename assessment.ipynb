{
 "cells": [
  {
   "cell_type": "code",
   "execution_count": 1,
   "id": "5914592f",
   "metadata": {},
   "outputs": [],
   "source": [
    "import pandas as pd\n",
    "import numpy as np\n",
    "import matplotlib.pyplot as plt\n",
    "import seaborn as sns"
   ]
  },
  {
   "cell_type": "code",
   "execution_count": 2,
   "id": "f0979b81",
   "metadata": {},
   "outputs": [],
   "source": [
    "df = pd.read_csv(r'C:\\Users\\User\\Documents\\Assessment\\Tetuan City power consumption.csv')"
   ]
  },
  {
   "cell_type": "code",
   "execution_count": 3,
   "id": "a71b751f",
   "metadata": {},
   "outputs": [
    {
     "data": {
      "text/html": [
       "<div>\n",
       "<style scoped>\n",
       "    .dataframe tbody tr th:only-of-type {\n",
       "        vertical-align: middle;\n",
       "    }\n",
       "\n",
       "    .dataframe tbody tr th {\n",
       "        vertical-align: top;\n",
       "    }\n",
       "\n",
       "    .dataframe thead th {\n",
       "        text-align: right;\n",
       "    }\n",
       "</style>\n",
       "<table border=\"1\" class=\"dataframe\">\n",
       "  <thead>\n",
       "    <tr style=\"text-align: right;\">\n",
       "      <th></th>\n",
       "      <th>DateTime</th>\n",
       "      <th>Temperature</th>\n",
       "      <th>Humidity</th>\n",
       "      <th>Wind Speed</th>\n",
       "      <th>general diffuse flows</th>\n",
       "      <th>diffuse flows</th>\n",
       "      <th>Zone 1 Power Consumption</th>\n",
       "      <th>Zone 2  Power Consumption</th>\n",
       "      <th>Zone 3  Power Consumption</th>\n",
       "    </tr>\n",
       "  </thead>\n",
       "  <tbody>\n",
       "    <tr>\n",
       "      <th>0</th>\n",
       "      <td>1/1/2017 0:00</td>\n",
       "      <td>6.559</td>\n",
       "      <td>73.8</td>\n",
       "      <td>0.083</td>\n",
       "      <td>0.051</td>\n",
       "      <td>0.119</td>\n",
       "      <td>34055.69620</td>\n",
       "      <td>16128.87538</td>\n",
       "      <td>20240.96386</td>\n",
       "    </tr>\n",
       "    <tr>\n",
       "      <th>1</th>\n",
       "      <td>1/1/2017 0:10</td>\n",
       "      <td>6.414</td>\n",
       "      <td>74.5</td>\n",
       "      <td>0.083</td>\n",
       "      <td>0.070</td>\n",
       "      <td>0.085</td>\n",
       "      <td>29814.68354</td>\n",
       "      <td>19375.07599</td>\n",
       "      <td>20131.08434</td>\n",
       "    </tr>\n",
       "    <tr>\n",
       "      <th>2</th>\n",
       "      <td>1/1/2017 0:20</td>\n",
       "      <td>6.313</td>\n",
       "      <td>74.5</td>\n",
       "      <td>0.080</td>\n",
       "      <td>0.062</td>\n",
       "      <td>0.100</td>\n",
       "      <td>29128.10127</td>\n",
       "      <td>19006.68693</td>\n",
       "      <td>19668.43373</td>\n",
       "    </tr>\n",
       "    <tr>\n",
       "      <th>3</th>\n",
       "      <td>1/1/2017 0:30</td>\n",
       "      <td>6.121</td>\n",
       "      <td>75.0</td>\n",
       "      <td>0.083</td>\n",
       "      <td>0.091</td>\n",
       "      <td>0.096</td>\n",
       "      <td>28228.86076</td>\n",
       "      <td>18361.09422</td>\n",
       "      <td>18899.27711</td>\n",
       "    </tr>\n",
       "    <tr>\n",
       "      <th>4</th>\n",
       "      <td>1/1/2017 0:40</td>\n",
       "      <td>5.921</td>\n",
       "      <td>75.7</td>\n",
       "      <td>0.081</td>\n",
       "      <td>0.048</td>\n",
       "      <td>0.085</td>\n",
       "      <td>27335.69620</td>\n",
       "      <td>17872.34043</td>\n",
       "      <td>18442.40964</td>\n",
       "    </tr>\n",
       "  </tbody>\n",
       "</table>\n",
       "</div>"
      ],
      "text/plain": [
       "        DateTime  Temperature  Humidity  Wind Speed  general diffuse flows  \\\n",
       "0  1/1/2017 0:00        6.559      73.8       0.083                  0.051   \n",
       "1  1/1/2017 0:10        6.414      74.5       0.083                  0.070   \n",
       "2  1/1/2017 0:20        6.313      74.5       0.080                  0.062   \n",
       "3  1/1/2017 0:30        6.121      75.0       0.083                  0.091   \n",
       "4  1/1/2017 0:40        5.921      75.7       0.081                  0.048   \n",
       "\n",
       "   diffuse flows  Zone 1 Power Consumption  Zone 2  Power Consumption  \\\n",
       "0          0.119               34055.69620                16128.87538   \n",
       "1          0.085               29814.68354                19375.07599   \n",
       "2          0.100               29128.10127                19006.68693   \n",
       "3          0.096               28228.86076                18361.09422   \n",
       "4          0.085               27335.69620                17872.34043   \n",
       "\n",
       "   Zone 3  Power Consumption  \n",
       "0                20240.96386  \n",
       "1                20131.08434  \n",
       "2                19668.43373  \n",
       "3                18899.27711  \n",
       "4                18442.40964  "
      ]
     },
     "execution_count": 3,
     "metadata": {},
     "output_type": "execute_result"
    }
   ],
   "source": [
    "df.head()"
   ]
  },
  {
   "cell_type": "code",
   "execution_count": 4,
   "id": "520ad3a5",
   "metadata": {},
   "outputs": [
    {
     "data": {
      "text/html": [
       "<div>\n",
       "<style scoped>\n",
       "    .dataframe tbody tr th:only-of-type {\n",
       "        vertical-align: middle;\n",
       "    }\n",
       "\n",
       "    .dataframe tbody tr th {\n",
       "        vertical-align: top;\n",
       "    }\n",
       "\n",
       "    .dataframe thead th {\n",
       "        text-align: right;\n",
       "    }\n",
       "</style>\n",
       "<table border=\"1\" class=\"dataframe\">\n",
       "  <thead>\n",
       "    <tr style=\"text-align: right;\">\n",
       "      <th></th>\n",
       "      <th>DateTime</th>\n",
       "      <th>Temperature</th>\n",
       "      <th>Humidity</th>\n",
       "      <th>Wind Speed</th>\n",
       "      <th>general diffuse flows</th>\n",
       "      <th>diffuse flows</th>\n",
       "      <th>Zone 1 Power Consumption</th>\n",
       "      <th>Zone 2  Power Consumption</th>\n",
       "      <th>Zone 3  Power Consumption</th>\n",
       "    </tr>\n",
       "  </thead>\n",
       "  <tbody>\n",
       "    <tr>\n",
       "      <th>52411</th>\n",
       "      <td>12/30/2017 23:10</td>\n",
       "      <td>7.010</td>\n",
       "      <td>72.4</td>\n",
       "      <td>0.080</td>\n",
       "      <td>0.040</td>\n",
       "      <td>0.096</td>\n",
       "      <td>31160.45627</td>\n",
       "      <td>26857.31820</td>\n",
       "      <td>14780.31212</td>\n",
       "    </tr>\n",
       "    <tr>\n",
       "      <th>52412</th>\n",
       "      <td>12/30/2017 23:20</td>\n",
       "      <td>6.947</td>\n",
       "      <td>72.6</td>\n",
       "      <td>0.082</td>\n",
       "      <td>0.051</td>\n",
       "      <td>0.093</td>\n",
       "      <td>30430.41825</td>\n",
       "      <td>26124.57809</td>\n",
       "      <td>14428.81152</td>\n",
       "    </tr>\n",
       "    <tr>\n",
       "      <th>52413</th>\n",
       "      <td>12/30/2017 23:30</td>\n",
       "      <td>6.900</td>\n",
       "      <td>72.8</td>\n",
       "      <td>0.086</td>\n",
       "      <td>0.084</td>\n",
       "      <td>0.074</td>\n",
       "      <td>29590.87452</td>\n",
       "      <td>25277.69254</td>\n",
       "      <td>13806.48259</td>\n",
       "    </tr>\n",
       "    <tr>\n",
       "      <th>52414</th>\n",
       "      <td>12/30/2017 23:40</td>\n",
       "      <td>6.758</td>\n",
       "      <td>73.0</td>\n",
       "      <td>0.080</td>\n",
       "      <td>0.066</td>\n",
       "      <td>0.089</td>\n",
       "      <td>28958.17490</td>\n",
       "      <td>24692.23688</td>\n",
       "      <td>13512.60504</td>\n",
       "    </tr>\n",
       "    <tr>\n",
       "      <th>52415</th>\n",
       "      <td>12/30/2017 23:50</td>\n",
       "      <td>6.580</td>\n",
       "      <td>74.1</td>\n",
       "      <td>0.081</td>\n",
       "      <td>0.062</td>\n",
       "      <td>0.111</td>\n",
       "      <td>28349.80989</td>\n",
       "      <td>24055.23167</td>\n",
       "      <td>13345.49820</td>\n",
       "    </tr>\n",
       "  </tbody>\n",
       "</table>\n",
       "</div>"
      ],
      "text/plain": [
       "               DateTime  Temperature  Humidity  Wind Speed  \\\n",
       "52411  12/30/2017 23:10        7.010      72.4       0.080   \n",
       "52412  12/30/2017 23:20        6.947      72.6       0.082   \n",
       "52413  12/30/2017 23:30        6.900      72.8       0.086   \n",
       "52414  12/30/2017 23:40        6.758      73.0       0.080   \n",
       "52415  12/30/2017 23:50        6.580      74.1       0.081   \n",
       "\n",
       "       general diffuse flows  diffuse flows  Zone 1 Power Consumption  \\\n",
       "52411                  0.040          0.096               31160.45627   \n",
       "52412                  0.051          0.093               30430.41825   \n",
       "52413                  0.084          0.074               29590.87452   \n",
       "52414                  0.066          0.089               28958.17490   \n",
       "52415                  0.062          0.111               28349.80989   \n",
       "\n",
       "       Zone 2  Power Consumption  Zone 3  Power Consumption  \n",
       "52411                26857.31820                14780.31212  \n",
       "52412                26124.57809                14428.81152  \n",
       "52413                25277.69254                13806.48259  \n",
       "52414                24692.23688                13512.60504  \n",
       "52415                24055.23167                13345.49820  "
      ]
     },
     "execution_count": 4,
     "metadata": {},
     "output_type": "execute_result"
    }
   ],
   "source": [
    "df.tail()"
   ]
  },
  {
   "cell_type": "code",
   "execution_count": 5,
   "id": "59fc34ae",
   "metadata": {},
   "outputs": [
    {
     "name": "stdout",
     "output_type": "stream",
     "text": [
      "<class 'pandas.core.frame.DataFrame'>\n",
      "RangeIndex: 52416 entries, 0 to 52415\n",
      "Data columns (total 9 columns):\n",
      " #   Column                     Non-Null Count  Dtype  \n",
      "---  ------                     --------------  -----  \n",
      " 0   DateTime                   52416 non-null  object \n",
      " 1   Temperature                52416 non-null  float64\n",
      " 2   Humidity                   52416 non-null  float64\n",
      " 3   Wind Speed                 52416 non-null  float64\n",
      " 4   general diffuse flows      52416 non-null  float64\n",
      " 5   diffuse flows              52416 non-null  float64\n",
      " 6   Zone 1 Power Consumption   52416 non-null  float64\n",
      " 7   Zone 2  Power Consumption  52416 non-null  float64\n",
      " 8   Zone 3  Power Consumption  52416 non-null  float64\n",
      "dtypes: float64(8), object(1)\n",
      "memory usage: 3.6+ MB\n"
     ]
    }
   ],
   "source": [
    "df.info()"
   ]
  },
  {
   "cell_type": "code",
   "execution_count": 6,
   "id": "abff3f69",
   "metadata": {},
   "outputs": [
    {
     "data": {
      "text/html": [
       "<div>\n",
       "<style scoped>\n",
       "    .dataframe tbody tr th:only-of-type {\n",
       "        vertical-align: middle;\n",
       "    }\n",
       "\n",
       "    .dataframe tbody tr th {\n",
       "        vertical-align: top;\n",
       "    }\n",
       "\n",
       "    .dataframe thead th {\n",
       "        text-align: right;\n",
       "    }\n",
       "</style>\n",
       "<table border=\"1\" class=\"dataframe\">\n",
       "  <thead>\n",
       "    <tr style=\"text-align: right;\">\n",
       "      <th></th>\n",
       "      <th>Temperature</th>\n",
       "      <th>Humidity</th>\n",
       "      <th>Wind Speed</th>\n",
       "      <th>general diffuse flows</th>\n",
       "      <th>diffuse flows</th>\n",
       "      <th>Zone 1 Power Consumption</th>\n",
       "      <th>Zone 2  Power Consumption</th>\n",
       "      <th>Zone 3  Power Consumption</th>\n",
       "    </tr>\n",
       "  </thead>\n",
       "  <tbody>\n",
       "    <tr>\n",
       "      <th>count</th>\n",
       "      <td>52416.000000</td>\n",
       "      <td>52416.000000</td>\n",
       "      <td>52416.000000</td>\n",
       "      <td>52416.000000</td>\n",
       "      <td>52416.000000</td>\n",
       "      <td>52416.000000</td>\n",
       "      <td>52416.000000</td>\n",
       "      <td>52416.000000</td>\n",
       "    </tr>\n",
       "    <tr>\n",
       "      <th>mean</th>\n",
       "      <td>18.810024</td>\n",
       "      <td>68.259518</td>\n",
       "      <td>1.959489</td>\n",
       "      <td>182.696614</td>\n",
       "      <td>75.028022</td>\n",
       "      <td>32344.970564</td>\n",
       "      <td>21042.509082</td>\n",
       "      <td>17835.406218</td>\n",
       "    </tr>\n",
       "    <tr>\n",
       "      <th>std</th>\n",
       "      <td>5.815476</td>\n",
       "      <td>15.551177</td>\n",
       "      <td>2.348862</td>\n",
       "      <td>264.400960</td>\n",
       "      <td>124.210949</td>\n",
       "      <td>7130.562564</td>\n",
       "      <td>5201.465892</td>\n",
       "      <td>6622.165099</td>\n",
       "    </tr>\n",
       "    <tr>\n",
       "      <th>min</th>\n",
       "      <td>3.247000</td>\n",
       "      <td>11.340000</td>\n",
       "      <td>0.050000</td>\n",
       "      <td>0.004000</td>\n",
       "      <td>0.011000</td>\n",
       "      <td>13895.696200</td>\n",
       "      <td>8560.081466</td>\n",
       "      <td>5935.174070</td>\n",
       "    </tr>\n",
       "    <tr>\n",
       "      <th>25%</th>\n",
       "      <td>14.410000</td>\n",
       "      <td>58.310000</td>\n",
       "      <td>0.078000</td>\n",
       "      <td>0.062000</td>\n",
       "      <td>0.122000</td>\n",
       "      <td>26310.668692</td>\n",
       "      <td>16980.766032</td>\n",
       "      <td>13129.326630</td>\n",
       "    </tr>\n",
       "    <tr>\n",
       "      <th>50%</th>\n",
       "      <td>18.780000</td>\n",
       "      <td>69.860000</td>\n",
       "      <td>0.086000</td>\n",
       "      <td>5.035500</td>\n",
       "      <td>4.456000</td>\n",
       "      <td>32265.920340</td>\n",
       "      <td>20823.168405</td>\n",
       "      <td>16415.117470</td>\n",
       "    </tr>\n",
       "    <tr>\n",
       "      <th>75%</th>\n",
       "      <td>22.890000</td>\n",
       "      <td>81.400000</td>\n",
       "      <td>4.915000</td>\n",
       "      <td>319.600000</td>\n",
       "      <td>101.000000</td>\n",
       "      <td>37309.018185</td>\n",
       "      <td>24713.717520</td>\n",
       "      <td>21624.100420</td>\n",
       "    </tr>\n",
       "    <tr>\n",
       "      <th>max</th>\n",
       "      <td>40.010000</td>\n",
       "      <td>94.800000</td>\n",
       "      <td>6.483000</td>\n",
       "      <td>1163.000000</td>\n",
       "      <td>936.000000</td>\n",
       "      <td>52204.395120</td>\n",
       "      <td>37408.860760</td>\n",
       "      <td>47598.326360</td>\n",
       "    </tr>\n",
       "  </tbody>\n",
       "</table>\n",
       "</div>"
      ],
      "text/plain": [
       "        Temperature      Humidity    Wind Speed  general diffuse flows  \\\n",
       "count  52416.000000  52416.000000  52416.000000           52416.000000   \n",
       "mean      18.810024     68.259518      1.959489             182.696614   \n",
       "std        5.815476     15.551177      2.348862             264.400960   \n",
       "min        3.247000     11.340000      0.050000               0.004000   \n",
       "25%       14.410000     58.310000      0.078000               0.062000   \n",
       "50%       18.780000     69.860000      0.086000               5.035500   \n",
       "75%       22.890000     81.400000      4.915000             319.600000   \n",
       "max       40.010000     94.800000      6.483000            1163.000000   \n",
       "\n",
       "       diffuse flows  Zone 1 Power Consumption  Zone 2  Power Consumption  \\\n",
       "count   52416.000000              52416.000000               52416.000000   \n",
       "mean       75.028022              32344.970564               21042.509082   \n",
       "std       124.210949               7130.562564                5201.465892   \n",
       "min         0.011000              13895.696200                8560.081466   \n",
       "25%         0.122000              26310.668692               16980.766032   \n",
       "50%         4.456000              32265.920340               20823.168405   \n",
       "75%       101.000000              37309.018185               24713.717520   \n",
       "max       936.000000              52204.395120               37408.860760   \n",
       "\n",
       "       Zone 3  Power Consumption  \n",
       "count               52416.000000  \n",
       "mean                17835.406218  \n",
       "std                  6622.165099  \n",
       "min                  5935.174070  \n",
       "25%                 13129.326630  \n",
       "50%                 16415.117470  \n",
       "75%                 21624.100420  \n",
       "max                 47598.326360  "
      ]
     },
     "execution_count": 6,
     "metadata": {},
     "output_type": "execute_result"
    }
   ],
   "source": [
    "df.describe()"
   ]
  },
  {
   "cell_type": "code",
   "execution_count": 7,
   "id": "ac9a6987",
   "metadata": {},
   "outputs": [
    {
     "data": {
      "text/plain": [
       "Index(['DateTime', 'Temperature', 'Humidity', 'Wind Speed',\n",
       "       'general diffuse flows', 'diffuse flows', 'Zone 1 Power Consumption',\n",
       "       'Zone 2  Power Consumption', 'Zone 3  Power Consumption'],\n",
       "      dtype='object')"
      ]
     },
     "execution_count": 7,
     "metadata": {},
     "output_type": "execute_result"
    }
   ],
   "source": [
    "df.columns"
   ]
  },
  {
   "cell_type": "code",
   "execution_count": 8,
   "id": "976930a2",
   "metadata": {},
   "outputs": [
    {
     "data": {
      "text/html": [
       "<div>\n",
       "<style scoped>\n",
       "    .dataframe tbody tr th:only-of-type {\n",
       "        vertical-align: middle;\n",
       "    }\n",
       "\n",
       "    .dataframe tbody tr th {\n",
       "        vertical-align: top;\n",
       "    }\n",
       "\n",
       "    .dataframe thead th {\n",
       "        text-align: right;\n",
       "    }\n",
       "</style>\n",
       "<table border=\"1\" class=\"dataframe\">\n",
       "  <thead>\n",
       "    <tr style=\"text-align: right;\">\n",
       "      <th></th>\n",
       "      <th>DateTime</th>\n",
       "      <th>Temperature</th>\n",
       "      <th>Humidity</th>\n",
       "      <th>wind_speed</th>\n",
       "      <th>general_diffuse_flows</th>\n",
       "      <th>diffuse_flows</th>\n",
       "      <th>zone_1_pc</th>\n",
       "      <th>zone_2_pc</th>\n",
       "      <th>zone_3_pc</th>\n",
       "    </tr>\n",
       "  </thead>\n",
       "  <tbody>\n",
       "    <tr>\n",
       "      <th>0</th>\n",
       "      <td>1/1/2017 0:00</td>\n",
       "      <td>6.559</td>\n",
       "      <td>73.8</td>\n",
       "      <td>0.083</td>\n",
       "      <td>0.051</td>\n",
       "      <td>0.119</td>\n",
       "      <td>34055.69620</td>\n",
       "      <td>16128.87538</td>\n",
       "      <td>20240.96386</td>\n",
       "    </tr>\n",
       "    <tr>\n",
       "      <th>1</th>\n",
       "      <td>1/1/2017 0:10</td>\n",
       "      <td>6.414</td>\n",
       "      <td>74.5</td>\n",
       "      <td>0.083</td>\n",
       "      <td>0.070</td>\n",
       "      <td>0.085</td>\n",
       "      <td>29814.68354</td>\n",
       "      <td>19375.07599</td>\n",
       "      <td>20131.08434</td>\n",
       "    </tr>\n",
       "    <tr>\n",
       "      <th>2</th>\n",
       "      <td>1/1/2017 0:20</td>\n",
       "      <td>6.313</td>\n",
       "      <td>74.5</td>\n",
       "      <td>0.080</td>\n",
       "      <td>0.062</td>\n",
       "      <td>0.100</td>\n",
       "      <td>29128.10127</td>\n",
       "      <td>19006.68693</td>\n",
       "      <td>19668.43373</td>\n",
       "    </tr>\n",
       "    <tr>\n",
       "      <th>3</th>\n",
       "      <td>1/1/2017 0:30</td>\n",
       "      <td>6.121</td>\n",
       "      <td>75.0</td>\n",
       "      <td>0.083</td>\n",
       "      <td>0.091</td>\n",
       "      <td>0.096</td>\n",
       "      <td>28228.86076</td>\n",
       "      <td>18361.09422</td>\n",
       "      <td>18899.27711</td>\n",
       "    </tr>\n",
       "    <tr>\n",
       "      <th>4</th>\n",
       "      <td>1/1/2017 0:40</td>\n",
       "      <td>5.921</td>\n",
       "      <td>75.7</td>\n",
       "      <td>0.081</td>\n",
       "      <td>0.048</td>\n",
       "      <td>0.085</td>\n",
       "      <td>27335.69620</td>\n",
       "      <td>17872.34043</td>\n",
       "      <td>18442.40964</td>\n",
       "    </tr>\n",
       "  </tbody>\n",
       "</table>\n",
       "</div>"
      ],
      "text/plain": [
       "        DateTime  Temperature  Humidity  wind_speed  general_diffuse_flows  \\\n",
       "0  1/1/2017 0:00        6.559      73.8       0.083                  0.051   \n",
       "1  1/1/2017 0:10        6.414      74.5       0.083                  0.070   \n",
       "2  1/1/2017 0:20        6.313      74.5       0.080                  0.062   \n",
       "3  1/1/2017 0:30        6.121      75.0       0.083                  0.091   \n",
       "4  1/1/2017 0:40        5.921      75.7       0.081                  0.048   \n",
       "\n",
       "   diffuse_flows    zone_1_pc    zone_2_pc    zone_3_pc  \n",
       "0          0.119  34055.69620  16128.87538  20240.96386  \n",
       "1          0.085  29814.68354  19375.07599  20131.08434  \n",
       "2          0.100  29128.10127  19006.68693  19668.43373  \n",
       "3          0.096  28228.86076  18361.09422  18899.27711  \n",
       "4          0.085  27335.69620  17872.34043  18442.40964  "
      ]
     },
     "execution_count": 8,
     "metadata": {},
     "output_type": "execute_result"
    }
   ],
   "source": [
    "df.rename(\n",
    "    columns=({ 'Wind Speed': 'wind_speed', 'general diffuse flows': 'general_diffuse_flows', 'diffuse flows': 'diffuse_flows', 'Zone 1 Power Consumption' : 'zone_1_pc', 'Zone 2  Power Consumption' : 'zone_2_pc', 'Zone 3  Power Consumption' : 'zone_3_pc'}), \n",
    "    inplace=True,\n",
    ")\n",
    "df.head()"
   ]
  },
  {
   "cell_type": "code",
   "execution_count": 9,
   "id": "a0669444",
   "metadata": {},
   "outputs": [
    {
     "data": {
      "text/plain": [
       "<AxesSubplot:>"
      ]
     },
     "execution_count": 9,
     "metadata": {},
     "output_type": "execute_result"
    },
    {
     "data": {
      "image/png": "[encoded data removed]",
      "text/plain": [
       "<Figure size 1440x1080 with 2 Axes>"
      ]
     },
     "metadata": {
      "needs_background": "light"
     },
     "output_type": "display_data"
    }
   ],
   "source": [
    "corr = df.corr()\n",
    "plt.subplots(figsize=(20,15))\n",
    "sns.heatmap(corr, cmap='RdBu', vmin=-1, vmax=1, annot=True, \n",
    "            annot_kws={'fontsize':11, 'fontweight':'bold'})"
   ]
  },
  {
   "cell_type": "raw",
   "id": "c1b9e5f6",
   "metadata": {},
   "source": [
    "- Temperature is positively correlated to all the power consumption zones. Higher use of air conditioning could be a possible explanation for this.\n",
    "- Humidity on the other hand, shows a slight negative correlation with the power consumption of all three areas\n",
    "- Power Z1, Power Z2, and Power Z3 show a high correlation between each other. This suggests there is a slight difference in the consumption patterns of all the areas but they all tend to increase and decrease together."
   ]
  },
  {
   "cell_type": "code",
   "execution_count": 10,
   "id": "8b304d63",
   "metadata": {},
   "outputs": [],
   "source": [
    "df = df.set_index('DateTime')\n",
    "df.index = pd.to_datetime(df.index)"
   ]
  },
  {
   "cell_type": "markdown",
   "id": "d495a2bf",
   "metadata": {},
   "source": [
    "# We are creating these features to help us later on in ques 1 and 4 in part 1"
   ]
  },
  {
   "cell_type": "code",
   "execution_count": 11,
   "id": "ec1e8a72",
   "metadata": {},
   "outputs": [],
   "source": [
    "def create_features(df):\n",
    "    \"\"\"\n",
    "    Create time series features based on time series index.\n",
    "    \"\"\"\n",
    "    df = df.copy()\n",
    "    df['hour'] = df.index.hour\n",
    "    df['dayofweek'] = df.index.dayofweek\n",
    "    df['quarter'] = df.index.quarter\n",
    "    df['month'] = df.index.month\n",
    "    df['year'] = df.index.year\n",
    "    df['dayofyear'] = df.index.dayofyear\n",
    "    df['dayofmonth'] = df.index.day\n",
    "    df['weekofyear'] = df.index.isocalendar().week\n",
    "    return df\n",
    "df = create_features(df)"
   ]
  },
  {
   "cell_type": "code",
   "execution_count": 12,
   "id": "5ae11f9e",
   "metadata": {},
   "outputs": [
    {
     "data": {
      "text/plain": [
       "<AxesSubplot:xlabel='Temperature'>"
      ]
     },
     "execution_count": 12,
     "metadata": {},
     "output_type": "execute_result"
    },
    {
     "data": {
      "image/png": "[encoded data removed]",
      "text/plain": [
       "<Figure size 432x288 with 1 Axes>"
      ]
     },
     "metadata": {
      "needs_background": "light"
     },
     "output_type": "display_data"
    }
   ],
   "source": [
    "sns.boxplot(x=df['Temperature'])"
   ]
  },
  {
   "cell_type": "code",
   "execution_count": 13,
   "id": "fd9693d3",
   "metadata": {},
   "outputs": [
    {
     "data": {
      "image/png": "[encoded data removed]",
      "text/plain": [
       "<Figure size 432x288 with 1 Axes>"
      ]
     },
     "metadata": {
      "needs_background": "light"
     },
     "output_type": "display_data"
    }
   ],
   "source": [
    "df['Temperature'].plot.kde();"
   ]
  },
  {
   "cell_type": "code",
   "execution_count": 14,
   "id": "0bf2ec68",
   "metadata": {},
   "outputs": [
    {
     "data": {
      "text/plain": [
       "(14.41, 22.89)"
      ]
     },
     "execution_count": 14,
     "metadata": {},
     "output_type": "execute_result"
    }
   ],
   "source": [
    "Q1 = df.Temperature.quantile(0.25)\n",
    "Q3 = df.Temperature.quantile(0.75)\n",
    "Q1,Q3"
   ]
  },
  {
   "cell_type": "code",
   "execution_count": 15,
   "id": "cd244076",
   "metadata": {},
   "outputs": [
    {
     "data": {
      "text/plain": [
       "8.48"
      ]
     },
     "execution_count": 15,
     "metadata": {},
     "output_type": "execute_result"
    }
   ],
   "source": [
    "IQR = Q3 - Q1\n",
    "IQR"
   ]
  },
  {
   "cell_type": "code",
   "execution_count": 16,
   "id": "b7d45245",
   "metadata": {},
   "outputs": [
    {
     "data": {
      "text/plain": [
       "(1.6899999999999995, 35.61)"
      ]
     },
     "execution_count": 16,
     "metadata": {},
     "output_type": "execute_result"
    }
   ],
   "source": [
    "lower_limit = Q1 - (1.5 * IQR)\n",
    "upper_limit = Q3 + (1.5 * IQR)\n",
    "lower_limit, upper_limit"
   ]
  },
  {
   "cell_type": "code",
   "execution_count": 17,
   "id": "f991bede",
   "metadata": {},
   "outputs": [
    {
     "data": {
      "text/plain": [
       "(52416,)"
      ]
     },
     "execution_count": 17,
     "metadata": {},
     "output_type": "execute_result"
    }
   ],
   "source": [
    "df.Temperature.shape"
   ]
  },
  {
   "cell_type": "code",
   "execution_count": 18,
   "id": "37685892",
   "metadata": {
    "scrolled": true
   },
   "outputs": [
    {
     "data": {
      "text/html": [
       "<div>\n",
       "<style scoped>\n",
       "    .dataframe tbody tr th:only-of-type {\n",
       "        vertical-align: middle;\n",
       "    }\n",
       "\n",
       "    .dataframe tbody tr th {\n",
       "        vertical-align: top;\n",
       "    }\n",
       "\n",
       "    .dataframe thead th {\n",
       "        text-align: right;\n",
       "    }\n",
       "</style>\n",
       "<table border=\"1\" class=\"dataframe\">\n",
       "  <thead>\n",
       "    <tr style=\"text-align: right;\">\n",
       "      <th></th>\n",
       "      <th>Temperature</th>\n",
       "      <th>Humidity</th>\n",
       "      <th>wind_speed</th>\n",
       "      <th>general_diffuse_flows</th>\n",
       "      <th>diffuse_flows</th>\n",
       "      <th>zone_1_pc</th>\n",
       "      <th>zone_2_pc</th>\n",
       "      <th>zone_3_pc</th>\n",
       "      <th>hour</th>\n",
       "      <th>dayofweek</th>\n",
       "      <th>quarter</th>\n",
       "      <th>month</th>\n",
       "      <th>year</th>\n",
       "      <th>dayofyear</th>\n",
       "      <th>dayofmonth</th>\n",
       "      <th>weekofyear</th>\n",
       "    </tr>\n",
       "    <tr>\n",
       "      <th>DateTime</th>\n",
       "      <th></th>\n",
       "      <th></th>\n",
       "      <th></th>\n",
       "      <th></th>\n",
       "      <th></th>\n",
       "      <th></th>\n",
       "      <th></th>\n",
       "      <th></th>\n",
       "      <th></th>\n",
       "      <th></th>\n",
       "      <th></th>\n",
       "      <th></th>\n",
       "      <th></th>\n",
       "      <th></th>\n",
       "      <th></th>\n",
       "      <th></th>\n",
       "    </tr>\n",
       "  </thead>\n",
       "  <tbody>\n",
       "    <tr>\n",
       "      <th>2017-07-07 12:00:00</th>\n",
       "      <td>35.78</td>\n",
       "      <td>27.88</td>\n",
       "      <td>4.921</td>\n",
       "      <td>841.0</td>\n",
       "      <td>94.4</td>\n",
       "      <td>29444.25249</td>\n",
       "      <td>30592.40506</td>\n",
       "      <td>27378.07531</td>\n",
       "      <td>12</td>\n",
       "      <td>4</td>\n",
       "      <td>3</td>\n",
       "      <td>7</td>\n",
       "      <td>2017</td>\n",
       "      <td>188</td>\n",
       "      <td>7</td>\n",
       "      <td>27</td>\n",
       "    </tr>\n",
       "    <tr>\n",
       "      <th>2017-07-07 12:10:00</th>\n",
       "      <td>36.21</td>\n",
       "      <td>26.75</td>\n",
       "      <td>4.923</td>\n",
       "      <td>850.0</td>\n",
       "      <td>94.7</td>\n",
       "      <td>32799.46844</td>\n",
       "      <td>27759.49367</td>\n",
       "      <td>25359.66527</td>\n",
       "      <td>12</td>\n",
       "      <td>4</td>\n",
       "      <td>3</td>\n",
       "      <td>7</td>\n",
       "      <td>2017</td>\n",
       "      <td>188</td>\n",
       "      <td>7</td>\n",
       "      <td>27</td>\n",
       "    </tr>\n",
       "    <tr>\n",
       "      <th>2017-07-07 12:20:00</th>\n",
       "      <td>36.37</td>\n",
       "      <td>26.71</td>\n",
       "      <td>4.922</td>\n",
       "      <td>855.0</td>\n",
       "      <td>95.3</td>\n",
       "      <td>36716.01329</td>\n",
       "      <td>25659.49367</td>\n",
       "      <td>25444.01674</td>\n",
       "      <td>12</td>\n",
       "      <td>4</td>\n",
       "      <td>3</td>\n",
       "      <td>7</td>\n",
       "      <td>2017</td>\n",
       "      <td>188</td>\n",
       "      <td>7</td>\n",
       "      <td>27</td>\n",
       "    </tr>\n",
       "    <tr>\n",
       "      <th>2017-07-07 12:30:00</th>\n",
       "      <td>36.69</td>\n",
       "      <td>26.52</td>\n",
       "      <td>4.920</td>\n",
       "      <td>860.0</td>\n",
       "      <td>95.7</td>\n",
       "      <td>36422.59136</td>\n",
       "      <td>25131.64557</td>\n",
       "      <td>25028.28452</td>\n",
       "      <td>12</td>\n",
       "      <td>4</td>\n",
       "      <td>3</td>\n",
       "      <td>7</td>\n",
       "      <td>2017</td>\n",
       "      <td>188</td>\n",
       "      <td>7</td>\n",
       "      <td>27</td>\n",
       "    </tr>\n",
       "    <tr>\n",
       "      <th>2017-07-07 12:40:00</th>\n",
       "      <td>36.59</td>\n",
       "      <td>31.89</td>\n",
       "      <td>4.925</td>\n",
       "      <td>862.0</td>\n",
       "      <td>96.2</td>\n",
       "      <td>36129.16944</td>\n",
       "      <td>24850.63291</td>\n",
       "      <td>25094.56067</td>\n",
       "      <td>12</td>\n",
       "      <td>4</td>\n",
       "      <td>3</td>\n",
       "      <td>7</td>\n",
       "      <td>2017</td>\n",
       "      <td>188</td>\n",
       "      <td>7</td>\n",
       "      <td>27</td>\n",
       "    </tr>\n",
       "    <tr>\n",
       "      <th>...</th>\n",
       "      <td>...</td>\n",
       "      <td>...</td>\n",
       "      <td>...</td>\n",
       "      <td>...</td>\n",
       "      <td>...</td>\n",
       "      <td>...</td>\n",
       "      <td>...</td>\n",
       "      <td>...</td>\n",
       "      <td>...</td>\n",
       "      <td>...</td>\n",
       "      <td>...</td>\n",
       "      <td>...</td>\n",
       "      <td>...</td>\n",
       "      <td>...</td>\n",
       "      <td>...</td>\n",
       "      <td>...</td>\n",
       "    </tr>\n",
       "    <tr>\n",
       "      <th>2017-08-11 14:40:00</th>\n",
       "      <td>35.94</td>\n",
       "      <td>20.34</td>\n",
       "      <td>4.903</td>\n",
       "      <td>752.0</td>\n",
       "      <td>137.3</td>\n",
       "      <td>39380.24417</td>\n",
       "      <td>28492.08025</td>\n",
       "      <td>26404.51411</td>\n",
       "      <td>14</td>\n",
       "      <td>4</td>\n",
       "      <td>3</td>\n",
       "      <td>8</td>\n",
       "      <td>2017</td>\n",
       "      <td>223</td>\n",
       "      <td>11</td>\n",
       "      <td>32</td>\n",
       "    </tr>\n",
       "    <tr>\n",
       "      <th>2017-08-11 14:50:00</th>\n",
       "      <td>35.89</td>\n",
       "      <td>20.51</td>\n",
       "      <td>4.905</td>\n",
       "      <td>736.0</td>\n",
       "      <td>137.8</td>\n",
       "      <td>39277.95782</td>\n",
       "      <td>28503.48469</td>\n",
       "      <td>25814.67085</td>\n",
       "      <td>14</td>\n",
       "      <td>4</td>\n",
       "      <td>3</td>\n",
       "      <td>8</td>\n",
       "      <td>2017</td>\n",
       "      <td>223</td>\n",
       "      <td>11</td>\n",
       "      <td>32</td>\n",
       "    </tr>\n",
       "    <tr>\n",
       "      <th>2017-08-11 15:00:00</th>\n",
       "      <td>35.66</td>\n",
       "      <td>21.81</td>\n",
       "      <td>4.902</td>\n",
       "      <td>723.0</td>\n",
       "      <td>139.4</td>\n",
       "      <td>39220.42175</td>\n",
       "      <td>28237.38120</td>\n",
       "      <td>25796.61442</td>\n",
       "      <td>15</td>\n",
       "      <td>4</td>\n",
       "      <td>3</td>\n",
       "      <td>8</td>\n",
       "      <td>2017</td>\n",
       "      <td>223</td>\n",
       "      <td>11</td>\n",
       "      <td>32</td>\n",
       "    </tr>\n",
       "    <tr>\n",
       "      <th>2017-08-11 15:10:00</th>\n",
       "      <td>35.64</td>\n",
       "      <td>21.94</td>\n",
       "      <td>4.905</td>\n",
       "      <td>706.0</td>\n",
       "      <td>137.7</td>\n",
       "      <td>39105.34961</td>\n",
       "      <td>28073.91763</td>\n",
       "      <td>26019.31034</td>\n",
       "      <td>15</td>\n",
       "      <td>4</td>\n",
       "      <td>3</td>\n",
       "      <td>8</td>\n",
       "      <td>2017</td>\n",
       "      <td>223</td>\n",
       "      <td>11</td>\n",
       "      <td>32</td>\n",
       "    </tr>\n",
       "    <tr>\n",
       "      <th>2017-08-11 17:00:00</th>\n",
       "      <td>35.61</td>\n",
       "      <td>19.04</td>\n",
       "      <td>4.908</td>\n",
       "      <td>446.5</td>\n",
       "      <td>156.7</td>\n",
       "      <td>37475.16093</td>\n",
       "      <td>26971.48891</td>\n",
       "      <td>26849.90596</td>\n",
       "      <td>17</td>\n",
       "      <td>4</td>\n",
       "      <td>3</td>\n",
       "      <td>8</td>\n",
       "      <td>2017</td>\n",
       "      <td>223</td>\n",
       "      <td>11</td>\n",
       "      <td>32</td>\n",
       "    </tr>\n",
       "  </tbody>\n",
       "</table>\n",
       "<p>143 rows × 16 columns</p>\n",
       "</div>"
      ],
      "text/plain": [
       "                     Temperature  Humidity  wind_speed  general_diffuse_flows  \\\n",
       "DateTime                                                                        \n",
       "2017-07-07 12:00:00        35.78     27.88       4.921                  841.0   \n",
       "2017-07-07 12:10:00        36.21     26.75       4.923                  850.0   \n",
       "2017-07-07 12:20:00        36.37     26.71       4.922                  855.0   \n",
       "2017-07-07 12:30:00        36.69     26.52       4.920                  860.0   \n",
       "2017-07-07 12:40:00        36.59     31.89       4.925                  862.0   \n",
       "...                          ...       ...         ...                    ...   \n",
       "2017-08-11 14:40:00        35.94     20.34       4.903                  752.0   \n",
       "2017-08-11 14:50:00        35.89     20.51       4.905                  736.0   \n",
       "2017-08-11 15:00:00        35.66     21.81       4.902                  723.0   \n",
       "2017-08-11 15:10:00        35.64     21.94       4.905                  706.0   \n",
       "2017-08-11 17:00:00        35.61     19.04       4.908                  446.5   \n",
       "\n",
       "                     diffuse_flows    zone_1_pc    zone_2_pc    zone_3_pc  \\\n",
       "DateTime                                                                    \n",
       "2017-07-07 12:00:00           94.4  29444.25249  30592.40506  27378.07531   \n",
       "2017-07-07 12:10:00           94.7  32799.46844  27759.49367  25359.66527   \n",
       "2017-07-07 12:20:00           95.3  36716.01329  25659.49367  25444.01674   \n",
       "2017-07-07 12:30:00           95.7  36422.59136  25131.64557  25028.28452   \n",
       "2017-07-07 12:40:00           96.2  36129.16944  24850.63291  25094.56067   \n",
       "...                            ...          ...          ...          ...   \n",
       "2017-08-11 14:40:00          137.3  39380.24417  28492.08025  26404.51411   \n",
       "2017-08-11 14:50:00          137.8  39277.95782  28503.48469  25814.67085   \n",
       "2017-08-11 15:00:00          139.4  39220.42175  28237.38120  25796.61442   \n",
       "2017-08-11 15:10:00          137.7  39105.34961  28073.91763  26019.31034   \n",
       "2017-08-11 17:00:00          156.7  37475.16093  26971.48891  26849.90596   \n",
       "\n",
       "                     hour  dayofweek  quarter  month  year  dayofyear  \\\n",
       "DateTime                                                                \n",
       "2017-07-07 12:00:00    12          4        3      7  2017        188   \n",
       "2017-07-07 12:10:00    12          4        3      7  2017        188   \n",
       "2017-07-07 12:20:00    12          4        3      7  2017        188   \n",
       "2017-07-07 12:30:00    12          4        3      7  2017        188   \n",
       "2017-07-07 12:40:00    12          4        3      7  2017        188   \n",
       "...                   ...        ...      ...    ...   ...        ...   \n",
       "2017-08-11 14:40:00    14          4        3      8  2017        223   \n",
       "2017-08-11 14:50:00    14          4        3      8  2017        223   \n",
       "2017-08-11 15:00:00    15          4        3      8  2017        223   \n",
       "2017-08-11 15:10:00    15          4        3      8  2017        223   \n",
       "2017-08-11 17:00:00    17          4        3      8  2017        223   \n",
       "\n",
       "                     dayofmonth  weekofyear  \n",
       "DateTime                                     \n",
       "2017-07-07 12:00:00           7          27  \n",
       "2017-07-07 12:10:00           7          27  \n",
       "2017-07-07 12:20:00           7          27  \n",
       "2017-07-07 12:30:00           7          27  \n",
       "2017-07-07 12:40:00           7          27  \n",
       "...                         ...         ...  \n",
       "2017-08-11 14:40:00          11          32  \n",
       "2017-08-11 14:50:00          11          32  \n",
       "2017-08-11 15:00:00          11          32  \n",
       "2017-08-11 15:10:00          11          32  \n",
       "2017-08-11 17:00:00          11          32  \n",
       "\n",
       "[143 rows x 16 columns]"
      ]
     },
     "execution_count": 18,
     "metadata": {},
     "output_type": "execute_result"
    }
   ],
   "source": [
    "df[(df['Temperature'] <= lower_limit) | (df['Temperature'] >= upper_limit)]\n"
   ]
  },
  {
   "cell_type": "code",
   "execution_count": 19,
   "id": "8fce098e",
   "metadata": {},
   "outputs": [],
   "source": [
    "df_temp_no_out = df[(df['Temperature']<=lower_limit)|(df['Temperature']>=upper_limit)].index\n",
    "df.drop(df_temp_no_out , inplace=True)"
   ]
  },
  {
   "cell_type": "code",
   "execution_count": 20,
   "id": "4cfd4200",
   "metadata": {},
   "outputs": [
    {
     "data": {
      "text/plain": [
       "(143,)"
      ]
     },
     "execution_count": 20,
     "metadata": {},
     "output_type": "execute_result"
    }
   ],
   "source": [
    "df_temp_no_out.shape"
   ]
  },
  {
   "cell_type": "code",
   "execution_count": 21,
   "id": "bd7c4a5f",
   "metadata": {},
   "outputs": [
    {
     "data": {
      "text/plain": [
       "(52273,)"
      ]
     },
     "execution_count": 21,
     "metadata": {},
     "output_type": "execute_result"
    }
   ],
   "source": [
    "df.Temperature.shape"
   ]
  },
  {
   "cell_type": "code",
   "execution_count": 22,
   "id": "e69f988e",
   "metadata": {},
   "outputs": [
    {
     "data": {
      "text/plain": [
       "<AxesSubplot:xlabel='Temperature'>"
      ]
     },
     "execution_count": 22,
     "metadata": {},
     "output_type": "execute_result"
    },
    {
     "data": {
      "image/png": "[encoded data removed]",
      "text/plain": [
       "<Figure size 432x288 with 1 Axes>"
      ]
     },
     "metadata": {
      "needs_background": "light"
     },
     "output_type": "display_data"
    }
   ],
   "source": [
    "sns.boxplot(x=df['Temperature'])"
   ]
  },
  {
   "cell_type": "code",
   "execution_count": 23,
   "id": "b2e90e41",
   "metadata": {},
   "outputs": [
    {
     "data": {
      "text/plain": [
       "<AxesSubplot:xlabel='Humidity'>"
      ]
     },
     "execution_count": 23,
     "metadata": {},
     "output_type": "execute_result"
    },
    {
     "data": {
      "image/png": "[encoded data removed]",
      "text/plain": [
       "<Figure size 432x288 with 1 Axes>"
      ]
     },
     "metadata": {
      "needs_background": "light"
     },
     "output_type": "display_data"
    }
   ],
   "source": [
    "sns.boxplot(x=df['Humidity'])"
   ]
  },
  {
   "cell_type": "code",
   "execution_count": 24,
   "id": "4ecade08",
   "metadata": {},
   "outputs": [
    {
     "data": {
      "image/png": "[encoded data removed]",
      "text/plain": [
       "<Figure size 432x288 with 1 Axes>"
      ]
     },
     "metadata": {
      "needs_background": "light"
     },
     "output_type": "display_data"
    }
   ],
   "source": [
    "df['Humidity'].plot.kde();"
   ]
  },
  {
   "cell_type": "code",
   "execution_count": 25,
   "id": "3dede6ed",
   "metadata": {},
   "outputs": [
    {
     "data": {
      "text/plain": [
       "(58.41, 81.4)"
      ]
     },
     "execution_count": 25,
     "metadata": {},
     "output_type": "execute_result"
    }
   ],
   "source": [
    "Q1 = df.Humidity.quantile(0.25)\n",
    "Q3 = df.Humidity.quantile(0.75)\n",
    "Q1,Q3"
   ]
  },
  {
   "cell_type": "code",
   "execution_count": 26,
   "id": "180bd4e9",
   "metadata": {},
   "outputs": [
    {
     "data": {
      "text/plain": [
       "22.99000000000001"
      ]
     },
     "execution_count": 26,
     "metadata": {},
     "output_type": "execute_result"
    }
   ],
   "source": [
    "IQR = Q3 - Q1\n",
    "IQR"
   ]
  },
  {
   "cell_type": "code",
   "execution_count": 27,
   "id": "6e34ca5f",
   "metadata": {},
   "outputs": [
    {
     "data": {
      "text/plain": [
       "(23.924999999999983, 115.88500000000002)"
      ]
     },
     "execution_count": 27,
     "metadata": {},
     "output_type": "execute_result"
    }
   ],
   "source": [
    "lower_limit = Q1 - (1.5 * IQR)\n",
    "upper_limit = Q3 + (1.5 * IQR)\n",
    "lower_limit, upper_limit"
   ]
  },
  {
   "cell_type": "code",
   "execution_count": 28,
   "id": "1bec8340",
   "metadata": {},
   "outputs": [
    {
     "data": {
      "text/plain": [
       "(52273,)"
      ]
     },
     "execution_count": 28,
     "metadata": {},
     "output_type": "execute_result"
    }
   ],
   "source": [
    "df.Humidity.shape"
   ]
  },
  {
   "cell_type": "code",
   "execution_count": 29,
   "id": "9e5e5803",
   "metadata": {},
   "outputs": [
    {
     "data": {
      "text/html": [
       "<div>\n",
       "<style scoped>\n",
       "    .dataframe tbody tr th:only-of-type {\n",
       "        vertical-align: middle;\n",
       "    }\n",
       "\n",
       "    .dataframe tbody tr th {\n",
       "        vertical-align: top;\n",
       "    }\n",
       "\n",
       "    .dataframe thead th {\n",
       "        text-align: right;\n",
       "    }\n",
       "</style>\n",
       "<table border=\"1\" class=\"dataframe\">\n",
       "  <thead>\n",
       "    <tr style=\"text-align: right;\">\n",
       "      <th></th>\n",
       "      <th>Temperature</th>\n",
       "      <th>Humidity</th>\n",
       "      <th>wind_speed</th>\n",
       "      <th>general_diffuse_flows</th>\n",
       "      <th>diffuse_flows</th>\n",
       "      <th>zone_1_pc</th>\n",
       "      <th>zone_2_pc</th>\n",
       "      <th>zone_3_pc</th>\n",
       "      <th>hour</th>\n",
       "      <th>dayofweek</th>\n",
       "      <th>quarter</th>\n",
       "      <th>month</th>\n",
       "      <th>year</th>\n",
       "      <th>dayofyear</th>\n",
       "      <th>dayofmonth</th>\n",
       "      <th>weekofyear</th>\n",
       "    </tr>\n",
       "    <tr>\n",
       "      <th>DateTime</th>\n",
       "      <th></th>\n",
       "      <th></th>\n",
       "      <th></th>\n",
       "      <th></th>\n",
       "      <th></th>\n",
       "      <th></th>\n",
       "      <th></th>\n",
       "      <th></th>\n",
       "      <th></th>\n",
       "      <th></th>\n",
       "      <th></th>\n",
       "      <th></th>\n",
       "      <th></th>\n",
       "      <th></th>\n",
       "      <th></th>\n",
       "      <th></th>\n",
       "    </tr>\n",
       "  </thead>\n",
       "  <tbody>\n",
       "    <tr>\n",
       "      <th>2017-05-05 18:30:00</th>\n",
       "      <td>25.41</td>\n",
       "      <td>23.79</td>\n",
       "      <td>4.919</td>\n",
       "      <td>234.3</td>\n",
       "      <td>259.5</td>\n",
       "      <td>33489.83607</td>\n",
       "      <td>20901.54799</td>\n",
       "      <td>17221.70040</td>\n",
       "      <td>18</td>\n",
       "      <td>4</td>\n",
       "      <td>2</td>\n",
       "      <td>5</td>\n",
       "      <td>2017</td>\n",
       "      <td>125</td>\n",
       "      <td>5</td>\n",
       "      <td>18</td>\n",
       "    </tr>\n",
       "    <tr>\n",
       "      <th>2017-05-05 18:40:00</th>\n",
       "      <td>25.27</td>\n",
       "      <td>23.52</td>\n",
       "      <td>4.920</td>\n",
       "      <td>207.3</td>\n",
       "      <td>230.7</td>\n",
       "      <td>34169.70492</td>\n",
       "      <td>21299.07121</td>\n",
       "      <td>18037.89474</td>\n",
       "      <td>18</td>\n",
       "      <td>4</td>\n",
       "      <td>2</td>\n",
       "      <td>5</td>\n",
       "      <td>2017</td>\n",
       "      <td>125</td>\n",
       "      <td>5</td>\n",
       "      <td>18</td>\n",
       "    </tr>\n",
       "    <tr>\n",
       "      <th>2017-05-05 18:50:00</th>\n",
       "      <td>25.20</td>\n",
       "      <td>23.66</td>\n",
       "      <td>4.918</td>\n",
       "      <td>173.9</td>\n",
       "      <td>194.8</td>\n",
       "      <td>35013.24590</td>\n",
       "      <td>21904.64396</td>\n",
       "      <td>19151.41700</td>\n",
       "      <td>18</td>\n",
       "      <td>4</td>\n",
       "      <td>2</td>\n",
       "      <td>5</td>\n",
       "      <td>2017</td>\n",
       "      <td>125</td>\n",
       "      <td>5</td>\n",
       "      <td>18</td>\n",
       "    </tr>\n",
       "    <tr>\n",
       "      <th>2017-05-13 13:20:00</th>\n",
       "      <td>31.71</td>\n",
       "      <td>21.96</td>\n",
       "      <td>0.070</td>\n",
       "      <td>863.0</td>\n",
       "      <td>204.4</td>\n",
       "      <td>35693.11475</td>\n",
       "      <td>21562.84830</td>\n",
       "      <td>18720.00000</td>\n",
       "      <td>13</td>\n",
       "      <td>5</td>\n",
       "      <td>2</td>\n",
       "      <td>5</td>\n",
       "      <td>2017</td>\n",
       "      <td>133</td>\n",
       "      <td>13</td>\n",
       "      <td>19</td>\n",
       "    </tr>\n",
       "    <tr>\n",
       "      <th>2017-05-13 13:30:00</th>\n",
       "      <td>31.73</td>\n",
       "      <td>20.92</td>\n",
       "      <td>0.073</td>\n",
       "      <td>856.0</td>\n",
       "      <td>204.4</td>\n",
       "      <td>35680.52459</td>\n",
       "      <td>21510.83591</td>\n",
       "      <td>18807.44939</td>\n",
       "      <td>13</td>\n",
       "      <td>5</td>\n",
       "      <td>2</td>\n",
       "      <td>5</td>\n",
       "      <td>2017</td>\n",
       "      <td>133</td>\n",
       "      <td>13</td>\n",
       "      <td>19</td>\n",
       "    </tr>\n",
       "    <tr>\n",
       "      <th>...</th>\n",
       "      <td>...</td>\n",
       "      <td>...</td>\n",
       "      <td>...</td>\n",
       "      <td>...</td>\n",
       "      <td>...</td>\n",
       "      <td>...</td>\n",
       "      <td>...</td>\n",
       "      <td>...</td>\n",
       "      <td>...</td>\n",
       "      <td>...</td>\n",
       "      <td>...</td>\n",
       "      <td>...</td>\n",
       "      <td>...</td>\n",
       "      <td>...</td>\n",
       "      <td>...</td>\n",
       "      <td>...</td>\n",
       "    </tr>\n",
       "    <tr>\n",
       "      <th>2017-09-22 16:40:00</th>\n",
       "      <td>31.06</td>\n",
       "      <td>14.80</td>\n",
       "      <td>4.934</td>\n",
       "      <td>407.7</td>\n",
       "      <td>88.0</td>\n",
       "      <td>34139.46903</td>\n",
       "      <td>19747.60915</td>\n",
       "      <td>13137.97753</td>\n",
       "      <td>16</td>\n",
       "      <td>4</td>\n",
       "      <td>3</td>\n",
       "      <td>9</td>\n",
       "      <td>2017</td>\n",
       "      <td>265</td>\n",
       "      <td>22</td>\n",
       "      <td>38</td>\n",
       "    </tr>\n",
       "    <tr>\n",
       "      <th>2017-09-22 16:50:00</th>\n",
       "      <td>30.84</td>\n",
       "      <td>19.21</td>\n",
       "      <td>4.929</td>\n",
       "      <td>369.3</td>\n",
       "      <td>87.3</td>\n",
       "      <td>33661.59292</td>\n",
       "      <td>19998.33680</td>\n",
       "      <td>13302.71706</td>\n",
       "      <td>16</td>\n",
       "      <td>4</td>\n",
       "      <td>3</td>\n",
       "      <td>9</td>\n",
       "      <td>2017</td>\n",
       "      <td>265</td>\n",
       "      <td>22</td>\n",
       "      <td>38</td>\n",
       "    </tr>\n",
       "    <tr>\n",
       "      <th>2017-09-22 17:00:00</th>\n",
       "      <td>30.44</td>\n",
       "      <td>20.21</td>\n",
       "      <td>4.945</td>\n",
       "      <td>347.0</td>\n",
       "      <td>94.2</td>\n",
       "      <td>33604.24779</td>\n",
       "      <td>19571.72557</td>\n",
       "      <td>13614.54545</td>\n",
       "      <td>17</td>\n",
       "      <td>4</td>\n",
       "      <td>3</td>\n",
       "      <td>9</td>\n",
       "      <td>2017</td>\n",
       "      <td>265</td>\n",
       "      <td>22</td>\n",
       "      <td>38</td>\n",
       "    </tr>\n",
       "    <tr>\n",
       "      <th>2017-09-22 17:10:00</th>\n",
       "      <td>30.09</td>\n",
       "      <td>21.64</td>\n",
       "      <td>4.943</td>\n",
       "      <td>338.3</td>\n",
       "      <td>113.7</td>\n",
       "      <td>33776.28319</td>\n",
       "      <td>19725.15593</td>\n",
       "      <td>14308.80490</td>\n",
       "      <td>17</td>\n",
       "      <td>4</td>\n",
       "      <td>3</td>\n",
       "      <td>9</td>\n",
       "      <td>2017</td>\n",
       "      <td>265</td>\n",
       "      <td>22</td>\n",
       "      <td>38</td>\n",
       "    </tr>\n",
       "    <tr>\n",
       "      <th>2017-09-22 17:20:00</th>\n",
       "      <td>29.76</td>\n",
       "      <td>22.61</td>\n",
       "      <td>4.965</td>\n",
       "      <td>309.8</td>\n",
       "      <td>119.6</td>\n",
       "      <td>34069.38053</td>\n",
       "      <td>20125.57173</td>\n",
       "      <td>14491.19510</td>\n",
       "      <td>17</td>\n",
       "      <td>4</td>\n",
       "      <td>3</td>\n",
       "      <td>9</td>\n",
       "      <td>2017</td>\n",
       "      <td>265</td>\n",
       "      <td>22</td>\n",
       "      <td>38</td>\n",
       "    </tr>\n",
       "  </tbody>\n",
       "</table>\n",
       "<p>199 rows × 16 columns</p>\n",
       "</div>"
      ],
      "text/plain": [
       "                     Temperature  Humidity  wind_speed  general_diffuse_flows  \\\n",
       "DateTime                                                                        \n",
       "2017-05-05 18:30:00        25.41     23.79       4.919                  234.3   \n",
       "2017-05-05 18:40:00        25.27     23.52       4.920                  207.3   \n",
       "2017-05-05 18:50:00        25.20     23.66       4.918                  173.9   \n",
       "2017-05-13 13:20:00        31.71     21.96       0.070                  863.0   \n",
       "2017-05-13 13:30:00        31.73     20.92       0.073                  856.0   \n",
       "...                          ...       ...         ...                    ...   \n",
       "2017-09-22 16:40:00        31.06     14.80       4.934                  407.7   \n",
       "2017-09-22 16:50:00        30.84     19.21       4.929                  369.3   \n",
       "2017-09-22 17:00:00        30.44     20.21       4.945                  347.0   \n",
       "2017-09-22 17:10:00        30.09     21.64       4.943                  338.3   \n",
       "2017-09-22 17:20:00        29.76     22.61       4.965                  309.8   \n",
       "\n",
       "                     diffuse_flows    zone_1_pc    zone_2_pc    zone_3_pc  \\\n",
       "DateTime                                                                    \n",
       "2017-05-05 18:30:00          259.5  33489.83607  20901.54799  17221.70040   \n",
       "2017-05-05 18:40:00          230.7  34169.70492  21299.07121  18037.89474   \n",
       "2017-05-05 18:50:00          194.8  35013.24590  21904.64396  19151.41700   \n",
       "2017-05-13 13:20:00          204.4  35693.11475  21562.84830  18720.00000   \n",
       "2017-05-13 13:30:00          204.4  35680.52459  21510.83591  18807.44939   \n",
       "...                            ...          ...          ...          ...   \n",
       "2017-09-22 16:40:00           88.0  34139.46903  19747.60915  13137.97753   \n",
       "2017-09-22 16:50:00           87.3  33661.59292  19998.33680  13302.71706   \n",
       "2017-09-22 17:00:00           94.2  33604.24779  19571.72557  13614.54545   \n",
       "2017-09-22 17:10:00          113.7  33776.28319  19725.15593  14308.80490   \n",
       "2017-09-22 17:20:00          119.6  34069.38053  20125.57173  14491.19510   \n",
       "\n",
       "                     hour  dayofweek  quarter  month  year  dayofyear  \\\n",
       "DateTime                                                                \n",
       "2017-05-05 18:30:00    18          4        2      5  2017        125   \n",
       "2017-05-05 18:40:00    18          4        2      5  2017        125   \n",
       "2017-05-05 18:50:00    18          4        2      5  2017        125   \n",
       "2017-05-13 13:20:00    13          5        2      5  2017        133   \n",
       "2017-05-13 13:30:00    13          5        2      5  2017        133   \n",
       "...                   ...        ...      ...    ...   ...        ...   \n",
       "2017-09-22 16:40:00    16          4        3      9  2017        265   \n",
       "2017-09-22 16:50:00    16          4        3      9  2017        265   \n",
       "2017-09-22 17:00:00    17          4        3      9  2017        265   \n",
       "2017-09-22 17:10:00    17          4        3      9  2017        265   \n",
       "2017-09-22 17:20:00    17          4        3      9  2017        265   \n",
       "\n",
       "                     dayofmonth  weekofyear  \n",
       "DateTime                                     \n",
       "2017-05-05 18:30:00           5          18  \n",
       "2017-05-05 18:40:00           5          18  \n",
       "2017-05-05 18:50:00           5          18  \n",
       "2017-05-13 13:20:00          13          19  \n",
       "2017-05-13 13:30:00          13          19  \n",
       "...                         ...         ...  \n",
       "2017-09-22 16:40:00          22          38  \n",
       "2017-09-22 16:50:00          22          38  \n",
       "2017-09-22 17:00:00          22          38  \n",
       "2017-09-22 17:10:00          22          38  \n",
       "2017-09-22 17:20:00          22          38  \n",
       "\n",
       "[199 rows x 16 columns]"
      ]
     },
     "execution_count": 29,
     "metadata": {},
     "output_type": "execute_result"
    }
   ],
   "source": [
    "df[(df['Humidity'] <= lower_limit) | (df['Humidity'] >= upper_limit)]"
   ]
  },
  {
   "cell_type": "code",
   "execution_count": 30,
   "id": "06515770",
   "metadata": {},
   "outputs": [],
   "source": [
    "df_hum_no_out = df[(df['Humidity']<=lower_limit)|(df['Humidity']>=upper_limit)].index\n",
    "df.drop(df_hum_no_out , inplace=True)"
   ]
  },
  {
   "cell_type": "code",
   "execution_count": 31,
   "id": "2b0210f6",
   "metadata": {},
   "outputs": [
    {
     "data": {
      "text/plain": [
       "(199,)"
      ]
     },
     "execution_count": 31,
     "metadata": {},
     "output_type": "execute_result"
    }
   ],
   "source": [
    "df_hum_no_out.shape"
   ]
  },
  {
   "cell_type": "code",
   "execution_count": 32,
   "id": "6d0db339",
   "metadata": {},
   "outputs": [
    {
     "data": {
      "text/plain": [
       "(52074,)"
      ]
     },
     "execution_count": 32,
     "metadata": {},
     "output_type": "execute_result"
    }
   ],
   "source": [
    "df.Humidity.shape"
   ]
  },
  {
   "cell_type": "code",
   "execution_count": 33,
   "id": "52ebaf2e",
   "metadata": {},
   "outputs": [
    {
     "data": {
      "text/plain": [
       "<AxesSubplot:xlabel='Humidity'>"
      ]
     },
     "execution_count": 33,
     "metadata": {},
     "output_type": "execute_result"
    },
    {
     "data": {
      "image/png": "[encoded data removed]",
      "text/plain": [
       "<Figure size 432x288 with 1 Axes>"
      ]
     },
     "metadata": {
      "needs_background": "light"
     },
     "output_type": "display_data"
    }
   ],
   "source": [
    "sns.boxplot(x=df['Humidity'])"
   ]
  },
  {
   "cell_type": "code",
   "execution_count": 34,
   "id": "131290bf",
   "metadata": {},
   "outputs": [
    {
     "data": {
      "text/plain": [
       "<AxesSubplot:xlabel='wind_speed'>"
      ]
     },
     "execution_count": 34,
     "metadata": {},
     "output_type": "execute_result"
    },
    {
     "data": {
      "image/png": "[encoded data removed]",
      "text/plain": [
       "<Figure size 432x288 with 1 Axes>"
      ]
     },
     "metadata": {
      "needs_background": "light"
     },
     "output_type": "display_data"
    }
   ],
   "source": [
    "sns.boxplot(x=df['wind_speed'])"
   ]
  },
  {
   "cell_type": "code",
   "execution_count": 35,
   "id": "54e1941c",
   "metadata": {},
   "outputs": [
    {
     "data": {
      "text/plain": [
       "(0.078, 4.915)"
      ]
     },
     "execution_count": 35,
     "metadata": {},
     "output_type": "execute_result"
    }
   ],
   "source": [
    "Q1 = df.wind_speed.quantile(0.25)\n",
    "Q3 = df.wind_speed.quantile(0.75)\n",
    "Q1,Q3"
   ]
  },
  {
   "cell_type": "code",
   "execution_count": 36,
   "id": "42761345",
   "metadata": {},
   "outputs": [
    {
     "data": {
      "text/plain": [
       "4.837"
      ]
     },
     "execution_count": 36,
     "metadata": {},
     "output_type": "execute_result"
    }
   ],
   "source": [
    "IQR = Q3 - Q1\n",
    "IQR"
   ]
  },
  {
   "cell_type": "code",
   "execution_count": 37,
   "id": "7e8649c5",
   "metadata": {},
   "outputs": [
    {
     "data": {
      "text/plain": [
       "(-7.177499999999999, 12.1705)"
      ]
     },
     "execution_count": 37,
     "metadata": {},
     "output_type": "execute_result"
    }
   ],
   "source": [
    "lower_limit = Q1 - (1.5 * IQR)\n",
    "upper_limit = Q3 + (1.5 * IQR)\n",
    "lower_limit, upper_limit"
   ]
  },
  {
   "cell_type": "code",
   "execution_count": 38,
   "id": "e436534a",
   "metadata": {},
   "outputs": [
    {
     "data": {
      "text/html": [
       "<div>\n",
       "<style scoped>\n",
       "    .dataframe tbody tr th:only-of-type {\n",
       "        vertical-align: middle;\n",
       "    }\n",
       "\n",
       "    .dataframe tbody tr th {\n",
       "        vertical-align: top;\n",
       "    }\n",
       "\n",
       "    .dataframe thead th {\n",
       "        text-align: right;\n",
       "    }\n",
       "</style>\n",
       "<table border=\"1\" class=\"dataframe\">\n",
       "  <thead>\n",
       "    <tr style=\"text-align: right;\">\n",
       "      <th></th>\n",
       "      <th>Temperature</th>\n",
       "      <th>Humidity</th>\n",
       "      <th>wind_speed</th>\n",
       "      <th>general_diffuse_flows</th>\n",
       "      <th>diffuse_flows</th>\n",
       "      <th>zone_1_pc</th>\n",
       "      <th>zone_2_pc</th>\n",
       "      <th>zone_3_pc</th>\n",
       "      <th>hour</th>\n",
       "      <th>dayofweek</th>\n",
       "      <th>quarter</th>\n",
       "      <th>month</th>\n",
       "      <th>year</th>\n",
       "      <th>dayofyear</th>\n",
       "      <th>dayofmonth</th>\n",
       "      <th>weekofyear</th>\n",
       "    </tr>\n",
       "    <tr>\n",
       "      <th>DateTime</th>\n",
       "      <th></th>\n",
       "      <th></th>\n",
       "      <th></th>\n",
       "      <th></th>\n",
       "      <th></th>\n",
       "      <th></th>\n",
       "      <th></th>\n",
       "      <th></th>\n",
       "      <th></th>\n",
       "      <th></th>\n",
       "      <th></th>\n",
       "      <th></th>\n",
       "      <th></th>\n",
       "      <th></th>\n",
       "      <th></th>\n",
       "      <th></th>\n",
       "    </tr>\n",
       "  </thead>\n",
       "  <tbody>\n",
       "  </tbody>\n",
       "</table>\n",
       "</div>"
      ],
      "text/plain": [
       "Empty DataFrame\n",
       "Columns: [Temperature, Humidity, wind_speed, general_diffuse_flows, diffuse_flows, zone_1_pc, zone_2_pc, zone_3_pc, hour, dayofweek, quarter, month, year, dayofyear, dayofmonth, weekofyear]\n",
       "Index: []"
      ]
     },
     "execution_count": 38,
     "metadata": {},
     "output_type": "execute_result"
    }
   ],
   "source": [
    "df[(df['wind_speed'] <= lower_limit) | (df['wind_speed'] >= upper_limit)]"
   ]
  },
  {
   "cell_type": "code",
   "execution_count": 39,
   "id": "e8dcf7f8",
   "metadata": {},
   "outputs": [],
   "source": [
    "df_ws_no_out = df[(df['wind_speed']<=lower_limit)|(df['wind_speed']>=upper_limit)].index\n",
    "df.drop(df_ws_no_out , inplace=True)"
   ]
  },
  {
   "cell_type": "code",
   "execution_count": 40,
   "id": "14d80816",
   "metadata": {},
   "outputs": [
    {
     "data": {
      "text/plain": [
       "<AxesSubplot:xlabel='general_diffuse_flows'>"
      ]
     },
     "execution_count": 40,
     "metadata": {},
     "output_type": "execute_result"
    },
    {
     "data": {
      "image/png": "[encoded data removed]",
      "text/plain": [
       "<Figure size 432x288 with 1 Axes>"
      ]
     },
     "metadata": {
      "needs_background": "light"
     },
     "output_type": "display_data"
    }
   ],
   "source": [
    "sns.boxplot(x=df['general_diffuse_flows'])"
   ]
  },
  {
   "cell_type": "code",
   "execution_count": 41,
   "id": "eda4e144",
   "metadata": {},
   "outputs": [
    {
     "data": {
      "text/plain": [
       "(0.062, 313.1)"
      ]
     },
     "execution_count": 41,
     "metadata": {},
     "output_type": "execute_result"
    }
   ],
   "source": [
    "Q1 = df.general_diffuse_flows.quantile(0.25)\n",
    "Q3 = df.general_diffuse_flows.quantile(0.75)\n",
    "Q1,Q3"
   ]
  },
  {
   "cell_type": "code",
   "execution_count": 42,
   "id": "24e9099b",
   "metadata": {},
   "outputs": [
    {
     "data": {
      "text/plain": [
       "313.038"
      ]
     },
     "execution_count": 42,
     "metadata": {},
     "output_type": "execute_result"
    }
   ],
   "source": [
    "IQR = Q3 - Q1\n",
    "IQR"
   ]
  },
  {
   "cell_type": "code",
   "execution_count": 43,
   "id": "8598fefb",
   "metadata": {},
   "outputs": [
    {
     "data": {
      "text/plain": [
       "(-469.495, 782.657)"
      ]
     },
     "execution_count": 43,
     "metadata": {},
     "output_type": "execute_result"
    }
   ],
   "source": [
    "lower_limit = Q1 - (1.5 * IQR)\n",
    "upper_limit = Q3 + (1.5 * IQR)\n",
    "lower_limit, upper_limit"
   ]
  },
  {
   "cell_type": "code",
   "execution_count": 44,
   "id": "dfca2b1d",
   "metadata": {},
   "outputs": [
    {
     "data": {
      "text/plain": [
       "(52074,)"
      ]
     },
     "execution_count": 44,
     "metadata": {},
     "output_type": "execute_result"
    }
   ],
   "source": [
    "df.general_diffuse_flows.shape"
   ]
  },
  {
   "cell_type": "code",
   "execution_count": 45,
   "id": "7a9c28d9",
   "metadata": {},
   "outputs": [
    {
     "data": {
      "text/html": [
       "<div>\n",
       "<style scoped>\n",
       "    .dataframe tbody tr th:only-of-type {\n",
       "        vertical-align: middle;\n",
       "    }\n",
       "\n",
       "    .dataframe tbody tr th {\n",
       "        vertical-align: top;\n",
       "    }\n",
       "\n",
       "    .dataframe thead th {\n",
       "        text-align: right;\n",
       "    }\n",
       "</style>\n",
       "<table border=\"1\" class=\"dataframe\">\n",
       "  <thead>\n",
       "    <tr style=\"text-align: right;\">\n",
       "      <th></th>\n",
       "      <th>Temperature</th>\n",
       "      <th>Humidity</th>\n",
       "      <th>wind_speed</th>\n",
       "      <th>general_diffuse_flows</th>\n",
       "      <th>diffuse_flows</th>\n",
       "      <th>zone_1_pc</th>\n",
       "      <th>zone_2_pc</th>\n",
       "      <th>zone_3_pc</th>\n",
       "      <th>hour</th>\n",
       "      <th>dayofweek</th>\n",
       "      <th>quarter</th>\n",
       "      <th>month</th>\n",
       "      <th>year</th>\n",
       "      <th>dayofyear</th>\n",
       "      <th>dayofmonth</th>\n",
       "      <th>weekofyear</th>\n",
       "    </tr>\n",
       "    <tr>\n",
       "      <th>DateTime</th>\n",
       "      <th></th>\n",
       "      <th></th>\n",
       "      <th></th>\n",
       "      <th></th>\n",
       "      <th></th>\n",
       "      <th></th>\n",
       "      <th></th>\n",
       "      <th></th>\n",
       "      <th></th>\n",
       "      <th></th>\n",
       "      <th></th>\n",
       "      <th></th>\n",
       "      <th></th>\n",
       "      <th></th>\n",
       "      <th></th>\n",
       "      <th></th>\n",
       "    </tr>\n",
       "  </thead>\n",
       "  <tbody>\n",
       "    <tr>\n",
       "      <th>2017-02-14 12:30:00</th>\n",
       "      <td>16.68</td>\n",
       "      <td>53.06</td>\n",
       "      <td>0.082</td>\n",
       "      <td>803.0</td>\n",
       "      <td>269.8</td>\n",
       "      <td>33004.06780</td>\n",
       "      <td>21333.73860</td>\n",
       "      <td>16550.59296</td>\n",
       "      <td>12</td>\n",
       "      <td>1</td>\n",
       "      <td>1</td>\n",
       "      <td>2</td>\n",
       "      <td>2017</td>\n",
       "      <td>45</td>\n",
       "      <td>14</td>\n",
       "      <td>7</td>\n",
       "    </tr>\n",
       "    <tr>\n",
       "      <th>2017-02-21 13:00:00</th>\n",
       "      <td>15.92</td>\n",
       "      <td>55.29</td>\n",
       "      <td>0.083</td>\n",
       "      <td>810.0</td>\n",
       "      <td>851.0</td>\n",
       "      <td>37885.42373</td>\n",
       "      <td>22431.61094</td>\n",
       "      <td>17818.37186</td>\n",
       "      <td>13</td>\n",
       "      <td>1</td>\n",
       "      <td>1</td>\n",
       "      <td>2</td>\n",
       "      <td>2017</td>\n",
       "      <td>52</td>\n",
       "      <td>21</td>\n",
       "      <td>8</td>\n",
       "    </tr>\n",
       "    <tr>\n",
       "      <th>2017-02-21 13:10:00</th>\n",
       "      <td>15.86</td>\n",
       "      <td>53.22</td>\n",
       "      <td>0.084</td>\n",
       "      <td>877.0</td>\n",
       "      <td>933.0</td>\n",
       "      <td>38245.42373</td>\n",
       "      <td>22683.28267</td>\n",
       "      <td>17887.83920</td>\n",
       "      <td>13</td>\n",
       "      <td>1</td>\n",
       "      <td>1</td>\n",
       "      <td>2</td>\n",
       "      <td>2017</td>\n",
       "      <td>52</td>\n",
       "      <td>21</td>\n",
       "      <td>8</td>\n",
       "    </tr>\n",
       "    <tr>\n",
       "      <th>2017-02-21 13:20:00</th>\n",
       "      <td>15.92</td>\n",
       "      <td>53.16</td>\n",
       "      <td>0.079</td>\n",
       "      <td>845.0</td>\n",
       "      <td>897.0</td>\n",
       "      <td>38288.13559</td>\n",
       "      <td>22519.14894</td>\n",
       "      <td>17847.31658</td>\n",
       "      <td>13</td>\n",
       "      <td>1</td>\n",
       "      <td>1</td>\n",
       "      <td>2</td>\n",
       "      <td>2017</td>\n",
       "      <td>52</td>\n",
       "      <td>21</td>\n",
       "      <td>8</td>\n",
       "    </tr>\n",
       "    <tr>\n",
       "      <th>2017-02-21 13:30:00</th>\n",
       "      <td>16.25</td>\n",
       "      <td>53.52</td>\n",
       "      <td>0.082</td>\n",
       "      <td>818.0</td>\n",
       "      <td>855.0</td>\n",
       "      <td>38306.44068</td>\n",
       "      <td>22464.43769</td>\n",
       "      <td>17829.94975</td>\n",
       "      <td>13</td>\n",
       "      <td>1</td>\n",
       "      <td>1</td>\n",
       "      <td>2</td>\n",
       "      <td>2017</td>\n",
       "      <td>52</td>\n",
       "      <td>21</td>\n",
       "      <td>8</td>\n",
       "    </tr>\n",
       "    <tr>\n",
       "      <th>...</th>\n",
       "      <td>...</td>\n",
       "      <td>...</td>\n",
       "      <td>...</td>\n",
       "      <td>...</td>\n",
       "      <td>...</td>\n",
       "      <td>...</td>\n",
       "      <td>...</td>\n",
       "      <td>...</td>\n",
       "      <td>...</td>\n",
       "      <td>...</td>\n",
       "      <td>...</td>\n",
       "      <td>...</td>\n",
       "      <td>...</td>\n",
       "      <td>...</td>\n",
       "      <td>...</td>\n",
       "      <td>...</td>\n",
       "    </tr>\n",
       "    <tr>\n",
       "      <th>2017-10-12 12:30:00</th>\n",
       "      <td>25.45</td>\n",
       "      <td>42.95</td>\n",
       "      <td>0.082</td>\n",
       "      <td>822.0</td>\n",
       "      <td>190.6</td>\n",
       "      <td>37824.42013</td>\n",
       "      <td>23713.69295</td>\n",
       "      <td>13632.58359</td>\n",
       "      <td>12</td>\n",
       "      <td>3</td>\n",
       "      <td>4</td>\n",
       "      <td>10</td>\n",
       "      <td>2017</td>\n",
       "      <td>285</td>\n",
       "      <td>12</td>\n",
       "      <td>41</td>\n",
       "    </tr>\n",
       "    <tr>\n",
       "      <th>2017-11-02 11:50:00</th>\n",
       "      <td>21.53</td>\n",
       "      <td>52.60</td>\n",
       "      <td>0.084</td>\n",
       "      <td>794.0</td>\n",
       "      <td>733.0</td>\n",
       "      <td>31440.00000</td>\n",
       "      <td>24318.59504</td>\n",
       "      <td>12572.53012</td>\n",
       "      <td>11</td>\n",
       "      <td>3</td>\n",
       "      <td>4</td>\n",
       "      <td>11</td>\n",
       "      <td>2017</td>\n",
       "      <td>306</td>\n",
       "      <td>2</td>\n",
       "      <td>44</td>\n",
       "    </tr>\n",
       "    <tr>\n",
       "      <th>2017-11-02 13:10:00</th>\n",
       "      <td>22.06</td>\n",
       "      <td>51.47</td>\n",
       "      <td>0.084</td>\n",
       "      <td>841.0</td>\n",
       "      <td>820.0</td>\n",
       "      <td>31680.00000</td>\n",
       "      <td>24753.71901</td>\n",
       "      <td>12774.93976</td>\n",
       "      <td>13</td>\n",
       "      <td>3</td>\n",
       "      <td>4</td>\n",
       "      <td>11</td>\n",
       "      <td>2017</td>\n",
       "      <td>306</td>\n",
       "      <td>2</td>\n",
       "      <td>44</td>\n",
       "    </tr>\n",
       "    <tr>\n",
       "      <th>2017-11-02 13:20:00</th>\n",
       "      <td>22.36</td>\n",
       "      <td>50.07</td>\n",
       "      <td>0.086</td>\n",
       "      <td>837.0</td>\n",
       "      <td>834.0</td>\n",
       "      <td>32246.15385</td>\n",
       "      <td>24891.32231</td>\n",
       "      <td>12682.40964</td>\n",
       "      <td>13</td>\n",
       "      <td>3</td>\n",
       "      <td>4</td>\n",
       "      <td>11</td>\n",
       "      <td>2017</td>\n",
       "      <td>306</td>\n",
       "      <td>2</td>\n",
       "      <td>44</td>\n",
       "    </tr>\n",
       "    <tr>\n",
       "      <th>2017-11-02 13:50:00</th>\n",
       "      <td>22.78</td>\n",
       "      <td>48.17</td>\n",
       "      <td>0.083</td>\n",
       "      <td>787.0</td>\n",
       "      <td>749.0</td>\n",
       "      <td>31950.76923</td>\n",
       "      <td>24448.76033</td>\n",
       "      <td>12526.26506</td>\n",
       "      <td>13</td>\n",
       "      <td>3</td>\n",
       "      <td>4</td>\n",
       "      <td>11</td>\n",
       "      <td>2017</td>\n",
       "      <td>306</td>\n",
       "      <td>2</td>\n",
       "      <td>44</td>\n",
       "    </tr>\n",
       "  </tbody>\n",
       "</table>\n",
       "<p>2508 rows × 16 columns</p>\n",
       "</div>"
      ],
      "text/plain": [
       "                     Temperature  Humidity  wind_speed  general_diffuse_flows  \\\n",
       "DateTime                                                                        \n",
       "2017-02-14 12:30:00        16.68     53.06       0.082                  803.0   \n",
       "2017-02-21 13:00:00        15.92     55.29       0.083                  810.0   \n",
       "2017-02-21 13:10:00        15.86     53.22       0.084                  877.0   \n",
       "2017-02-21 13:20:00        15.92     53.16       0.079                  845.0   \n",
       "2017-02-21 13:30:00        16.25     53.52       0.082                  818.0   \n",
       "...                          ...       ...         ...                    ...   \n",
       "2017-10-12 12:30:00        25.45     42.95       0.082                  822.0   \n",
       "2017-11-02 11:50:00        21.53     52.60       0.084                  794.0   \n",
       "2017-11-02 13:10:00        22.06     51.47       0.084                  841.0   \n",
       "2017-11-02 13:20:00        22.36     50.07       0.086                  837.0   \n",
       "2017-11-02 13:50:00        22.78     48.17       0.083                  787.0   \n",
       "\n",
       "                     diffuse_flows    zone_1_pc    zone_2_pc    zone_3_pc  \\\n",
       "DateTime                                                                    \n",
       "2017-02-14 12:30:00          269.8  33004.06780  21333.73860  16550.59296   \n",
       "2017-02-21 13:00:00          851.0  37885.42373  22431.61094  17818.37186   \n",
       "2017-02-21 13:10:00          933.0  38245.42373  22683.28267  17887.83920   \n",
       "2017-02-21 13:20:00          897.0  38288.13559  22519.14894  17847.31658   \n",
       "2017-02-21 13:30:00          855.0  38306.44068  22464.43769  17829.94975   \n",
       "...                            ...          ...          ...          ...   \n",
       "2017-10-12 12:30:00          190.6  37824.42013  23713.69295  13632.58359   \n",
       "2017-11-02 11:50:00          733.0  31440.00000  24318.59504  12572.53012   \n",
       "2017-11-02 13:10:00          820.0  31680.00000  24753.71901  12774.93976   \n",
       "2017-11-02 13:20:00          834.0  32246.15385  24891.32231  12682.40964   \n",
       "2017-11-02 13:50:00          749.0  31950.76923  24448.76033  12526.26506   \n",
       "\n",
       "                     hour  dayofweek  quarter  month  year  dayofyear  \\\n",
       "DateTime                                                                \n",
       "2017-02-14 12:30:00    12          1        1      2  2017         45   \n",
       "2017-02-21 13:00:00    13          1        1      2  2017         52   \n",
       "2017-02-21 13:10:00    13          1        1      2  2017         52   \n",
       "2017-02-21 13:20:00    13          1        1      2  2017         52   \n",
       "2017-02-21 13:30:00    13          1        1      2  2017         52   \n",
       "...                   ...        ...      ...    ...   ...        ...   \n",
       "2017-10-12 12:30:00    12          3        4     10  2017        285   \n",
       "2017-11-02 11:50:00    11          3        4     11  2017        306   \n",
       "2017-11-02 13:10:00    13          3        4     11  2017        306   \n",
       "2017-11-02 13:20:00    13          3        4     11  2017        306   \n",
       "2017-11-02 13:50:00    13          3        4     11  2017        306   \n",
       "\n",
       "                     dayofmonth  weekofyear  \n",
       "DateTime                                     \n",
       "2017-02-14 12:30:00          14           7  \n",
       "2017-02-21 13:00:00          21           8  \n",
       "2017-02-21 13:10:00          21           8  \n",
       "2017-02-21 13:20:00          21           8  \n",
       "2017-02-21 13:30:00          21           8  \n",
       "...                         ...         ...  \n",
       "2017-10-12 12:30:00          12          41  \n",
       "2017-11-02 11:50:00           2          44  \n",
       "2017-11-02 13:10:00           2          44  \n",
       "2017-11-02 13:20:00           2          44  \n",
       "2017-11-02 13:50:00           2          44  \n",
       "\n",
       "[2508 rows x 16 columns]"
      ]
     },
     "execution_count": 45,
     "metadata": {},
     "output_type": "execute_result"
    }
   ],
   "source": [
    "df[(df['general_diffuse_flows'] <= lower_limit) | (df['general_diffuse_flows'] >= upper_limit)]"
   ]
  },
  {
   "cell_type": "code",
   "execution_count": 46,
   "id": "d4d93f6a",
   "metadata": {},
   "outputs": [],
   "source": [
    "df_gdf_no_out = df[(df['general_diffuse_flows']<=lower_limit)|(df['general_diffuse_flows']>=upper_limit)].index\n",
    "df.drop(df_gdf_no_out , inplace=True)"
   ]
  },
  {
   "cell_type": "code",
   "execution_count": 47,
   "id": "ae166a25",
   "metadata": {},
   "outputs": [
    {
     "data": {
      "text/plain": [
       "(2508,)"
      ]
     },
     "execution_count": 47,
     "metadata": {},
     "output_type": "execute_result"
    }
   ],
   "source": [
    "df_gdf_no_out.shape"
   ]
  },
  {
   "cell_type": "code",
   "execution_count": 48,
   "id": "61dbd7b1",
   "metadata": {},
   "outputs": [
    {
     "data": {
      "text/plain": [
       "(49566,)"
      ]
     },
     "execution_count": 48,
     "metadata": {},
     "output_type": "execute_result"
    }
   ],
   "source": [
    "df.general_diffuse_flows.shape"
   ]
  },
  {
   "cell_type": "code",
   "execution_count": 49,
   "id": "b40c5bd1",
   "metadata": {},
   "outputs": [
    {
     "data": {
      "text/plain": [
       "<AxesSubplot:xlabel='general_diffuse_flows'>"
      ]
     },
     "execution_count": 49,
     "metadata": {},
     "output_type": "execute_result"
    },
    {
     "data": {
      "image/png": "[encoded data removed]",
      "text/plain": [
       "<Figure size 432x288 with 1 Axes>"
      ]
     },
     "metadata": {
      "needs_background": "light"
     },
     "output_type": "display_data"
    }
   ],
   "source": [
    "sns.boxplot(x=df['general_diffuse_flows'])"
   ]
  },
  {
   "cell_type": "code",
   "execution_count": 50,
   "id": "7b0a839e",
   "metadata": {},
   "outputs": [
    {
     "data": {
      "text/plain": [
       "Index(['Temperature', 'Humidity', 'wind_speed', 'general_diffuse_flows',\n",
       "       'diffuse_flows', 'zone_1_pc', 'zone_2_pc', 'zone_3_pc', 'hour',\n",
       "       'dayofweek', 'quarter', 'month', 'year', 'dayofyear', 'dayofmonth',\n",
       "       'weekofyear'],\n",
       "      dtype='object')"
      ]
     },
     "execution_count": 50,
     "metadata": {},
     "output_type": "execute_result"
    }
   ],
   "source": [
    "df.columns"
   ]
  },
  {
   "cell_type": "code",
   "execution_count": 51,
   "id": "9b62a4a3",
   "metadata": {},
   "outputs": [
    {
     "data": {
      "text/plain": [
       "<AxesSubplot:xlabel='diffuse_flows'>"
      ]
     },
     "execution_count": 51,
     "metadata": {},
     "output_type": "execute_result"
    },
    {
     "data": {
      "image/png": "[encoded data removed]",
      "text/plain": [
       "<Figure size 432x288 with 1 Axes>"
      ]
     },
     "metadata": {
      "needs_background": "light"
     },
     "output_type": "display_data"
    }
   ],
   "source": [
    "sns.boxplot(x=df['diffuse_flows'])"
   ]
  },
  {
   "cell_type": "code",
   "execution_count": 52,
   "id": "c53dd48a",
   "metadata": {},
   "outputs": [
    {
     "data": {
      "text/plain": [
       "(0.119, 97.3)"
      ]
     },
     "execution_count": 52,
     "metadata": {},
     "output_type": "execute_result"
    }
   ],
   "source": [
    "Q1 = df.diffuse_flows.quantile(0.25)\n",
    "Q3 = df.diffuse_flows.quantile(0.75)\n",
    "Q1,Q3"
   ]
  },
  {
   "cell_type": "code",
   "execution_count": 53,
   "id": "2e6c13ce",
   "metadata": {},
   "outputs": [
    {
     "data": {
      "text/plain": [
       "97.181"
      ]
     },
     "execution_count": 53,
     "metadata": {},
     "output_type": "execute_result"
    }
   ],
   "source": [
    "IQR = Q3 - Q1\n",
    "IQR"
   ]
  },
  {
   "cell_type": "code",
   "execution_count": 54,
   "id": "6b2c2ae1",
   "metadata": {},
   "outputs": [
    {
     "data": {
      "text/plain": [
       "(-145.6525, 243.07150000000001)"
      ]
     },
     "execution_count": 54,
     "metadata": {},
     "output_type": "execute_result"
    }
   ],
   "source": [
    "lower_limit = Q1 - (1.5 * IQR)\n",
    "upper_limit = Q3 + (1.5 * IQR)\n",
    "lower_limit, upper_limit"
   ]
  },
  {
   "cell_type": "code",
   "execution_count": 55,
   "id": "6b7c0720",
   "metadata": {},
   "outputs": [
    {
     "data": {
      "text/plain": [
       "(49566,)"
      ]
     },
     "execution_count": 55,
     "metadata": {},
     "output_type": "execute_result"
    }
   ],
   "source": [
    "df.diffuse_flows.shape"
   ]
  },
  {
   "cell_type": "code",
   "execution_count": 56,
   "id": "254f92ba",
   "metadata": {},
   "outputs": [
    {
     "data": {
      "text/html": [
       "<div>\n",
       "<style scoped>\n",
       "    .dataframe tbody tr th:only-of-type {\n",
       "        vertical-align: middle;\n",
       "    }\n",
       "\n",
       "    .dataframe tbody tr th {\n",
       "        vertical-align: top;\n",
       "    }\n",
       "\n",
       "    .dataframe thead th {\n",
       "        text-align: right;\n",
       "    }\n",
       "</style>\n",
       "<table border=\"1\" class=\"dataframe\">\n",
       "  <thead>\n",
       "    <tr style=\"text-align: right;\">\n",
       "      <th></th>\n",
       "      <th>Temperature</th>\n",
       "      <th>Humidity</th>\n",
       "      <th>wind_speed</th>\n",
       "      <th>general_diffuse_flows</th>\n",
       "      <th>diffuse_flows</th>\n",
       "      <th>zone_1_pc</th>\n",
       "      <th>zone_2_pc</th>\n",
       "      <th>zone_3_pc</th>\n",
       "      <th>hour</th>\n",
       "      <th>dayofweek</th>\n",
       "      <th>quarter</th>\n",
       "      <th>month</th>\n",
       "      <th>year</th>\n",
       "      <th>dayofyear</th>\n",
       "      <th>dayofmonth</th>\n",
       "      <th>weekofyear</th>\n",
       "    </tr>\n",
       "    <tr>\n",
       "      <th>DateTime</th>\n",
       "      <th></th>\n",
       "      <th></th>\n",
       "      <th></th>\n",
       "      <th></th>\n",
       "      <th></th>\n",
       "      <th></th>\n",
       "      <th></th>\n",
       "      <th></th>\n",
       "      <th></th>\n",
       "      <th></th>\n",
       "      <th></th>\n",
       "      <th></th>\n",
       "      <th></th>\n",
       "      <th></th>\n",
       "      <th></th>\n",
       "      <th></th>\n",
       "    </tr>\n",
       "  </thead>\n",
       "  <tbody>\n",
       "    <tr>\n",
       "      <th>2017-01-01 16:20:00</th>\n",
       "      <td>15.54</td>\n",
       "      <td>58.30</td>\n",
       "      <td>0.076</td>\n",
       "      <td>241.3</td>\n",
       "      <td>246.0</td>\n",
       "      <td>28556.96203</td>\n",
       "      <td>17325.22796</td>\n",
       "      <td>16192.771080</td>\n",
       "      <td>16</td>\n",
       "      <td>6</td>\n",
       "      <td>1</td>\n",
       "      <td>1</td>\n",
       "      <td>2017</td>\n",
       "      <td>1</td>\n",
       "      <td>1</td>\n",
       "      <td>52</td>\n",
       "    </tr>\n",
       "    <tr>\n",
       "      <th>2017-01-01 16:30:00</th>\n",
       "      <td>15.53</td>\n",
       "      <td>58.80</td>\n",
       "      <td>0.077</td>\n",
       "      <td>219.0</td>\n",
       "      <td>248.1</td>\n",
       "      <td>28514.43038</td>\n",
       "      <td>17456.53495</td>\n",
       "      <td>16343.132530</td>\n",
       "      <td>16</td>\n",
       "      <td>6</td>\n",
       "      <td>1</td>\n",
       "      <td>1</td>\n",
       "      <td>2017</td>\n",
       "      <td>1</td>\n",
       "      <td>1</td>\n",
       "      <td>52</td>\n",
       "    </tr>\n",
       "    <tr>\n",
       "      <th>2017-01-02 16:20:00</th>\n",
       "      <td>15.23</td>\n",
       "      <td>61.12</td>\n",
       "      <td>0.075</td>\n",
       "      <td>238.2</td>\n",
       "      <td>253.4</td>\n",
       "      <td>29480.50633</td>\n",
       "      <td>20611.55015</td>\n",
       "      <td>16181.204820</td>\n",
       "      <td>16</td>\n",
       "      <td>0</td>\n",
       "      <td>1</td>\n",
       "      <td>1</td>\n",
       "      <td>2017</td>\n",
       "      <td>2</td>\n",
       "      <td>2</td>\n",
       "      <td>1</td>\n",
       "    </tr>\n",
       "    <tr>\n",
       "      <th>2017-01-02 16:30:00</th>\n",
       "      <td>15.24</td>\n",
       "      <td>61.63</td>\n",
       "      <td>0.075</td>\n",
       "      <td>216.8</td>\n",
       "      <td>248.1</td>\n",
       "      <td>30161.01266</td>\n",
       "      <td>20545.89666</td>\n",
       "      <td>16314.216870</td>\n",
       "      <td>16</td>\n",
       "      <td>0</td>\n",
       "      <td>1</td>\n",
       "      <td>1</td>\n",
       "      <td>2017</td>\n",
       "      <td>2</td>\n",
       "      <td>2</td>\n",
       "      <td>1</td>\n",
       "    </tr>\n",
       "    <tr>\n",
       "      <th>2017-01-03 16:10:00</th>\n",
       "      <td>15.34</td>\n",
       "      <td>66.83</td>\n",
       "      <td>0.071</td>\n",
       "      <td>259.9</td>\n",
       "      <td>256.6</td>\n",
       "      <td>31874.43038</td>\n",
       "      <td>21045.59271</td>\n",
       "      <td>16458.795180</td>\n",
       "      <td>16</td>\n",
       "      <td>1</td>\n",
       "      <td>1</td>\n",
       "      <td>1</td>\n",
       "      <td>2017</td>\n",
       "      <td>3</td>\n",
       "      <td>3</td>\n",
       "      <td>1</td>\n",
       "    </tr>\n",
       "    <tr>\n",
       "      <th>...</th>\n",
       "      <td>...</td>\n",
       "      <td>...</td>\n",
       "      <td>...</td>\n",
       "      <td>...</td>\n",
       "      <td>...</td>\n",
       "      <td>...</td>\n",
       "      <td>...</td>\n",
       "      <td>...</td>\n",
       "      <td>...</td>\n",
       "      <td>...</td>\n",
       "      <td>...</td>\n",
       "      <td>...</td>\n",
       "      <td>...</td>\n",
       "      <td>...</td>\n",
       "      <td>...</td>\n",
       "      <td>...</td>\n",
       "    </tr>\n",
       "    <tr>\n",
       "      <th>2017-12-14 12:40:00</th>\n",
       "      <td>15.09</td>\n",
       "      <td>63.14</td>\n",
       "      <td>0.076</td>\n",
       "      <td>539.1</td>\n",
       "      <td>283.7</td>\n",
       "      <td>31513.30798</td>\n",
       "      <td>25966.24732</td>\n",
       "      <td>10763.985590</td>\n",
       "      <td>12</td>\n",
       "      <td>3</td>\n",
       "      <td>4</td>\n",
       "      <td>12</td>\n",
       "      <td>2017</td>\n",
       "      <td>348</td>\n",
       "      <td>14</td>\n",
       "      <td>50</td>\n",
       "    </tr>\n",
       "    <tr>\n",
       "      <th>2017-12-15 15:00:00</th>\n",
       "      <td>16.69</td>\n",
       "      <td>59.35</td>\n",
       "      <td>0.081</td>\n",
       "      <td>478.0</td>\n",
       "      <td>288.4</td>\n",
       "      <td>30996.19772</td>\n",
       "      <td>25885.24087</td>\n",
       "      <td>9283.073229</td>\n",
       "      <td>15</td>\n",
       "      <td>4</td>\n",
       "      <td>4</td>\n",
       "      <td>12</td>\n",
       "      <td>2017</td>\n",
       "      <td>349</td>\n",
       "      <td>15</td>\n",
       "      <td>50</td>\n",
       "    </tr>\n",
       "    <tr>\n",
       "      <th>2017-12-20 16:40:00</th>\n",
       "      <td>17.09</td>\n",
       "      <td>69.66</td>\n",
       "      <td>0.073</td>\n",
       "      <td>235.5</td>\n",
       "      <td>252.8</td>\n",
       "      <td>32097.33840</td>\n",
       "      <td>26327.09420</td>\n",
       "      <td>9911.164466</td>\n",
       "      <td>16</td>\n",
       "      <td>2</td>\n",
       "      <td>4</td>\n",
       "      <td>12</td>\n",
       "      <td>2017</td>\n",
       "      <td>354</td>\n",
       "      <td>20</td>\n",
       "      <td>51</td>\n",
       "    </tr>\n",
       "    <tr>\n",
       "      <th>2017-12-26 14:30:00</th>\n",
       "      <td>15.98</td>\n",
       "      <td>53.29</td>\n",
       "      <td>0.084</td>\n",
       "      <td>345.7</td>\n",
       "      <td>253.5</td>\n",
       "      <td>33569.58175</td>\n",
       "      <td>27107.70175</td>\n",
       "      <td>10896.518610</td>\n",
       "      <td>14</td>\n",
       "      <td>1</td>\n",
       "      <td>4</td>\n",
       "      <td>12</td>\n",
       "      <td>2017</td>\n",
       "      <td>360</td>\n",
       "      <td>26</td>\n",
       "      <td>52</td>\n",
       "    </tr>\n",
       "    <tr>\n",
       "      <th>2017-12-27 13:30:00</th>\n",
       "      <td>17.08</td>\n",
       "      <td>55.34</td>\n",
       "      <td>0.087</td>\n",
       "      <td>508.1</td>\n",
       "      <td>265.4</td>\n",
       "      <td>33399.23954</td>\n",
       "      <td>27372.81375</td>\n",
       "      <td>10740.936370</td>\n",
       "      <td>13</td>\n",
       "      <td>2</td>\n",
       "      <td>4</td>\n",
       "      <td>12</td>\n",
       "      <td>2017</td>\n",
       "      <td>361</td>\n",
       "      <td>27</td>\n",
       "      <td>52</td>\n",
       "    </tr>\n",
       "  </tbody>\n",
       "</table>\n",
       "<p>4619 rows × 16 columns</p>\n",
       "</div>"
      ],
      "text/plain": [
       "                     Temperature  Humidity  wind_speed  general_diffuse_flows  \\\n",
       "DateTime                                                                        \n",
       "2017-01-01 16:20:00        15.54     58.30       0.076                  241.3   \n",
       "2017-01-01 16:30:00        15.53     58.80       0.077                  219.0   \n",
       "2017-01-02 16:20:00        15.23     61.12       0.075                  238.2   \n",
       "2017-01-02 16:30:00        15.24     61.63       0.075                  216.8   \n",
       "2017-01-03 16:10:00        15.34     66.83       0.071                  259.9   \n",
       "...                          ...       ...         ...                    ...   \n",
       "2017-12-14 12:40:00        15.09     63.14       0.076                  539.1   \n",
       "2017-12-15 15:00:00        16.69     59.35       0.081                  478.0   \n",
       "2017-12-20 16:40:00        17.09     69.66       0.073                  235.5   \n",
       "2017-12-26 14:30:00        15.98     53.29       0.084                  345.7   \n",
       "2017-12-27 13:30:00        17.08     55.34       0.087                  508.1   \n",
       "\n",
       "                     diffuse_flows    zone_1_pc    zone_2_pc     zone_3_pc  \\\n",
       "DateTime                                                                     \n",
       "2017-01-01 16:20:00          246.0  28556.96203  17325.22796  16192.771080   \n",
       "2017-01-01 16:30:00          248.1  28514.43038  17456.53495  16343.132530   \n",
       "2017-01-02 16:20:00          253.4  29480.50633  20611.55015  16181.204820   \n",
       "2017-01-02 16:30:00          248.1  30161.01266  20545.89666  16314.216870   \n",
       "2017-01-03 16:10:00          256.6  31874.43038  21045.59271  16458.795180   \n",
       "...                            ...          ...          ...           ...   \n",
       "2017-12-14 12:40:00          283.7  31513.30798  25966.24732  10763.985590   \n",
       "2017-12-15 15:00:00          288.4  30996.19772  25885.24087   9283.073229   \n",
       "2017-12-20 16:40:00          252.8  32097.33840  26327.09420   9911.164466   \n",
       "2017-12-26 14:30:00          253.5  33569.58175  27107.70175  10896.518610   \n",
       "2017-12-27 13:30:00          265.4  33399.23954  27372.81375  10740.936370   \n",
       "\n",
       "                     hour  dayofweek  quarter  month  year  dayofyear  \\\n",
       "DateTime                                                                \n",
       "2017-01-01 16:20:00    16          6        1      1  2017          1   \n",
       "2017-01-01 16:30:00    16          6        1      1  2017          1   \n",
       "2017-01-02 16:20:00    16          0        1      1  2017          2   \n",
       "2017-01-02 16:30:00    16          0        1      1  2017          2   \n",
       "2017-01-03 16:10:00    16          1        1      1  2017          3   \n",
       "...                   ...        ...      ...    ...   ...        ...   \n",
       "2017-12-14 12:40:00    12          3        4     12  2017        348   \n",
       "2017-12-15 15:00:00    15          4        4     12  2017        349   \n",
       "2017-12-20 16:40:00    16          2        4     12  2017        354   \n",
       "2017-12-26 14:30:00    14          1        4     12  2017        360   \n",
       "2017-12-27 13:30:00    13          2        4     12  2017        361   \n",
       "\n",
       "                     dayofmonth  weekofyear  \n",
       "DateTime                                     \n",
       "2017-01-01 16:20:00           1          52  \n",
       "2017-01-01 16:30:00           1          52  \n",
       "2017-01-02 16:20:00           2           1  \n",
       "2017-01-02 16:30:00           2           1  \n",
       "2017-01-03 16:10:00           3           1  \n",
       "...                         ...         ...  \n",
       "2017-12-14 12:40:00          14          50  \n",
       "2017-12-15 15:00:00          15          50  \n",
       "2017-12-20 16:40:00          20          51  \n",
       "2017-12-26 14:30:00          26          52  \n",
       "2017-12-27 13:30:00          27          52  \n",
       "\n",
       "[4619 rows x 16 columns]"
      ]
     },
     "execution_count": 56,
     "metadata": {},
     "output_type": "execute_result"
    }
   ],
   "source": [
    "df[(df['diffuse_flows'] <= lower_limit) | (df['diffuse_flows'] >= upper_limit)]"
   ]
  },
  {
   "cell_type": "code",
   "execution_count": 57,
   "id": "d2102c42",
   "metadata": {},
   "outputs": [],
   "source": [
    "df_df_no_out = df[(df['diffuse_flows']<=lower_limit)|(df['diffuse_flows']>=upper_limit)].index\n",
    "df.drop(df_df_no_out , inplace=True)"
   ]
  },
  {
   "cell_type": "code",
   "execution_count": 58,
   "id": "b8e3197b",
   "metadata": {},
   "outputs": [
    {
     "data": {
      "text/plain": [
       "(4619,)"
      ]
     },
     "execution_count": 58,
     "metadata": {},
     "output_type": "execute_result"
    }
   ],
   "source": [
    "df_df_no_out.shape"
   ]
  },
  {
   "cell_type": "code",
   "execution_count": 59,
   "id": "5f662170",
   "metadata": {},
   "outputs": [
    {
     "data": {
      "text/plain": [
       "(44947,)"
      ]
     },
     "execution_count": 59,
     "metadata": {},
     "output_type": "execute_result"
    }
   ],
   "source": [
    "df.diffuse_flows.shape"
   ]
  },
  {
   "cell_type": "code",
   "execution_count": 60,
   "id": "204db3d8",
   "metadata": {},
   "outputs": [
    {
     "data": {
      "text/plain": [
       "<AxesSubplot:xlabel='diffuse_flows'>"
      ]
     },
     "execution_count": 60,
     "metadata": {},
     "output_type": "execute_result"
    },
    {
     "data": {
      "image/png": "[encoded data removed]",
      "text/plain": [
       "<Figure size 432x288 with 1 Axes>"
      ]
     },
     "metadata": {
      "needs_background": "light"
     },
     "output_type": "display_data"
    }
   ],
   "source": [
    "sns.boxplot(x=df['diffuse_flows'])"
   ]
  },
  {
   "cell_type": "code",
   "execution_count": 61,
   "id": "f39ab3f6",
   "metadata": {},
   "outputs": [
    {
     "data": {
      "text/html": [
       "<div>\n",
       "<style scoped>\n",
       "    .dataframe tbody tr th:only-of-type {\n",
       "        vertical-align: middle;\n",
       "    }\n",
       "\n",
       "    .dataframe tbody tr th {\n",
       "        vertical-align: top;\n",
       "    }\n",
       "\n",
       "    .dataframe thead th {\n",
       "        text-align: right;\n",
       "    }\n",
       "</style>\n",
       "<table border=\"1\" class=\"dataframe\">\n",
       "  <thead>\n",
       "    <tr style=\"text-align: right;\">\n",
       "      <th></th>\n",
       "      <th>Temperature</th>\n",
       "      <th>Humidity</th>\n",
       "      <th>wind_speed</th>\n",
       "      <th>general_diffuse_flows</th>\n",
       "      <th>diffuse_flows</th>\n",
       "      <th>zone_1_pc</th>\n",
       "      <th>zone_2_pc</th>\n",
       "      <th>zone_3_pc</th>\n",
       "      <th>hour</th>\n",
       "      <th>dayofweek</th>\n",
       "      <th>quarter</th>\n",
       "      <th>month</th>\n",
       "      <th>year</th>\n",
       "      <th>dayofyear</th>\n",
       "      <th>dayofmonth</th>\n",
       "      <th>weekofyear</th>\n",
       "    </tr>\n",
       "  </thead>\n",
       "  <tbody>\n",
       "    <tr>\n",
       "      <th>count</th>\n",
       "      <td>44947.000000</td>\n",
       "      <td>44947.000000</td>\n",
       "      <td>44947.000000</td>\n",
       "      <td>44947.000000</td>\n",
       "      <td>44947.000000</td>\n",
       "      <td>44947.000000</td>\n",
       "      <td>44947.000000</td>\n",
       "      <td>44947.000000</td>\n",
       "      <td>44947.000000</td>\n",
       "      <td>44947.000000</td>\n",
       "      <td>44947.000000</td>\n",
       "      <td>44947.000000</td>\n",
       "      <td>44947.0</td>\n",
       "      <td>44947.000000</td>\n",
       "      <td>44947.000000</td>\n",
       "      <td>44947.000000</td>\n",
       "    </tr>\n",
       "    <tr>\n",
       "      <th>mean</th>\n",
       "      <td>18.140406</td>\n",
       "      <td>70.155848</td>\n",
       "      <td>1.911447</td>\n",
       "      <td>115.028420</td>\n",
       "      <td>39.812293</td>\n",
       "      <td>32010.986712</td>\n",
       "      <td>20898.600504</td>\n",
       "      <td>17595.815550</td>\n",
       "      <td>11.243442</td>\n",
       "      <td>3.012793</td>\n",
       "      <td>2.561995</td>\n",
       "      <td>6.681314</td>\n",
       "      <td>2017.0</td>\n",
       "      <td>187.740561</td>\n",
       "      <td>15.691147</td>\n",
       "      <td>27.268249</td>\n",
       "    </tr>\n",
       "    <tr>\n",
       "      <th>std</th>\n",
       "      <td>5.539557</td>\n",
       "      <td>14.576014</td>\n",
       "      <td>2.336856</td>\n",
       "      <td>202.084403</td>\n",
       "      <td>61.920831</td>\n",
       "      <td>7459.266131</td>\n",
       "      <td>5387.140608</td>\n",
       "      <td>6752.522573</td>\n",
       "      <td>7.362221</td>\n",
       "      <td>2.001999</td>\n",
       "      <td>1.145628</td>\n",
       "      <td>3.553881</td>\n",
       "      <td>0.0</td>\n",
       "      <td>108.750483</td>\n",
       "      <td>8.773969</td>\n",
       "      <td>15.526240</td>\n",
       "    </tr>\n",
       "    <tr>\n",
       "      <th>min</th>\n",
       "      <td>3.247000</td>\n",
       "      <td>23.970000</td>\n",
       "      <td>0.050000</td>\n",
       "      <td>0.004000</td>\n",
       "      <td>0.011000</td>\n",
       "      <td>13895.696200</td>\n",
       "      <td>8560.081466</td>\n",
       "      <td>5935.174070</td>\n",
       "      <td>0.000000</td>\n",
       "      <td>0.000000</td>\n",
       "      <td>1.000000</td>\n",
       "      <td>1.000000</td>\n",
       "      <td>2017.0</td>\n",
       "      <td>1.000000</td>\n",
       "      <td>1.000000</td>\n",
       "      <td>1.000000</td>\n",
       "    </tr>\n",
       "    <tr>\n",
       "      <th>25%</th>\n",
       "      <td>13.980000</td>\n",
       "      <td>60.390000</td>\n",
       "      <td>0.078000</td>\n",
       "      <td>0.059000</td>\n",
       "      <td>0.115000</td>\n",
       "      <td>25465.387540</td>\n",
       "      <td>16556.993410</td>\n",
       "      <td>12623.902060</td>\n",
       "      <td>5.000000</td>\n",
       "      <td>1.000000</td>\n",
       "      <td>1.000000</td>\n",
       "      <td>3.000000</td>\n",
       "      <td>2017.0</td>\n",
       "      <td>90.000000</td>\n",
       "      <td>8.000000</td>\n",
       "      <td>13.000000</td>\n",
       "    </tr>\n",
       "    <tr>\n",
       "      <th>50%</th>\n",
       "      <td>18.010000</td>\n",
       "      <td>71.800000</td>\n",
       "      <td>0.085000</td>\n",
       "      <td>0.099000</td>\n",
       "      <td>0.167000</td>\n",
       "      <td>31561.731410</td>\n",
       "      <td>20589.665650</td>\n",
       "      <td>16054.838710</td>\n",
       "      <td>10.000000</td>\n",
       "      <td>3.000000</td>\n",
       "      <td>3.000000</td>\n",
       "      <td>7.000000</td>\n",
       "      <td>2017.0</td>\n",
       "      <td>195.000000</td>\n",
       "      <td>16.000000</td>\n",
       "      <td>28.000000</td>\n",
       "    </tr>\n",
       "    <tr>\n",
       "      <th>75%</th>\n",
       "      <td>22.080000</td>\n",
       "      <td>82.800000</td>\n",
       "      <td>4.915000</td>\n",
       "      <td>144.650000</td>\n",
       "      <td>64.275000</td>\n",
       "      <td>37494.451405</td>\n",
       "      <td>24873.417720</td>\n",
       "      <td>21621.213485</td>\n",
       "      <td>18.000000</td>\n",
       "      <td>5.000000</td>\n",
       "      <td>4.000000</td>\n",
       "      <td>10.000000</td>\n",
       "      <td>2017.0</td>\n",
       "      <td>284.000000</td>\n",
       "      <td>23.000000</td>\n",
       "      <td>41.000000</td>\n",
       "    </tr>\n",
       "    <tr>\n",
       "      <th>max</th>\n",
       "      <td>35.580000</td>\n",
       "      <td>94.800000</td>\n",
       "      <td>6.483000</td>\n",
       "      <td>782.000000</td>\n",
       "      <td>242.900000</td>\n",
       "      <td>52204.395120</td>\n",
       "      <td>37408.860760</td>\n",
       "      <td>47598.326360</td>\n",
       "      <td>23.000000</td>\n",
       "      <td>6.000000</td>\n",
       "      <td>4.000000</td>\n",
       "      <td>12.000000</td>\n",
       "      <td>2017.0</td>\n",
       "      <td>364.000000</td>\n",
       "      <td>31.000000</td>\n",
       "      <td>52.000000</td>\n",
       "    </tr>\n",
       "  </tbody>\n",
       "</table>\n",
       "</div>"
      ],
      "text/plain": [
       "        Temperature      Humidity    wind_speed  general_diffuse_flows  \\\n",
       "count  44947.000000  44947.000000  44947.000000           44947.000000   \n",
       "mean      18.140406     70.155848      1.911447             115.028420   \n",
       "std        5.539557     14.576014      2.336856             202.084403   \n",
       "min        3.247000     23.970000      0.050000               0.004000   \n",
       "25%       13.980000     60.390000      0.078000               0.059000   \n",
       "50%       18.010000     71.800000      0.085000               0.099000   \n",
       "75%       22.080000     82.800000      4.915000             144.650000   \n",
       "max       35.580000     94.800000      6.483000             782.000000   \n",
       "\n",
       "       diffuse_flows     zone_1_pc     zone_2_pc     zone_3_pc          hour  \\\n",
       "count   44947.000000  44947.000000  44947.000000  44947.000000  44947.000000   \n",
       "mean       39.812293  32010.986712  20898.600504  17595.815550     11.243442   \n",
       "std        61.920831   7459.266131   5387.140608   6752.522573      7.362221   \n",
       "min         0.011000  13895.696200   8560.081466   5935.174070      0.000000   \n",
       "25%         0.115000  25465.387540  16556.993410  12623.902060      5.000000   \n",
       "50%         0.167000  31561.731410  20589.665650  16054.838710     10.000000   \n",
       "75%        64.275000  37494.451405  24873.417720  21621.213485     18.000000   \n",
       "max       242.900000  52204.395120  37408.860760  47598.326360     23.000000   \n",
       "\n",
       "          dayofweek       quarter         month     year     dayofyear  \\\n",
       "count  44947.000000  44947.000000  44947.000000  44947.0  44947.000000   \n",
       "mean       3.012793      2.561995      6.681314   2017.0    187.740561   \n",
       "std        2.001999      1.145628      3.553881      0.0    108.750483   \n",
       "min        0.000000      1.000000      1.000000   2017.0      1.000000   \n",
       "25%        1.000000      1.000000      3.000000   2017.0     90.000000   \n",
       "50%        3.000000      3.000000      7.000000   2017.0    195.000000   \n",
       "75%        5.000000      4.000000     10.000000   2017.0    284.000000   \n",
       "max        6.000000      4.000000     12.000000   2017.0    364.000000   \n",
       "\n",
       "         dayofmonth    weekofyear  \n",
       "count  44947.000000  44947.000000  \n",
       "mean      15.691147     27.268249  \n",
       "std        8.773969     15.526240  \n",
       "min        1.000000      1.000000  \n",
       "25%        8.000000     13.000000  \n",
       "50%       16.000000     28.000000  \n",
       "75%       23.000000     41.000000  \n",
       "max       31.000000     52.000000  "
      ]
     },
     "execution_count": 61,
     "metadata": {},
     "output_type": "execute_result"
    }
   ],
   "source": [
    "df.describe()"
   ]
  },
  {
   "cell_type": "code",
   "execution_count": 62,
   "id": "48934632",
   "metadata": {},
   "outputs": [
    {
     "data": {
      "text/plain": [
       "Index(['Temperature', 'Humidity', 'wind_speed', 'general_diffuse_flows',\n",
       "       'diffuse_flows', 'zone_1_pc', 'zone_2_pc', 'zone_3_pc', 'hour',\n",
       "       'dayofweek', 'quarter', 'month', 'year', 'dayofyear', 'dayofmonth',\n",
       "       'weekofyear'],\n",
       "      dtype='object')"
      ]
     },
     "execution_count": 62,
     "metadata": {},
     "output_type": "execute_result"
    }
   ],
   "source": [
    "df.columns"
   ]
  },
  {
   "cell_type": "code",
   "execution_count": 63,
   "id": "c6dfebf8",
   "metadata": {},
   "outputs": [],
   "source": [
    "#cols_to_plot = ['Temperature', 'Humidity', 'wind_speed', 'general_diffuse_flows', 'diffuse_flows', 'zone_1_pc', 'zone_2_pc', 'zone_3_pc']\n",
    "#sns.pairplot(df[cols_to_plot], diag_kws={'color':'red', 'bins':5}, plot_kws={'color':'green'})"
   ]
  },
  {
   "cell_type": "code",
   "execution_count": 64,
   "id": "73664d99",
   "metadata": {},
   "outputs": [
    {
     "data": {
      "text/plain": [
       "Index(['Temperature', 'Humidity', 'wind_speed', 'general_diffuse_flows',\n",
       "       'diffuse_flows', 'zone_1_pc', 'zone_2_pc', 'zone_3_pc', 'hour',\n",
       "       'dayofweek', 'quarter', 'month', 'year', 'dayofyear', 'dayofmonth',\n",
       "       'weekofyear'],\n",
       "      dtype='object')"
      ]
     },
     "execution_count": 64,
     "metadata": {},
     "output_type": "execute_result"
    }
   ],
   "source": [
    "df.columns"
   ]
  },
  {
   "cell_type": "code",
   "execution_count": 65,
   "id": "91ba611a",
   "metadata": {},
   "outputs": [],
   "source": [
    "df['Power'] = df['zone_1_pc'] + df['zone_2_pc'] + df['zone_3_pc']"
   ]
  },
  {
   "cell_type": "code",
   "execution_count": 66,
   "id": "432b3ec0",
   "metadata": {},
   "outputs": [
    {
     "data": {
      "text/html": [
       "<div>\n",
       "<style scoped>\n",
       "    .dataframe tbody tr th:only-of-type {\n",
       "        vertical-align: middle;\n",
       "    }\n",
       "\n",
       "    .dataframe tbody tr th {\n",
       "        vertical-align: top;\n",
       "    }\n",
       "\n",
       "    .dataframe thead th {\n",
       "        text-align: right;\n",
       "    }\n",
       "</style>\n",
       "<table border=\"1\" class=\"dataframe\">\n",
       "  <thead>\n",
       "    <tr style=\"text-align: right;\">\n",
       "      <th></th>\n",
       "      <th>Temperature</th>\n",
       "      <th>Humidity</th>\n",
       "      <th>wind_speed</th>\n",
       "      <th>general_diffuse_flows</th>\n",
       "      <th>diffuse_flows</th>\n",
       "      <th>zone_1_pc</th>\n",
       "      <th>zone_2_pc</th>\n",
       "      <th>zone_3_pc</th>\n",
       "      <th>hour</th>\n",
       "      <th>dayofweek</th>\n",
       "      <th>quarter</th>\n",
       "      <th>month</th>\n",
       "      <th>year</th>\n",
       "      <th>dayofyear</th>\n",
       "      <th>dayofmonth</th>\n",
       "      <th>weekofyear</th>\n",
       "      <th>Power</th>\n",
       "    </tr>\n",
       "    <tr>\n",
       "      <th>DateTime</th>\n",
       "      <th></th>\n",
       "      <th></th>\n",
       "      <th></th>\n",
       "      <th></th>\n",
       "      <th></th>\n",
       "      <th></th>\n",
       "      <th></th>\n",
       "      <th></th>\n",
       "      <th></th>\n",
       "      <th></th>\n",
       "      <th></th>\n",
       "      <th></th>\n",
       "      <th></th>\n",
       "      <th></th>\n",
       "      <th></th>\n",
       "      <th></th>\n",
       "      <th></th>\n",
       "    </tr>\n",
       "  </thead>\n",
       "  <tbody>\n",
       "    <tr>\n",
       "      <th>2017-01-01 00:00:00</th>\n",
       "      <td>6.559</td>\n",
       "      <td>73.8</td>\n",
       "      <td>0.083</td>\n",
       "      <td>0.051</td>\n",
       "      <td>0.119</td>\n",
       "      <td>34055.69620</td>\n",
       "      <td>16128.87538</td>\n",
       "      <td>20240.96386</td>\n",
       "      <td>0</td>\n",
       "      <td>6</td>\n",
       "      <td>1</td>\n",
       "      <td>1</td>\n",
       "      <td>2017</td>\n",
       "      <td>1</td>\n",
       "      <td>1</td>\n",
       "      <td>52</td>\n",
       "      <td>70425.53544</td>\n",
       "    </tr>\n",
       "    <tr>\n",
       "      <th>2017-01-01 00:10:00</th>\n",
       "      <td>6.414</td>\n",
       "      <td>74.5</td>\n",
       "      <td>0.083</td>\n",
       "      <td>0.070</td>\n",
       "      <td>0.085</td>\n",
       "      <td>29814.68354</td>\n",
       "      <td>19375.07599</td>\n",
       "      <td>20131.08434</td>\n",
       "      <td>0</td>\n",
       "      <td>6</td>\n",
       "      <td>1</td>\n",
       "      <td>1</td>\n",
       "      <td>2017</td>\n",
       "      <td>1</td>\n",
       "      <td>1</td>\n",
       "      <td>52</td>\n",
       "      <td>69320.84387</td>\n",
       "    </tr>\n",
       "    <tr>\n",
       "      <th>2017-01-01 00:20:00</th>\n",
       "      <td>6.313</td>\n",
       "      <td>74.5</td>\n",
       "      <td>0.080</td>\n",
       "      <td>0.062</td>\n",
       "      <td>0.100</td>\n",
       "      <td>29128.10127</td>\n",
       "      <td>19006.68693</td>\n",
       "      <td>19668.43373</td>\n",
       "      <td>0</td>\n",
       "      <td>6</td>\n",
       "      <td>1</td>\n",
       "      <td>1</td>\n",
       "      <td>2017</td>\n",
       "      <td>1</td>\n",
       "      <td>1</td>\n",
       "      <td>52</td>\n",
       "      <td>67803.22193</td>\n",
       "    </tr>\n",
       "    <tr>\n",
       "      <th>2017-01-01 00:30:00</th>\n",
       "      <td>6.121</td>\n",
       "      <td>75.0</td>\n",
       "      <td>0.083</td>\n",
       "      <td>0.091</td>\n",
       "      <td>0.096</td>\n",
       "      <td>28228.86076</td>\n",
       "      <td>18361.09422</td>\n",
       "      <td>18899.27711</td>\n",
       "      <td>0</td>\n",
       "      <td>6</td>\n",
       "      <td>1</td>\n",
       "      <td>1</td>\n",
       "      <td>2017</td>\n",
       "      <td>1</td>\n",
       "      <td>1</td>\n",
       "      <td>52</td>\n",
       "      <td>65489.23209</td>\n",
       "    </tr>\n",
       "    <tr>\n",
       "      <th>2017-01-01 00:40:00</th>\n",
       "      <td>5.921</td>\n",
       "      <td>75.7</td>\n",
       "      <td>0.081</td>\n",
       "      <td>0.048</td>\n",
       "      <td>0.085</td>\n",
       "      <td>27335.69620</td>\n",
       "      <td>17872.34043</td>\n",
       "      <td>18442.40964</td>\n",
       "      <td>0</td>\n",
       "      <td>6</td>\n",
       "      <td>1</td>\n",
       "      <td>1</td>\n",
       "      <td>2017</td>\n",
       "      <td>1</td>\n",
       "      <td>1</td>\n",
       "      <td>52</td>\n",
       "      <td>63650.44627</td>\n",
       "    </tr>\n",
       "  </tbody>\n",
       "</table>\n",
       "</div>"
      ],
      "text/plain": [
       "                     Temperature  Humidity  wind_speed  general_diffuse_flows  \\\n",
       "DateTime                                                                        \n",
       "2017-01-01 00:00:00        6.559      73.8       0.083                  0.051   \n",
       "2017-01-01 00:10:00        6.414      74.5       0.083                  0.070   \n",
       "2017-01-01 00:20:00        6.313      74.5       0.080                  0.062   \n",
       "2017-01-01 00:30:00        6.121      75.0       0.083                  0.091   \n",
       "2017-01-01 00:40:00        5.921      75.7       0.081                  0.048   \n",
       "\n",
       "                     diffuse_flows    zone_1_pc    zone_2_pc    zone_3_pc  \\\n",
       "DateTime                                                                    \n",
       "2017-01-01 00:00:00          0.119  34055.69620  16128.87538  20240.96386   \n",
       "2017-01-01 00:10:00          0.085  29814.68354  19375.07599  20131.08434   \n",
       "2017-01-01 00:20:00          0.100  29128.10127  19006.68693  19668.43373   \n",
       "2017-01-01 00:30:00          0.096  28228.86076  18361.09422  18899.27711   \n",
       "2017-01-01 00:40:00          0.085  27335.69620  17872.34043  18442.40964   \n",
       "\n",
       "                     hour  dayofweek  quarter  month  year  dayofyear  \\\n",
       "DateTime                                                                \n",
       "2017-01-01 00:00:00     0          6        1      1  2017          1   \n",
       "2017-01-01 00:10:00     0          6        1      1  2017          1   \n",
       "2017-01-01 00:20:00     0          6        1      1  2017          1   \n",
       "2017-01-01 00:30:00     0          6        1      1  2017          1   \n",
       "2017-01-01 00:40:00     0          6        1      1  2017          1   \n",
       "\n",
       "                     dayofmonth  weekofyear        Power  \n",
       "DateTime                                                  \n",
       "2017-01-01 00:00:00           1          52  70425.53544  \n",
       "2017-01-01 00:10:00           1          52  69320.84387  \n",
       "2017-01-01 00:20:00           1          52  67803.22193  \n",
       "2017-01-01 00:30:00           1          52  65489.23209  \n",
       "2017-01-01 00:40:00           1          52  63650.44627  "
      ]
     },
     "execution_count": 66,
     "metadata": {},
     "output_type": "execute_result"
    }
   ],
   "source": [
    "df.head()"
   ]
  },
  {
   "cell_type": "code",
   "execution_count": 67,
   "id": "deb5ee6f",
   "metadata": {},
   "outputs": [
    {
     "data": {
      "text/plain": [
       "<AxesSubplot:xlabel='hour', ylabel='zone_1_pc'>"
      ]
     },
     "execution_count": 67,
     "metadata": {},
     "output_type": "execute_result"
    },
    {
     "data": {
      "image/png": "[encoded data removed]",
      "text/plain": [
       "<Figure size 864x432 with 1 Axes>"
      ]
     },
     "metadata": {
      "needs_background": "light"
     },
     "output_type": "display_data"
    }
   ],
   "source": [
    "plt.figure(figsize=(12,6))\n",
    "sns.boxplot(x='hour',y='zone_1_pc',data=df)\n"
   ]
  },
  {
   "cell_type": "code",
   "execution_count": 68,
   "id": "cd845730",
   "metadata": {},
   "outputs": [
    {
     "data": {
      "text/plain": [
       "<AxesSubplot:xlabel='hour', ylabel='zone_2_pc'>"
      ]
     },
     "execution_count": 68,
     "metadata": {},
     "output_type": "execute_result"
    },
    {
     "data": {
      "image/png": "[encoded data removed]",
      "text/plain": [
       "<Figure size 864x432 with 1 Axes>"
      ]
     },
     "metadata": {
      "needs_background": "light"
     },
     "output_type": "display_data"
    }
   ],
   "source": [
    "plt.figure(figsize=(12,6))\n",
    "sns.boxplot(x='hour',y='zone_2_pc',data=df)"
   ]
  },
  {
   "cell_type": "code",
   "execution_count": 69,
   "id": "33b87317",
   "metadata": {},
   "outputs": [
    {
     "data": {
      "text/plain": [
       "<AxesSubplot:xlabel='hour', ylabel='zone_3_pc'>"
      ]
     },
     "execution_count": 69,
     "metadata": {},
     "output_type": "execute_result"
    },
    {
     "data": {
      "image/png": "[encoded data removed]",
      "text/plain": [
       "<Figure size 864x432 with 1 Axes>"
      ]
     },
     "metadata": {
      "needs_background": "light"
     },
     "output_type": "display_data"
    }
   ],
   "source": [
    "plt.figure(figsize=(12,6))\n",
    "sns.boxplot(x='hour',y='zone_3_pc',data=df)"
   ]
  },
  {
   "cell_type": "code",
   "execution_count": 70,
   "id": "e65c6bee",
   "metadata": {},
   "outputs": [
    {
     "data": {
      "text/plain": [
       "Index(['Temperature', 'Humidity', 'wind_speed', 'general_diffuse_flows',\n",
       "       'diffuse_flows', 'zone_1_pc', 'zone_2_pc', 'zone_3_pc', 'hour',\n",
       "       'dayofweek', 'quarter', 'month', 'year', 'dayofyear', 'dayofmonth',\n",
       "       'weekofyear', 'Power'],\n",
       "      dtype='object')"
      ]
     },
     "execution_count": 70,
     "metadata": {},
     "output_type": "execute_result"
    }
   ],
   "source": [
    "df.columns"
   ]
  },
  {
   "cell_type": "code",
   "execution_count": 71,
   "id": "9832a0cd",
   "metadata": {},
   "outputs": [
    {
     "data": {
      "text/html": [
       "<div>\n",
       "<style scoped>\n",
       "    .dataframe tbody tr th:only-of-type {\n",
       "        vertical-align: middle;\n",
       "    }\n",
       "\n",
       "    .dataframe tbody tr th {\n",
       "        vertical-align: top;\n",
       "    }\n",
       "\n",
       "    .dataframe thead th {\n",
       "        text-align: right;\n",
       "    }\n",
       "</style>\n",
       "<table border=\"1\" class=\"dataframe\">\n",
       "  <thead>\n",
       "    <tr style=\"text-align: right;\">\n",
       "      <th></th>\n",
       "      <th>Temperature</th>\n",
       "      <th>Humidity</th>\n",
       "      <th>wind_speed</th>\n",
       "      <th>general_diffuse_flows</th>\n",
       "      <th>diffuse_flows</th>\n",
       "      <th>zone_1_pc</th>\n",
       "      <th>zone_2_pc</th>\n",
       "      <th>zone_3_pc</th>\n",
       "      <th>hour</th>\n",
       "      <th>dayofweek</th>\n",
       "      <th>quarter</th>\n",
       "      <th>month</th>\n",
       "      <th>year</th>\n",
       "      <th>dayofyear</th>\n",
       "      <th>dayofmonth</th>\n",
       "      <th>weekofyear</th>\n",
       "      <th>Power</th>\n",
       "    </tr>\n",
       "    <tr>\n",
       "      <th>DateTime</th>\n",
       "      <th></th>\n",
       "      <th></th>\n",
       "      <th></th>\n",
       "      <th></th>\n",
       "      <th></th>\n",
       "      <th></th>\n",
       "      <th></th>\n",
       "      <th></th>\n",
       "      <th></th>\n",
       "      <th></th>\n",
       "      <th></th>\n",
       "      <th></th>\n",
       "      <th></th>\n",
       "      <th></th>\n",
       "      <th></th>\n",
       "      <th></th>\n",
       "      <th></th>\n",
       "    </tr>\n",
       "  </thead>\n",
       "  <tbody>\n",
       "    <tr>\n",
       "      <th>2017-01-01 00:00:00</th>\n",
       "      <td>6.559</td>\n",
       "      <td>73.8</td>\n",
       "      <td>0.083</td>\n",
       "      <td>0.051</td>\n",
       "      <td>0.119</td>\n",
       "      <td>34055.69620</td>\n",
       "      <td>16128.87538</td>\n",
       "      <td>20240.96386</td>\n",
       "      <td>0</td>\n",
       "      <td>6</td>\n",
       "      <td>1</td>\n",
       "      <td>1</td>\n",
       "      <td>2017</td>\n",
       "      <td>1</td>\n",
       "      <td>1</td>\n",
       "      <td>52</td>\n",
       "      <td>70425.53544</td>\n",
       "    </tr>\n",
       "    <tr>\n",
       "      <th>2017-01-01 00:10:00</th>\n",
       "      <td>6.414</td>\n",
       "      <td>74.5</td>\n",
       "      <td>0.083</td>\n",
       "      <td>0.070</td>\n",
       "      <td>0.085</td>\n",
       "      <td>29814.68354</td>\n",
       "      <td>19375.07599</td>\n",
       "      <td>20131.08434</td>\n",
       "      <td>0</td>\n",
       "      <td>6</td>\n",
       "      <td>1</td>\n",
       "      <td>1</td>\n",
       "      <td>2017</td>\n",
       "      <td>1</td>\n",
       "      <td>1</td>\n",
       "      <td>52</td>\n",
       "      <td>69320.84387</td>\n",
       "    </tr>\n",
       "    <tr>\n",
       "      <th>2017-01-01 00:20:00</th>\n",
       "      <td>6.313</td>\n",
       "      <td>74.5</td>\n",
       "      <td>0.080</td>\n",
       "      <td>0.062</td>\n",
       "      <td>0.100</td>\n",
       "      <td>29128.10127</td>\n",
       "      <td>19006.68693</td>\n",
       "      <td>19668.43373</td>\n",
       "      <td>0</td>\n",
       "      <td>6</td>\n",
       "      <td>1</td>\n",
       "      <td>1</td>\n",
       "      <td>2017</td>\n",
       "      <td>1</td>\n",
       "      <td>1</td>\n",
       "      <td>52</td>\n",
       "      <td>67803.22193</td>\n",
       "    </tr>\n",
       "    <tr>\n",
       "      <th>2017-01-01 00:30:00</th>\n",
       "      <td>6.121</td>\n",
       "      <td>75.0</td>\n",
       "      <td>0.083</td>\n",
       "      <td>0.091</td>\n",
       "      <td>0.096</td>\n",
       "      <td>28228.86076</td>\n",
       "      <td>18361.09422</td>\n",
       "      <td>18899.27711</td>\n",
       "      <td>0</td>\n",
       "      <td>6</td>\n",
       "      <td>1</td>\n",
       "      <td>1</td>\n",
       "      <td>2017</td>\n",
       "      <td>1</td>\n",
       "      <td>1</td>\n",
       "      <td>52</td>\n",
       "      <td>65489.23209</td>\n",
       "    </tr>\n",
       "    <tr>\n",
       "      <th>2017-01-01 00:40:00</th>\n",
       "      <td>5.921</td>\n",
       "      <td>75.7</td>\n",
       "      <td>0.081</td>\n",
       "      <td>0.048</td>\n",
       "      <td>0.085</td>\n",
       "      <td>27335.69620</td>\n",
       "      <td>17872.34043</td>\n",
       "      <td>18442.40964</td>\n",
       "      <td>0</td>\n",
       "      <td>6</td>\n",
       "      <td>1</td>\n",
       "      <td>1</td>\n",
       "      <td>2017</td>\n",
       "      <td>1</td>\n",
       "      <td>1</td>\n",
       "      <td>52</td>\n",
       "      <td>63650.44627</td>\n",
       "    </tr>\n",
       "  </tbody>\n",
       "</table>\n",
       "</div>"
      ],
      "text/plain": [
       "                     Temperature  Humidity  wind_speed  general_diffuse_flows  \\\n",
       "DateTime                                                                        \n",
       "2017-01-01 00:00:00        6.559      73.8       0.083                  0.051   \n",
       "2017-01-01 00:10:00        6.414      74.5       0.083                  0.070   \n",
       "2017-01-01 00:20:00        6.313      74.5       0.080                  0.062   \n",
       "2017-01-01 00:30:00        6.121      75.0       0.083                  0.091   \n",
       "2017-01-01 00:40:00        5.921      75.7       0.081                  0.048   \n",
       "\n",
       "                     diffuse_flows    zone_1_pc    zone_2_pc    zone_3_pc  \\\n",
       "DateTime                                                                    \n",
       "2017-01-01 00:00:00          0.119  34055.69620  16128.87538  20240.96386   \n",
       "2017-01-01 00:10:00          0.085  29814.68354  19375.07599  20131.08434   \n",
       "2017-01-01 00:20:00          0.100  29128.10127  19006.68693  19668.43373   \n",
       "2017-01-01 00:30:00          0.096  28228.86076  18361.09422  18899.27711   \n",
       "2017-01-01 00:40:00          0.085  27335.69620  17872.34043  18442.40964   \n",
       "\n",
       "                     hour  dayofweek  quarter  month  year  dayofyear  \\\n",
       "DateTime                                                                \n",
       "2017-01-01 00:00:00     0          6        1      1  2017          1   \n",
       "2017-01-01 00:10:00     0          6        1      1  2017          1   \n",
       "2017-01-01 00:20:00     0          6        1      1  2017          1   \n",
       "2017-01-01 00:30:00     0          6        1      1  2017          1   \n",
       "2017-01-01 00:40:00     0          6        1      1  2017          1   \n",
       "\n",
       "                     dayofmonth  weekofyear        Power  \n",
       "DateTime                                                  \n",
       "2017-01-01 00:00:00           1          52  70425.53544  \n",
       "2017-01-01 00:10:00           1          52  69320.84387  \n",
       "2017-01-01 00:20:00           1          52  67803.22193  \n",
       "2017-01-01 00:30:00           1          52  65489.23209  \n",
       "2017-01-01 00:40:00           1          52  63650.44627  "
      ]
     },
     "execution_count": 71,
     "metadata": {},
     "output_type": "execute_result"
    }
   ],
   "source": [
    "df.head()"
   ]
  },
  {
   "cell_type": "code",
   "execution_count": 72,
   "id": "c9a61293",
   "metadata": {},
   "outputs": [
    {
     "data": {
      "text/html": [
       "<div>\n",
       "<style scoped>\n",
       "    .dataframe tbody tr th:only-of-type {\n",
       "        vertical-align: middle;\n",
       "    }\n",
       "\n",
       "    .dataframe tbody tr th {\n",
       "        vertical-align: top;\n",
       "    }\n",
       "\n",
       "    .dataframe thead th {\n",
       "        text-align: right;\n",
       "    }\n",
       "</style>\n",
       "<table border=\"1\" class=\"dataframe\">\n",
       "  <thead>\n",
       "    <tr style=\"text-align: right;\">\n",
       "      <th></th>\n",
       "      <th>Temperature</th>\n",
       "      <th>variable</th>\n",
       "      <th>value</th>\n",
       "    </tr>\n",
       "  </thead>\n",
       "  <tbody>\n",
       "    <tr>\n",
       "      <th>0</th>\n",
       "      <td>6.559</td>\n",
       "      <td>zone_1_pc</td>\n",
       "      <td>34055.69620</td>\n",
       "    </tr>\n",
       "    <tr>\n",
       "      <th>1</th>\n",
       "      <td>6.414</td>\n",
       "      <td>zone_1_pc</td>\n",
       "      <td>29814.68354</td>\n",
       "    </tr>\n",
       "    <tr>\n",
       "      <th>2</th>\n",
       "      <td>6.313</td>\n",
       "      <td>zone_1_pc</td>\n",
       "      <td>29128.10127</td>\n",
       "    </tr>\n",
       "    <tr>\n",
       "      <th>3</th>\n",
       "      <td>6.121</td>\n",
       "      <td>zone_1_pc</td>\n",
       "      <td>28228.86076</td>\n",
       "    </tr>\n",
       "    <tr>\n",
       "      <th>4</th>\n",
       "      <td>5.921</td>\n",
       "      <td>zone_1_pc</td>\n",
       "      <td>27335.69620</td>\n",
       "    </tr>\n",
       "  </tbody>\n",
       "</table>\n",
       "</div>"
      ],
      "text/plain": [
       "   Temperature   variable        value\n",
       "0        6.559  zone_1_pc  34055.69620\n",
       "1        6.414  zone_1_pc  29814.68354\n",
       "2        6.313  zone_1_pc  29128.10127\n",
       "3        6.121  zone_1_pc  28228.86076\n",
       "4        5.921  zone_1_pc  27335.69620"
      ]
     },
     "execution_count": 72,
     "metadata": {},
     "output_type": "execute_result"
    }
   ],
   "source": [
    "df_melted = pd.melt(df, id_vars =['Temperature'], value_vars =['zone_1_pc', 'zone_2_pc', 'zone_3_pc'])\n",
    "df_melted.head()"
   ]
  },
  {
   "cell_type": "code",
   "execution_count": 73,
   "id": "6a9b5f63",
   "metadata": {},
   "outputs": [
    {
     "data": {
      "text/plain": [
       "Text(0, 0.5, 'Power consumed')"
      ]
     },
     "execution_count": 73,
     "metadata": {},
     "output_type": "execute_result"
    },
    {
     "data": {
      "image/png": "[encoded data removed]",
      "text/plain": [
       "<Figure size 432x288 with 1 Axes>"
      ]
     },
     "metadata": {
      "needs_background": "light"
     },
     "output_type": "display_data"
    }
   ],
   "source": [
    "sns.boxplot(x='variable', y='value', data=df_melted).set(title='Power Consumption by each zone')\n",
    "\n",
    "#modify axis labels\n",
    "plt.xlabel('Zone')\n",
    "plt.ylabel('Power consumed')"
   ]
  },
  {
   "cell_type": "code",
   "execution_count": 74,
   "id": "f52a59a1",
   "metadata": {},
   "outputs": [
    {
     "data": {
      "text/plain": [
       "<AxesSubplot:xlabel='Temperature', ylabel='Count'>"
      ]
     },
     "execution_count": 74,
     "metadata": {},
     "output_type": "execute_result"
    },
    {
     "data": {
      "image/png": "[encoded data removed]",
      "text/plain": [
       "<Figure size 432x288 with 1 Axes>"
      ]
     },
     "metadata": {
      "needs_background": "light"
     },
     "output_type": "display_data"
    }
   ],
   "source": [
    "sns.histplot(df[\"Temperature\"], kde=True, bins = 10)"
   ]
  },
  {
   "cell_type": "code",
   "execution_count": 75,
   "id": "5b67520a",
   "metadata": {},
   "outputs": [
    {
     "data": {
      "text/plain": [
       "<AxesSubplot:xlabel='Humidity', ylabel='Count'>"
      ]
     },
     "execution_count": 75,
     "metadata": {},
     "output_type": "execute_result"
    },
    {
     "data": {
      "image/png": "[encoded data removed]",
      "text/plain": [
       "<Figure size 432x288 with 1 Axes>"
      ]
     },
     "metadata": {
      "needs_background": "light"
     },
     "output_type": "display_data"
    }
   ],
   "source": [
    "sns.histplot(df[\"Humidity\"], kde=True, bins = 10)"
   ]
  },
  {
   "cell_type": "code",
   "execution_count": 76,
   "id": "e034b581",
   "metadata": {},
   "outputs": [
    {
     "data": {
      "text/plain": [
       "<AxesSubplot:xlabel='wind_speed', ylabel='Count'>"
      ]
     },
     "execution_count": 76,
     "metadata": {},
     "output_type": "execute_result"
    },
    {
     "data": {
      "image/png": "[encoded data removed]",
      "text/plain": [
       "<Figure size 432x288 with 1 Axes>"
      ]
     },
     "metadata": {
      "needs_background": "light"
     },
     "output_type": "display_data"
    }
   ],
   "source": [
    "sns.histplot(df[\"wind_speed\"], kde=True, bins = 10)"
   ]
  },
  {
   "cell_type": "code",
   "execution_count": 77,
   "id": "2f2d4d3c",
   "metadata": {},
   "outputs": [
    {
     "data": {
      "text/plain": [
       "<AxesSubplot:xlabel='general_diffuse_flows', ylabel='Count'>"
      ]
     },
     "execution_count": 77,
     "metadata": {},
     "output_type": "execute_result"
    },
    {
     "data": {
      "image/png": "[encoded data removed]",
      "text/plain": [
       "<Figure size 432x288 with 1 Axes>"
      ]
     },
     "metadata": {
      "needs_background": "light"
     },
     "output_type": "display_data"
    }
   ],
   "source": [
    "sns.histplot(df[\"general_diffuse_flows\"], kde=True, bins = 10)"
   ]
  },
  {
   "cell_type": "code",
   "execution_count": 78,
   "id": "fd7f492d",
   "metadata": {},
   "outputs": [
    {
     "data": {
      "text/plain": [
       "<AxesSubplot:xlabel='diffuse_flows', ylabel='Count'>"
      ]
     },
     "execution_count": 78,
     "metadata": {},
     "output_type": "execute_result"
    },
    {
     "data": {
      "image/png": "[encoded data removed]",
      "text/plain": [
       "<Figure size 432x288 with 1 Axes>"
      ]
     },
     "metadata": {
      "needs_background": "light"
     },
     "output_type": "display_data"
    }
   ],
   "source": [
    "sns.histplot(df[\"diffuse_flows\"], kde=True, bins = 10)"
   ]
  },
  {
   "cell_type": "code",
   "execution_count": 79,
   "id": "4230c2bf",
   "metadata": {},
   "outputs": [
    {
     "data": {
      "text/plain": [
       "Index(['Temperature', 'Humidity', 'wind_speed', 'general_diffuse_flows',\n",
       "       'diffuse_flows', 'zone_1_pc', 'zone_2_pc', 'zone_3_pc', 'hour',\n",
       "       'dayofweek', 'quarter', 'month', 'year', 'dayofyear', 'dayofmonth',\n",
       "       'weekofyear', 'Power'],\n",
       "      dtype='object')"
      ]
     },
     "execution_count": 79,
     "metadata": {},
     "output_type": "execute_result"
    }
   ],
   "source": [
    "df.columns"
   ]
  },
  {
   "cell_type": "code",
   "execution_count": 80,
   "id": "a472cc15",
   "metadata": {},
   "outputs": [],
   "source": [
    "from sklearn.preprocessing import StandardScaler\n",
    "from sklearn.svm import SVC\n",
    "from sklearn.datasets import make_classification\n",
    "from sklearn.model_selection import train_test_split\n",
    "from sklearn.pipeline import Pipeline\n",
    "from sklearn.metrics import plot_confusion_matrix\n",
    "from sklearn.metrics import accuracy_score\n",
    "from sklearn import datasets, linear_model\n",
    "from sklearn.metrics import mean_squared_error, r2_score\n",
    "from sklearn.model_selection import KFold\n",
    "from sklearn.metrics import mean_absolute_percentage_error\n",
    "import warnings\n",
    "import time\n",
    "warnings.filterwarnings('ignore')\n",
    "x_columns = [\"month\",\"dayofweek\",\"hour\",\"Temperature\", \"Humidity\", \"wind_speed\", \"general_diffuse_flows\", \"diffuse_flows\"]\n",
    "y_column_zone_1 = \"zone_1_pc\"\n",
    "y_column_zone_2 = \"zone_2_pc\"\n",
    "y_column_zone_3 = \"zone_3_pc\"\n",
    "y_columns = [y_column_zone_1, y_column_zone_2, y_column_zone_3]\n",
    "KFOLD_NSPLITS = 3\n",
    "pd.set_option('display.max_rows', 500)"
   ]
  },
  {
   "cell_type": "code",
   "execution_count": 81,
   "id": "59ae2c56",
   "metadata": {},
   "outputs": [],
   "source": [
    "def normalized(Xtrain, Xtest=None):\n",
    "  scaler = StandardScaler()\n",
    "  scaler.fit(Xtrain)\n",
    "  Xtrain = scaler.transform(Xtrain)\n",
    "  if Xtest:\n",
    "    Xtest = scaler.transform(Xtest)\n",
    "    return (Xtrain, Xtest)\n",
    "  return Xtrain"
   ]
  },
  {
   "cell_type": "code",
   "execution_count": 84,
   "id": "43024af8",
   "metadata": {},
   "outputs": [
    {
     "data": {
      "text/plain": [
       "array([[-2.09069696,  0.25001295, -0.78244759, -0.56896375, -0.64104008],\n",
       "       [-2.11687263,  0.29803759, -0.78244759, -0.56886973, -0.64158918],\n",
       "       [-2.13510533,  0.29803759, -0.78373138, -0.56890931, -0.64134693],\n",
       "       ...,\n",
       "       [-2.02913901,  0.18140633, -0.7811638 , -0.56880045, -0.64176682],\n",
       "       [-2.05477311,  0.19512765, -0.78373138, -0.56888952, -0.64152458],\n",
       "       [-2.086906  ,  0.27059494, -0.78330345, -0.56890931, -0.64116928]])"
      ]
     },
     "execution_count": 84,
     "metadata": {},
     "output_type": "execute_result"
    }
   ],
   "source": [
    "normalized(df[[\"Temperature\", \"Humidity\", \"wind_speed\", \"general_diffuse_flows\", \"diffuse_flows\"]])"
   ]
  },
  {
   "cell_type": "code",
   "execution_count": 85,
   "id": "2c341bda",
   "metadata": {},
   "outputs": [],
   "source": [
    "def multiple_reg(df, x_columns, y_column):\n",
    "  start_time = time.perf_counter()\n",
    "  X = df[x_columns].to_numpy()\n",
    "  Y = df[y_column].to_numpy()\n",
    "\n",
    "  kf = KFold(n_splits=KFOLD_NSPLITS)\n",
    "\n",
    "  performance_test=[]\n",
    "  rscore = []\n",
    "  \n",
    "  for train_index, test_index in kf.split(X):\n",
    "    X_train, X_test = X[train_index], X[test_index]\n",
    "    Y_train, Y_test = Y[train_index], Y[test_index]\n",
    "    \n",
    "    scaler = StandardScaler()\n",
    "    scaler.fit(X_train)\n",
    "    X_train = scaler.transform(X_train)\n",
    "    X_test = scaler.transform(X_test)\n",
    "\n",
    "    regr = linear_model.LinearRegression()\n",
    "    regr.fit(X_train, Y_train)\n",
    "    Y_pred = regr.predict(X_test)\n",
    "\n",
    "    r2 = r2_score(Y_test, Y_pred)  \n",
    "    mape = mean_absolute_percentage_error(y_true = Y_test, y_pred = Y_pred)\n",
    "\n",
    "    rscore.append(r2)\n",
    "    performance_test.append(mape)  \n",
    "    duration = (time.perf_counter() - start_time)/60\n",
    "  return (np.mean(rscore), np.mean(performance_test), np.std(performance_test), duration)"
   ]
  },
  {
   "cell_type": "code",
   "execution_count": 86,
   "id": "3155984d",
   "metadata": {},
   "outputs": [
    {
     "name": "stdout",
     "output_type": "stream",
     "text": [
      "y_column: zone_1_pc, r2: 0.621820000694617, mape: 0.11627132384458157, confidence_interval: 0.009835400425837094, duration: 0.0027035033333315064\n",
      "y_column: zone_2_pc, r2: 0.17717634641341853, mape: 0.16680753960863992, confidence_interval: 0.030971826970549694, duration: 0.0025715666666656033\n",
      "y_column: zone_3_pc, r2: -0.3320035631271076, mape: 0.2638734159467087, confidence_interval: 0.06261541547840212, duration: 0.0016674400000018371\n"
     ]
    },
    {
     "data": {
      "text/html": [
       "<div>\n",
       "<style scoped>\n",
       "    .dataframe tbody tr th:only-of-type {\n",
       "        vertical-align: middle;\n",
       "    }\n",
       "\n",
       "    .dataframe tbody tr th {\n",
       "        vertical-align: top;\n",
       "    }\n",
       "\n",
       "    .dataframe thead th {\n",
       "        text-align: right;\n",
       "    }\n",
       "</style>\n",
       "<table border=\"1\" class=\"dataframe\">\n",
       "  <thead>\n",
       "    <tr style=\"text-align: right;\">\n",
       "      <th></th>\n",
       "      <th>zona</th>\n",
       "      <th>r2</th>\n",
       "      <th>mape</th>\n",
       "      <th>confidence_interval</th>\n",
       "      <th>duration (m)</th>\n",
       "    </tr>\n",
       "  </thead>\n",
       "  <tbody>\n",
       "    <tr>\n",
       "      <th>1</th>\n",
       "      <td>zone_1_pc</td>\n",
       "      <td>0.621820</td>\n",
       "      <td>0.116271</td>\n",
       "      <td>0.009835</td>\n",
       "      <td>0.002704</td>\n",
       "    </tr>\n",
       "    <tr>\n",
       "      <th>2</th>\n",
       "      <td>zone_2_pc</td>\n",
       "      <td>0.177176</td>\n",
       "      <td>0.166808</td>\n",
       "      <td>0.030972</td>\n",
       "      <td>0.002572</td>\n",
       "    </tr>\n",
       "    <tr>\n",
       "      <th>3</th>\n",
       "      <td>zone_3_pc</td>\n",
       "      <td>-0.332004</td>\n",
       "      <td>0.263873</td>\n",
       "      <td>0.062615</td>\n",
       "      <td>0.001667</td>\n",
       "    </tr>\n",
       "  </tbody>\n",
       "</table>\n",
       "</div>"
      ],
      "text/plain": [
       "        zona        r2      mape  confidence_interval  duration (m)\n",
       "1  zone_1_pc  0.621820  0.116271             0.009835      0.002704\n",
       "2  zone_2_pc  0.177176  0.166808             0.030972      0.002572\n",
       "3  zone_3_pc -0.332004  0.263873             0.062615      0.001667"
      ]
     },
     "execution_count": 86,
     "metadata": {},
     "output_type": "execute_result"
    }
   ],
   "source": [
    "multiple_reg_results = pd.DataFrame()\n",
    "idx = 0\n",
    "for y_column in y_columns:\n",
    "    idx = idx + 1\n",
    "    r2, mape, confidence_interval, duration = multiple_reg(df, x_columns, y_column)\n",
    "    multiple_reg_results.loc[idx,'zona'] = y_column\n",
    "    multiple_reg_results.loc[idx,'r2'] = r2\n",
    "    multiple_reg_results.loc[idx,'mape'] = mape\n",
    "    multiple_reg_results.loc[idx,'confidence_interval'] = confidence_interval\n",
    "    multiple_reg_results.loc[idx,'duration (m)'] = duration\n",
    "    print(f\"y_column: {y_column}, r2: {r2}, mape: {mape}, confidence_interval: {confidence_interval}, duration: {duration}\")\n",
    "multiple_reg_results"
   ]
  },
  {
   "cell_type": "code",
   "execution_count": 87,
   "id": "ec847220",
   "metadata": {},
   "outputs": [],
   "source": [
    "from sklearn.ensemble import RandomForestRegressor\n",
    "from sklearn.model_selection import train_test_split\n",
    "\n",
    "def random_forest(df, x_columns, y_column, n_estimators = 10, max_features=2):\n",
    "  start_time = time.perf_counter()\n",
    "  df = df.sample(frac=1)\n",
    "  X = df[x_columns].to_numpy()\n",
    "  Y = df[y_column].to_numpy()\n",
    "\n",
    "  kf = KFold(n_splits=KFOLD_NSPLITS)\n",
    "\n",
    "  performance_test=[]\n",
    "  rscore = []\n",
    "  \n",
    "  for train_index, test_index in kf.split(X):\n",
    "    X_train, X_test = X[train_index], X[test_index]\n",
    "    Y_train, Y_test = Y[train_index], Y[test_index]\n",
    "    \n",
    "    scaler = StandardScaler()\n",
    "    scaler.fit(X_train)\n",
    "    X_train = scaler.transform(X_train)\n",
    "    X_test = scaler.transform(X_test)\n",
    "\n",
    "    clf = RandomForestRegressor(n_estimators=n_estimators, max_features=max_features)\n",
    "    clf.fit(X_train, Y_train)\n",
    "    y_pred = clf.predict(X_test)\n",
    "\n",
    "    r2 = r2_score(Y_test, y_pred)  \n",
    "    mape = mean_absolute_percentage_error(y_true = Y_test, y_pred = y_pred)\n",
    "\n",
    "    rscore.append(r2)\n",
    "    performance_test.append(mape)  \n",
    "  duration = (time.perf_counter() - start_time)/60\n",
    "  return (np.mean(rscore), np.mean(performance_test), np.std(performance_test), duration)\n",
    "  "
   ]
  },
  {
   "cell_type": "code",
   "execution_count": 90,
   "id": "74347472",
   "metadata": {},
   "outputs": [
    {
     "name": "stdout",
     "output_type": "stream",
     "text": [
      "y_column: zone_1_pc, n_estimators: 5, max_features: 2, r2: 0.9509527683380344, mape: 0.0361110441940173, confidence_interval: 0.0027287500694193915, duration: 0.03174512833333362\n",
      "y_column: zone_1_pc, n_estimators: 5, max_features: 3, r2: 0.9640435668209532, mape: 0.03099030861278858, confidence_interval: 0.0004236495012788841, duration: 0.04042240499999631\n",
      "y_column: zone_1_pc, n_estimators: 5, max_features: 4, r2: 0.9657681431657593, mape: 0.02961440071895628, confidence_interval: 0.0004365786078075361, duration: 0.0484987133333334\n",
      "y_column: zone_1_pc, n_estimators: 5, max_features: 5, r2: 0.9677955802297117, mape: 0.028673459397082518, confidence_interval: 0.0002972178752399034, duration: 0.053986893333330954\n",
      "y_column: zone_1_pc, n_estimators: 10, max_features: 2, r2: 0.9617433579131607, mape: 0.03272520457038172, confidence_interval: 0.00035587838351668397, duration: 0.056644618333333105\n",
      "y_column: zone_1_pc, n_estimators: 10, max_features: 3, r2: 0.9688005328075571, mape: 0.028929559977522477, confidence_interval: 0.00031279280770903377, duration: 0.08132319666666112\n",
      "y_column: zone_1_pc, n_estimators: 10, max_features: 4, r2: 0.9712912331219257, mape: 0.027434562060695708, confidence_interval: 0.00019769108681812566, duration: 0.09391452333333443\n",
      "y_column: zone_1_pc, n_estimators: 10, max_features: 5, r2: 0.9717376417486858, mape: 0.026995416182340262, confidence_interval: 0.0001438086112627808, duration: 0.114755791666668\n",
      "y_column: zone_1_pc, n_estimators: 15, max_features: 2, r2: 0.9656699877533313, mape: 0.03114468641913631, confidence_interval: 0.000347106224218953, duration: 0.09431180666667084\n",
      "y_column: zone_1_pc, n_estimators: 15, max_features: 3, r2: 0.9708819513309601, mape: 0.028105272086438916, confidence_interval: 0.00032536039852864716, duration: 0.12499813000000207\n",
      "y_column: zone_1_pc, n_estimators: 15, max_features: 4, r2: 0.9726777828369645, mape: 0.026925919068289176, confidence_interval: 0.0002590544746609178, duration: 0.14467873500000222\n",
      "y_column: zone_1_pc, n_estimators: 15, max_features: 5, r2: 0.9733028812878223, mape: 0.026284150346751838, confidence_interval: 2.603661421552478e-05, duration: 0.16762129999999614\n",
      "y_column: zone_1_pc, n_estimators: 20, max_features: 2, r2: 0.9667018706956415, mape: 0.030700786692921506, confidence_interval: 0.00020885059809205774, duration: 0.1277524850000039\n",
      "y_column: zone_1_pc, n_estimators: 20, max_features: 3, r2: 0.9720204184771951, mape: 0.027506576515553525, confidence_interval: 0.0003402515996919527, duration: 0.1474203833333301\n",
      "y_column: zone_1_pc, n_estimators: 20, max_features: 4, r2: 0.9733132281384874, mape: 0.026472695980708293, confidence_interval: 6.661951790335859e-05, duration: 0.1870538299999983\n",
      "y_column: zone_1_pc, n_estimators: 20, max_features: 5, r2: 0.9741457469243481, mape: 0.026088967280795784, confidence_interval: 0.0001721118636418344, duration: 0.2149085566666675\n",
      "y_column: zone_2_pc, n_estimators: 5, max_features: 2, r2: 0.9524626002530047, mape: 0.04053000815650739, confidence_interval: 0.00027509448977786673, duration: 0.030897253333326564\n",
      "y_column: zone_2_pc, n_estimators: 5, max_features: 3, r2: 0.9642322604935863, mape: 0.0345690504750008, confidence_interval: 0.00020174731292474949, duration: 0.040503646666669134\n",
      "y_column: zone_2_pc, n_estimators: 5, max_features: 4, r2: 0.9675772812650748, mape: 0.03252410050775343, confidence_interval: 0.00020535908263983558, duration: 0.04861064166667196\n",
      "y_column: zone_2_pc, n_estimators: 5, max_features: 5, r2: 0.9686735355267272, mape: 0.031754733786348625, confidence_interval: 0.0002906253485563178, duration: 0.055788251666664714\n",
      "y_column: zone_2_pc, n_estimators: 10, max_features: 2, r2: 0.9626616477383712, mape: 0.0366990030200417, confidence_interval: 0.00047652523246533414, duration: 0.059972675000002106\n",
      "y_column: zone_2_pc, n_estimators: 10, max_features: 3, r2: 0.9691835130831908, mape: 0.032400215167007064, confidence_interval: 0.00029054304066256315, duration: 0.07622253333333144\n",
      "y_column: zone_2_pc, n_estimators: 10, max_features: 4, r2: 0.9723629542132753, mape: 0.03034408590515404, confidence_interval: 0.0003330427810615875, duration: 0.10110477499999888\n",
      "y_column: zone_2_pc, n_estimators: 10, max_features: 5, r2: 0.9734723240840589, mape: 0.029685515678018453, confidence_interval: 0.0003106866717468703, duration: 0.11089103666667294\n",
      "y_column: zone_2_pc, n_estimators: 15, max_features: 2, r2: 0.9651059355225283, mape: 0.035541232169521424, confidence_interval: 0.0007422764040427223, duration: 0.08543985166666819\n",
      "y_column: zone_2_pc, n_estimators: 15, max_features: 3, r2: 0.9719213354029702, mape: 0.03115992256479765, confidence_interval: 0.000340774330533192, duration: 0.1112752316666653\n",
      "y_column: zone_2_pc, n_estimators: 15, max_features: 4, r2: 0.9738220002847795, mape: 0.02955703272617279, confidence_interval: 0.00026316023858487996, duration: 0.1432217683333344\n",
      "y_column: zone_2_pc, n_estimators: 15, max_features: 5, r2: 0.9748150800982925, mape: 0.02881596521543983, confidence_interval: 5.721873468218792e-05, duration: 0.15914279833333086\n",
      "y_column: zone_2_pc, n_estimators: 20, max_features: 2, r2: 0.9675233083609732, mape: 0.03446542232101419, confidence_interval: 0.0005883681410910599, duration: 0.11633795666666628\n",
      "y_column: zone_2_pc, n_estimators: 20, max_features: 3, r2: 0.9734058952772123, mape: 0.03054995885289234, confidence_interval: 0.00010175495103679368, duration: 0.14835975333333712\n",
      "y_column: zone_2_pc, n_estimators: 20, max_features: 4, r2: 0.9745278015359302, mape: 0.029107536021550418, confidence_interval: 1.0478482096487126e-05, duration: 0.1956970816666626\n",
      "y_column: zone_2_pc, n_estimators: 20, max_features: 5, r2: 0.9749918182191196, mape: 0.02861510220252392, confidence_interval: 0.00027565699848844415, duration: 0.22820614833333366\n",
      "y_column: zone_3_pc, n_estimators: 5, max_features: 2, r2: 0.9671828750276378, mape: 0.04673203317852393, confidence_interval: 0.001767551116554759, duration: 0.028207629999997152\n",
      "y_column: zone_3_pc, n_estimators: 5, max_features: 3, r2: 0.9751216425179493, mape: 0.04009609509911485, confidence_interval: 0.00074017627515762, duration: 0.04314487833333563\n",
      "y_column: zone_3_pc, n_estimators: 5, max_features: 4, r2: 0.9786106449352067, mape: 0.0367433258764563, confidence_interval: 3.639769450657822e-05, duration: 0.047275986666666846\n",
      "y_column: zone_3_pc, n_estimators: 5, max_features: 5, r2: 0.9795738483824444, mape: 0.03564409010384386, confidence_interval: 0.00033169620066789563, duration: 0.05448180500000035\n",
      "y_column: zone_3_pc, n_estimators: 10, max_features: 2, r2: 0.974632865648397, mape: 0.04198550691722819, confidence_interval: 0.0007055648064917542, duration: 0.057267574999999245\n",
      "y_column: zone_3_pc, n_estimators: 10, max_features: 3, r2: 0.9796707909953764, mape: 0.036627853142236884, confidence_interval: 0.0008465905833304014, duration: 0.07252476500000285\n",
      "y_column: zone_3_pc, n_estimators: 10, max_features: 4, r2: 0.9816271066824925, mape: 0.03454887098754623, confidence_interval: 0.0005023060962890911, duration: 0.09062853666666797\n",
      "y_column: zone_3_pc, n_estimators: 10, max_features: 5, r2: 0.9822282946621809, mape: 0.033599551656387255, confidence_interval: 0.0003059500594941743, duration: 0.10740188166666181\n",
      "y_column: zone_3_pc, n_estimators: 15, max_features: 2, r2: 0.97553719122476, mape: 0.04170357655494825, confidence_interval: 0.0006385382156182841, duration: 0.0938832599999993\n",
      "y_column: zone_3_pc, n_estimators: 15, max_features: 3, r2: 0.9815995109294283, mape: 0.03518847303631599, confidence_interval: 0.0006585159277647238, duration: 0.11179158999999951\n",
      "y_column: zone_3_pc, n_estimators: 15, max_features: 4, r2: 0.982847668211237, mape: 0.033284499821029385, confidence_interval: 0.00026194933564661395, duration: 0.14411569833333335\n",
      "y_column: zone_3_pc, n_estimators: 15, max_features: 5, r2: 0.9832521999411462, mape: 0.03242293858587821, confidence_interval: 0.000309932567924118, duration: 0.16872452000000066\n",
      "y_column: zone_3_pc, n_estimators: 20, max_features: 2, r2: 0.977453164794726, mape: 0.039863922891577114, confidence_interval: 0.00037618517995828175, duration: 0.12281077166667273\n",
      "y_column: zone_3_pc, n_estimators: 20, max_features: 3, r2: 0.9815884490765789, mape: 0.035192053212893114, confidence_interval: 0.0002716445819614985, duration: 0.1491886050000024\n",
      "y_column: zone_3_pc, n_estimators: 20, max_features: 4, r2: 0.9830542460087336, mape: 0.033079309973151914, confidence_interval: 0.0002280107832043769, duration: 0.2098812066666672\n",
      "y_column: zone_3_pc, n_estimators: 20, max_features: 5, r2: 0.9831842103541014, mape: 0.03248218101161284, confidence_interval: 0.00011090486206961358, duration: 0.2333042283333346\n"
     ]
    },
    {
     "data": {
      "text/html": [
       "<div>\n",
       "<style scoped>\n",
       "    .dataframe tbody tr th:only-of-type {\n",
       "        vertical-align: middle;\n",
       "    }\n",
       "\n",
       "    .dataframe tbody tr th {\n",
       "        vertical-align: top;\n",
       "    }\n",
       "\n",
       "    .dataframe thead th {\n",
       "        text-align: right;\n",
       "    }\n",
       "</style>\n",
       "<table border=\"1\" class=\"dataframe\">\n",
       "  <thead>\n",
       "    <tr style=\"text-align: right;\">\n",
       "      <th></th>\n",
       "      <th>zona</th>\n",
       "      <th>max_features</th>\n",
       "      <th>n_estimators</th>\n",
       "      <th>r2</th>\n",
       "      <th>mape</th>\n",
       "      <th>confidence_interval</th>\n",
       "      <th>duration (m)</th>\n",
       "    </tr>\n",
       "  </thead>\n",
       "  <tbody>\n",
       "    <tr>\n",
       "      <th>1</th>\n",
       "      <td>zone_1_pc</td>\n",
       "      <td>2.0</td>\n",
       "      <td>5.0</td>\n",
       "      <td>0.950953</td>\n",
       "      <td>0.036111</td>\n",
       "      <td>0.002729</td>\n",
       "      <td>0.031745</td>\n",
       "    </tr>\n",
       "    <tr>\n",
       "      <th>2</th>\n",
       "      <td>zone_1_pc</td>\n",
       "      <td>3.0</td>\n",
       "      <td>5.0</td>\n",
       "      <td>0.964044</td>\n",
       "      <td>0.030990</td>\n",
       "      <td>0.000424</td>\n",
       "      <td>0.040422</td>\n",
       "    </tr>\n",
       "    <tr>\n",
       "      <th>3</th>\n",
       "      <td>zone_1_pc</td>\n",
       "      <td>4.0</td>\n",
       "      <td>5.0</td>\n",
       "      <td>0.965768</td>\n",
       "      <td>0.029614</td>\n",
       "      <td>0.000437</td>\n",
       "      <td>0.048499</td>\n",
       "    </tr>\n",
       "    <tr>\n",
       "      <th>4</th>\n",
       "      <td>zone_1_pc</td>\n",
       "      <td>5.0</td>\n",
       "      <td>5.0</td>\n",
       "      <td>0.967796</td>\n",
       "      <td>0.028673</td>\n",
       "      <td>0.000297</td>\n",
       "      <td>0.053987</td>\n",
       "    </tr>\n",
       "    <tr>\n",
       "      <th>5</th>\n",
       "      <td>zone_1_pc</td>\n",
       "      <td>2.0</td>\n",
       "      <td>10.0</td>\n",
       "      <td>0.961743</td>\n",
       "      <td>0.032725</td>\n",
       "      <td>0.000356</td>\n",
       "      <td>0.056645</td>\n",
       "    </tr>\n",
       "    <tr>\n",
       "      <th>6</th>\n",
       "      <td>zone_1_pc</td>\n",
       "      <td>3.0</td>\n",
       "      <td>10.0</td>\n",
       "      <td>0.968801</td>\n",
       "      <td>0.028930</td>\n",
       "      <td>0.000313</td>\n",
       "      <td>0.081323</td>\n",
       "    </tr>\n",
       "    <tr>\n",
       "      <th>7</th>\n",
       "      <td>zone_1_pc</td>\n",
       "      <td>4.0</td>\n",
       "      <td>10.0</td>\n",
       "      <td>0.971291</td>\n",
       "      <td>0.027435</td>\n",
       "      <td>0.000198</td>\n",
       "      <td>0.093915</td>\n",
       "    </tr>\n",
       "    <tr>\n",
       "      <th>8</th>\n",
       "      <td>zone_1_pc</td>\n",
       "      <td>5.0</td>\n",
       "      <td>10.0</td>\n",
       "      <td>0.971738</td>\n",
       "      <td>0.026995</td>\n",
       "      <td>0.000144</td>\n",
       "      <td>0.114756</td>\n",
       "    </tr>\n",
       "    <tr>\n",
       "      <th>9</th>\n",
       "      <td>zone_1_pc</td>\n",
       "      <td>2.0</td>\n",
       "      <td>15.0</td>\n",
       "      <td>0.965670</td>\n",
       "      <td>0.031145</td>\n",
       "      <td>0.000347</td>\n",
       "      <td>0.094312</td>\n",
       "    </tr>\n",
       "    <tr>\n",
       "      <th>10</th>\n",
       "      <td>zone_1_pc</td>\n",
       "      <td>3.0</td>\n",
       "      <td>15.0</td>\n",
       "      <td>0.970882</td>\n",
       "      <td>0.028105</td>\n",
       "      <td>0.000325</td>\n",
       "      <td>0.124998</td>\n",
       "    </tr>\n",
       "    <tr>\n",
       "      <th>11</th>\n",
       "      <td>zone_1_pc</td>\n",
       "      <td>4.0</td>\n",
       "      <td>15.0</td>\n",
       "      <td>0.972678</td>\n",
       "      <td>0.026926</td>\n",
       "      <td>0.000259</td>\n",
       "      <td>0.144679</td>\n",
       "    </tr>\n",
       "    <tr>\n",
       "      <th>12</th>\n",
       "      <td>zone_1_pc</td>\n",
       "      <td>5.0</td>\n",
       "      <td>15.0</td>\n",
       "      <td>0.973303</td>\n",
       "      <td>0.026284</td>\n",
       "      <td>0.000026</td>\n",
       "      <td>0.167621</td>\n",
       "    </tr>\n",
       "    <tr>\n",
       "      <th>13</th>\n",
       "      <td>zone_1_pc</td>\n",
       "      <td>2.0</td>\n",
       "      <td>20.0</td>\n",
       "      <td>0.966702</td>\n",
       "      <td>0.030701</td>\n",
       "      <td>0.000209</td>\n",
       "      <td>0.127752</td>\n",
       "    </tr>\n",
       "    <tr>\n",
       "      <th>14</th>\n",
       "      <td>zone_1_pc</td>\n",
       "      <td>3.0</td>\n",
       "      <td>20.0</td>\n",
       "      <td>0.972020</td>\n",
       "      <td>0.027507</td>\n",
       "      <td>0.000340</td>\n",
       "      <td>0.147420</td>\n",
       "    </tr>\n",
       "    <tr>\n",
       "      <th>15</th>\n",
       "      <td>zone_1_pc</td>\n",
       "      <td>4.0</td>\n",
       "      <td>20.0</td>\n",
       "      <td>0.973313</td>\n",
       "      <td>0.026473</td>\n",
       "      <td>0.000067</td>\n",
       "      <td>0.187054</td>\n",
       "    </tr>\n",
       "    <tr>\n",
       "      <th>16</th>\n",
       "      <td>zone_1_pc</td>\n",
       "      <td>5.0</td>\n",
       "      <td>20.0</td>\n",
       "      <td>0.974146</td>\n",
       "      <td>0.026089</td>\n",
       "      <td>0.000172</td>\n",
       "      <td>0.214909</td>\n",
       "    </tr>\n",
       "    <tr>\n",
       "      <th>17</th>\n",
       "      <td>zone_2_pc</td>\n",
       "      <td>2.0</td>\n",
       "      <td>5.0</td>\n",
       "      <td>0.952463</td>\n",
       "      <td>0.040530</td>\n",
       "      <td>0.000275</td>\n",
       "      <td>0.030897</td>\n",
       "    </tr>\n",
       "    <tr>\n",
       "      <th>18</th>\n",
       "      <td>zone_2_pc</td>\n",
       "      <td>3.0</td>\n",
       "      <td>5.0</td>\n",
       "      <td>0.964232</td>\n",
       "      <td>0.034569</td>\n",
       "      <td>0.000202</td>\n",
       "      <td>0.040504</td>\n",
       "    </tr>\n",
       "    <tr>\n",
       "      <th>19</th>\n",
       "      <td>zone_2_pc</td>\n",
       "      <td>4.0</td>\n",
       "      <td>5.0</td>\n",
       "      <td>0.967577</td>\n",
       "      <td>0.032524</td>\n",
       "      <td>0.000205</td>\n",
       "      <td>0.048611</td>\n",
       "    </tr>\n",
       "    <tr>\n",
       "      <th>20</th>\n",
       "      <td>zone_2_pc</td>\n",
       "      <td>5.0</td>\n",
       "      <td>5.0</td>\n",
       "      <td>0.968674</td>\n",
       "      <td>0.031755</td>\n",
       "      <td>0.000291</td>\n",
       "      <td>0.055788</td>\n",
       "    </tr>\n",
       "    <tr>\n",
       "      <th>21</th>\n",
       "      <td>zone_2_pc</td>\n",
       "      <td>2.0</td>\n",
       "      <td>10.0</td>\n",
       "      <td>0.962662</td>\n",
       "      <td>0.036699</td>\n",
       "      <td>0.000477</td>\n",
       "      <td>0.059973</td>\n",
       "    </tr>\n",
       "    <tr>\n",
       "      <th>22</th>\n",
       "      <td>zone_2_pc</td>\n",
       "      <td>3.0</td>\n",
       "      <td>10.0</td>\n",
       "      <td>0.969184</td>\n",
       "      <td>0.032400</td>\n",
       "      <td>0.000291</td>\n",
       "      <td>0.076223</td>\n",
       "    </tr>\n",
       "    <tr>\n",
       "      <th>23</th>\n",
       "      <td>zone_2_pc</td>\n",
       "      <td>4.0</td>\n",
       "      <td>10.0</td>\n",
       "      <td>0.972363</td>\n",
       "      <td>0.030344</td>\n",
       "      <td>0.000333</td>\n",
       "      <td>0.101105</td>\n",
       "    </tr>\n",
       "    <tr>\n",
       "      <th>24</th>\n",
       "      <td>zone_2_pc</td>\n",
       "      <td>5.0</td>\n",
       "      <td>10.0</td>\n",
       "      <td>0.973472</td>\n",
       "      <td>0.029686</td>\n",
       "      <td>0.000311</td>\n",
       "      <td>0.110891</td>\n",
       "    </tr>\n",
       "    <tr>\n",
       "      <th>25</th>\n",
       "      <td>zone_2_pc</td>\n",
       "      <td>2.0</td>\n",
       "      <td>15.0</td>\n",
       "      <td>0.965106</td>\n",
       "      <td>0.035541</td>\n",
       "      <td>0.000742</td>\n",
       "      <td>0.085440</td>\n",
       "    </tr>\n",
       "    <tr>\n",
       "      <th>26</th>\n",
       "      <td>zone_2_pc</td>\n",
       "      <td>3.0</td>\n",
       "      <td>15.0</td>\n",
       "      <td>0.971921</td>\n",
       "      <td>0.031160</td>\n",
       "      <td>0.000341</td>\n",
       "      <td>0.111275</td>\n",
       "    </tr>\n",
       "    <tr>\n",
       "      <th>27</th>\n",
       "      <td>zone_2_pc</td>\n",
       "      <td>4.0</td>\n",
       "      <td>15.0</td>\n",
       "      <td>0.973822</td>\n",
       "      <td>0.029557</td>\n",
       "      <td>0.000263</td>\n",
       "      <td>0.143222</td>\n",
       "    </tr>\n",
       "    <tr>\n",
       "      <th>28</th>\n",
       "      <td>zone_2_pc</td>\n",
       "      <td>5.0</td>\n",
       "      <td>15.0</td>\n",
       "      <td>0.974815</td>\n",
       "      <td>0.028816</td>\n",
       "      <td>0.000057</td>\n",
       "      <td>0.159143</td>\n",
       "    </tr>\n",
       "    <tr>\n",
       "      <th>29</th>\n",
       "      <td>zone_2_pc</td>\n",
       "      <td>2.0</td>\n",
       "      <td>20.0</td>\n",
       "      <td>0.967523</td>\n",
       "      <td>0.034465</td>\n",
       "      <td>0.000588</td>\n",
       "      <td>0.116338</td>\n",
       "    </tr>\n",
       "    <tr>\n",
       "      <th>30</th>\n",
       "      <td>zone_2_pc</td>\n",
       "      <td>3.0</td>\n",
       "      <td>20.0</td>\n",
       "      <td>0.973406</td>\n",
       "      <td>0.030550</td>\n",
       "      <td>0.000102</td>\n",
       "      <td>0.148360</td>\n",
       "    </tr>\n",
       "    <tr>\n",
       "      <th>31</th>\n",
       "      <td>zone_2_pc</td>\n",
       "      <td>4.0</td>\n",
       "      <td>20.0</td>\n",
       "      <td>0.974528</td>\n",
       "      <td>0.029108</td>\n",
       "      <td>0.000010</td>\n",
       "      <td>0.195697</td>\n",
       "    </tr>\n",
       "    <tr>\n",
       "      <th>32</th>\n",
       "      <td>zone_2_pc</td>\n",
       "      <td>5.0</td>\n",
       "      <td>20.0</td>\n",
       "      <td>0.974992</td>\n",
       "      <td>0.028615</td>\n",
       "      <td>0.000276</td>\n",
       "      <td>0.228206</td>\n",
       "    </tr>\n",
       "    <tr>\n",
       "      <th>33</th>\n",
       "      <td>zone_3_pc</td>\n",
       "      <td>2.0</td>\n",
       "      <td>5.0</td>\n",
       "      <td>0.967183</td>\n",
       "      <td>0.046732</td>\n",
       "      <td>0.001768</td>\n",
       "      <td>0.028208</td>\n",
       "    </tr>\n",
       "    <tr>\n",
       "      <th>34</th>\n",
       "      <td>zone_3_pc</td>\n",
       "      <td>3.0</td>\n",
       "      <td>5.0</td>\n",
       "      <td>0.975122</td>\n",
       "      <td>0.040096</td>\n",
       "      <td>0.000740</td>\n",
       "      <td>0.043145</td>\n",
       "    </tr>\n",
       "    <tr>\n",
       "      <th>35</th>\n",
       "      <td>zone_3_pc</td>\n",
       "      <td>4.0</td>\n",
       "      <td>5.0</td>\n",
       "      <td>0.978611</td>\n",
       "      <td>0.036743</td>\n",
       "      <td>0.000036</td>\n",
       "      <td>0.047276</td>\n",
       "    </tr>\n",
       "    <tr>\n",
       "      <th>36</th>\n",
       "      <td>zone_3_pc</td>\n",
       "      <td>5.0</td>\n",
       "      <td>5.0</td>\n",
       "      <td>0.979574</td>\n",
       "      <td>0.035644</td>\n",
       "      <td>0.000332</td>\n",
       "      <td>0.054482</td>\n",
       "    </tr>\n",
       "    <tr>\n",
       "      <th>37</th>\n",
       "      <td>zone_3_pc</td>\n",
       "      <td>2.0</td>\n",
       "      <td>10.0</td>\n",
       "      <td>0.974633</td>\n",
       "      <td>0.041986</td>\n",
       "      <td>0.000706</td>\n",
       "      <td>0.057268</td>\n",
       "    </tr>\n",
       "    <tr>\n",
       "      <th>38</th>\n",
       "      <td>zone_3_pc</td>\n",
       "      <td>3.0</td>\n",
       "      <td>10.0</td>\n",
       "      <td>0.979671</td>\n",
       "      <td>0.036628</td>\n",
       "      <td>0.000847</td>\n",
       "      <td>0.072525</td>\n",
       "    </tr>\n",
       "    <tr>\n",
       "      <th>39</th>\n",
       "      <td>zone_3_pc</td>\n",
       "      <td>4.0</td>\n",
       "      <td>10.0</td>\n",
       "      <td>0.981627</td>\n",
       "      <td>0.034549</td>\n",
       "      <td>0.000502</td>\n",
       "      <td>0.090629</td>\n",
       "    </tr>\n",
       "    <tr>\n",
       "      <th>40</th>\n",
       "      <td>zone_3_pc</td>\n",
       "      <td>5.0</td>\n",
       "      <td>10.0</td>\n",
       "      <td>0.982228</td>\n",
       "      <td>0.033600</td>\n",
       "      <td>0.000306</td>\n",
       "      <td>0.107402</td>\n",
       "    </tr>\n",
       "    <tr>\n",
       "      <th>41</th>\n",
       "      <td>zone_3_pc</td>\n",
       "      <td>2.0</td>\n",
       "      <td>15.0</td>\n",
       "      <td>0.975537</td>\n",
       "      <td>0.041704</td>\n",
       "      <td>0.000639</td>\n",
       "      <td>0.093883</td>\n",
       "    </tr>\n",
       "    <tr>\n",
       "      <th>42</th>\n",
       "      <td>zone_3_pc</td>\n",
       "      <td>3.0</td>\n",
       "      <td>15.0</td>\n",
       "      <td>0.981600</td>\n",
       "      <td>0.035188</td>\n",
       "      <td>0.000659</td>\n",
       "      <td>0.111792</td>\n",
       "    </tr>\n",
       "    <tr>\n",
       "      <th>43</th>\n",
       "      <td>zone_3_pc</td>\n",
       "      <td>4.0</td>\n",
       "      <td>15.0</td>\n",
       "      <td>0.982848</td>\n",
       "      <td>0.033284</td>\n",
       "      <td>0.000262</td>\n",
       "      <td>0.144116</td>\n",
       "    </tr>\n",
       "    <tr>\n",
       "      <th>44</th>\n",
       "      <td>zone_3_pc</td>\n",
       "      <td>5.0</td>\n",
       "      <td>15.0</td>\n",
       "      <td>0.983252</td>\n",
       "      <td>0.032423</td>\n",
       "      <td>0.000310</td>\n",
       "      <td>0.168725</td>\n",
       "    </tr>\n",
       "    <tr>\n",
       "      <th>45</th>\n",
       "      <td>zone_3_pc</td>\n",
       "      <td>2.0</td>\n",
       "      <td>20.0</td>\n",
       "      <td>0.977453</td>\n",
       "      <td>0.039864</td>\n",
       "      <td>0.000376</td>\n",
       "      <td>0.122811</td>\n",
       "    </tr>\n",
       "    <tr>\n",
       "      <th>46</th>\n",
       "      <td>zone_3_pc</td>\n",
       "      <td>3.0</td>\n",
       "      <td>20.0</td>\n",
       "      <td>0.981588</td>\n",
       "      <td>0.035192</td>\n",
       "      <td>0.000272</td>\n",
       "      <td>0.149189</td>\n",
       "    </tr>\n",
       "    <tr>\n",
       "      <th>47</th>\n",
       "      <td>zone_3_pc</td>\n",
       "      <td>4.0</td>\n",
       "      <td>20.0</td>\n",
       "      <td>0.983054</td>\n",
       "      <td>0.033079</td>\n",
       "      <td>0.000228</td>\n",
       "      <td>0.209881</td>\n",
       "    </tr>\n",
       "    <tr>\n",
       "      <th>48</th>\n",
       "      <td>zone_3_pc</td>\n",
       "      <td>5.0</td>\n",
       "      <td>20.0</td>\n",
       "      <td>0.983184</td>\n",
       "      <td>0.032482</td>\n",
       "      <td>0.000111</td>\n",
       "      <td>0.233304</td>\n",
       "    </tr>\n",
       "  </tbody>\n",
       "</table>\n",
       "</div>"
      ],
      "text/plain": [
       "         zona  max_features  n_estimators        r2      mape  \\\n",
       "1   zone_1_pc           2.0           5.0  0.950953  0.036111   \n",
       "2   zone_1_pc           3.0           5.0  0.964044  0.030990   \n",
       "3   zone_1_pc           4.0           5.0  0.965768  0.029614   \n",
       "4   zone_1_pc           5.0           5.0  0.967796  0.028673   \n",
       "5   zone_1_pc           2.0          10.0  0.961743  0.032725   \n",
       "6   zone_1_pc           3.0          10.0  0.968801  0.028930   \n",
       "7   zone_1_pc           4.0          10.0  0.971291  0.027435   \n",
       "8   zone_1_pc           5.0          10.0  0.971738  0.026995   \n",
       "9   zone_1_pc           2.0          15.0  0.965670  0.031145   \n",
       "10  zone_1_pc           3.0          15.0  0.970882  0.028105   \n",
       "11  zone_1_pc           4.0          15.0  0.972678  0.026926   \n",
       "12  zone_1_pc           5.0          15.0  0.973303  0.026284   \n",
       "13  zone_1_pc           2.0          20.0  0.966702  0.030701   \n",
       "14  zone_1_pc           3.0          20.0  0.972020  0.027507   \n",
       "15  zone_1_pc           4.0          20.0  0.973313  0.026473   \n",
       "16  zone_1_pc           5.0          20.0  0.974146  0.026089   \n",
       "17  zone_2_pc           2.0           5.0  0.952463  0.040530   \n",
       "18  zone_2_pc           3.0           5.0  0.964232  0.034569   \n",
       "19  zone_2_pc           4.0           5.0  0.967577  0.032524   \n",
       "20  zone_2_pc           5.0           5.0  0.968674  0.031755   \n",
       "21  zone_2_pc           2.0          10.0  0.962662  0.036699   \n",
       "22  zone_2_pc           3.0          10.0  0.969184  0.032400   \n",
       "23  zone_2_pc           4.0          10.0  0.972363  0.030344   \n",
       "24  zone_2_pc           5.0          10.0  0.973472  0.029686   \n",
       "25  zone_2_pc           2.0          15.0  0.965106  0.035541   \n",
       "26  zone_2_pc           3.0          15.0  0.971921  0.031160   \n",
       "27  zone_2_pc           4.0          15.0  0.973822  0.029557   \n",
       "28  zone_2_pc           5.0          15.0  0.974815  0.028816   \n",
       "29  zone_2_pc           2.0          20.0  0.967523  0.034465   \n",
       "30  zone_2_pc           3.0          20.0  0.973406  0.030550   \n",
       "31  zone_2_pc           4.0          20.0  0.974528  0.029108   \n",
       "32  zone_2_pc           5.0          20.0  0.974992  0.028615   \n",
       "33  zone_3_pc           2.0           5.0  0.967183  0.046732   \n",
       "34  zone_3_pc           3.0           5.0  0.975122  0.040096   \n",
       "35  zone_3_pc           4.0           5.0  0.978611  0.036743   \n",
       "36  zone_3_pc           5.0           5.0  0.979574  0.035644   \n",
       "37  zone_3_pc           2.0          10.0  0.974633  0.041986   \n",
       "38  zone_3_pc           3.0          10.0  0.979671  0.036628   \n",
       "39  zone_3_pc           4.0          10.0  0.981627  0.034549   \n",
       "40  zone_3_pc           5.0          10.0  0.982228  0.033600   \n",
       "41  zone_3_pc           2.0          15.0  0.975537  0.041704   \n",
       "42  zone_3_pc           3.0          15.0  0.981600  0.035188   \n",
       "43  zone_3_pc           4.0          15.0  0.982848  0.033284   \n",
       "44  zone_3_pc           5.0          15.0  0.983252  0.032423   \n",
       "45  zone_3_pc           2.0          20.0  0.977453  0.039864   \n",
       "46  zone_3_pc           3.0          20.0  0.981588  0.035192   \n",
       "47  zone_3_pc           4.0          20.0  0.983054  0.033079   \n",
       "48  zone_3_pc           5.0          20.0  0.983184  0.032482   \n",
       "\n",
       "    confidence_interval  duration (m)  \n",
       "1              0.002729      0.031745  \n",
       "2              0.000424      0.040422  \n",
       "3              0.000437      0.048499  \n",
       "4              0.000297      0.053987  \n",
       "5              0.000356      0.056645  \n",
       "6              0.000313      0.081323  \n",
       "7              0.000198      0.093915  \n",
       "8              0.000144      0.114756  \n",
       "9              0.000347      0.094312  \n",
       "10             0.000325      0.124998  \n",
       "11             0.000259      0.144679  \n",
       "12             0.000026      0.167621  \n",
       "13             0.000209      0.127752  \n",
       "14             0.000340      0.147420  \n",
       "15             0.000067      0.187054  \n",
       "16             0.000172      0.214909  \n",
       "17             0.000275      0.030897  \n",
       "18             0.000202      0.040504  \n",
       "19             0.000205      0.048611  \n",
       "20             0.000291      0.055788  \n",
       "21             0.000477      0.059973  \n",
       "22             0.000291      0.076223  \n",
       "23             0.000333      0.101105  \n",
       "24             0.000311      0.110891  \n",
       "25             0.000742      0.085440  \n",
       "26             0.000341      0.111275  \n",
       "27             0.000263      0.143222  \n",
       "28             0.000057      0.159143  \n",
       "29             0.000588      0.116338  \n",
       "30             0.000102      0.148360  \n",
       "31             0.000010      0.195697  \n",
       "32             0.000276      0.228206  \n",
       "33             0.001768      0.028208  \n",
       "34             0.000740      0.043145  \n",
       "35             0.000036      0.047276  \n",
       "36             0.000332      0.054482  \n",
       "37             0.000706      0.057268  \n",
       "38             0.000847      0.072525  \n",
       "39             0.000502      0.090629  \n",
       "40             0.000306      0.107402  \n",
       "41             0.000639      0.093883  \n",
       "42             0.000659      0.111792  \n",
       "43             0.000262      0.144116  \n",
       "44             0.000310      0.168725  \n",
       "45             0.000376      0.122811  \n",
       "46             0.000272      0.149189  \n",
       "47             0.000228      0.209881  \n",
       "48             0.000111      0.233304  "
      ]
     },
     "execution_count": 90,
     "metadata": {},
     "output_type": "execute_result"
    }
   ],
   "source": [
    "df.columns.values\n",
    "result_rf = pd.DataFrame()\n",
    "idx = 0\n",
    "for y_column in y_columns:\n",
    "    for n_estimators in [5,10,15,20]:\n",
    "        for max_features in [2,3,4,5]:\n",
    "            idx = idx + 1\n",
    "            r2, mape, confidence_interval, duration = random_forest(df, x_columns, y_column, n_estimators, max_features)\n",
    "            result_rf.loc[idx,'zona'] = y_column\n",
    "            result_rf.loc[idx,'max_features'] = max_features\n",
    "            result_rf.loc[idx,'n_estimators'] = n_estimators\n",
    "            result_rf.loc[idx,'r2'] = r2\n",
    "            result_rf.loc[idx,'mape'] = mape\n",
    "            result_rf.loc[idx,'confidence_interval'] = confidence_interval\n",
    "            result_rf.loc[idx,'duration (m)'] = duration\n",
    "            print(f\"y_column: {y_column}, n_estimators: {n_estimators}, max_features: {max_features}, r2: {r2}, mape: {mape}, confidence_interval: {confidence_interval}, duration: {duration}\")\n",
    "result_rf"
   ]
  },
  {
   "cell_type": "code",
   "execution_count": 92,
   "id": "db74e2b8",
   "metadata": {},
   "outputs": [
    {
     "data": {
      "text/html": [
       "<div>\n",
       "<style scoped>\n",
       "    .dataframe tbody tr th:only-of-type {\n",
       "        vertical-align: middle;\n",
       "    }\n",
       "\n",
       "    .dataframe tbody tr th {\n",
       "        vertical-align: top;\n",
       "    }\n",
       "\n",
       "    .dataframe thead th {\n",
       "        text-align: right;\n",
       "    }\n",
       "</style>\n",
       "<table border=\"1\" class=\"dataframe\">\n",
       "  <thead>\n",
       "    <tr style=\"text-align: right;\">\n",
       "      <th></th>\n",
       "      <th>zone_1_pc</th>\n",
       "      <th>zone_2_pc</th>\n",
       "      <th>zone_3_pc</th>\n",
       "    </tr>\n",
       "  </thead>\n",
       "  <tbody>\n",
       "    <tr>\n",
       "      <th>Temperature</th>\n",
       "      <td>0.427564</td>\n",
       "      <td>0.361182</td>\n",
       "      <td>0.457946</td>\n",
       "    </tr>\n",
       "    <tr>\n",
       "      <th>Humidity</th>\n",
       "      <td>-0.270277</td>\n",
       "      <td>-0.292971</td>\n",
       "      <td>-0.198055</td>\n",
       "    </tr>\n",
       "    <tr>\n",
       "      <th>wind_speed</th>\n",
       "      <td>0.148143</td>\n",
       "      <td>0.116708</td>\n",
       "      <td>0.245887</td>\n",
       "    </tr>\n",
       "    <tr>\n",
       "      <th>general_diffuse_flows</th>\n",
       "      <td>0.134867</td>\n",
       "      <td>0.139310</td>\n",
       "      <td>-0.023477</td>\n",
       "    </tr>\n",
       "    <tr>\n",
       "      <th>diffuse_flows</th>\n",
       "      <td>0.114340</td>\n",
       "      <td>0.107226</td>\n",
       "      <td>-0.047893</td>\n",
       "    </tr>\n",
       "    <tr>\n",
       "      <th>zone_1_pc</th>\n",
       "      <td>1.000000</td>\n",
       "      <td>0.838605</td>\n",
       "      <td>0.753822</td>\n",
       "    </tr>\n",
       "    <tr>\n",
       "      <th>zone_2_pc</th>\n",
       "      <td>0.838605</td>\n",
       "      <td>1.000000</td>\n",
       "      <td>0.558326</td>\n",
       "    </tr>\n",
       "    <tr>\n",
       "      <th>zone_3_pc</th>\n",
       "      <td>0.753822</td>\n",
       "      <td>0.558326</td>\n",
       "      <td>1.000000</td>\n",
       "    </tr>\n",
       "    <tr>\n",
       "      <th>hour</th>\n",
       "      <td>0.740572</td>\n",
       "      <td>0.685910</td>\n",
       "      <td>0.465117</td>\n",
       "    </tr>\n",
       "    <tr>\n",
       "      <th>dayofweek</th>\n",
       "      <td>-0.057070</td>\n",
       "      <td>-0.109033</td>\n",
       "      <td>0.007091</td>\n",
       "    </tr>\n",
       "    <tr>\n",
       "      <th>quarter</th>\n",
       "      <td>0.001716</td>\n",
       "      <td>0.323015</td>\n",
       "      <td>-0.231828</td>\n",
       "    </tr>\n",
       "    <tr>\n",
       "      <th>month</th>\n",
       "      <td>-0.003691</td>\n",
       "      <td>0.320804</td>\n",
       "      <td>-0.270749</td>\n",
       "    </tr>\n",
       "    <tr>\n",
       "      <th>year</th>\n",
       "      <td>NaN</td>\n",
       "      <td>NaN</td>\n",
       "      <td>NaN</td>\n",
       "    </tr>\n",
       "    <tr>\n",
       "      <th>dayofyear</th>\n",
       "      <td>-0.002468</td>\n",
       "      <td>0.324454</td>\n",
       "      <td>-0.272003</td>\n",
       "    </tr>\n",
       "    <tr>\n",
       "      <th>dayofmonth</th>\n",
       "      <td>0.023151</td>\n",
       "      <td>0.068255</td>\n",
       "      <td>-0.014632</td>\n",
       "    </tr>\n",
       "    <tr>\n",
       "      <th>weekofyear</th>\n",
       "      <td>-0.006450</td>\n",
       "      <td>0.320463</td>\n",
       "      <td>-0.271837</td>\n",
       "    </tr>\n",
       "    <tr>\n",
       "      <th>Power</th>\n",
       "      <td>0.962827</td>\n",
       "      <td>0.869488</td>\n",
       "      <td>0.867832</td>\n",
       "    </tr>\n",
       "  </tbody>\n",
       "</table>\n",
       "</div>"
      ],
      "text/plain": [
       "                       zone_1_pc  zone_2_pc  zone_3_pc\n",
       "Temperature             0.427564   0.361182   0.457946\n",
       "Humidity               -0.270277  -0.292971  -0.198055\n",
       "wind_speed              0.148143   0.116708   0.245887\n",
       "general_diffuse_flows   0.134867   0.139310  -0.023477\n",
       "diffuse_flows           0.114340   0.107226  -0.047893\n",
       "zone_1_pc               1.000000   0.838605   0.753822\n",
       "zone_2_pc               0.838605   1.000000   0.558326\n",
       "zone_3_pc               0.753822   0.558326   1.000000\n",
       "hour                    0.740572   0.685910   0.465117\n",
       "dayofweek              -0.057070  -0.109033   0.007091\n",
       "quarter                 0.001716   0.323015  -0.231828\n",
       "month                  -0.003691   0.320804  -0.270749\n",
       "year                         NaN        NaN        NaN\n",
       "dayofyear              -0.002468   0.324454  -0.272003\n",
       "dayofmonth              0.023151   0.068255  -0.014632\n",
       "weekofyear             -0.006450   0.320463  -0.271837\n",
       "Power                   0.962827   0.869488   0.867832"
      ]
     },
     "execution_count": 92,
     "metadata": {},
     "output_type": "execute_result"
    }
   ],
   "source": [
    "df.head()\n",
    "df.corr()[[\"zone_1_pc\", \"zone_2_pc\", \"zone_3_pc\"]]"
   ]
  },
  {
   "cell_type": "code",
   "execution_count": 97,
   "id": "14f2a1c4",
   "metadata": {},
   "outputs": [],
   "source": [
    "from sklearn.feature_selection import SequentialFeatureSelector\n",
    "from sklearn.linear_model import LinearRegression\n",
    "from sklearn.model_selection import train_test_split\n",
    "from sklearn.metrics import r2_score\n",
    "from sklearn.model_selection import KFold\n",
    "def lin_reg_with_selected_attributes(df, x_columns, y_column):\n",
    "    start_time = time.perf_counter()\n",
    "    performance_test=[]\n",
    "    rscore = []\n",
    "    \n",
    "    df = df.sample(frac=1)\n",
    "    X = df[x_columns].to_numpy()\n",
    "    Y = df[y_column].to_numpy()\n",
    "    kf = KFold(n_splits=KFOLD_NSPLITS)\n",
    "    \n",
    "    for train_index, test_index in kf.split(X):\n",
    "        X_train, X_test = X[train_index], X[test_index]\n",
    "        Y_train, Y_test = Y[train_index], Y[test_index]\n",
    "    \n",
    "        scaler = StandardScaler()\n",
    "        X_train = scaler.fit_transform(X=X_train)\n",
    "        X_test = scaler.transform(X=X_test)\n",
    "    \n",
    "        sfs = SequentialFeatureSelector(LinearRegression(), n_features_to_select=4, direction='forward', scoring='r2')\n",
    "        sfs.fit(X_train, Y_train)\n",
    "        X_train = sfs.transform(X_train)\n",
    "        X_test = sfs.transform(X_test)\n",
    "    \n",
    "        clf = LinearRegression()\n",
    "        clf.fit(X_train, Y_train)\n",
    "        y_pred = clf.predict(X_test)\n",
    "    \n",
    "        r2 = r2_score(Y_test, y_pred)  \n",
    "        mape = mean_absolute_percentage_error(y_true = Y_test, y_pred = y_pred)\n",
    "    \n",
    "        rscore.append(r2)\n",
    "        performance_test.append(mape)  \n",
    "    duration = (time.perf_counter() - start_time)/60\n",
    "    return (np.mean(rscore), np.mean(performance_test), np.std(performance_test), duration)"
   ]
  },
  {
   "cell_type": "code",
   "execution_count": 99,
   "id": "e6c4ef86",
   "metadata": {},
   "outputs": [
    {
     "name": "stdout",
     "output_type": "stream",
     "text": [
      "y_column: zone_1_pc, r2: 0.6546068378122593, mape: 0.11300369106447594, confidence_interval: 0.0001356283264282161, duration: 0.04577423666666315\n",
      "y_column: zone_2_pc, r2: 0.6023088656937086, mape: 0.13482806213377682, confidence_interval: 0.0013645394009273283, duration: 0.04922940499999034\n",
      "y_column: zone_3_pc, r2: 0.5961460971987248, mape: 0.2113858794183975, confidence_interval: 0.0014556364558487233, duration: 0.04908516499999678\n"
     ]
    },
    {
     "data": {
      "text/html": [
       "<div>\n",
       "<style scoped>\n",
       "    .dataframe tbody tr th:only-of-type {\n",
       "        vertical-align: middle;\n",
       "    }\n",
       "\n",
       "    .dataframe tbody tr th {\n",
       "        vertical-align: top;\n",
       "    }\n",
       "\n",
       "    .dataframe thead th {\n",
       "        text-align: right;\n",
       "    }\n",
       "</style>\n",
       "<table border=\"1\" class=\"dataframe\">\n",
       "  <thead>\n",
       "    <tr style=\"text-align: right;\">\n",
       "      <th></th>\n",
       "      <th>zona</th>\n",
       "      <th>r2_new</th>\n",
       "      <th>mape</th>\n",
       "      <th>confidence_interval</th>\n",
       "      <th>duration (m)</th>\n",
       "      <th>r2</th>\n",
       "      <th>r2_diff</th>\n",
       "    </tr>\n",
       "  </thead>\n",
       "  <tbody>\n",
       "    <tr>\n",
       "      <th>1</th>\n",
       "      <td>zone_1_pc</td>\n",
       "      <td>0.654607</td>\n",
       "      <td>0.113004</td>\n",
       "      <td>0.000136</td>\n",
       "      <td>0.045774</td>\n",
       "      <td>0.621820</td>\n",
       "      <td>0.032787</td>\n",
       "    </tr>\n",
       "    <tr>\n",
       "      <th>2</th>\n",
       "      <td>zone_2_pc</td>\n",
       "      <td>0.602309</td>\n",
       "      <td>0.134828</td>\n",
       "      <td>0.001365</td>\n",
       "      <td>0.049229</td>\n",
       "      <td>0.177176</td>\n",
       "      <td>0.425133</td>\n",
       "    </tr>\n",
       "    <tr>\n",
       "      <th>3</th>\n",
       "      <td>zone_3_pc</td>\n",
       "      <td>0.596146</td>\n",
       "      <td>0.211386</td>\n",
       "      <td>0.001456</td>\n",
       "      <td>0.049085</td>\n",
       "      <td>-0.332004</td>\n",
       "      <td>0.928150</td>\n",
       "    </tr>\n",
       "  </tbody>\n",
       "</table>\n",
       "</div>"
      ],
      "text/plain": [
       "        zona    r2_new      mape  confidence_interval  duration (m)        r2  \\\n",
       "1  zone_1_pc  0.654607  0.113004             0.000136      0.045774  0.621820   \n",
       "2  zone_2_pc  0.602309  0.134828             0.001365      0.049229  0.177176   \n",
       "3  zone_3_pc  0.596146  0.211386             0.001456      0.049085 -0.332004   \n",
       "\n",
       "    r2_diff  \n",
       "1  0.032787  \n",
       "2  0.425133  \n",
       "3  0.928150  "
      ]
     },
     "execution_count": 99,
     "metadata": {},
     "output_type": "execute_result"
    }
   ],
   "source": [
    "mul_lin_reg_sa_results = pd.DataFrame()\n",
    "idx = 0\n",
    "for y_column in y_columns:\n",
    "    idx = idx + 1\n",
    "    r2, mape, confidence_interval, duration = lin_reg_with_selected_attributes(df, x_columns, y_column)\n",
    "    mul_lin_reg_sa_results.loc[idx,'zona'] = y_column\n",
    "    mul_lin_reg_sa_results.loc[idx,'r2_new'] = r2\n",
    "    mul_lin_reg_sa_results.loc[idx,'mape'] = mape\n",
    "    mul_lin_reg_sa_results.loc[idx,'confidence_interval'] = confidence_interval\n",
    "    mul_lin_reg_sa_results.loc[idx,'duration (m)'] = duration\n",
    "    print(f\"y_column: {y_column}, r2: {r2}, mape: {mape}, confidence_interval: {confidence_interval}, duration: {duration}\")\n",
    "mul_lin_reg_sa_results[\"r2\"] = multiple_reg_results[\"r2\"]\n",
    "mul_lin_reg_sa_results[\"r2_diff\"] = mul_lin_reg_sa_results[\"r2_new\"] - mul_lin_reg_sa_results[\"r2\"]\n",
    "mul_lin_reg_sa_results"
   ]
  },
  {
   "cell_type": "code",
   "execution_count": 103,
   "id": "9acb511b",
   "metadata": {},
   "outputs": [],
   "source": [
    "from sklearn.feature_selection import SequentialFeatureSelector\n",
    "from sklearn.ensemble import RandomForestRegressor\n",
    "from sklearn.model_selection import train_test_split\n",
    "from sklearn.metrics import r2_score\n",
    "from sklearn.model_selection import KFold\n",
    "\n",
    "def random_forest_with_selected_attributes(df, x_columns, y_column, n_estimators = 10, max_features=2):\n",
    "    start_time = time.perf_counter()\n",
    "    df = df.sample(frac=1)\n",
    "    X = df[x_columns].to_numpy()\n",
    "    Y = df[y_column].to_numpy()\n",
    "\n",
    "    kf = KFold(n_splits=KFOLD_NSPLITS)\n",
    "\n",
    "    performance_test=[]\n",
    "    rscore = []\n",
    "\n",
    "    for train_index, test_index in kf.split(X):\n",
    "        X_train, X_test = X[train_index], X[test_index]\n",
    "        Y_train, Y_test = Y[train_index], Y[test_index]\n",
    "\n",
    "        scaler = StandardScaler()\n",
    "        scaler.fit(X_train)\n",
    "        X_train = scaler.transform(X_train)\n",
    "        X_test = scaler.transform(X_test)\n",
    "\n",
    "        sfs = SequentialFeatureSelector(RandomForestRegressor(n_estimators=n_estimators, max_features=max_features), n_features_to_select=4, direction='forward', scoring='r2')\n",
    "        sfs.fit(X_train, Y_train)\n",
    "        X_train = sfs.transform(X_train)\n",
    "        X_test = sfs.transform(X_test)\n",
    "\n",
    "        clf = RandomForestRegressor(n_estimators=n_estimators, max_features=max_features)\n",
    "        clf.fit(X_train, Y_train)\n",
    "        y_pred = clf.predict(X_test)\n",
    "\n",
    "        r2 = r2_score(Y_test, y_pred)  \n",
    "        mape = mean_absolute_percentage_error(y_true = Y_test, y_pred = y_pred)\n",
    "\n",
    "        rscore.append(r2)\n",
    "        performance_test.append(mape)  \n",
    "    duration = (time.perf_counter() - start_time)/60\n",
    "    return (np.mean(rscore), np.mean(performance_test), np.std(performance_test), duration)\n"
   ]
  },
  {
   "cell_type": "code",
   "execution_count": 104,
   "id": "c1efafb3",
   "metadata": {},
   "outputs": [
    {
     "name": "stdout",
     "output_type": "stream",
     "text": [
      "y_column: zone_1_pc, n_estimators: 15, max_features: 4, r2: 0.9595752089958483, mape: 0.029808035079103398, confidence_interval: 0.0003803747140703519, duration: 1.9444374166666725\n"
     ]
    },
    {
     "ename": "ValueError",
     "evalue": "max_features must be in (0, n_features]",
     "output_type": "error",
     "traceback": [
      "\u001b[1;31m---------------------------------------------------------------------------\u001b[0m",
      "\u001b[1;31mValueError\u001b[0m                                Traceback (most recent call last)",
      "Input \u001b[1;32mIn [104]\u001b[0m, in \u001b[0;36m<cell line: 4>\u001b[1;34m()\u001b[0m\n\u001b[0;32m      6\u001b[0m \u001b[38;5;28;01mfor\u001b[39;00m max_features \u001b[38;5;129;01min\u001b[39;00m [\u001b[38;5;241m4\u001b[39m,\u001b[38;5;241m5\u001b[39m]:\n\u001b[0;32m      7\u001b[0m     idx \u001b[38;5;241m=\u001b[39m idx \u001b[38;5;241m+\u001b[39m \u001b[38;5;241m1\u001b[39m\n\u001b[1;32m----> 8\u001b[0m     r2, mape, confidence_interval, duration \u001b[38;5;241m=\u001b[39m \u001b[43mrandom_forest_with_selected_attributes\u001b[49m\u001b[43m(\u001b[49m\u001b[43mdf\u001b[49m\u001b[43m,\u001b[49m\u001b[43m \u001b[49m\u001b[43mx_columns\u001b[49m\u001b[43m,\u001b[49m\u001b[43m \u001b[49m\u001b[43my_column\u001b[49m\u001b[43m,\u001b[49m\u001b[43m \u001b[49m\u001b[43mn_estimators\u001b[49m\u001b[43m,\u001b[49m\u001b[43m \u001b[49m\u001b[43mmax_features\u001b[49m\u001b[43m)\u001b[49m\n\u001b[0;32m      9\u001b[0m     result_rf_sa\u001b[38;5;241m.\u001b[39mloc[idx,\u001b[38;5;124m'\u001b[39m\u001b[38;5;124mzona\u001b[39m\u001b[38;5;124m'\u001b[39m] \u001b[38;5;241m=\u001b[39m y_column\n\u001b[0;32m     10\u001b[0m     result_rf_sa\u001b[38;5;241m.\u001b[39mloc[idx,\u001b[38;5;124m'\u001b[39m\u001b[38;5;124mmax_features\u001b[39m\u001b[38;5;124m'\u001b[39m] \u001b[38;5;241m=\u001b[39m max_features\n",
      "Input \u001b[1;32mIn [103]\u001b[0m, in \u001b[0;36mrandom_forest_with_selected_attributes\u001b[1;34m(df, x_columns, y_column, n_estimators, max_features)\u001b[0m\n\u001b[0;32m     30\u001b[0m X_test \u001b[38;5;241m=\u001b[39m sfs\u001b[38;5;241m.\u001b[39mtransform(X_test)\n\u001b[0;32m     32\u001b[0m clf \u001b[38;5;241m=\u001b[39m RandomForestRegressor(n_estimators\u001b[38;5;241m=\u001b[39mn_estimators, max_features\u001b[38;5;241m=\u001b[39mmax_features)\n\u001b[1;32m---> 33\u001b[0m \u001b[43mclf\u001b[49m\u001b[38;5;241;43m.\u001b[39;49m\u001b[43mfit\u001b[49m\u001b[43m(\u001b[49m\u001b[43mX_train\u001b[49m\u001b[43m,\u001b[49m\u001b[43m \u001b[49m\u001b[43mY_train\u001b[49m\u001b[43m)\u001b[49m\n\u001b[0;32m     34\u001b[0m y_pred \u001b[38;5;241m=\u001b[39m clf\u001b[38;5;241m.\u001b[39mpredict(X_test)\n\u001b[0;32m     36\u001b[0m r2 \u001b[38;5;241m=\u001b[39m r2_score(Y_test, y_pred)  \n",
      "File \u001b[1;32m~\\anaconda3\\lib\\site-packages\\sklearn\\ensemble\\_forest.py:450\u001b[0m, in \u001b[0;36mBaseForest.fit\u001b[1;34m(self, X, y, sample_weight)\u001b[0m\n\u001b[0;32m    439\u001b[0m trees \u001b[38;5;241m=\u001b[39m [\n\u001b[0;32m    440\u001b[0m     \u001b[38;5;28mself\u001b[39m\u001b[38;5;241m.\u001b[39m_make_estimator(append\u001b[38;5;241m=\u001b[39m\u001b[38;5;28;01mFalse\u001b[39;00m, random_state\u001b[38;5;241m=\u001b[39mrandom_state)\n\u001b[0;32m    441\u001b[0m     \u001b[38;5;28;01mfor\u001b[39;00m i \u001b[38;5;129;01min\u001b[39;00m \u001b[38;5;28mrange\u001b[39m(n_more_estimators)\n\u001b[0;32m    442\u001b[0m ]\n\u001b[0;32m    444\u001b[0m \u001b[38;5;66;03m# Parallel loop: we prefer the threading backend as the Cython code\u001b[39;00m\n\u001b[0;32m    445\u001b[0m \u001b[38;5;66;03m# for fitting the trees is internally releasing the Python GIL\u001b[39;00m\n\u001b[0;32m    446\u001b[0m \u001b[38;5;66;03m# making threading more efficient than multiprocessing in\u001b[39;00m\n\u001b[0;32m    447\u001b[0m \u001b[38;5;66;03m# that case. However, for joblib 0.12+ we respect any\u001b[39;00m\n\u001b[0;32m    448\u001b[0m \u001b[38;5;66;03m# parallel_backend contexts set at a higher level,\u001b[39;00m\n\u001b[0;32m    449\u001b[0m \u001b[38;5;66;03m# since correctness does not rely on using threads.\u001b[39;00m\n\u001b[1;32m--> 450\u001b[0m trees \u001b[38;5;241m=\u001b[39m \u001b[43mParallel\u001b[49m\u001b[43m(\u001b[49m\n\u001b[0;32m    451\u001b[0m \u001b[43m    \u001b[49m\u001b[43mn_jobs\u001b[49m\u001b[38;5;241;43m=\u001b[39;49m\u001b[38;5;28;43mself\u001b[39;49m\u001b[38;5;241;43m.\u001b[39;49m\u001b[43mn_jobs\u001b[49m\u001b[43m,\u001b[49m\n\u001b[0;32m    452\u001b[0m \u001b[43m    \u001b[49m\u001b[43mverbose\u001b[49m\u001b[38;5;241;43m=\u001b[39;49m\u001b[38;5;28;43mself\u001b[39;49m\u001b[38;5;241;43m.\u001b[39;49m\u001b[43mverbose\u001b[49m\u001b[43m,\u001b[49m\n\u001b[0;32m    453\u001b[0m \u001b[43m    \u001b[49m\u001b[38;5;241;43m*\u001b[39;49m\u001b[38;5;241;43m*\u001b[39;49m\u001b[43m_joblib_parallel_args\u001b[49m\u001b[43m(\u001b[49m\u001b[43mprefer\u001b[49m\u001b[38;5;241;43m=\u001b[39;49m\u001b[38;5;124;43m\"\u001b[39;49m\u001b[38;5;124;43mthreads\u001b[39;49m\u001b[38;5;124;43m\"\u001b[39;49m\u001b[43m)\u001b[49m\u001b[43m,\u001b[49m\n\u001b[0;32m    454\u001b[0m \u001b[43m\u001b[49m\u001b[43m)\u001b[49m\u001b[43m(\u001b[49m\n\u001b[0;32m    455\u001b[0m \u001b[43m    \u001b[49m\u001b[43mdelayed\u001b[49m\u001b[43m(\u001b[49m\u001b[43m_parallel_build_trees\u001b[49m\u001b[43m)\u001b[49m\u001b[43m(\u001b[49m\n\u001b[0;32m    456\u001b[0m \u001b[43m        \u001b[49m\u001b[43mt\u001b[49m\u001b[43m,\u001b[49m\n\u001b[0;32m    457\u001b[0m \u001b[43m        \u001b[49m\u001b[38;5;28;43mself\u001b[39;49m\u001b[43m,\u001b[49m\n\u001b[0;32m    458\u001b[0m \u001b[43m        \u001b[49m\u001b[43mX\u001b[49m\u001b[43m,\u001b[49m\n\u001b[0;32m    459\u001b[0m \u001b[43m        \u001b[49m\u001b[43my\u001b[49m\u001b[43m,\u001b[49m\n\u001b[0;32m    460\u001b[0m \u001b[43m        \u001b[49m\u001b[43msample_weight\u001b[49m\u001b[43m,\u001b[49m\n\u001b[0;32m    461\u001b[0m \u001b[43m        \u001b[49m\u001b[43mi\u001b[49m\u001b[43m,\u001b[49m\n\u001b[0;32m    462\u001b[0m \u001b[43m        \u001b[49m\u001b[38;5;28;43mlen\u001b[39;49m\u001b[43m(\u001b[49m\u001b[43mtrees\u001b[49m\u001b[43m)\u001b[49m\u001b[43m,\u001b[49m\n\u001b[0;32m    463\u001b[0m \u001b[43m        \u001b[49m\u001b[43mverbose\u001b[49m\u001b[38;5;241;43m=\u001b[39;49m\u001b[38;5;28;43mself\u001b[39;49m\u001b[38;5;241;43m.\u001b[39;49m\u001b[43mverbose\u001b[49m\u001b[43m,\u001b[49m\n\u001b[0;32m    464\u001b[0m \u001b[43m        \u001b[49m\u001b[43mclass_weight\u001b[49m\u001b[38;5;241;43m=\u001b[39;49m\u001b[38;5;28;43mself\u001b[39;49m\u001b[38;5;241;43m.\u001b[39;49m\u001b[43mclass_weight\u001b[49m\u001b[43m,\u001b[49m\n\u001b[0;32m    465\u001b[0m \u001b[43m        \u001b[49m\u001b[43mn_samples_bootstrap\u001b[49m\u001b[38;5;241;43m=\u001b[39;49m\u001b[43mn_samples_bootstrap\u001b[49m\u001b[43m,\u001b[49m\n\u001b[0;32m    466\u001b[0m \u001b[43m    \u001b[49m\u001b[43m)\u001b[49m\n\u001b[0;32m    467\u001b[0m \u001b[43m    \u001b[49m\u001b[38;5;28;43;01mfor\u001b[39;49;00m\u001b[43m \u001b[49m\u001b[43mi\u001b[49m\u001b[43m,\u001b[49m\u001b[43m \u001b[49m\u001b[43mt\u001b[49m\u001b[43m \u001b[49m\u001b[38;5;129;43;01min\u001b[39;49;00m\u001b[43m \u001b[49m\u001b[38;5;28;43menumerate\u001b[39;49m\u001b[43m(\u001b[49m\u001b[43mtrees\u001b[49m\u001b[43m)\u001b[49m\n\u001b[0;32m    468\u001b[0m \u001b[43m\u001b[49m\u001b[43m)\u001b[49m\n\u001b[0;32m    470\u001b[0m \u001b[38;5;66;03m# Collect newly grown trees\u001b[39;00m\n\u001b[0;32m    471\u001b[0m \u001b[38;5;28mself\u001b[39m\u001b[38;5;241m.\u001b[39mestimators_\u001b[38;5;241m.\u001b[39mextend(trees)\n",
      "File \u001b[1;32m~\\anaconda3\\lib\\site-packages\\joblib\\parallel.py:1043\u001b[0m, in \u001b[0;36mParallel.__call__\u001b[1;34m(self, iterable)\u001b[0m\n\u001b[0;32m   1034\u001b[0m \u001b[38;5;28;01mtry\u001b[39;00m:\n\u001b[0;32m   1035\u001b[0m     \u001b[38;5;66;03m# Only set self._iterating to True if at least a batch\u001b[39;00m\n\u001b[0;32m   1036\u001b[0m     \u001b[38;5;66;03m# was dispatched. In particular this covers the edge\u001b[39;00m\n\u001b[1;32m   (...)\u001b[0m\n\u001b[0;32m   1040\u001b[0m     \u001b[38;5;66;03m# was very quick and its callback already dispatched all the\u001b[39;00m\n\u001b[0;32m   1041\u001b[0m     \u001b[38;5;66;03m# remaining jobs.\u001b[39;00m\n\u001b[0;32m   1042\u001b[0m     \u001b[38;5;28mself\u001b[39m\u001b[38;5;241m.\u001b[39m_iterating \u001b[38;5;241m=\u001b[39m \u001b[38;5;28;01mFalse\u001b[39;00m\n\u001b[1;32m-> 1043\u001b[0m     \u001b[38;5;28;01mif\u001b[39;00m \u001b[38;5;28;43mself\u001b[39;49m\u001b[38;5;241;43m.\u001b[39;49m\u001b[43mdispatch_one_batch\u001b[49m\u001b[43m(\u001b[49m\u001b[43miterator\u001b[49m\u001b[43m)\u001b[49m:\n\u001b[0;32m   1044\u001b[0m         \u001b[38;5;28mself\u001b[39m\u001b[38;5;241m.\u001b[39m_iterating \u001b[38;5;241m=\u001b[39m \u001b[38;5;28mself\u001b[39m\u001b[38;5;241m.\u001b[39m_original_iterator \u001b[38;5;129;01mis\u001b[39;00m \u001b[38;5;129;01mnot\u001b[39;00m \u001b[38;5;28;01mNone\u001b[39;00m\n\u001b[0;32m   1046\u001b[0m     \u001b[38;5;28;01mwhile\u001b[39;00m \u001b[38;5;28mself\u001b[39m\u001b[38;5;241m.\u001b[39mdispatch_one_batch(iterator):\n",
      "File \u001b[1;32m~\\anaconda3\\lib\\site-packages\\joblib\\parallel.py:861\u001b[0m, in \u001b[0;36mParallel.dispatch_one_batch\u001b[1;34m(self, iterator)\u001b[0m\n\u001b[0;32m    859\u001b[0m     \u001b[38;5;28;01mreturn\u001b[39;00m \u001b[38;5;28;01mFalse\u001b[39;00m\n\u001b[0;32m    860\u001b[0m \u001b[38;5;28;01melse\u001b[39;00m:\n\u001b[1;32m--> 861\u001b[0m     \u001b[38;5;28;43mself\u001b[39;49m\u001b[38;5;241;43m.\u001b[39;49m\u001b[43m_dispatch\u001b[49m\u001b[43m(\u001b[49m\u001b[43mtasks\u001b[49m\u001b[43m)\u001b[49m\n\u001b[0;32m    862\u001b[0m     \u001b[38;5;28;01mreturn\u001b[39;00m \u001b[38;5;28;01mTrue\u001b[39;00m\n",
      "File \u001b[1;32m~\\anaconda3\\lib\\site-packages\\joblib\\parallel.py:779\u001b[0m, in \u001b[0;36mParallel._dispatch\u001b[1;34m(self, batch)\u001b[0m\n\u001b[0;32m    777\u001b[0m \u001b[38;5;28;01mwith\u001b[39;00m \u001b[38;5;28mself\u001b[39m\u001b[38;5;241m.\u001b[39m_lock:\n\u001b[0;32m    778\u001b[0m     job_idx \u001b[38;5;241m=\u001b[39m \u001b[38;5;28mlen\u001b[39m(\u001b[38;5;28mself\u001b[39m\u001b[38;5;241m.\u001b[39m_jobs)\n\u001b[1;32m--> 779\u001b[0m     job \u001b[38;5;241m=\u001b[39m \u001b[38;5;28;43mself\u001b[39;49m\u001b[38;5;241;43m.\u001b[39;49m\u001b[43m_backend\u001b[49m\u001b[38;5;241;43m.\u001b[39;49m\u001b[43mapply_async\u001b[49m\u001b[43m(\u001b[49m\u001b[43mbatch\u001b[49m\u001b[43m,\u001b[49m\u001b[43m \u001b[49m\u001b[43mcallback\u001b[49m\u001b[38;5;241;43m=\u001b[39;49m\u001b[43mcb\u001b[49m\u001b[43m)\u001b[49m\n\u001b[0;32m    780\u001b[0m     \u001b[38;5;66;03m# A job can complete so quickly than its callback is\u001b[39;00m\n\u001b[0;32m    781\u001b[0m     \u001b[38;5;66;03m# called before we get here, causing self._jobs to\u001b[39;00m\n\u001b[0;32m    782\u001b[0m     \u001b[38;5;66;03m# grow. To ensure correct results ordering, .insert is\u001b[39;00m\n\u001b[0;32m    783\u001b[0m     \u001b[38;5;66;03m# used (rather than .append) in the following line\u001b[39;00m\n\u001b[0;32m    784\u001b[0m     \u001b[38;5;28mself\u001b[39m\u001b[38;5;241m.\u001b[39m_jobs\u001b[38;5;241m.\u001b[39minsert(job_idx, job)\n",
      "File \u001b[1;32m~\\anaconda3\\lib\\site-packages\\joblib\\_parallel_backends.py:208\u001b[0m, in \u001b[0;36mSequentialBackend.apply_async\u001b[1;34m(self, func, callback)\u001b[0m\n\u001b[0;32m    206\u001b[0m \u001b[38;5;28;01mdef\u001b[39;00m \u001b[38;5;21mapply_async\u001b[39m(\u001b[38;5;28mself\u001b[39m, func, callback\u001b[38;5;241m=\u001b[39m\u001b[38;5;28;01mNone\u001b[39;00m):\n\u001b[0;32m    207\u001b[0m     \u001b[38;5;124;03m\"\"\"Schedule a func to be run\"\"\"\u001b[39;00m\n\u001b[1;32m--> 208\u001b[0m     result \u001b[38;5;241m=\u001b[39m \u001b[43mImmediateResult\u001b[49m\u001b[43m(\u001b[49m\u001b[43mfunc\u001b[49m\u001b[43m)\u001b[49m\n\u001b[0;32m    209\u001b[0m     \u001b[38;5;28;01mif\u001b[39;00m callback:\n\u001b[0;32m    210\u001b[0m         callback(result)\n",
      "File \u001b[1;32m~\\anaconda3\\lib\\site-packages\\joblib\\_parallel_backends.py:572\u001b[0m, in \u001b[0;36mImmediateResult.__init__\u001b[1;34m(self, batch)\u001b[0m\n\u001b[0;32m    569\u001b[0m \u001b[38;5;28;01mdef\u001b[39;00m \u001b[38;5;21m__init__\u001b[39m(\u001b[38;5;28mself\u001b[39m, batch):\n\u001b[0;32m    570\u001b[0m     \u001b[38;5;66;03m# Don't delay the application, to avoid keeping the input\u001b[39;00m\n\u001b[0;32m    571\u001b[0m     \u001b[38;5;66;03m# arguments in memory\u001b[39;00m\n\u001b[1;32m--> 572\u001b[0m     \u001b[38;5;28mself\u001b[39m\u001b[38;5;241m.\u001b[39mresults \u001b[38;5;241m=\u001b[39m \u001b[43mbatch\u001b[49m\u001b[43m(\u001b[49m\u001b[43m)\u001b[49m\n",
      "File \u001b[1;32m~\\anaconda3\\lib\\site-packages\\joblib\\parallel.py:262\u001b[0m, in \u001b[0;36mBatchedCalls.__call__\u001b[1;34m(self)\u001b[0m\n\u001b[0;32m    258\u001b[0m \u001b[38;5;28;01mdef\u001b[39;00m \u001b[38;5;21m__call__\u001b[39m(\u001b[38;5;28mself\u001b[39m):\n\u001b[0;32m    259\u001b[0m     \u001b[38;5;66;03m# Set the default nested backend to self._backend but do not set the\u001b[39;00m\n\u001b[0;32m    260\u001b[0m     \u001b[38;5;66;03m# change the default number of processes to -1\u001b[39;00m\n\u001b[0;32m    261\u001b[0m     \u001b[38;5;28;01mwith\u001b[39;00m parallel_backend(\u001b[38;5;28mself\u001b[39m\u001b[38;5;241m.\u001b[39m_backend, n_jobs\u001b[38;5;241m=\u001b[39m\u001b[38;5;28mself\u001b[39m\u001b[38;5;241m.\u001b[39m_n_jobs):\n\u001b[1;32m--> 262\u001b[0m         \u001b[38;5;28;01mreturn\u001b[39;00m [func(\u001b[38;5;241m*\u001b[39margs, \u001b[38;5;241m*\u001b[39m\u001b[38;5;241m*\u001b[39mkwargs)\n\u001b[0;32m    263\u001b[0m                 \u001b[38;5;28;01mfor\u001b[39;00m func, args, kwargs \u001b[38;5;129;01min\u001b[39;00m \u001b[38;5;28mself\u001b[39m\u001b[38;5;241m.\u001b[39mitems]\n",
      "File \u001b[1;32m~\\anaconda3\\lib\\site-packages\\joblib\\parallel.py:262\u001b[0m, in \u001b[0;36m<listcomp>\u001b[1;34m(.0)\u001b[0m\n\u001b[0;32m    258\u001b[0m \u001b[38;5;28;01mdef\u001b[39;00m \u001b[38;5;21m__call__\u001b[39m(\u001b[38;5;28mself\u001b[39m):\n\u001b[0;32m    259\u001b[0m     \u001b[38;5;66;03m# Set the default nested backend to self._backend but do not set the\u001b[39;00m\n\u001b[0;32m    260\u001b[0m     \u001b[38;5;66;03m# change the default number of processes to -1\u001b[39;00m\n\u001b[0;32m    261\u001b[0m     \u001b[38;5;28;01mwith\u001b[39;00m parallel_backend(\u001b[38;5;28mself\u001b[39m\u001b[38;5;241m.\u001b[39m_backend, n_jobs\u001b[38;5;241m=\u001b[39m\u001b[38;5;28mself\u001b[39m\u001b[38;5;241m.\u001b[39m_n_jobs):\n\u001b[1;32m--> 262\u001b[0m         \u001b[38;5;28;01mreturn\u001b[39;00m [func(\u001b[38;5;241m*\u001b[39margs, \u001b[38;5;241m*\u001b[39m\u001b[38;5;241m*\u001b[39mkwargs)\n\u001b[0;32m    263\u001b[0m                 \u001b[38;5;28;01mfor\u001b[39;00m func, args, kwargs \u001b[38;5;129;01min\u001b[39;00m \u001b[38;5;28mself\u001b[39m\u001b[38;5;241m.\u001b[39mitems]\n",
      "File \u001b[1;32m~\\anaconda3\\lib\\site-packages\\sklearn\\utils\\fixes.py:216\u001b[0m, in \u001b[0;36m_FuncWrapper.__call__\u001b[1;34m(self, *args, **kwargs)\u001b[0m\n\u001b[0;32m    214\u001b[0m \u001b[38;5;28;01mdef\u001b[39;00m \u001b[38;5;21m__call__\u001b[39m(\u001b[38;5;28mself\u001b[39m, \u001b[38;5;241m*\u001b[39margs, \u001b[38;5;241m*\u001b[39m\u001b[38;5;241m*\u001b[39mkwargs):\n\u001b[0;32m    215\u001b[0m     \u001b[38;5;28;01mwith\u001b[39;00m config_context(\u001b[38;5;241m*\u001b[39m\u001b[38;5;241m*\u001b[39m\u001b[38;5;28mself\u001b[39m\u001b[38;5;241m.\u001b[39mconfig):\n\u001b[1;32m--> 216\u001b[0m         \u001b[38;5;28;01mreturn\u001b[39;00m \u001b[38;5;28mself\u001b[39m\u001b[38;5;241m.\u001b[39mfunction(\u001b[38;5;241m*\u001b[39margs, \u001b[38;5;241m*\u001b[39m\u001b[38;5;241m*\u001b[39mkwargs)\n",
      "File \u001b[1;32m~\\anaconda3\\lib\\site-packages\\sklearn\\ensemble\\_forest.py:185\u001b[0m, in \u001b[0;36m_parallel_build_trees\u001b[1;34m(tree, forest, X, y, sample_weight, tree_idx, n_trees, verbose, class_weight, n_samples_bootstrap)\u001b[0m\n\u001b[0;32m    182\u001b[0m     \u001b[38;5;28;01melif\u001b[39;00m class_weight \u001b[38;5;241m==\u001b[39m \u001b[38;5;124m\"\u001b[39m\u001b[38;5;124mbalanced_subsample\u001b[39m\u001b[38;5;124m\"\u001b[39m:\n\u001b[0;32m    183\u001b[0m         curr_sample_weight \u001b[38;5;241m*\u001b[39m\u001b[38;5;241m=\u001b[39m compute_sample_weight(\u001b[38;5;124m\"\u001b[39m\u001b[38;5;124mbalanced\u001b[39m\u001b[38;5;124m\"\u001b[39m, y, indices\u001b[38;5;241m=\u001b[39mindices)\n\u001b[1;32m--> 185\u001b[0m     \u001b[43mtree\u001b[49m\u001b[38;5;241;43m.\u001b[39;49m\u001b[43mfit\u001b[49m\u001b[43m(\u001b[49m\u001b[43mX\u001b[49m\u001b[43m,\u001b[49m\u001b[43m \u001b[49m\u001b[43my\u001b[49m\u001b[43m,\u001b[49m\u001b[43m \u001b[49m\u001b[43msample_weight\u001b[49m\u001b[38;5;241;43m=\u001b[39;49m\u001b[43mcurr_sample_weight\u001b[49m\u001b[43m,\u001b[49m\u001b[43m \u001b[49m\u001b[43mcheck_input\u001b[49m\u001b[38;5;241;43m=\u001b[39;49m\u001b[38;5;28;43;01mFalse\u001b[39;49;00m\u001b[43m)\u001b[49m\n\u001b[0;32m    186\u001b[0m \u001b[38;5;28;01melse\u001b[39;00m:\n\u001b[0;32m    187\u001b[0m     tree\u001b[38;5;241m.\u001b[39mfit(X, y, sample_weight\u001b[38;5;241m=\u001b[39msample_weight, check_input\u001b[38;5;241m=\u001b[39m\u001b[38;5;28;01mFalse\u001b[39;00m)\n",
      "File \u001b[1;32m~\\anaconda3\\lib\\site-packages\\sklearn\\tree\\_classes.py:1315\u001b[0m, in \u001b[0;36mDecisionTreeRegressor.fit\u001b[1;34m(self, X, y, sample_weight, check_input, X_idx_sorted)\u001b[0m\n\u001b[0;32m   1278\u001b[0m \u001b[38;5;28;01mdef\u001b[39;00m \u001b[38;5;21mfit\u001b[39m(\n\u001b[0;32m   1279\u001b[0m     \u001b[38;5;28mself\u001b[39m, X, y, sample_weight\u001b[38;5;241m=\u001b[39m\u001b[38;5;28;01mNone\u001b[39;00m, check_input\u001b[38;5;241m=\u001b[39m\u001b[38;5;28;01mTrue\u001b[39;00m, X_idx_sorted\u001b[38;5;241m=\u001b[39m\u001b[38;5;124m\"\u001b[39m\u001b[38;5;124mdeprecated\u001b[39m\u001b[38;5;124m\"\u001b[39m\n\u001b[0;32m   1280\u001b[0m ):\n\u001b[0;32m   1281\u001b[0m     \u001b[38;5;124;03m\"\"\"Build a decision tree regressor from the training set (X, y).\u001b[39;00m\n\u001b[0;32m   1282\u001b[0m \n\u001b[0;32m   1283\u001b[0m \u001b[38;5;124;03m    Parameters\u001b[39;00m\n\u001b[1;32m   (...)\u001b[0m\n\u001b[0;32m   1312\u001b[0m \u001b[38;5;124;03m        Fitted estimator.\u001b[39;00m\n\u001b[0;32m   1313\u001b[0m \u001b[38;5;124;03m    \"\"\"\u001b[39;00m\n\u001b[1;32m-> 1315\u001b[0m     \u001b[38;5;28;43msuper\u001b[39;49m\u001b[43m(\u001b[49m\u001b[43m)\u001b[49m\u001b[38;5;241;43m.\u001b[39;49m\u001b[43mfit\u001b[49m\u001b[43m(\u001b[49m\n\u001b[0;32m   1316\u001b[0m \u001b[43m        \u001b[49m\u001b[43mX\u001b[49m\u001b[43m,\u001b[49m\n\u001b[0;32m   1317\u001b[0m \u001b[43m        \u001b[49m\u001b[43my\u001b[49m\u001b[43m,\u001b[49m\n\u001b[0;32m   1318\u001b[0m \u001b[43m        \u001b[49m\u001b[43msample_weight\u001b[49m\u001b[38;5;241;43m=\u001b[39;49m\u001b[43msample_weight\u001b[49m\u001b[43m,\u001b[49m\n\u001b[0;32m   1319\u001b[0m \u001b[43m        \u001b[49m\u001b[43mcheck_input\u001b[49m\u001b[38;5;241;43m=\u001b[39;49m\u001b[43mcheck_input\u001b[49m\u001b[43m,\u001b[49m\n\u001b[0;32m   1320\u001b[0m \u001b[43m        \u001b[49m\u001b[43mX_idx_sorted\u001b[49m\u001b[38;5;241;43m=\u001b[39;49m\u001b[43mX_idx_sorted\u001b[49m\u001b[43m,\u001b[49m\n\u001b[0;32m   1321\u001b[0m \u001b[43m    \u001b[49m\u001b[43m)\u001b[49m\n\u001b[0;32m   1322\u001b[0m     \u001b[38;5;28;01mreturn\u001b[39;00m \u001b[38;5;28mself\u001b[39m\n",
      "File \u001b[1;32m~\\anaconda3\\lib\\site-packages\\sklearn\\tree\\_classes.py:308\u001b[0m, in \u001b[0;36mBaseDecisionTree.fit\u001b[1;34m(self, X, y, sample_weight, check_input, X_idx_sorted)\u001b[0m\n\u001b[0;32m    306\u001b[0m     \u001b[38;5;28;01mraise\u001b[39;00m \u001b[38;5;167;01mValueError\u001b[39;00m(\u001b[38;5;124m\"\u001b[39m\u001b[38;5;124mmax_depth must be greater than zero. \u001b[39m\u001b[38;5;124m\"\u001b[39m)\n\u001b[0;32m    307\u001b[0m \u001b[38;5;28;01mif\u001b[39;00m \u001b[38;5;129;01mnot\u001b[39;00m (\u001b[38;5;241m0\u001b[39m \u001b[38;5;241m<\u001b[39m max_features \u001b[38;5;241m<\u001b[39m\u001b[38;5;241m=\u001b[39m \u001b[38;5;28mself\u001b[39m\u001b[38;5;241m.\u001b[39mn_features_in_):\n\u001b[1;32m--> 308\u001b[0m     \u001b[38;5;28;01mraise\u001b[39;00m \u001b[38;5;167;01mValueError\u001b[39;00m(\u001b[38;5;124m\"\u001b[39m\u001b[38;5;124mmax_features must be in (0, n_features]\u001b[39m\u001b[38;5;124m\"\u001b[39m)\n\u001b[0;32m    309\u001b[0m \u001b[38;5;28;01mif\u001b[39;00m \u001b[38;5;129;01mnot\u001b[39;00m \u001b[38;5;28misinstance\u001b[39m(max_leaf_nodes, numbers\u001b[38;5;241m.\u001b[39mIntegral):\n\u001b[0;32m    310\u001b[0m     \u001b[38;5;28;01mraise\u001b[39;00m \u001b[38;5;167;01mValueError\u001b[39;00m(\n\u001b[0;32m    311\u001b[0m         \u001b[38;5;124m\"\u001b[39m\u001b[38;5;124mmax_leaf_nodes must be integral number but was \u001b[39m\u001b[38;5;132;01m%r\u001b[39;00m\u001b[38;5;124m\"\u001b[39m \u001b[38;5;241m%\u001b[39m max_leaf_nodes\n\u001b[0;32m    312\u001b[0m     )\n",
      "\u001b[1;31mValueError\u001b[0m: max_features must be in (0, n_features]"
     ]
    }
   ],
   "source": [
    "df.columns.values\n",
    "result_rf_sa = pd.DataFrame()\n",
    "idx = 0\n",
    "for y_column in y_columns:\n",
    "    for n_estimators in [15,20]:\n",
    "        for max_features in [4,5]:\n",
    "            idx = idx + 1\n",
    "            r2, mape, confidence_interval, duration = random_forest_with_selected_attributes(df, x_columns, y_column, n_estimators, max_features)\n",
    "            result_rf_sa.loc[idx,'zona'] = y_column\n",
    "            result_rf_sa.loc[idx,'max_features'] = max_features\n",
    "            result_rf_sa.loc[idx,'n_estimators'] = n_estimators\n",
    "            result_rf_sa.loc[idx,'r2_new'] = r2\n",
    "            result_rf_sa.loc[idx,'mape'] = mape\n",
    "            result_rf_sa.loc[idx,'confidence_interval'] = confidence_interval\n",
    "            result_rf_sa.loc[idx,'duration (m)'] = duration\n",
    "            print(f\"y_column: {y_column}, n_estimators: {n_estimators}, max_features: {max_features}, r2: {r2}, mape: {mape}, confidence_interval: {confidence_interval}, duration: {duration}\")"
   ]
  },
  {
   "cell_type": "code",
   "execution_count": null,
   "id": "1c9ec886",
   "metadata": {},
   "outputs": [],
   "source": [
    "result_rf_sa[\"r2\"] = result_rf[\"r2\"]\n",
    "result_rf_sa[\"r2_diff\"] = result_rf_sa[\"r2_new\"] - result_rf_sa[\"r2\"]\n",
    "result_rf_sa"
   ]
  },
  {
   "cell_type": "code",
   "execution_count": null,
   "id": "d18be893",
   "metadata": {},
   "outputs": [],
   "source": []
  }
 ],
 "metadata": {
  "kernelspec": {
   "display_name": "Python 3 (ipykernel)",
   "language": "python",
   "name": "python3"
  },
  "language_info": {
   "codemirror_mode": {
    "name": "ipython",
    "version": 3
   },
   "file_extension": ".py",
   "mimetype": "text/x-python",
   "name": "python",
   "nbconvert_exporter": "python",
   "pygments_lexer": "ipython3",
   "version": "3.9.12"
  }
 },
 "nbformat": 4,
 "nbformat_minor": 5
}
